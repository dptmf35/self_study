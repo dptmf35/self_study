{
 "cells": [
  {
   "cell_type": "markdown",
   "id": "87294819",
   "metadata": {},
   "source": [
    "# 1. DFS , BFS"
   ]
  },
  {
   "attachments": {
    "image.png": {
     "image/png": "[encoded data removed]"
    }
   },
   "cell_type": "markdown",
   "id": "2f458783",
   "metadata": {},
   "source": [
    "![image.png](attachment:image.png)"
   ]
  },
  {
   "cell_type": "code",
   "execution_count": 20,
   "id": "d595a0e9",
   "metadata": {},
   "outputs": [],
   "source": [
    "graph = {\n",
    "    'A': ['B'],\n",
    "    'B': ['A', 'C', 'H'],\n",
    "    'C': ['B', 'D'],\n",
    "    'D': ['C', 'E', 'G'],\n",
    "    'E': ['D', 'F'],\n",
    "    'F': ['E'],\n",
    "    'G': ['D'],\n",
    "    'H': ['B', 'I', 'J', 'M'],\n",
    "    'I': ['H'],\n",
    "    'J': ['H', 'K'],\n",
    "    'K': ['J', 'L'],\n",
    "    'L': ['K'],\n",
    "    'M': ['H']\n",
    "}"
   ]
  },
  {
   "cell_type": "markdown",
   "id": "29d56e1f",
   "metadata": {},
   "source": [
    "## 깊이 우선 탐색 (DFS) 구현하기\n",
    "- 트리에서 노드의 가장 깊은곳 까지 탐색하고 다른 노드로 이동해서 탐색을 반복"
   ]
  },
  {
   "cell_type": "code",
   "execution_count": 10,
   "id": "4b582c3f",
   "metadata": {},
   "outputs": [],
   "source": [
    "from collections import deque"
   ]
  },
  {
   "cell_type": "code",
   "execution_count": 32,
   "id": "0398e46e",
   "metadata": {},
   "outputs": [
    {
     "data": {
      "text/plain": [
       "{'A', 'B', 'C', 'D', 'E', 'F', 'G', 'H', 'I', 'J', 'K', 'L', 'M'}"
      ]
     },
     "execution_count": 32,
     "metadata": {},
     "output_type": "execute_result"
    }
   ],
   "source": [
    "# 재귀함수로 구현\n",
    "def dfs(graph, start_node, visited=None) :\n",
    "    if visited is None :\n",
    "        visited = set()\n",
    "    visited.add(start_node)\n",
    "    \n",
    "    for next in set(graph[start_node]) - visited :\n",
    "        dfs(graph, next, visited)\n",
    "    return visited\n",
    "\n",
    "dfs(graph, 'A')"
   ]
  },
  {
   "cell_type": "code",
   "execution_count": 47,
   "id": "545c4be7",
   "metadata": {},
   "outputs": [
    {
     "name": "stdout",
     "output_type": "stream",
     "text": [
      "1 2 7 6 8 3 4 5 "
     ]
    }
   ],
   "source": [
    "def dfs(graph, v, visited) :\n",
    "    # 현재 노드 방문 처리\n",
    "    visited[v] = True\n",
    "    print(v, end=' ')\n",
    "    # 현재 노드와 연결된 다른 노드를 재귀적으로 방ㅁ누\n",
    "    for i in graph[v] :\n",
    "        if not visited[i] :\n",
    "            dfs(graph, i, visited)\n",
    "            \n",
    " # 각 노드가 연결된 정보를 리스트 자료형으로 표현\n",
    "graph = [\n",
    "        [],\n",
    "    [2, 3, 8],\n",
    "    [1, 7],\n",
    "    [1, 4, 5],\n",
    "    [3, 5],\n",
    "    [3, 4],\n",
    "    [7],\n",
    "    [2, 6, 8],\n",
    "    [1, 7]\n",
    "]\n",
    "\n",
    "# 각 노드가 방문된 정보를 리스트 자료형으로 표현\n",
    "visited = [False] * 9\n",
    "\n",
    "# 정의돈 dfs 함수호풀\n",
    "dfs(graph, 1, visited)"
   ]
  },
  {
   "cell_type": "code",
   "execution_count": 25,
   "id": "4e79e471",
   "metadata": {},
   "outputs": [
    {
     "name": "stdout",
     "output_type": "stream",
     "text": [
      "deque(['A', 'B', 'H', 'M', 'J', 'K', 'L', 'I', 'C', 'D', 'G', 'E', 'F'])\n"
     ]
    }
   ],
   "source": [
    "def dfs(graph, start_node) :\n",
    "    visited = deque()\n",
    "    need_visit = deque()\n",
    "    \n",
    "    need_visit.append(start_node)\n",
    "    \n",
    "    while need_visit : \n",
    "        node = need_visit.pop()\n",
    "        if node not in visited :\n",
    "            visited.append(node)\n",
    "            if node in graph :\n",
    "                need_visit.extend(graph[node])\n",
    "                \n",
    "    return visited\n",
    "\n",
    "\n",
    "print(dfs(graph, 'A'))"
   ]
  },
  {
   "cell_type": "markdown",
   "id": "e768d791",
   "metadata": {},
   "source": [
    "## 너비 우선 탐색 (BFS) 구현하기\n",
    "- 한 단계씩 나아가면서 해당 노드의 형제 노드로 이동해서 탐색을 반복"
   ]
  },
  {
   "cell_type": "code",
   "execution_count": 17,
   "id": "7f3b6486",
   "metadata": {},
   "outputs": [
    {
     "name": "stdout",
     "output_type": "stream",
     "text": [
      "deque(['A', 'B', 'C', 'H', 'D', 'I', 'J', 'M', 'E', 'G', 'K', 'F', 'L'])\n"
     ]
    }
   ],
   "source": [
    "def bfs(graph, start_node) :\n",
    "    visited = deque()\n",
    "    need_visit = deque()\n",
    "    \n",
    "    need_visit.append(start_node)\n",
    "    \n",
    "    while need_visit : \n",
    "        node = need_visit.popleft()\n",
    "        if node not in visited :\n",
    "            visited.append(node)\n",
    "            if node in graph :\n",
    "                need_visit.extend(graph[node])\n",
    "                \n",
    "    return visited\n",
    "\n",
    "print(bfs(graph, 'A'))"
   ]
  },
  {
   "cell_type": "code",
   "execution_count": 48,
   "id": "4406cb6a",
   "metadata": {},
   "outputs": [
    {
     "name": "stdout",
     "output_type": "stream",
     "text": [
      "1 2 3 8 7 4 5 6 "
     ]
    }
   ],
   "source": [
    "from collections import deque\n",
    "\n",
    "def bfs(graph, start, visited) :\n",
    "    queue = deque([start])\n",
    "    # 현재 노드 방문 처리\n",
    "    visited[start] = True\n",
    "    # 큐가 빌때까지 반복\n",
    "    while queue :\n",
    "        # 큐에서 하나 원소를 뽑아 출력\n",
    "        v = queue.popleft()\n",
    "        print(v, end=' ')\n",
    "        # 해당 원소와 연결된 아직 방문하지 않은 원소들을 큐에 삽입\n",
    "        for i in graph[v] :\n",
    "            if not visited[i] :\n",
    "                queue.append(i)\n",
    "                visited[i] = True\n",
    "                \n",
    "# 2차원 리스트\n",
    "graph = [\n",
    "        [],\n",
    "    [2, 3, 8],\n",
    "    [1, 7],\n",
    "    [1, 4, 5],\n",
    "    [3, 5],\n",
    "    [3, 4],\n",
    "    [7],\n",
    "    [2, 6, 8],\n",
    "    [1, 7]\n",
    "]\n",
    "\n",
    "visited = [False] * 9\n",
    "\n",
    "bfs(graph, 1, visited)"
   ]
  },
  {
   "cell_type": "code",
   "execution_count": null,
   "id": "7495f2b9",
   "metadata": {},
   "outputs": [],
   "source": []
  },
  {
   "cell_type": "markdown",
   "id": "50a78112",
   "metadata": {},
   "source": [
    "### 음료수 얼려 먹기"
   ]
  },
  {
   "cell_type": "code",
   "execution_count": 53,
   "id": "71016102",
   "metadata": {},
   "outputs": [
    {
     "name": "stdout",
     "output_type": "stream",
     "text": [
      "3\n"
     ]
    }
   ],
   "source": [
    "ice = [[0,0,1,1,0], [0,0,0,1,1],\n",
    "      [1,1,1,1,1],[0,0,0,0,0]]\n",
    "n = len(ice)\n",
    "m = len(ice[0])\n",
    "\n",
    "\n",
    "\n",
    "def dfs(x, y) :\n",
    "    # 주어진 범위를 벗어나면 즉시 종료\n",
    "    if x <= -1 or x >= n or y <= -1 or y >= m :\n",
    "        return False\n",
    "    \n",
    "    # 현재 노드를 아직 방문하지 않았다면\n",
    "    if ice[x][y] == 0 : \n",
    "        ice[x][y] = 1 # 방문 처리\n",
    "        # 상하좌우 재귀호출\n",
    "        dfs(x-1, y)\n",
    "        dfs(x, y-1)\n",
    "        dfs(x+1, y)\n",
    "        dfs(x, y+1)\n",
    "        return True\n",
    "    \n",
    "    return False\n",
    "\n",
    "# 모든 노드에 대해 음료수 채우기\n",
    "result = 0\n",
    "for i in range(n) :\n",
    "    for j in range(m) :\n",
    "        # 현 위치에서 dfs 수행\n",
    "        if dfs(i, j) == True  :\n",
    "            result += 1\n",
    "            \n",
    "print(result)"
   ]
  },
  {
   "cell_type": "code",
   "execution_count": null,
   "id": "fd34b528",
   "metadata": {},
   "outputs": [],
   "source": []
  },
  {
   "cell_type": "markdown",
   "id": "ae058a0e",
   "metadata": {},
   "source": [
    "### 미로 탈출"
   ]
  },
  {
   "cell_type": "code",
   "execution_count": 76,
   "id": "486d26eb",
   "metadata": {},
   "outputs": [
    {
     "data": {
      "text/plain": [
       "10"
      ]
     },
     "execution_count": 76,
     "metadata": {},
     "output_type": "execute_result"
    }
   ],
   "source": [
    "# 지나가면 2로 처리\n",
    "maze = [[1,0,1,0,1,0],\n",
    "       [1,1,1,1,1,1],\n",
    "       [0,0,0,0,0,1],\n",
    "       [1,1,1,1,1,1],\n",
    "       [1,1,1,1,1,1]]\n",
    "\n",
    "# maze = [[1,0,1,1,1],[1,0,1,0,1],[1,0,1,1,1],[1,1,1,0,1],[0,0,0,0,1]]\n",
    "\n",
    "n, m = len(maze), len(maze[0])\n",
    "\n",
    "from collections import deque\n",
    "\n",
    "# 네방향 정의/ 상하좌우\n",
    "dx = [-1, 1, 0, 0]\n",
    "dy = [0, 0, -1, 1]\n",
    "\n",
    "# BFS 소스코드 구현\n",
    "def bfs(x, y) :\n",
    "    queue = deque()\n",
    "    queue.append((x, y))\n",
    "    \n",
    "    while queue : \n",
    "        x, y = queue.popleft()\n",
    "        \n",
    "        for i in range(4) :\n",
    "            nx = x + dx[i]\n",
    "            ny = y + dy[i]\n",
    "            \n",
    "            # 미로 찾기 공간 벗어나면 무시\n",
    "            if nx < 0 or ny < 0 or nx >=n or ny >= m :\n",
    "                continue\n",
    "                \n",
    "            # 벽이면 무시\n",
    "            if maze[nx][ny] == 0 :\n",
    "                continue\n",
    "                \n",
    "            # 노드를 처음 방문해야 최단거리\n",
    "            if maze[nx][ny] == 1 :\n",
    "                maze[nx][ny] = maze[x][y] + 1\n",
    "                queue.append((nx, ny))\n",
    "                \n",
    "    # 가장 오른쪽 아래까지 최단거리 반환\n",
    "    return maze[n-1][m-1]\n",
    "\n",
    "bfs(0, 0)"
   ]
  },
  {
   "cell_type": "code",
   "execution_count": null,
   "id": "292d47db",
   "metadata": {},
   "outputs": [],
   "source": []
  },
  {
   "cell_type": "code",
   "execution_count": null,
   "id": "390005cd",
   "metadata": {},
   "outputs": [],
   "source": []
  },
  {
   "cell_type": "markdown",
   "id": "bb36312e",
   "metadata": {},
   "source": [
    "# 2. 이진 탐색(Binary Search)"
   ]
  },
  {
   "cell_type": "markdown",
   "id": "01f292e9",
   "metadata": {},
   "source": [
    "- 오름차순으로 정렬된 배열에서 원하는 숫자(target)를 찾는 알고리즘\n",
    "1. 전체 배열 중간값을 target 값과 비교\n",
    "2. 중간값이 target 값보다 크면 왼쪽 부분만 선택\n",
    "3. 왼쪽 부분의 중간 값을 다시 target과 비교"
   ]
  },
  {
   "cell_type": "code",
   "execution_count": 6,
   "id": "06d295db",
   "metadata": {},
   "outputs": [
    {
     "name": "stdout",
     "output_type": "stream",
     "text": [
      "6 0 5\n",
      "2 3 5\n",
      "4 5 5\n",
      "6\n",
      "검색한 횟수 : 3 result : 25\n"
     ]
    }
   ],
   "source": [
    "target = 25\n",
    "\n",
    "numbers = [2, 10 ,45, 66, 28, 25, 95, 16, 64, 31, 33, 22, 7]\n",
    "length = len(numbers)\n",
    "\n",
    "numbers = sorted(numbers)\n",
    "left = 0\n",
    "right = length - 1\n",
    "cnt = 0\n",
    "\n",
    "while left <= right :\n",
    "    mid = (left + right) // 2\n",
    "    if numbers[mid] == target :\n",
    "        print(mid + 1)\n",
    "        break\n",
    "    elif numbers[mid] > target :\n",
    "        right = mid - 1\n",
    "    else :\n",
    "        left = mid + 1\n",
    "    print(mid, left, right)\n",
    "    cnt += 1\n",
    "    \n",
    "print(f'검색한 횟수 : {cnt} result : {numbers[mid]}')"
   ]
  },
  {
   "cell_type": "code",
   "execution_count": null,
   "id": "1692b039",
   "metadata": {},
   "outputs": [],
   "source": []
  },
  {
   "cell_type": "markdown",
   "id": "e6b31391",
   "metadata": {},
   "source": [
    "# 3. 탐욕법(Greedy)"
   ]
  },
  {
   "cell_type": "markdown",
   "id": "821d6681",
   "metadata": {},
   "source": [
    "- 탐욕적(greedy)이라는 것은 `현 상황에서 지금 당장 좋은 것만 고르는 방법`을 의미한다.\n",
    "- 그리디 알고리즘을 이용하면 매 순간 가장 좋아보이는 것을 선택하며, 현재 선택이 나중에 미칠\n",
    "영향에 대해서는 고려하지 않는다.\n",
    "- 기준에 따라 좋은 것을 선택하는 알고리즘이므로, 문제에서 '가장 큰 순서대로', '가장 작은 순서대로'\n",
    "와 같은 기준을 제시한다. 따라서 그리디 알고리즘 문제는 정렬 알고리즘과 짝을 이뤄 출제되는 경우가 빈번하다."
   ]
  },
  {
   "cell_type": "markdown",
   "id": "1141502c",
   "metadata": {},
   "source": [
    "### Greedy(2019 국가교육기관 코딩 테스트) - 큰 수의 법칙\n",
    "- 배열의 크기 N, 숫자가 더해지는 횟수 M, K(k번을 초과할 수 없음)가 주어질 때 큰 수의 법칙에 따른 결과를 출력\n",
    "\n",
    "### 해결 방법\n",
    "- 특정 인덱스의 수가 연속해서 k번까지만 더해질 수 있으므로, 내림차순 정렬하여 \n",
    "리스트의 0번째 인덱스 * k 를 결과값에 더하고 1번째 인덱스 를 더하는 과정을 반복\n",
    "- m이 소진되면 루프를 중단하고 결과 리턴"
   ]
  },
  {
   "cell_type": "code",
   "execution_count": 1,
   "id": "5435053f",
   "metadata": {},
   "outputs": [
    {
     "data": {
      "text/plain": [
       "46"
      ]
     },
     "execution_count": 1,
     "metadata": {},
     "output_type": "execute_result"
    }
   ],
   "source": [
    "def solution(n, m, k, arr) :\n",
    "    arr = sorted(arr,reverse=True)\n",
    "    res = 0\n",
    "    while m > 0 :\n",
    "        if k < m :\n",
    "            res += arr[0] * k\n",
    "            m -= k\n",
    "        else :\n",
    "            res += arr[0] * m\n",
    "            break\n",
    "        \n",
    "        if m >= 1 :\n",
    "            res += arr[1]\n",
    "            m -= 1\n",
    "            \n",
    "    return res\n",
    "\n",
    "n = 5 \n",
    "m = 8 \n",
    "k = 3\n",
    "arr = [2, 4, 5, 4, 6]\n",
    "\n",
    "solution(n, m, k, arr)"
   ]
  },
  {
   "cell_type": "markdown",
   "id": "d24b059f",
   "metadata": {},
   "source": [
    "### Greedy(2019 국가교육기관 코딩 테스트) - 숫자 카드 게임\n",
    "- 여러 개의 숫자 카드 중에서 가장 높은 숫자가 쓰인 카드 한 장을 뽑는 게임\n",
    "\n",
    "### 해결 방법\n",
    "- 각 행에서 가장 작은 수를 찾고, 작은 수중에 가장 큰 수를 리턴"
   ]
  },
  {
   "cell_type": "code",
   "execution_count": 2,
   "id": "677b2a77",
   "metadata": {},
   "outputs": [],
   "source": [
    "# n * m 형태의 숫자 카드 배열 (n은 행, m은 열)\n",
    "n = 3\n",
    "m = 3\n",
    "arr = [[3,1,2], [4,1,4], [2,2,2]] # 각 카드에 적힌 숫자"
   ]
  },
  {
   "cell_type": "code",
   "execution_count": 3,
   "id": "7d787094",
   "metadata": {},
   "outputs": [
    {
     "data": {
      "text/plain": [
       "3"
      ]
     },
     "execution_count": 3,
     "metadata": {},
     "output_type": "execute_result"
    }
   ],
   "source": [
    "def solution(n, m, arr) :\n",
    "    mins = 0\n",
    "    for a in arr :\n",
    "        if min(a) > mins :\n",
    "            mins = min(a)\n",
    "    return mins\n",
    "\n",
    "n = 2\n",
    "m = 4\n",
    "arr = [[7,3,1,8], [3, 3, 3, 4]]\n",
    "solution(n, m, arr)"
   ]
  },
  {
   "cell_type": "code",
   "execution_count": null,
   "id": "08d2f778",
   "metadata": {},
   "outputs": [],
   "source": []
  },
  {
   "cell_type": "markdown",
   "id": "bb072559",
   "metadata": {},
   "source": [
    "### Greedy(2018 E 기업 알고리즘 대회) - 1이 될 때까지\n",
    "- 어떠한 수 N이 1이 될 때까지 다음의 두 과정 중 하나를 반복적으로 선택하여 수행하려고 함.\n",
    "- 단, 두번째 연산은 N이 K로 나누어 떨어질 때만 선택 가능\n",
    "> 1. N에서 1을 뺀다\n",
    "> 2. N를 K로 나눈다"
   ]
  },
  {
   "cell_type": "code",
   "execution_count": 9,
   "id": "552cdb42",
   "metadata": {},
   "outputs": [
    {
     "data": {
      "text/plain": [
       "2"
      ]
     },
     "execution_count": 9,
     "metadata": {},
     "output_type": "execute_result"
    }
   ],
   "source": [
    "def solution(n, k) :\n",
    "    cnt = 0\n",
    "    while n != 1  :\n",
    "        if n%5 != 0 :\n",
    "            n -= 1\n",
    "        else :\n",
    "            n /= k\n",
    "        cnt += 1\n",
    "        \n",
    "    return cnt\n",
    "\n",
    "N = 25\n",
    "K = 5\n",
    "solution(N, K)"
   ]
  },
  {
   "cell_type": "code",
   "execution_count": null,
   "id": "8e54f78d",
   "metadata": {},
   "outputs": [],
   "source": []
  },
  {
   "cell_type": "markdown",
   "id": "9e0fc61a",
   "metadata": {},
   "source": [
    "# 4. 구현"
   ]
  },
  {
   "cell_type": "markdown",
   "id": "44f13026",
   "metadata": {},
   "source": [
    "### 1) 상하좌우 \n",
    "- L, R, U, D\n",
    "- N * N 크기의 정사각형"
   ]
  },
  {
   "cell_type": "code",
   "execution_count": 10,
   "id": "f3ce8290",
   "metadata": {},
   "outputs": [],
   "source": [
    "n = 5\n",
    "plan = ['R', 'R', 'R', 'U', 'D', 'D']\n",
    "# 시작 좌표는 항상 (1, 1)"
   ]
  },
  {
   "cell_type": "code",
   "execution_count": 14,
   "id": "38577d1f",
   "metadata": {},
   "outputs": [
    {
     "data": {
      "text/plain": [
       "[3, 4]"
      ]
     },
     "execution_count": 14,
     "metadata": {},
     "output_type": "execute_result"
    }
   ],
   "source": [
    "def solution(n, plan) :\n",
    "    start = [1, 1]\n",
    "    for p in plan :\n",
    "        if p == 'R' and start[1] != n :\n",
    "            start[1] += 1\n",
    "            \n",
    "        elif p == 'L' and start[1] != 1 :\n",
    "            start[1] -= 1\n",
    "            \n",
    "        elif p == 'U' and start[0] != 1 :\n",
    "            start[0] -= 1\n",
    "            \n",
    "        elif p == 'D' and start[0] != n :\n",
    "            start[0] += 1\n",
    "            \n",
    "    return start\n",
    "\n",
    "solution(n, plan)"
   ]
  },
  {
   "cell_type": "markdown",
   "id": "21767cec",
   "metadata": {},
   "source": [
    "### 2) 시각"
   ]
  },
  {
   "cell_type": "code",
   "execution_count": 27,
   "id": "0a64ac83",
   "metadata": {},
   "outputs": [
    {
     "name": "stdout",
     "output_type": "stream",
     "text": [
      "11475\n"
     ]
    }
   ],
   "source": [
    "# 정수 n 이 입력되면 00시 00분 00초부터 N시 59분 59초까지의 모든 시각 중에서\n",
    "# 3이 하나라도 포함된 모든 경우의 수를 구하는 프로그램\n",
    "\n",
    "n = 5\n",
    "\n",
    "# 0시 ~ 5시 59분 59초 까지 모든 경우의 수 탐색\n",
    "\n",
    "def solution(n) :\n",
    "    count_3=0\n",
    "    for hour in range(n+1) :\n",
    "        for mins in range(60) :\n",
    "            for secs in range(60) :\n",
    "                if '3' in str(hour) or '3' in str(mins) or '3' in str(secs) :\n",
    "                    count_3 += 1\n",
    "                    \n",
    "    return count_3\n",
    "\n",
    "# count_3 = 0\n",
    "\n",
    "# for hour in range(n+1) :\n",
    "#     for mins in range(60) :\n",
    "#         for secs in range(60) :\n",
    "# #             print(hour, mins, secs)\n",
    "#             if '3' in str(hour) or '3' in str(mins) or '3' in str(secs) :\n",
    "#                 count_3 += 1\n",
    "                \n",
    "print(solution(n))"
   ]
  },
  {
   "cell_type": "markdown",
   "id": "700eabe8",
   "metadata": {},
   "source": [
    "### 3) 왕실의 나이트 "
   ]
  },
  {
   "cell_type": "code",
   "execution_count": 29,
   "id": "3e350ba2",
   "metadata": {},
   "outputs": [
    {
     "name": "stdout",
     "output_type": "stream",
     "text": [
      "2\n"
     ]
    }
   ],
   "source": [
    "# 8*8 좌표 상에서 나이트가 현재 위치한 곳의 좌표를 문자로\n",
    "# 첫째 줄에 나이트가 이동할 수 있는 경우의 수를 출력\n",
    "\n",
    "start = (1, 1)\n",
    "\n",
    "# 나이트의 이동 \n",
    "# 1. 수평으로 두 칸 이동 후에 수직으로 한 칸\n",
    "# 2. 수직으로 두 칸 이동 후에 수평으로 한 칸\n",
    "# 상 , 하 , 좌, 우 경우의 수 를 생각\n",
    "\n",
    "p = 0\n",
    "\n",
    "# ------- 수직\n",
    "\n",
    "if start[0] < 3  or start[0] > 6 : # 3 보다 작으면 아래로만 이동 가능, 6보다 크면 위로만\n",
    "    if start[1] < 2 or start[1] > 7 :\n",
    "        p += 1\n",
    "        # 1 이면 오른쪽으로 만, 8이면 왼쪽으로만 이동 가능\n",
    "    else :\n",
    "        p += 2\n",
    "        \n",
    "else :\n",
    "    if start[1] < 2 or start[1] > 7 :\n",
    "        p += 2\n",
    "        # 1 이면 오른쪽으로 만, 8이면 왼쪽으로만 이동 가능\n",
    "    else :\n",
    "        p += 4\n",
    "      \n",
    "    \n",
    "# ------- 수평\n",
    "    \n",
    "if start[1] < 3  or start[1] > 6 : # 3 보다 작으면 아래로만 이동 가능, 6보다 크면 위로만\n",
    "    if start[0] < 2 or start[0] > 7 :\n",
    "        p += 1\n",
    "        # 1 이면 오른쪽으로 만, 8이면 왼쪽으로만 이동 가능\n",
    "    else :\n",
    "        p += 2\n",
    "        \n",
    "else :\n",
    "    if start[0] < 2 or start[0] > 7 :\n",
    "        p += 2\n",
    "        # 1 이면 오른쪽으로 만, 8이면 왼쪽으로만 이동 가능\n",
    "    else :\n",
    "        p += 4        \n",
    "        \n",
    "print(p)"
   ]
  },
  {
   "cell_type": "code",
   "execution_count": 31,
   "id": "692b359f",
   "metadata": {},
   "outputs": [
    {
     "data": {
      "text/plain": [
       "2"
      ]
     },
     "execution_count": 31,
     "metadata": {},
     "output_type": "execute_result"
    }
   ],
   "source": [
    "def solution(start) :\n",
    "    # 나이트가 이동할 수 있는 8가지 방향\n",
    "    steps = [(-2, -1), (-1, -2), (1, -2), (2, -1), \n",
    "            (2, 1), (1, 2), (-1, 2), (-2, 1)]\n",
    "    \n",
    "    row = start[0]\n",
    "    column = start[1]\n",
    "    \n",
    "    # 8방향에 대하여 각 위치로 이동 가능한지 확인\n",
    "    result = 0\n",
    "    for step in steps :\n",
    "        # 이동하고자 하는 위치 확인\n",
    "        next_row = row + step[0]\n",
    "        next_column = column + step[1]\n",
    "        \n",
    "        # 해당 위치로 이동 가능하면 카운트 증가\n",
    "        if next_row >=1 and next_row <= 8 and next_column >= 1 and next_column <= 8 :\n",
    "            result += 1\n",
    "            \n",
    "    return result\n",
    "\n",
    "solution(start)\n",
    "        "
   ]
  },
  {
   "cell_type": "markdown",
   "id": "9d78bb4a",
   "metadata": {},
   "source": [
    "### 4) 게임 개발"
   ]
  },
  {
   "cell_type": "code",
   "execution_count": 20,
   "id": "912f4980",
   "metadata": {},
   "outputs": [],
   "source": [
    "# n*m 크기 직사각형 (A, B) \n",
    "# A는 북쪽으로부터 떨어진 칸 개수, B는 서쪽으로부터 떨어진 칸 개수\n",
    "\n",
    "# 1. 현 위치에서 현재 방향을 기준으로 왼쪽 방향 부터 차례대로 갈곳을 정한다\n",
    "# 2. 캐릭터의 바로 왼쪽 방향에 가보지 않은 칸이 존재하면, 왼족 방향으로 회전한 다음 왼쪽으로 한 칸 전진.\n",
    "# 왼쪽 방향에 가보지 않은 칸이 없다면, 왼쪽 방향으로 회전만 수행하고 1단계로 돌아감.\n",
    "# 3. 만약 네 방향 모두 이미 가본 칸이나 바다로 된 칸인 경우에는, 바라보는 방향을 유지한 채로 한 칸 뒤로 가고\n",
    "# 1단계로 돌아감. 단,, 이때는 뒤쪽 방향이 바다인 칸이라 뒤로 갈 수 없는 경우 움직임을 멈춤\n",
    "# --> 메뉴얼에 따라 캐릭터를 이동시킨 뒤 캐릭터가 방문한 칸의 수를 출력하는 프로그램을 만드시오.\n",
    "\n",
    "# 0 : 북, 1 : 동, 2 :남, 3 : 서\n",
    "\n",
    "# 맵의 외곽은 항상 바다. 0 : 육지, 1 : 바다 \n",
    "# 캐릭터가 처음에 위치한 칸은 항상 육지"
   ]
  },
  {
   "cell_type": "code",
   "execution_count": 46,
   "id": "50ce1560",
   "metadata": {},
   "outputs": [
    {
     "name": "stdout",
     "output_type": "stream",
     "text": [
      "(1, 1)\n",
      "(1, 2)\n",
      "(2, 2)\n",
      "(2, 2)\n",
      "(2, 2)\n",
      "(2, 2)\n"
     ]
    },
    {
     "data": {
      "text/plain": [
       "3"
      ]
     },
     "execution_count": 46,
     "metadata": {},
     "output_type": "execute_result"
    }
   ],
   "source": [
    "def solution(n, m, start, maps, direction) :\n",
    "    \n",
    "    maps[start[0]][start[1]] = 1 # 현 좌표를 방문 처리\n",
    "    \n",
    "    # 북, 동, 남, 서 방향 정의\n",
    "    dx = [-1, 0, 1, 0]\n",
    "    dy = [0, 1, 0, -1]\n",
    "    \n",
    "    # 왼쪽으로 회전\n",
    "    def turn_left() : \n",
    "        global direction\n",
    "        direction -= 1\n",
    "        \n",
    "        if direction == -1 :\n",
    "            direction = 3\n",
    "            \n",
    "    # 시뮬레이션 시작\n",
    "    cnt = 1\n",
    "    turn_time = 0\n",
    "    while True :\n",
    "        # 왼쪽으로 회전\n",
    "        turn_left()\n",
    "        print(start)\n",
    "        nx = start[1] + dx[direction]\n",
    "        ny = start[0] + dy[direction]\n",
    "\n",
    "        # 회전한 이후 정면에 가보지 않은 칸이 존재하는 경우 이동\n",
    "        if maps[nx][ny] == 0 and maps[nx][ny] == 0 :\n",
    "            maps[nx][ny] = 1\n",
    "            start = (nx, ny)\n",
    "            cnt += 1\n",
    "            turn_time = 0\n",
    "            \n",
    "            continue\n",
    "            \n",
    "        # 회전한 이후 정면에 가보지 않은 칸이 없거나 바다인 경우\n",
    "        else :\n",
    "            turn_time += 1\n",
    "            \n",
    "        # 네방향 모두 갈 수 없는 경우\n",
    "        if turn_time == 4 :\n",
    "            nx = start[1] - dx[direction]\n",
    "            ny = start[0] - dy[direction]\n",
    "            \n",
    "            # 뒤로 갈 수 있다면 이동\n",
    "            if maps[nx][ny] == 0 :\n",
    "                x = nx\n",
    "                y = ny\n",
    "                \n",
    "            # 뒤가 바다로 막힌 경우\n",
    "            else :\n",
    "                break\n",
    "                \n",
    "            turn_time = 0\n",
    "            \n",
    "            \n",
    "    return cnt\n",
    "\n",
    "\n",
    "maps = [[1, 1, 1, 1],\n",
    "       [1, 0, 0, 1],\n",
    "       [1, 1, 0, 1],\n",
    "       [1, 1, 1, 1]]\n",
    "\n",
    "direction = 1 # 0 : 북, 1 : 동, 2 :남, 3 : 서\n",
    "\n",
    "n, m = 4, 4\n",
    "start = (1, 1)\n",
    "solution(n, m, start, maps, direction)"
   ]
  },
  {
   "cell_type": "code",
   "execution_count": null,
   "id": "8d1eda8f",
   "metadata": {},
   "outputs": [],
   "source": []
  },
  {
   "cell_type": "code",
   "execution_count": null,
   "id": "5cb891fb",
   "metadata": {},
   "outputs": [],
   "source": []
  },
  {
   "cell_type": "code",
   "execution_count": null,
   "id": "f3872230",
   "metadata": {},
   "outputs": [],
   "source": []
  },
  {
   "cell_type": "code",
   "execution_count": null,
   "id": "852f54a9",
   "metadata": {},
   "outputs": [],
   "source": []
  },
  {
   "cell_type": "markdown",
   "id": "57840802",
   "metadata": {},
   "source": [
    "---"
   ]
  }
 ],
 "metadata": {
  "kernelspec": {
   "display_name": "yeseul",
   "language": "python",
   "name": "yeseul"
  },
  "language_info": {
   "codemirror_mode": {
    "name": "ipython",
    "version": 3
   },
   "file_extension": ".py",
   "mimetype": "text/x-python",
   "name": "python",
   "nbconvert_exporter": "python",
   "pygments_lexer": "ipython3",
   "version": "3.7.10"
  },
  "toc": {
   "base_numbering": 1,
   "nav_menu": {},
   "number_sections": false,
   "sideBar": true,
   "skip_h1_title": false,
   "title_cell": "Table of Contents",
   "title_sidebar": "Contents",
   "toc_cell": false,
   "toc_position": {},
   "toc_section_display": true,
   "toc_window_display": true
  }
 },
 "nbformat": 4,
 "nbformat_minor": 5
}
