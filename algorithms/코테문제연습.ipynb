{
 "cells": [
  {
   "cell_type": "markdown",
   "id": "f7e004ab",
   "metadata": {},
   "source": [
    "# BFS - 단어 변환"
   ]
  },
  {
   "cell_type": "markdown",
   "id": "1d00d303",
   "metadata": {},
   "source": [
    "### 해결 방법\n",
    "1. 모든 경로를 탐색하고 최소 횟수를 반환 --> BFS로 모든 노드를 동시 탐색\n",
    "2. queue를 사용하여 현재 값과 지난 경로를 담음\n",
    "3. 글자 하나만 다른 경우 True 반환(변환 가능한 단어 판별)\n",
    "4. 원하는 노드가 나오면 반환"
   ]
  },
  {
   "cell_type": "code",
   "execution_count": 180,
   "id": "fad952d0",
   "metadata": {},
   "outputs": [],
   "source": [
    "def word_check(s, begin) :\n",
    "    same_cnt = 0\n",
    "    for i, j in zip(s, begin) :\n",
    "        if i== j :\n",
    "            same_cnt += 1\n",
    "    if same_cnt == len(begin) - 1:\n",
    "        return True\n",
    "    else :\n",
    "        return False"
   ]
  },
  {
   "cell_type": "code",
   "execution_count": 181,
   "id": "4bc779c8",
   "metadata": {},
   "outputs": [
    {
     "name": "stdout",
     "output_type": "stream",
     "text": [
      "deque([['hot', ['hot']]])\n",
      "deque([['dot', ['hot', 'dot']]])\n",
      "deque([['dot', ['hot', 'dot']], ['lot', ['hot', 'lot']]])\n",
      "deque([['lot', ['hot', 'lot']], ['dog', ['hot', 'dot', 'dog']]])\n",
      "deque([['lot', ['hot', 'lot']], ['dog', ['hot', 'dot', 'dog']], ['lot', ['hot', 'dot', 'lot']]])\n",
      "deque([['dog', ['hot', 'dot', 'dog']], ['lot', ['hot', 'dot', 'lot']], ['dot', ['hot', 'lot', 'dot']]])\n",
      "deque([['dog', ['hot', 'dot', 'dog']], ['lot', ['hot', 'dot', 'lot']], ['dot', ['hot', 'lot', 'dot']], ['log', ['hot', 'lot', 'log']]])\n",
      "deque([['lot', ['hot', 'dot', 'lot']], ['dot', ['hot', 'lot', 'dot']], ['log', ['hot', 'lot', 'log']], ['log', ['hot', 'dot', 'dog', 'log']]])\n"
     ]
    },
    {
     "data": {
      "text/plain": [
       "4"
      ]
     },
     "execution_count": 181,
     "metadata": {},
     "output_type": "execute_result"
    }
   ],
   "source": [
    "begin = 'hit'\n",
    "target = 'cog'\n",
    "words= [\"hot\", \"dot\", \"dog\", \"lot\", \"log\", \"cog\"]\n",
    "\n",
    "from collections import deque\n",
    "def solution(begin, target, words) :\n",
    "    if target not in words :\n",
    "        return 0\n",
    "    \n",
    "    queue = deque()\n",
    "    queue.append([begin, []])\n",
    "    \n",
    "    while queue :\n",
    "        n, l = queue.popleft()\n",
    "        for w in words :\n",
    "            if w not in l and word_check(w, n) :\n",
    "                if w == target :\n",
    "                    answer = len(l) + 1\n",
    "                    return answer\n",
    "                temp = l[0 :]\n",
    "                temp.append(w)\n",
    "                queue.append([w, temp])\n",
    "                print(queue)\n",
    "\n",
    "solution(begin, target, words)"
   ]
  },
  {
   "cell_type": "markdown",
   "id": "4b37a462",
   "metadata": {},
   "source": [
    "# Greedy - 큰 수 만들기 "
   ]
  },
  {
   "cell_type": "markdown",
   "id": "e8ba599c",
   "metadata": {},
   "source": [
    "### 해결 방법\n",
    "1. 앞자리부터 숫자를 stack에 넣음\n",
    "2. 맨 뒷자리와 앞자리 비교 \n",
    "3. 뒷자리가 더 크면 앞자리를 제거. 앞 자리에 큰수가 오도록 함"
   ]
  },
  {
   "cell_type": "code",
   "execution_count": 207,
   "id": "65e6108e",
   "metadata": {},
   "outputs": [
    {
     "name": "stdout",
     "output_type": "stream",
     "text": [
      "['7', '7', '5', '8', '4', '1']\n",
      "775841\n"
     ]
    }
   ],
   "source": [
    "stack = []\n",
    "for n in number :\n",
    "    while k > 0 and stack and stack[-1] < n :\n",
    "        stack.pop()\n",
    "        k -= 1\n",
    "    stack.append(n)\n",
    "print(stack)    \n",
    "print(''.join(stack[:len(stack) - k]))\n",
    "# 앞 자리에 큰 수가 오게 하면 전체 수를 크게 만들 수 있다        "
   ]
  },
  {
   "cell_type": "code",
   "execution_count": 209,
   "id": "ff59245b",
   "metadata": {},
   "outputs": [
    {
     "data": {
      "text/plain": [
       "'775841'"
      ]
     },
     "execution_count": 209,
     "metadata": {},
     "output_type": "execute_result"
    }
   ],
   "source": [
    "def solution(number, k ) :\n",
    "    stack = []\n",
    "    for n in number :\n",
    "        while k>0 and stack and stack[-1] < n :\n",
    "            stack.pop()\n",
    "            k -= 1\n",
    "        stack.append(n)\n",
    "    return ''.join(stack[:len(stack)-k])\n",
    "\n",
    "number= \"4177252841\"\n",
    "k = 4\n",
    "solution(number, k)"
   ]
  },
  {
   "cell_type": "markdown",
   "id": "91e7a11e",
   "metadata": {},
   "source": [
    "# kakao blind 2020 - 문자열 압축"
   ]
  },
  {
   "cell_type": "markdown",
   "id": "4e46db5c",
   "metadata": {},
   "source": [
    "### 해결 방법\n",
    "1. 문자열을 반으로 나눠서 문자열을 1, 2, 3 .. 씩 늘려가며 자른다\n",
    "2. 자른 문자열을 다음 문자열들과 자른 단위로 비교한다.\n",
    "3. 자른 단위의 문자가 같으면 count + 1 을 하고 틀리면 비교했던 문자열을 list에 넣는다\n",
    "4. 마지막에 list에 count+비교 문자열을 넣어서 마지막에 비교한 문자열을 넣는다"
   ]
  },
  {
   "cell_type": "code",
   "execution_count": 275,
   "id": "a7acffff",
   "metadata": {},
   "outputs": [],
   "source": [
    "s = \"ababcdcdababcdcd\"\n",
    "# 9"
   ]
  },
  {
   "cell_type": "code",
   "execution_count": 279,
   "id": "71bd5ad8",
   "metadata": {
    "scrolled": true
   },
   "outputs": [
    {
     "name": "stdout",
     "output_type": "stream",
     "text": [
      "ababcdcdababcdcd 16\n",
      "2ab2cd2ab2cd 12\n",
      "ababcdcdababcdcd 16\n",
      "ababcdcdababcdcd 16\n",
      "ababcdcdababcdcd 16\n",
      "ababcdcdababcdcd 16\n",
      "ababcdcdababcdcd 16\n",
      "2ababcdcd 9\n"
     ]
    },
    {
     "data": {
      "text/plain": [
       "9"
      ]
     },
     "execution_count": 279,
     "metadata": {},
     "output_type": "execute_result"
    }
   ],
   "source": [
    "def solution(s) :\n",
    "    counts=[]\n",
    "    if len(s) == 1 :\n",
    "        return 1\n",
    "    for i in range(1, (len(s)//2)+1) :\n",
    "        split = ''\n",
    "        temp = s[:i]\n",
    "        cnt = 1\n",
    "        \n",
    "        for j in range(i, len(s), i) :\n",
    "            if temp == s[j : i+j] :\n",
    "                cnt += 1\n",
    "            else :\n",
    "                if cnt == 1 :\n",
    "                    cnt = \"\"\n",
    "                split += str(cnt) + temp\n",
    "                temp = s[j:j+i]\n",
    "                cnt = 1\n",
    "        \n",
    "        if cnt == 1 :\n",
    "            cnt = \"\"\n",
    "        split += str(cnt) + temp\n",
    "        counts.append(len(split))\n",
    "        print(split, counts[-1])\n",
    "    return min(counts)\n",
    "s = \"ababcdcdababcdcd\"\n",
    "\n",
    "solution(s)"
   ]
  },
  {
   "cell_type": "code",
   "execution_count": null,
   "id": "f365abe9",
   "metadata": {},
   "outputs": [],
   "source": []
  },
  {
   "cell_type": "markdown",
   "id": "bbe0360d",
   "metadata": {},
   "source": [
    "# DFS/BFS - 타겟 넘버"
   ]
  },
  {
   "cell_type": "markdown",
   "id": "132eabe5",
   "metadata": {},
   "source": [
    "### 해결 방법\n",
    "1. numbers의 숫자를 더하거나 뺀 경우로 트리를 만든다.\n",
    "2. 리스트에 계산 결과를 담고 target 값과 비교해서 결과 출력"
   ]
  },
  {
   "cell_type": "code",
   "execution_count": 299,
   "id": "a258db53",
   "metadata": {},
   "outputs": [
    {
     "name": "stdout",
     "output_type": "stream",
     "text": [
      "5\n"
     ]
    }
   ],
   "source": [
    "from collections import deque\n",
    "numbers = [1, 1, 1, 1, 1]\n",
    "target = 3\n",
    "queue = deque()\n",
    "queue.append([numbers[0], 0])\n",
    "queue.append([-1 * numbers[0], 0])\n",
    "n = len(numbers)\n",
    "answer = 0\n",
    "while queue :\n",
    "    temp, idx = queue.popleft()\n",
    "    idx += 1 \n",
    "    if idx < n :\n",
    "        queue.append([temp + numbers[idx], idx])\n",
    "        queue.append([temp - numbers[idx], idx])        \n",
    "    else :\n",
    "        if temp == target :\n",
    "            answer += 1\n",
    "print(answer)"
   ]
  },
  {
   "cell_type": "code",
   "execution_count": 300,
   "id": "5c99e7f7",
   "metadata": {},
   "outputs": [
    {
     "data": {
      "text/plain": [
       "5"
      ]
     },
     "execution_count": 300,
     "metadata": {},
     "output_type": "execute_result"
    }
   ],
   "source": [
    "from collections import deque\n",
    "def solution(numbers, target) :\n",
    "    answer = 0\n",
    "    n = len(numbers)\n",
    "    queue = deque()\n",
    "    queue.append([numbers[0], 0])\n",
    "    queue.append([-1 * numbers[0], 0])\n",
    "    while queue :\n",
    "        temp, idx = queue.popleft()\n",
    "        idx += 1 \n",
    "        if idx < n :\n",
    "            queue.append([temp + numbers[idx], idx])\n",
    "            queue.append([temp - numbers[idx], idx])     \n",
    "        else :\n",
    "            if temp == target :\n",
    "                answer += 1\n",
    "    return answer\n",
    "\n",
    "solution(numbers, target)"
   ]
  },
  {
   "cell_type": "code",
   "execution_count": 301,
   "id": "069aaae3",
   "metadata": {},
   "outputs": [],
   "source": [
    "# map 함수\n",
    "from itertools import product\n",
    "def solution(numbers, target):\n",
    "    l = [(x, -x) for x in numbers]\n",
    "    s = list(map(sum, product(*l)))\n",
    "    return s.count(target)"
   ]
  },
  {
   "cell_type": "code",
   "execution_count": null,
   "id": "90b45c4d",
   "metadata": {},
   "outputs": [],
   "source": [
    "# 재귀 풀이\n",
    "def solution(numbers, target):\n",
    "    if not numbers and target == 0 :\n",
    "        return 1\n",
    "    elif not numbers:\n",
    "        return 0\n",
    "    else:\n",
    "        return solution(numbers[1:], target-numbers[0]) + solution(numbers[1:], target+numbers[0])"
   ]
  },
  {
   "cell_type": "code",
   "execution_count": null,
   "id": "fb2fa475",
   "metadata": {},
   "outputs": [],
   "source": []
  },
  {
   "cell_type": "markdown",
   "id": "512222c7",
   "metadata": {},
   "source": [
    "# 찾아라 프로그래밍 마에스터 - 게임 맵 최단거리"
   ]
  },
  {
   "cell_type": "markdown",
   "id": "d744fdfc",
   "metadata": {},
   "source": [
    "### 해결 방법\n",
    "1. BFS 방법으로 해결\n",
    "2. (0,0) 지점부터 상,하,좌,우 1인 지점을 찾아 이동한다.\n",
    "3. 이동 시 +1을 해주고, 지나간 자리를 기록한다(재방문 하지 않도록)\n",
    "4. (n-1, m-1)에 도달한 큐가 생기는 경우, 가장 빠른 경우이므로 누적 이동 수를 리턴\n",
    "5. 큐가 다 소진되어도 도달 경로가 없으면 -1을 리턴"
   ]
  },
  {
   "cell_type": "code",
   "execution_count": 352,
   "id": "57a97035",
   "metadata": {},
   "outputs": [
    {
     "name": "stdout",
     "output_type": "stream",
     "text": [
      "idx (0, 0)\n",
      "deque([[2, (1, 0)]])\n",
      "idx (1, 0)\n",
      "deque([[3, (2, 0)]])\n",
      "idx (2, 0)\n",
      "deque([[4, (3, 0)]])\n",
      "idx (3, 0)\n",
      "deque([[5, (3, 1)]])\n",
      "idx (3, 1)\n",
      "deque([[6, (3, 2)]])\n",
      "idx (3, 2)\n",
      "deque([[7, (2, 2)]])\n",
      "idx (2, 2)\n",
      "deque([[8, (2, 3)], [8, (1, 2)]])\n",
      "idx (2, 3)\n",
      "deque([[8, (1, 2)], [9, (2, 4)]])\n",
      "idx (1, 2)\n",
      "deque([[9, (2, 4)], [9, (0, 2)]])\n",
      "idx (2, 4)\n",
      "deque([[9, (0, 2)], [10, (3, 4)], [10, (1, 4)]])\n",
      "idx (0, 2)\n",
      "deque([[10, (3, 4)], [10, (1, 4)], [10, (0, 3)]])\n",
      "idx (3, 4)\n"
     ]
    },
    {
     "data": {
      "text/plain": [
       "[11, (4, 4)]"
      ]
     },
     "execution_count": 352,
     "metadata": {},
     "output_type": "execute_result"
    }
   ],
   "source": [
    "maps = [[1,0,1,1,1],[1,0,1,0,1],[1,0,1,1,1],[1,1,1,0,1],[0,0,0,0,1]]\n",
    "queue = deque()\n",
    "passed = set()\n",
    "\n",
    "queue.append([maps[0][0],(0, 0)])\n",
    "\n",
    "while queue :\n",
    "    temp, idx = queue.popleft()\n",
    "    passed.add(idx)\n",
    "    print('idx',idx)\n",
    "    # idx[0] = maps[0], idx[1] = maps[1] \n",
    "    \n",
    "    if idx[1] < 4 and maps[idx[0]][idx[1]+1] == 1 and (idx[0], idx[1]+1) not in passed : # 우\n",
    "        queue.append([temp + 1, (idx[0], idx[1]+1)])\n",
    "    if idx[0] < 4 and maps[idx[0]+1][idx[1]] == 1 and (idx[0]+1, idx[1]) not in passed: # 하\n",
    "        queue.append([temp + 1, (idx[0]+1, idx[1])])\n",
    "    if idx[0] > 0 and maps[idx[0]-1][idx[1]] == 1 and (idx[0]-1, idx[1]) not in passed: # 상\n",
    "        queue.append([temp + 1, (idx[0]-1, idx[1])]) \n",
    "    if idx[1] > 0 and maps[idx[0]][idx[1]-1] == 1 and (idx[0], idx[1]-1) not in passed: # 좌\n",
    "        queue.append([temp + 1, (idx[0], idx[1]-1)]) \n",
    "    \n",
    "    \n",
    "    if len(queue) > 0 and  queue[-1][1] == (4, 4) :\n",
    "        break\n",
    "    if len(queue) == 0 :\n",
    "        print('answer is None')\n",
    "        break\n",
    "    print(queue)\n",
    "# print('return :',queue[-1][0])\n",
    "queue[-1]\n",
    "\n",
    "    #     print(queue)"
   ]
  },
  {
   "cell_type": "code",
   "execution_count": 396,
   "id": "863b7ca3",
   "metadata": {},
   "outputs": [
    {
     "data": {
      "text/plain": [
       "11"
      ]
     },
     "execution_count": 396,
     "metadata": {},
     "output_type": "execute_result"
    }
   ],
   "source": [
    "from collections import deque\n",
    "def solution(maps) :\n",
    "    n, m = len(maps), len(maps[0]) \n",
    "    queue = deque()\n",
    "    queue.append([1, set((0, 0)), (0, 0)])\n",
    "    \n",
    "    while queue :\n",
    "        temp, passed, idx = queue.popleft()\n",
    "#         passed.add(idx)\n",
    "        \n",
    "        if idx[1] < m-1 and maps[idx[0]][idx[1]+1] == 1 and (idx[0], idx[1]+1) not in passed : # 우\n",
    "            passed.add((idx[0], idx[1]+1))\n",
    "            queue.append([temp + 1, passed,(idx[0], idx[1]+1)])\n",
    "            if len(queue) > 0 and queue[-1][2] == (n-1, m-1) :\n",
    "                return queue[-1][0]\n",
    "        if idx[0] < n-1 and maps[idx[0]+1][idx[1]] == 1 and (idx[0]+1, idx[1]) not in passed: # 하\n",
    "            passed.add((idx[0]+1, idx[1]))\n",
    "            queue.append([temp + 1, passed,(idx[0]+1, idx[1])])\n",
    "            if len(queue) > 0 and queue[-1][2] == (n-1, m-1) :\n",
    "                return queue[-1][0]\n",
    "        if idx[0] > 0 and maps[idx[0]-1][idx[1]] == 1 and (idx[0]-1, idx[1]) not in passed: # 상\n",
    "            passed.add((idx[0]-1, idx[1]))\n",
    "            queue.append([temp + 1, passed,(idx[0]-1, idx[1])]) \n",
    "            if len(queue) > 0 and queue[-1][2] == (n-1, m-1) :\n",
    "                return queue[-1][0]\n",
    "        if idx[1] > 0 and maps[idx[0]][idx[1]-1] == 1 and (idx[0], idx[1]-1) not in passed: # 좌\n",
    "            passed.add( (idx[0], idx[1]-1))\n",
    "            queue.append([temp + 1, passed, (idx[0], idx[1]-1)]) \n",
    "            if len(queue) > 0 and queue[-1][2] == (n-1, m-1) :\n",
    "                return queue[-1][0]\n",
    "#         print(queue)\n",
    "        \n",
    "        \n",
    "        if len(queue) == 0 :\n",
    "            return -1\n",
    "        \n",
    "        \n",
    "        \n",
    "        \n",
    "maps = [[1,0,1,1,1],[1,0,1,0,1],[1,0,1,1,1],[1,1,1,0,1],[0,0,0,0,1]]  \n",
    "# maps = [[1,0,1,1,1],[1,0,1,0,1],[1,0,1,1,1],[1,1,1,0,0],[0,0,0,0,1]]\n",
    "solution(maps)\n",
    "    "
   ]
  },
  {
   "cell_type": "code",
   "execution_count": null,
   "id": "f19ec930",
   "metadata": {},
   "outputs": [],
   "source": []
  },
  {
   "cell_type": "markdown",
   "id": "fdb5dbfd",
   "metadata": {},
   "source": [
    "# 2018 Kakao Blind Recruitment - [1차]추석 트래픽 "
   ]
  },
  {
   "cell_type": "code",
   "execution_count": 278,
   "id": "8662a343",
   "metadata": {},
   "outputs": [
    {
     "name": "stdout",
     "output_type": "stream",
     "text": [
      "0:16:48\n",
      "0:16:49\n",
      "False\n"
     ]
    }
   ],
   "source": [
    "# 부동소수점 오류\n",
    "# print(timedelta(seconds=int(1.009 * 1000)))\n",
    "# print(timedelta(seconds=float(1.009) * 1000))\n",
    "\n",
    "# print(timedelta(seconds=float(1.009)) == timedelta(seconds=int(1.009 * 1000) / 1000))"
   ]
  },
  {
   "cell_type": "code",
   "execution_count": 45,
   "id": "b325a402",
   "metadata": {
    "scrolled": true
   },
   "outputs": [
    {
     "data": {
      "text/plain": [
       "1"
      ]
     },
     "execution_count": 45,
     "metadata": {},
     "output_type": "execute_result"
    }
   ],
   "source": [
    "from datetime import timedelta, datetime\n",
    "\n",
    "def time_trans(x) :\n",
    "    num = ''.join(x[1][:-1].split('.'))\n",
    "    if len(num) < 4 :\n",
    "        num += '0' * (4 - len(num))\n",
    "    num = int(num) / 1000\n",
    "    \n",
    "    return (datetime.strftime(datetime.strptime(x[0],'%H:%M:%S.%f') - \n",
    "                              timedelta(seconds=num   ), '%H:%M:%S.%f'), x[0])\n",
    "\n",
    "\n",
    "def solution(lines) :\n",
    "    times = [line.split()[1:] for line in lines]\n",
    "    temp = sorted(list(map(lambda x : time_trans(x) ,  times)))\n",
    "    answer = 0\n",
    "#     print(temp)\n",
    "    if len(temp) == 1 :\n",
    "        return 1\n",
    "    for i in range(len(temp)) :\n",
    "        res, res2 = 0, 0\n",
    "        time1 = str(datetime.strptime(temp[i][0], '%H:%M:%S.%f') + timedelta(seconds=0.999))[11:]\n",
    "        time2 = str(datetime.strptime(temp[i][1], '%H:%M:%S.%f') + timedelta(seconds=0.999))[11:]\n",
    "#         print(time1, time2)\n",
    "        for start, end in temp :\n",
    "            # start ~ start + 1\n",
    "            if start >= temp[i][0] and start <= time1 :\n",
    "                res += 1\n",
    "                \n",
    "            elif end >= temp[i][0] and end <= time1 :\n",
    "                res += 1\n",
    "            \n",
    "            \n",
    "            # end ~ end + 1\n",
    "            if start >= temp[i][1] and start <= time2 :\n",
    "                res2 += 1\n",
    "                \n",
    "            elif end >= temp[i][0] and end <= time2 :\n",
    "                res2 += 1\n",
    "                \n",
    "                \n",
    "            \n",
    "        if res < res2 :\n",
    "            res = res2\n",
    "        if res > answer :\n",
    "            answer = res\n",
    "            \n",
    "    return answer\n",
    "\n",
    "ex = [\n",
    "\"2016-09-15 20:59:57.421 0.351s\",\n",
    "\"2016-09-15 20:59:58.233 1.181s\",\n",
    "\"2016-09-15 20:59:58.299 0.8s\",\n",
    "\"2016-09-15 20:59:58.688 1.041s\",\n",
    "\"2016-09-15 20:59:59.591 1.412s\",\n",
    "\"2016-09-15 21:00:00.464 1.466s\",\n",
    "\"2016-09-15 21:00:00.741 1.581s\",\n",
    "\"2016-09-15 21:00:00.748 2.31s\",\n",
    "\"2016-09-15 21:00:00.966 0.381s\",\n",
    "\"2016-09-15 21:00:02.066 2.62s\"\n",
    "]\n",
    "\n",
    "ex = [\"2016-09-15 01:00:04.001 2.0s\", \"2016-09-15 01:00:07.000 2s\"]\n",
    "solution(ex)"
   ]
  },
  {
   "cell_type": "code",
   "execution_count": null,
   "id": "5cdabfaa",
   "metadata": {},
   "outputs": [],
   "source": [
    "# -- 푸는중 -- # "
   ]
  },
  {
   "cell_type": "markdown",
   "id": "f260c53e",
   "metadata": {},
   "source": [
    "# 2018 KAKAO BLIND RECRUITMENT - [1차] 뉴스 클러스터링"
   ]
  },
  {
   "cell_type": "markdown",
   "id": "a154036c",
   "metadata": {},
   "source": [
    "### 해결 방법\n",
    "1. a, b를 소문자로 치환\n",
    "2. a, b 반복문 돌면서 정규식으로 특수문자 제외, len() 이 2인 경우만 집합에 넣음\n",
    "3. b 반복문 돌릴 때 a에 없는 것만 집합에 넣음. 집합에 있는 원소가 들어왔을 때 교집합 count + 1\n",
    "4. 교집합을 셌으면 a 집합에서 빼줌(동일한 문자가 여러번 들어갔을 경우를 커버하기 위해서). 그리고 빠진 문자는 따로 카운트(temp)\n",
    "5. 최종적으로 자카드 공식에 따라 교집합 개수(cnt) / a, b 합집합 길이 + temp * 65536 (이 때 a+b가 0이면 65536, cnt가 0이면 0)"
   ]
  },
  {
   "cell_type": "code",
   "execution_count": 424,
   "id": "668dd1f4",
   "metadata": {},
   "outputs": [
    {
     "name": "stdout",
     "output_type": "stream",
     "text": [
      "[] [] 8\n"
     ]
    },
    {
     "data": {
      "text/plain": [
       "65536"
      ]
     },
     "execution_count": 424,
     "metadata": {},
     "output_type": "execute_result"
    }
   ],
   "source": [
    "import re\n",
    "def solution(str1, str2) :\n",
    "    a, b = [], []\n",
    "    cnt = 0\n",
    "    str1 = str1.lower()\n",
    "    str2 = str2.lower()\n",
    "        \n",
    "    for i in range(len(str1) - 1) :\n",
    "        t = re.sub(r'[^a-z]', '', str1[i:i+2])\n",
    "        if len(t) == 2 :\n",
    "            a.append(t)\n",
    "    temp = 0        \n",
    "    for i in range(len(str2)-1) :\n",
    "        t = re.sub(r'[^a-z]', '', str2[i:i+2])\n",
    "        if len(t) == 2 :\n",
    "            if t not in a :\n",
    "                b.append(t)\n",
    "            else :\n",
    "                a.remove(t)\n",
    "                temp += 1\n",
    "                cnt += 1\n",
    "#     print(a, b, cnt)\n",
    "    \n",
    "    if len(a + b) == 0 :\n",
    "        return 65536\n",
    "    elif cnt == 0 :\n",
    "        return 0\n",
    "    \n",
    "    return int(cnt / (len(a+b) + temp) * 65536)\n",
    "\n",
    "str1 = 'handshake'\n",
    "str2 = 'shake hands'\n",
    "solution(str1, str2)"
   ]
  },
  {
   "cell_type": "markdown",
   "id": "4a6bc55a",
   "metadata": {},
   "source": [
    "# 2017 팁스타운 - 예상 대진표"
   ]
  },
  {
   "cell_type": "markdown",
   "id": "c863df06",
   "metadata": {},
   "source": [
    "### 해결 방법\n",
    "1. 자리수를 맞춰주기 위해 + 1\n",
    "2. 2로 나눠 같은 값이 되는 위치 확인"
   ]
  },
  {
   "cell_type": "code",
   "execution_count": 37,
   "id": "882255ec",
   "metadata": {},
   "outputs": [
    {
     "name": "stdout",
     "output_type": "stream",
     "text": [
      "3\n"
     ]
    }
   ],
   "source": [
    "a = 7\n",
    "b = 4\n",
    "answer = 0\n",
    "while a != b:\n",
    "    answer += 1\n",
    "    a, b = (a+1) // 2 , (b+1) // 2\n",
    "print(answer)"
   ]
  },
  {
   "cell_type": "code",
   "execution_count": 39,
   "id": "adc96eab",
   "metadata": {},
   "outputs": [],
   "source": [
    "def solution(n, a, b) :\n",
    "    answer = 0\n",
    "    while a != b :\n",
    "        answer += 1\n",
    "        a, b = (a+1) // 2, (b+1) // 2\n",
    "    return answer"
   ]
  },
  {
   "cell_type": "code",
   "execution_count": 38,
   "id": "1956e69f",
   "metadata": {},
   "outputs": [],
   "source": [
    "# 다른 풀이 (비트연산 활용)\n",
    "def solution(n,a,b):\n",
    "    return ((a-1)^(b-1)).bit_length()"
   ]
  },
  {
   "cell_type": "code",
   "execution_count": null,
   "id": "9a1dd228",
   "metadata": {},
   "outputs": [],
   "source": []
  },
  {
   "cell_type": "markdown",
   "id": "3a6ee506",
   "metadata": {},
   "source": [
    "# summer/winter coding - 영어 끝말잇기"
   ]
  },
  {
   "cell_type": "markdown",
   "id": "deb84b1c",
   "metadata": {},
   "source": [
    "### 해결 방법\n",
    "1. 리스트에 words[0] 넣고 words 반복문 돌리며 앞, 뒤 비교\n",
    "2. 앞,뒤가 다르거나, 2자 미만이거나, 이미 리스트에 있는 문자이면 반복문 break\n",
    "3. [번호, 말한 횟수]는 [리스트 누적 길이+1 % 사람수, (words의 index + 1 / n)의 반올림]"
   ]
  },
  {
   "cell_type": "code",
   "execution_count": 68,
   "id": "e1c70652",
   "metadata": {},
   "outputs": [
    {
     "data": {
      "text/plain": [
       "[1, 3]"
      ]
     },
     "execution_count": 68,
     "metadata": {},
     "output_type": "execute_result"
    }
   ],
   "source": [
    "import math\n",
    "def solution(n, words) :\n",
    "    w = [words[0]]\n",
    "    for i in range(1, len(words)) :\n",
    "        if words[i][0] == w[-1][-1] and words[i] not in w and len(words[i]) > 1 :\n",
    "            w.append(words[i])\n",
    "        else :\n",
    "            if (len(w) + 1) % n == 0 :\n",
    "                return [n, (i+2) // n]\n",
    "            else :\n",
    "                return [(len(w)+1) % n , math.ceil((i+2) / n)]\n",
    "#             return []\n",
    "    else :\n",
    "        return [0, 0]\n",
    "\n",
    "n = 4\n",
    "words = [\"tank\", \"kick\", \"know\", \"wheel\", \"land\", \"dream\", \"mother\", \"robot\", \"tank\"]\n",
    "    \n",
    "solution(n, words)"
   ]
  },
  {
   "cell_type": "code",
   "execution_count": null,
   "id": "79a13329",
   "metadata": {},
   "outputs": [],
   "source": []
  },
  {
   "cell_type": "markdown",
   "id": "43096aa7",
   "metadata": {},
   "source": [
    "# 2018 KAKAO BILND RECRUITMENT - [3차] 파일명 정렬"
   ]
  },
  {
   "cell_type": "markdown",
   "id": "9135290c",
   "metadata": {},
   "source": [
    "### 해결 방법\n",
    "1. decimal 판별하여 head, number, tail 자르기\n",
    "2. head는 lower()로 오름차순, number는 int로 오름차순 정렬\n",
    "3. 자른 문자열을 붙여서 다시 리스트로 출력"
   ]
  },
  {
   "cell_type": "code",
   "execution_count": null,
   "id": "22a6737a",
   "metadata": {},
   "outputs": [],
   "source": [
    "def solution(files) :\n",
    "    answer = []\n",
    "    flist = list(map(fname_transfer, files))\n",
    "    res = sorted(flist, key= lambda x : (x[0].lower(), int(x[1])))\n",
    "    for r in res :\n",
    "        answer.append(''.join(r))\n",
    "    return answer\n",
    "\n",
    "def fname_transfer(fname) :\n",
    "    numcheck = 0\n",
    "    for i, f in enumerate(fname) :\n",
    "        if (f.isdecimal()) and (i != len(fname) - 1):\n",
    "\n",
    "            numcheck += 1\n",
    "\n",
    "        elif i == len(fname) - 1:\n",
    "            if f.isdecimal() :\n",
    "                head = fname[:i-numcheck]\n",
    "                number = fname[i-numcheck:]\n",
    "                tail = ''\n",
    "                \n",
    "\n",
    "            else : \n",
    "                head = fname[:i-numcheck]\n",
    "#                 print('head :', head)\n",
    "                number = fname[i-numcheck : i]\n",
    "#                 print('number :', number)\n",
    "                tail = fname[i:]\n",
    "                print('tail :', tail)\n",
    "\n",
    "        elif numcheck > 0 :\n",
    "    #         if i == len(fname) - 1 :\n",
    "    #             numcheck += 1\n",
    "            head = fname[:i-numcheck]\n",
    "#             print('head :', head)\n",
    "            number = fname[i-numcheck : i]\n",
    "#             print('number :', number)\n",
    "            tail = fname[i:]\n",
    "#             print('tail :', tail)\n",
    "\n",
    "    #         if i == len(fname) - 1 :\n",
    "\n",
    "\n",
    "            break\n",
    "        \n",
    "    return (head, number, tail)"
   ]
  },
  {
   "cell_type": "code",
   "execution_count": null,
   "id": "4a3bae4f",
   "metadata": {},
   "outputs": [],
   "source": [
    "# 다른 풀이 (정규식 활용)\n",
    "import re\n",
    "\n",
    "def solution(files):\n",
    "    a = sorted(files, key=lambda file : int(re.findall('\\d+', file)[0]))\n",
    "    b = sorted(a, key=lambda file : re.split('\\d+', file.lower())[0])\n",
    "    return b"
   ]
  },
  {
   "cell_type": "code",
   "execution_count": null,
   "id": "82588a9e",
   "metadata": {},
   "outputs": [],
   "source": []
  },
  {
   "cell_type": "markdown",
   "id": "ab41c12d",
   "metadata": {},
   "source": [
    "# 2019 KAKAO BLIND RECRUITMENT - 후보키"
   ]
  },
  {
   "cell_type": "markdown",
   "id": "07a0e194",
   "metadata": {},
   "source": [
    "- 유일성(uniqueness) : 릴레이션에 있는 모든 튜플에 대해 유일하게 식별되어야 한다.\n",
    "-  최소성(minimality) : 유일성을 가진 키를 구성하는 속성(Attribute) 중 하나라도 제외하는 경우 유일성이 깨지는 것을 의미한다. \n",
    "    즉, 릴레이션의 모든 튜플을 유일하게 식별하는 데 꼭 필요한 속성들로만 구성되어야 한다."
   ]
  },
  {
   "cell_type": "markdown",
   "id": "14132b0f",
   "metadata": {},
   "source": [
    "### 해결 방법\n",
    "1. combination을 1 씩 늘려가면서 유일성을 만족하는 후보 추출 cnt + 1\n",
    "2. 후보군에서 최소성을 만족하지 못하는 후보 제외 cnt -1"
   ]
  },
  {
   "cell_type": "code",
   "execution_count": 496,
   "id": "19cdb4e7",
   "metadata": {
    "scrolled": true
   },
   "outputs": [
    {
     "data": {
      "text/plain": [
       "2"
      ]
     },
     "execution_count": 496,
     "metadata": {},
     "output_type": "execute_result"
    }
   ],
   "source": [
    "from itertools import combinations\n",
    "def solution(relation) :\n",
    "    candi_key = [i for i in range(len(relation[0]))]\n",
    "    cnt = 0\n",
    "    remove = []\n",
    "    \n",
    "    # 조합 수 \n",
    "    possible_combs = len(relation) +1\n",
    "    \n",
    "    for p_ in range(1, possible_combs) :\n",
    "        comb = list(combinations([i for i in range(len(relation[0])) if i in candi_key], p_))\n",
    "        \n",
    "        if len(comb) < 1 :\n",
    "                    break\n",
    "                \n",
    "        for com in comb :\n",
    "            temp = []\n",
    "            for i in range(len(relation)) :\n",
    "                t = tuple([relation[i][c] for c in com])\n",
    "                temp.append(t)\n",
    "            \n",
    "            if len(temp) == len(set(temp))  and len(temp) > 0 :\n",
    "                \n",
    "                \n",
    "                if com in remove or com[:-1] in remove or com[1:] in remove :\n",
    "                    continue\n",
    "                cnt += 1\n",
    "                remove.append(com)\n",
    "                \n",
    "                \n",
    "                if len(com) == 1 and com[0] in candi_key :\n",
    "                        candi_key.remove(com[0])\n",
    "    \n",
    "    t_rev = remove\n",
    "    t_rev = [list(t) for t in t_rev]\n",
    "    for i, r in enumerate(remove) :\n",
    "        for j, m in enumerate(remove) :\n",
    "            if len(remove) < 1 :\n",
    "                break\n",
    "\n",
    "            ky = tuple(set(r) & set(m))\n",
    "            if ky in remove and len(ky) >0 and j!=i:\n",
    "                if len(set(r)) > len(set(m)) and list(r) in t_rev:\n",
    "                    t_rev.remove(list(r))\n",
    "                    cnt -= 1\n",
    "                elif len(set(r)) <= len(set(m)) and list(m) in t_rev:\n",
    "                    t_rev.remove(list(m))\n",
    "                    cnt -=1\n",
    "                \n",
    "            \n",
    "    return cnt       \n",
    "              \n",
    "            \n",
    "            \n",
    "# solution([['a',1,'aaa','c','ng'],['b',1,'bbb','c','g'],['c',1,'aaa','d','ng'],['d',2,'bbb','d','ng']])    \n",
    "\n",
    "# solution([ [\"a\",\"1\",\"aaa\",\"c\",\"ng\"],\n",
    "# [\"a\",\"1\",\"bbb\",\"e\",\"g\"],\n",
    "# [\"c\",\"1\",\"aaa\",\"d\",\"ng\"],\n",
    "# [\"d\",\"2\",\"bbb\",\"d\",\"ng\"]])\n",
    "\n",
    "# solution([[\"a\",\"aa\"],[\"aa\",\"a\"],[\"a\",\"a\"]])\n",
    "\n",
    "solution([[\"100\", \"ryan\", \"music\", \"2\"], [\"200\", \"apeach\", \"math\", \"2\"], [\"300\", \"tube\", \"computer\", \"3\"], [\"400\", \"con\", \"computer\", \"4\"], [\"500\", \"muzi\", \"music\", \"3\"], [\"600\", \"apeach\", \"music\", \"2\"]])"
   ]
  },
  {
   "cell_type": "code",
   "execution_count": null,
   "id": "f2fa944f",
   "metadata": {},
   "outputs": [],
   "source": [
    "# 다른 풀이 // 비트 연산 활용\n",
    "def solution(relation):\n",
    "    answer_list = list()\n",
    "    for i in range(1, 1 << len(relation[0])):\n",
    "        tmp_set = set()\n",
    "        for j in range(len(relation)):\n",
    "            tmp = ''\n",
    "            for k in range(len(relation[0])):\n",
    "                if i & (1 << k):\n",
    "                    tmp += str(relation[j][k])\n",
    "            tmp_set.add(tmp)\n",
    "\n",
    "        if len(tmp_set) == len(relation):\n",
    "            not_duplicate = True\n",
    "            for num in answer_list:\n",
    "                if (num & i) == num:\n",
    "                    not_duplicate = False\n",
    "                    break\n",
    "            if not_duplicate:\n",
    "                answer_list.append(i)\n",
    "    return len(answer_list)"
   ]
  },
  {
   "cell_type": "code",
   "execution_count": null,
   "id": "a429d24d",
   "metadata": {},
   "outputs": [],
   "source": []
  },
  {
   "cell_type": "markdown",
   "id": "0572925d",
   "metadata": {},
   "source": [
    "# 스택, 큐 - 주식 가격"
   ]
  },
  {
   "cell_type": "markdown",
   "id": "91baf145",
   "metadata": {},
   "source": [
    "### 해결 방법\n",
    "1. 각 시점의 price마다 loop를 돌면서, 그 시점의 price보다 값이 낮아지는지 check\n",
    "2. 매 check 시마다 count +1, 낮아지는 시점이면 loop를 빠져 나감.\n",
    "3. loop 탈출 시 누적 count를 큐에 담아 줌."
   ]
  },
  {
   "cell_type": "code",
   "execution_count": 20,
   "id": "ea777ddc",
   "metadata": {},
   "outputs": [
    {
     "data": {
      "text/plain": [
       "[4, 3, 1, 1, 0]"
      ]
     },
     "execution_count": 20,
     "metadata": {},
     "output_type": "execute_result"
    }
   ],
   "source": [
    "from collections import deque\n",
    "def solution(prices) :\n",
    "    queue = deque()\n",
    "    for idx, p in enumerate(prices) :\n",
    "        cnt = 0\n",
    "        for i in range(idx+1, len(prices)) :\n",
    "            if p > prices[i] :\n",
    "                cnt += 1\n",
    "                queue.append(cnt)\n",
    "                break\n",
    "            else :\n",
    "                cnt += 1\n",
    "        else :\n",
    "            queue.append(cnt)\n",
    "    return list(queue)\n",
    "\n",
    "solution(prices)"
   ]
  },
  {
   "cell_type": "code",
   "execution_count": 18,
   "id": "59219342",
   "metadata": {},
   "outputs": [
    {
     "name": "stdout",
     "output_type": "stream",
     "text": [
      "deque([4, 3, 1, 1, 0])\n"
     ]
    }
   ],
   "source": [
    "from collections import deque\n",
    "prices = [1, 2, 3, 2, 3]\n",
    "cnt = 0\n",
    "queue = deque()\n",
    "for idx, p in enumerate(prices) :\n",
    "    cnt = 0\n",
    "    for i in range(idx+1, len(prices)) :\n",
    "        if p > prices[i] :\n",
    "            cnt += 1\n",
    "            queue.append(cnt)\n",
    "            break\n",
    "        else :\n",
    "            cnt += 1\n",
    "    else :\n",
    "        queue.append(cnt)\n",
    "    \n",
    "print(queue)"
   ]
  },
  {
   "cell_type": "code",
   "execution_count": null,
   "id": "d43a1bdf",
   "metadata": {},
   "outputs": [],
   "source": []
  },
  {
   "cell_type": "markdown",
   "id": "994e1c91",
   "metadata": {},
   "source": [
    "# 2018 KAKAO BLIND RECRUITMENT - [1차]비밀지도"
   ]
  },
  {
   "cell_type": "markdown",
   "id": "993a946c",
   "metadata": {},
   "source": [
    "### 해결 방법\n",
    "1. arr1과 arr2의 숫자 배열을 bin()으로 2진수 변환\n",
    "2. 변환 후 n자리수로 0을 채워 맞춰줌\n",
    "3. 변환된 arr1요소, arr2요소를 or연산해서 '#' 또는 ' '을 채워줌(decoding)\n",
    "4. decoding될 때마다 리스트에 담아 결과를 리턴"
   ]
  },
  {
   "cell_type": "code",
   "execution_count": 21,
   "id": "1fd19b24",
   "metadata": {},
   "outputs": [],
   "source": [
    "n = 5\n",
    "arr1 =[9, 20, 28, 18, 11]\n",
    "arr2 = [30, 1, 21, 17, 28]"
   ]
  },
  {
   "cell_type": "code",
   "execution_count": 30,
   "id": "c28ea01e",
   "metadata": {},
   "outputs": [
    {
     "data": {
      "text/plain": [
       "['#####', '# # #', '### #', '#  ##', '#####']"
      ]
     },
     "execution_count": 30,
     "metadata": {},
     "output_type": "execute_result"
    }
   ],
   "source": [
    "def solution(n, arr1, arr2) :\n",
    "    answer = []\n",
    "    for a, b in zip(arr1, arr2) :\n",
    "        new_a = bin(a)[2:]\n",
    "        new_b = bin(b)[2:]\n",
    "        \n",
    "        if len(new_a) < n :\n",
    "            new_a = ((n - len(new_a)) * '0') + new_a\n",
    "        \n",
    "        if len(new_b) < n :\n",
    "            new_b = ((n - len(new_b)) * '0') + new_b\n",
    "            \n",
    "        decode = ''\n",
    "        \n",
    "        for i, j in zip(new_a, new_b) :\n",
    "            if i == '1' or j == '1' :\n",
    "                decode += '#'\n",
    "            else :\n",
    "                decode += ' '\n",
    "                \n",
    "        answer.append(decode)\n",
    "        \n",
    "    return answer\n",
    "\n",
    "solution(n, arr1, arr2)"
   ]
  },
  {
   "cell_type": "code",
   "execution_count": null,
   "id": "2266177f",
   "metadata": {},
   "outputs": [],
   "source": [
    "### 다른 풀이\n",
    "def solution(n, arr1, arr2):\n",
    "    answer = []\n",
    "    for i,j in zip(arr1,arr2):\n",
    "        a12 = str(bin(i|j)[2:])  # bin(a|b) >> 두 수의 이진수를 구한 뒤 or연산\n",
    "        a12=a12.rjust(n,'0')\n",
    "        a12=a12.replace('1','#')\n",
    "        a12=a12.replace('0',' ')\n",
    "        answer.append(a12)\n",
    "    return answer\n",
    "\n",
    "# rjust : 오른쪽으로 정렬하며, 공백의 수 및 공백을 채울 문자를 넢어줌 \n",
    "# rjust(n, '0')이니까 n이 채워야 할 공백의 수이며, 공백을 채울 문자는'0'이 됨"
   ]
  },
  {
   "cell_type": "code",
   "execution_count": null,
   "id": "705cb33b",
   "metadata": {},
   "outputs": [],
   "source": []
  },
  {
   "cell_type": "markdown",
   "id": "95ab5ecf",
   "metadata": {},
   "source": [
    "## 탐욕법(Greedy) - 구명 보트\n",
    "### 해결 방법\n",
    "1. 탑승인원에 2명 제한이고, 최대한 적은 사람을 태워야 하므로, people을 오름차순 정렬. 정렬 후 루프를 돌며 limit를 넘지 않는 선에서 가장 큰 값을 검색.(뒤에서부터 탐색하며 원하는 값이 아니면 pop)\n",
    "2. limit를 넘지 않는 선에서 가장 큰 값이 존재하면 첫번째, 두번째 값을 모두 pop 하고 boat cnt +1\n",
    "3. 존재하지 않으면 첫번째 값만 pop 하고 boat cnt + 1 를 queue에 아무것도 남지 않을 때 까지 지속\n",
    "4. 루프가 끝난 후 결과를 리턴"
   ]
  },
  {
   "cell_type": "code",
   "execution_count": 125,
   "id": "9439dbab",
   "metadata": {},
   "outputs": [
    {
     "name": "stdout",
     "output_type": "stream",
     "text": [
      "3\n"
     ]
    }
   ],
   "source": [
    "# 재풀이 - deque, pop을 사용해서 시간복잡도 최소화\n",
    "from collections import deque\n",
    "def solution(people, limit) :\n",
    "    cnt = 0\n",
    "    queue = deque(sorted(people))\n",
    "    while queue :\n",
    "        if len(queue) == 1 :\n",
    "            cnt += 1\n",
    "            break\n",
    "        if queue[0] + queue[-1] <= limit :\n",
    "            queue.pop()\n",
    "            queue.popleft()\n",
    "        else :\n",
    "            queue.pop()\n",
    "        cnt += 1\n",
    "        \n",
    "    return cnt\n",
    "\n",
    "people = [100,500,500,900,950]\n",
    "limit = 1000\n",
    "from collections import deque\n",
    "cnt = 0\n",
    "deq = deque(sorted(people)) \n",
    "while deq :\n",
    "    if len(deq) == 1 :\n",
    "        cnt += 1\n",
    "        break\n",
    "    if deq[0] + deq[-1] <= limit :\n",
    "        deq.pop()\n",
    "        deq.popleft()\n",
    "    else :\n",
    "        deq.pop()\n",
    "    cnt += 1\n",
    "    \n",
    "print(cnt)"
   ]
  },
  {
   "cell_type": "code",
   "execution_count": 123,
   "id": "64235fd3",
   "metadata": {},
   "outputs": [
    {
     "data": {
      "text/plain": [
       "3"
      ]
     },
     "execution_count": 123,
     "metadata": {},
     "output_type": "execute_result"
    }
   ],
   "source": [
    "# 내 처음 풀이(remove를 사용해서 시간복잡도때문에 효율성 통과 못함)\n",
    "from collections import deque\n",
    "\n",
    "def solution(people, limit) :\n",
    "    cnt = 0\n",
    "    people = sorted(people)\n",
    "    while len(people) > 0 :\n",
    "        p = people[0]\n",
    "        queue = deque()\n",
    "        if len(queue) == 0 :\n",
    "            queue.append(p)\n",
    "        max_w, idx = 0, 0\n",
    "        \n",
    "        for p2 in people[idx+1 :] :\n",
    "            if p2 + p <= limit :\n",
    "                if p2 > max_w :\n",
    "                    max_w = p2\n",
    "        if max_w != 0 :\n",
    "            people.remove(max_w)\n",
    "            people.remove(p)\n",
    "            cnt += 1\n",
    "            \n",
    "        else :\n",
    "            people.remove(p)\n",
    "            cnt += 1\n",
    "            \n",
    "    return cnt\n",
    "\n",
    "people = [100,500,500,900,950]\n",
    "limit = 1000\n",
    "\n",
    "solution(people, limit)"
   ]
  },
  {
   "cell_type": "code",
   "execution_count": null,
   "id": "7ecd7b89",
   "metadata": {},
   "outputs": [],
   "source": [
    "# 다른 풀이(deque를 사용하지 않음)\n",
    "def solution(people, limit) :\n",
    "    answer = 0\n",
    "    people.sort()\n",
    "\n",
    "    a = 0\n",
    "    b = len(people) - 1\n",
    "    while a < b :\n",
    "        if people[b] + people[a] <= limit :\n",
    "            a += 1\n",
    "            answer += 1\n",
    "        b -= 1\n",
    "    return len(people) - answer # 짝지었을때만 2명씩 나가므로 전체 인원에서 짝지은 수만 빼주면 보트 수가 나옴"
   ]
  },
  {
   "cell_type": "code",
   "execution_count": null,
   "id": "e3426c0f",
   "metadata": {},
   "outputs": [],
   "source": []
  },
  {
   "cell_type": "markdown",
   "id": "aa2e49ff",
   "metadata": {},
   "source": [
    "## 탐욕법(Greedy) - 단속 카메라\n",
    "### 해결 방법\n",
    "1. 차가 빠져나가는 시간 기점으로 오름차순 정렬\n",
    "2. 첫번째 차가 빠져나가는 시간을 기준으로 카메라를 설치하고, 그 설치 기점을 포함하는 차량 모두 리스트에서 제거\n",
    "3. 루프를 돌면서 모든 차량을 제거하며, 한번의 제거 시점마다 카메라 수 +1\n",
    "4. 누적 카메라 수를 더함"
   ]
  },
  {
   "cell_type": "code",
   "execution_count": 127,
   "id": "5f6c14a9",
   "metadata": {},
   "outputs": [
    {
     "data": {
      "text/plain": [
       "2"
      ]
     },
     "execution_count": 127,
     "metadata": {},
     "output_type": "execute_result"
    }
   ],
   "source": [
    "from collections import deque\n",
    "\n",
    "def solution(routes) :\n",
    "    # 차가 빠져나가는 시간 기점으로 오름차순 정렬\n",
    "    route = deque(sorted(routes, key=lambda x : x[1]))\n",
    "    camera = 0\n",
    "    \n",
    "    while len(route) > 0 :\n",
    "        _, out = route.popleft()\n",
    "        removal = []\n",
    "        for i, o in route :\n",
    "            if out in range(i, o+1) :\n",
    "                removal.append([i, o])\n",
    "        if len(removal) > 0 :\n",
    "            for mv in removal :\n",
    "                if mv in route :\n",
    "                    route.remove(mv)\n",
    "                    \n",
    "        camera += 1\n",
    "                    \n",
    "    return camera\n",
    "\n",
    "routes = [[-20,-15], [-14,-5], [-18,-13], [-5,-3]]\n",
    "solution(routes)"
   ]
  },
  {
   "cell_type": "code",
   "execution_count": 128,
   "id": "d2ef58fd",
   "metadata": {},
   "outputs": [],
   "source": [
    "# 다른 풀이\n",
    "def solution(routes):\n",
    "    answer = 0\n",
    "    routes.sort(key=lambda x: x[0], reverse=True) \n",
    "    camera = 30001 \n",
    "    for route in routes:\n",
    "        if camera > route[1]:\n",
    "            answer += 1\n",
    "            camera = route[0]\n",
    "    return answer"
   ]
  },
  {
   "cell_type": "code",
   "execution_count": null,
   "id": "35ceaf52",
   "metadata": {},
   "outputs": [],
   "source": []
  },
  {
   "cell_type": "markdown",
   "id": "3c14b4b4",
   "metadata": {},
   "source": [
    "## 2018 KAKAO BLIND RECRUITMENT - [3차] 방금그곡\n",
    "### 해결 방법\n",
    "1. `#` 붙은 음표는 전부 다른 문자로 치환\n",
    "2. list(map())으로 split(',') 적용하여 [1] (종료시간) - [0] (시작시간) 연산\n",
    "3. playtime 을 melody 길이와 비교하여 길이보다 짧으면 slice, 길면 나눗셈의 몫만큼 반복하고 나머지만큼 슬라이싱한 결과를 더함\n",
    "4. 리스트 각 요소마다 반복문을 돌면서 해당 곡의 플레이 시간을 저장하고 가장 긴 플레이 시간의 노래만 남김(먼저 입력 기준이므로 같으면 버림)\n",
    "5. 없으면 None을, 있으면 남은 노래의 제목을 리턴"
   ]
  },
  {
   "cell_type": "code",
   "execution_count": null,
   "id": "78f2d0e3",
   "metadata": {},
   "outputs": [],
   "source": [
    "# 라디오에서 재생된 시간이 가장 긴, 먼저 입력된 음악 제목"
   ]
  },
  {
   "cell_type": "code",
   "execution_count": 218,
   "id": "8eb08213",
   "metadata": {},
   "outputs": [
    {
     "name": "stdout",
     "output_type": "stream",
     "text": [
      "HELLO cDEFGABcDEFGABc\n",
      "WORLD ABCDEF\n"
     ]
    },
    {
     "data": {
      "text/plain": [
       "'WORLD'"
      ]
     },
     "execution_count": 218,
     "metadata": {},
     "output_type": "execute_result"
    }
   ],
   "source": [
    "import re\n",
    "# C, C#, D, D#, E, F, F#, G, G#, A, A#, B\n",
    "def melody_trans(melody, time) :\n",
    "    time += 1\n",
    "    melody = melody.replace('C#', 'c').replace('D#', 'd').replace('F#', 'f').replace('G#', 'g').replace('A#', 'a') \n",
    "    if len(melody) >= time :\n",
    "        melody = melody[:time]\n",
    "    else :\n",
    "        melody = (melody * (time // len(melody))) + melody[ : (time % len(melody))]\n",
    "    \n",
    "    return melody\n",
    "\n",
    "def time_trans(t) :\n",
    "    hour = int(t[:2])\n",
    "    mins = int(t[3:])\n",
    "    time = (hour * 60) + mins  \n",
    "    return time\n",
    "\n",
    "def solution(m, musicinfos) :\n",
    "    playlist = list(map(lambda x : [x.split(',')[2],\n",
    "                    melody_trans(x.split(',')[3], time_trans(x.split(',')[1]) - time_trans(x.split(',')[0]))] , musicinfos)) \n",
    "    # 1 곡명 2 음절\n",
    "    played = ''\n",
    "    answer = ''\n",
    "    \n",
    "    for n, p in playlist :\n",
    "        print(n, p)\n",
    "        m = m.replace('C#', 'c').replace('D#', 'd').replace('F#', 'f').replace('G#', 'g').replace('A#', 'a') \n",
    "        if m in p and len(played) < len(p):\n",
    "            answer = n\n",
    "            played = p\n",
    "    \n",
    "    if answer == '' :\n",
    "        return \"(None)\"\n",
    "    \n",
    "    return answer\n",
    "\n",
    "m = \"ABC\"\n",
    "musicinfos = [\"12:00,12:14,HELLO,C#DEFGAB\", \"13:00,13:05,WORLD,ABCDEF\"]\n",
    "\n",
    "solution(m , musicinfos)"
   ]
  },
  {
   "cell_type": "code",
   "execution_count": null,
   "id": "8568aae3",
   "metadata": {},
   "outputs": [],
   "source": []
  },
  {
   "cell_type": "markdown",
   "id": "38edfb71",
   "metadata": {},
   "source": [
    "## 연습문제 - 124 나라의 숫자\n",
    "### 해결 방법\n",
    "1. n진수 구하는 방법을 사용하되, 3 대신 4를 사용해야 함\n",
    "2. n을 3으로 나누면서 나머지가 0일 때는 몫에서 -1을 하고 나머지를 4로 한다\n",
    "3. remain을 누적해서 뒤집으면 124진법이 완성됨"
   ]
  },
  {
   "cell_type": "code",
   "execution_count": 13,
   "id": "bcf25d4f",
   "metadata": {},
   "outputs": [
    {
     "data": {
      "text/plain": [
       "'11'"
      ]
     },
     "execution_count": 13,
     "metadata": {},
     "output_type": "execute_result"
    }
   ],
   "source": [
    "n = 9\n",
    "div = n\n",
    "jinsu = ''\n",
    "\n",
    "while div > 1 :\n",
    "    div, remain = divmod(div , 3)\n",
    "    if remain == 0 :\n",
    "        div -= 1\n",
    "        remain = 4\n",
    "    jinsu += str(remain)\n",
    "jinsu[::-1]\n",
    "\n",
    "def solution(n) :\n",
    "    jinsu =''\n",
    "    while n > 0 :\n",
    "        n, remain = divmod(n, 3)\n",
    "        if remain == 0 :\n",
    "            n -= 1\n",
    "            remain = 4\n",
    "        jinsu += str(remain)\n",
    "    return jinsu[::-1]\n",
    "\n",
    "n = 4\n",
    "solution(n)"
   ]
  },
  {
   "cell_type": "code",
   "execution_count": null,
   "id": "77e0bb53",
   "metadata": {},
   "outputs": [],
   "source": []
  },
  {
   "cell_type": "markdown",
   "id": "5a59d3ba",
   "metadata": {},
   "source": [
    "## 이분 탐색 - 입국심사\n",
    "### 해결 방법\n",
    "- 이분 탐색 알고리즘 사용\n",
    "1. left : 최소, right : 최대 소요 시간(가장 오래 걸리는 검사대에서만 검사를 받은 경우)\n",
    "2. mid 시간 안에 처리할 수 있는 사람수 (1~i 번 처리대의 처리 가능 사람 수)를 구함\n",
    "3. 처리 가능한 사람 수가 총 인원보다 크거나 같으면(조건 충족) 더 작은 값을 찾거나  stop\n",
    "4. 처리 가능한 사람 수가 총 인원보다 작으면 더 크거나 같은 값을 찾음"
   ]
  },
  {
   "cell_type": "code",
   "execution_count": 138,
   "id": "7d9e5838",
   "metadata": {},
   "outputs": [
    {
     "data": {
      "text/plain": [
       "28"
      ]
     },
     "execution_count": 138,
     "metadata": {},
     "output_type": "execute_result"
    }
   ],
   "source": [
    "def solution(n, times) :\n",
    "    \n",
    "    left , right = 1, n * max(times) # left : 최소, right : 최대 소요 시간(가장 오래 걸리는 검사대에서만 검사를 받은 경우)\n",
    "    \n",
    "    answer = 1000000000 * 100000\n",
    "    \n",
    "    while left <= right :\n",
    "        mid = (left + right) // 2\n",
    "        test = sum([mid // time for time in times]) # mid 시간 안에 처리할 수 있는 사람수 (1~i 번 처리대의 처리 가능 사람 수)\n",
    "        \n",
    "        if test >= n : # 처리 가능 한 사람 수가 총 인원보다 크거나 같으면(조건 충족)\n",
    "            answer = min(answer , mid) \n",
    "            right = mid - 1 # 더 작은 값을 찾거나  stop\n",
    "            \n",
    "        else : # 처리 가능한 사람 수가 총 인원보다 작으면\n",
    "            left = mid + 1 # 더 크거나 같은 값을 찾음\n",
    "            \n",
    "    return answer\n",
    "\n",
    "n = 6\n",
    "times = [7, 10]\n",
    "solution(n, times)\n",
    "            "
   ]
  },
  {
   "cell_type": "code",
   "execution_count": 136,
   "id": "6a280087",
   "metadata": {},
   "outputs": [
    {
     "name": "stdout",
     "output_type": "stream",
     "text": [
      "left : 1 right : 60\n",
      "[4, 3]\n",
      "mid 시간 안에 처리가능한 사람의 수 : 7\n",
      "left : 1 right : 29\n",
      "[2, 1]\n",
      "mid 시간 안에 처리가능한 사람의 수 : 3\n",
      "left : 16 right : 29\n",
      "[3, 2]\n",
      "mid 시간 안에 처리가능한 사람의 수 : 5\n",
      "left : 23 right : 29\n",
      "[3, 2]\n",
      "mid 시간 안에 처리가능한 사람의 수 : 5\n",
      "left : 27 right : 29\n",
      "[4, 2]\n",
      "mid 시간 안에 처리가능한 사람의 수 : 6\n",
      "left : 27 right : 27\n",
      "[3, 2]\n",
      "mid 시간 안에 처리가능한 사람의 수 : 5\n",
      "28\n"
     ]
    }
   ],
   "source": [
    "n = 6 # 사람수\n",
    "times = [7, 10] # 각 심사대의 소요 시간\n",
    "left , right = 1, n * max(times) # 최대 소요 시간(가장 오래 걸리는 검사대에서만 검사를 받은 경우)\n",
    "\n",
    "answer =  1000000000 * 100000\n",
    "\n",
    "while left <= right :\n",
    "    mid = (left + right) // 2\n",
    "    print(f'left : {left} right : {right}')\n",
    "    test = sum([mid // time for time in times]) # mid 시간 안에 처리할 수 있는 사람수 (1~i 번 처리대의 처리 가능 사람 수)\n",
    "    print([mid // time for time in times])\n",
    "    print('mid 시간 안에 처리가능한 사람의 수 :',test)\n",
    "    \n",
    "    if test >= n :\n",
    "        answer = min(answer, mid)\n",
    "        right = mid - 1\n",
    "        \n",
    "    else :\n",
    "        left = mid + 1\n",
    "        \n",
    "print(answer)"
   ]
  },
  {
   "cell_type": "code",
   "execution_count": null,
   "id": "c7b51662",
   "metadata": {},
   "outputs": [],
   "source": []
  },
  {
   "cell_type": "markdown",
   "id": "d6f18b95",
   "metadata": {},
   "source": [
    "## Summer/Winter Coding(~2018) - 숫자 게임\n",
    "### 해결 방법\n",
    "- 힙큐, 정렬 사용\n",
    "- A와 B를 오름차순 정렬하여 두 수의 가장 작은 값을 사용했을 때, B가 더 적으면 필요 없으므로 버림.\n",
    "- A값이 더 큰 경우는 A를 큐에 다시 담아줌\n",
    "- A, B 큐 소진시까지 반복하여 B가 큰 경우를 누적, 결과 리턴"
   ]
  },
  {
   "cell_type": "code",
   "execution_count": 186,
   "id": "3131eeaa",
   "metadata": {},
   "outputs": [
    {
     "name": "stdout",
     "output_type": "stream",
     "text": [
      "[1, 3, 5, 7] [2, 2, 6, 8]\n",
      "[3, 7, 5] [2, 8, 6]\n",
      "[3, 7, 5] [6, 8]\n",
      "[5, 7] [8]\n"
     ]
    },
    {
     "data": {
      "text/plain": [
       "3"
      ]
     },
     "execution_count": 186,
     "metadata": {},
     "output_type": "execute_result"
    }
   ],
   "source": [
    "import heapq\n",
    "def solution(A, B) :\n",
    "    A = sorted(A)\n",
    "    B = sorted(B)\n",
    "    heapq.heapify(A)\n",
    "    heapq.heapify(B)\n",
    "    winners = 0\n",
    "    while A and B :\n",
    "        print(A, B)\n",
    "        \n",
    "        a, b = heapq.heappop(A), heapq.heappop(B)\n",
    "        if a < b:\n",
    "            winners += 1\n",
    "        \n",
    "        else :\n",
    "            \n",
    "            heapq.heappush(A, a)\n",
    "            # A값을 다시 담는 이유는 더 큰 B값이 뒤에 있을 때\n",
    "            # B값과 비교해주기 위해서\n",
    "        \n",
    "    return winners\n",
    "\n",
    "\n",
    "A = [5,1,3,7]\n",
    "B = [2, 2, 6, 8]\n",
    "solution(A, B)"
   ]
  },
  {
   "cell_type": "code",
   "execution_count": null,
   "id": "d4a65828",
   "metadata": {},
   "outputs": [],
   "source": []
  },
  {
   "cell_type": "markdown",
   "id": "9fb3b2fe",
   "metadata": {},
   "source": [
    "## 2018 KAKAO BLIND RECRUITMENT - [1차] 셔틀버스 \n",
    "### 해결 방법\n",
    "- timetable을 분단위로 환산하여 오름차순으로 정렬, 버스 시작시간 9:00부터 +t(배차간격)을 n(배차수) 만큼 루프\n",
    "- 각 루프마다 timetable에서 m 만큼 crew를 버스에 태움. 단 태우는 사람은 버스 출발 시간까지\n",
    "- 태워진 시간의 사람은 loop에서 제거하고, 루프를 다시 돌리면서 n이 소진되거나 timetable 사람이 소진 시까지 지속\n",
    "- 루프 종료시에 n이 소진되고 crew가 다 찼다면 마지막 온 crew보다 1분 빨리 와야 하기 때문에 마지막 온 crew의 시간 - 1 리턴\n",
    "- n이 소진되지 않거나 crew가 비어있으면 마지막 루프의 버스 출발 시간에 맞춰 오면 되기 때문에 누적된 depart_time 리턴"
   ]
  },
  {
   "cell_type": "code",
   "execution_count": 80,
   "id": "7a3b44be",
   "metadata": {},
   "outputs": [],
   "source": [
    "def time_formatting(mins) :\n",
    "    hour = mins // 60\n",
    "    minutes = mins % 60\n",
    "    if hour < 10 :\n",
    "        hour = '0' + str(hour)\n",
    "    else :\n",
    "        hour = str(hour)\n",
    "        \n",
    "    if minutes == 0 :\n",
    "        minutes = '00'\n",
    "    elif minutes < 10 :\n",
    "        minutes = '0' + str(minutes)\n",
    "    else :\n",
    "        minutes = str(minutes)\n",
    "        \n",
    "    return hour + ':' + minutes"
   ]
  },
  {
   "cell_type": "code",
   "execution_count": 93,
   "id": "9ddb3dff",
   "metadata": {},
   "outputs": [
    {
     "data": {
      "text/plain": [
       "'00:00'"
      ]
     },
     "execution_count": 93,
     "metadata": {},
     "output_type": "execute_result"
    }
   ],
   "source": [
    "from collections import deque\n",
    "\n",
    "def solution(n, t, m, timetable) :\n",
    "    timetable = deque(sorted([int(t.split(':')[0]) * 60 + int(t.split(':')[1]) for t in timetable]))\n",
    "    car_cnt = 0\n",
    "    n_copy = n\n",
    "    depart_time = 9*60\n",
    "    \n",
    "    while n > 0 and timetable : \n",
    "        crews = 0\n",
    "        \n",
    "        while timetable and crews < m :\n",
    "            if timetable[0] <= 9*60 + car_cnt * t :\n",
    "                crews += 1\n",
    "                pop = timetable.popleft()\n",
    "                \n",
    "            else :\n",
    "                break\n",
    "        \n",
    "        n -= 1\n",
    "        car_cnt += 1\n",
    "        \n",
    "        if n == 0 :\n",
    "            break\n",
    "        depart_time += t\n",
    "        \n",
    "    if car_cnt == n_copy and m == crews :\n",
    "        return time_formatting(pop-1)\n",
    "    else :\n",
    "        return time_formatting(depart_time)\n",
    "\n",
    "    \n",
    "n = 1\n",
    "t = 1\n",
    "m = 5\n",
    "timetable = [\"00:01\", \"00:01\", \"00:01\", \"00:01\", \"00:01\"]\n",
    "\n",
    "solution(n, t, m, timetable)\n"
   ]
  },
  {
   "cell_type": "code",
   "execution_count": null,
   "id": "8ab55809",
   "metadata": {},
   "outputs": [],
   "source": []
  },
  {
   "cell_type": "markdown",
   "id": "e7558bf8",
   "metadata": {},
   "source": [
    "## 연습문제 - 올바른 괄호\n",
    "### 해결 방법\n",
    "- (가 들어오면 큐에 append\n",
    "- )가 들어오면 큐를 pop\n",
    "- 모든 쌍이 제거되면 True, 그렇지 못하면 False"
   ]
  },
  {
   "cell_type": "code",
   "execution_count": 42,
   "id": "11c8cdac",
   "metadata": {},
   "outputs": [
    {
     "data": {
      "text/plain": [
       "False"
      ]
     },
     "execution_count": 42,
     "metadata": {},
     "output_type": "execute_result"
    }
   ],
   "source": [
    "# 내 풀이 1(효율성 탈락)\n",
    "def solution(s) :\n",
    "    answer = True\n",
    "    while s :\n",
    "        if s.find('()') != -1 :\n",
    "            s = s.replace('()', '')\n",
    "            \n",
    "        else :\n",
    "            answer = False\n",
    "            break\n",
    "        \n",
    "    return answer\n",
    "\n",
    "from collections import deque\n",
    "def solution(s) :\n",
    "    queue = deque() # 큐 생성\n",
    "    for i in s :\n",
    "        if i == '(' : # ( 이면 큐에 추가\n",
    "            queue.append(i)\n",
    "        else :\n",
    "            try : \n",
    "                queue.pop() # (, ) 한 쌍이 모이면 제거\n",
    "            except :\n",
    "                return False\n",
    "    if len(queue) == 0   : return True  # 모든 쌍이 제거되면 True\n",
    "    return False\n",
    "\n",
    "s = \")()(\"\n",
    "solution(s)\n",
    "        "
   ]
  },
  {
   "cell_type": "code",
   "execution_count": null,
   "id": "fcb746c3",
   "metadata": {},
   "outputs": [],
   "source": []
  },
  {
   "cell_type": "markdown",
   "id": "c9a50bcb",
   "metadata": {},
   "source": [
    "## 월간 코드 챌린지 시즌 1 - 이진 변환 반복하기\n",
    "### 해결 방법\n",
    "- bin_cnt, zero_cnt 초기화\n",
    "- s가 1이 아닐 때까지 반복문 수행, replace로 0을 대체하면서 대체 전 길이와 대체 후 길이를\n",
    "비교하여 zero cnt에 더하고, 반복문 1회마다 bin count를 +1"
   ]
  },
  {
   "cell_type": "code",
   "execution_count": 31,
   "id": "a446f53c",
   "metadata": {},
   "outputs": [],
   "source": [
    "def solution(s) :\n",
    "    bin_cnt, zero_cnt = 0, 0\n",
    "    while s != '1' :\n",
    "        org_len = len(s)\n",
    "        s = s.replace('0', '')\n",
    "        zero_cnt += org_len - len(s)\n",
    "        s = bin(len(s))[2:]\n",
    "        bin_cnt += 1\n",
    "    return [bin_cnt, zero_cnt]"
   ]
  },
  {
   "cell_type": "code",
   "execution_count": null,
   "id": "1f5c3682",
   "metadata": {},
   "outputs": [],
   "source": []
  },
  {
   "cell_type": "markdown",
   "id": "855e2160",
   "metadata": {},
   "source": [
    "## 2020 카카오 인턴쉽 - 수식 최대화\n",
    "### 해결 방법\n",
    "- permutation으로 3가지 op에 대한 경우의 수 구하기\n",
    "- 모든 경우의 수에 대한 식을 문자열로\n",
    "- eval()을 사용하여 연산, 최대값 리턴"
   ]
  },
  {
   "cell_type": "code",
   "execution_count": 2,
   "id": "35a0e307",
   "metadata": {},
   "outputs": [
    {
     "data": {
      "text/plain": [
       "60420"
      ]
     },
     "execution_count": 2,
     "metadata": {},
     "output_type": "execute_result"
    }
   ],
   "source": [
    "from itertools import permutations\n",
    "def solution(expression):\n",
    "    op = ['+', '-', '*']\n",
    "    answer = []\n",
    "    for per in permutations(op):\n",
    "        f, s = per[0], per[1]\n",
    "        lst = []\n",
    "        for e in expression.split(f):\n",
    "            temp = [f\"({i})\" for i in e.split(s)]\n",
    "            lst.append(f'({s.join(temp)})')\n",
    "            # print(lst)\n",
    "        answer.append(abs(eval(f.join(lst))))\n",
    "    return max(answer)\n",
    "\n",
    "solution(\"100-200*300-500+20\")"
   ]
  },
  {
   "cell_type": "code",
   "execution_count": null,
   "id": "4c5adbd4",
   "metadata": {},
   "outputs": [],
   "source": []
  },
  {
   "cell_type": "markdown",
   "id": "8e67392a",
   "metadata": {},
   "source": [
    "## 2018 KAKAO BLIND RECRUITMENT - [3차] n진수 게임\n",
    "### 해결 방법\n",
    "- 숫자와 진수법에 따라 숫자를 진수로 변환하는 함수 만들기(jinsu)\n",
    "- 미리 구할 숫자(t) * 게임 참가 인원(m) 만큼 루프를 돌면서 jinsu 변환해 놓기\n",
    "- 튜브 순서(p-1)부터 t*m까지 m만큼 건너뛰면서 tube가 말할 숫자를 누적"
   ]
  },
  {
   "cell_type": "code",
   "execution_count": 6,
   "id": "0aa5aba3",
   "metadata": {},
   "outputs": [],
   "source": [
    "n, t, m, p = 2, 4, 2, 1 # 진법, 미리 구할 숫자 개수, 게임 참가 인원, 튜브 순서"
   ]
  },
  {
   "cell_type": "code",
   "execution_count": 5,
   "id": "cb79f9a2",
   "metadata": {},
   "outputs": [
    {
     "data": {
      "text/plain": [
       "'0111'"
      ]
     },
     "execution_count": 5,
     "metadata": {},
     "output_type": "execute_result"
    }
   ],
   "source": [
    "def jinsu(n, k) :\n",
    "    jinsu = ''\n",
    "    code = {10 : 'A', 11 : 'B', 12 : 'C', 13 : 'D', 14 : 'E', 15 : 'F'}\n",
    "    while n > 0 :\n",
    "        n, mod = divmod(n, k)\n",
    "        if mod in code.keys() :\n",
    "            jinsu += code[mod] \n",
    "        else :\n",
    "            jinsu += str(mod)\n",
    "    \n",
    "    return jinsu[::-1]\n",
    "\n",
    "\n",
    "def solution(n, t, m, p) :\n",
    "    numbers = '0'\n",
    "    for i in range(1, t*m) :\n",
    "        numbers += jinsu(i, n) \n",
    "    \n",
    "    tube = ''\n",
    "    for i in range(p-1, t*m, m) :\n",
    "        tube += numbers[i]\n",
    "        \n",
    "    return tube\n",
    "\n",
    "solution(n, t, m, p)"
   ]
  },
  {
   "cell_type": "code",
   "execution_count": 7,
   "id": "f2868991",
   "metadata": {},
   "outputs": [],
   "source": [
    "# 처음 풀이\n",
    "def jinsu(n, k) :\n",
    "    jinsu = ''\n",
    "    while n > 0 :\n",
    "        n, mod = divmod(n, k)\n",
    "        jinsu += str(mod)\n",
    "    return jinsu[::-1]\n",
    "\n",
    "def solution(n, t, m, p) :\n",
    "    numbers = '0'\n",
    "    code = {10 : 'A', 11 : 'B', 12 : 'C', 13 : 'D', 14 : 'E', 15 : 'F'}\n",
    "    for i in range(1, t*m) :\n",
    "        if i in code.keys() :\n",
    "            numbers += code[i]\n",
    "        else :\n",
    "            numbers += jinsu(i, n)\n",
    "            \n",
    "    tube = ''\n",
    "#     for i, n in enumerate(numbers) :\n",
    "#         if (i+1) % m == p :\n",
    "#             tube += n\n",
    "#         elif m == p and (i +1) % m == 0 :\n",
    "#             tube += n\n",
    "#         if t <= len(tube) :\n",
    "#             break\n",
    "    \n",
    "    for i in range(p-1, t*m, m) :\n",
    "        tube += numbers[i]\n",
    "            \n",
    "    return tube"
   ]
  },
  {
   "cell_type": "code",
   "execution_count": 8,
   "id": "23bd2e09",
   "metadata": {},
   "outputs": [
    {
     "data": {
      "text/plain": [
       "'0111'"
      ]
     },
     "execution_count": 8,
     "metadata": {},
     "output_type": "execute_result"
    }
   ],
   "source": [
    "solution(n, t, m, p)"
   ]
  },
  {
   "cell_type": "code",
   "execution_count": 43,
   "id": "35151c7f",
   "metadata": {},
   "outputs": [
    {
     "data": {
      "text/plain": [
       "'13579BDF01234567'"
      ]
     },
     "execution_count": 43,
     "metadata": {},
     "output_type": "execute_result"
    }
   ],
   "source": [
    "solution(16, 16, 2, 2)"
   ]
  },
  {
   "cell_type": "code",
   "execution_count": null,
   "id": "8b99879c",
   "metadata": {},
   "outputs": [],
   "source": []
  },
  {
   "cell_type": "markdown",
   "id": "0bb3162a",
   "metadata": {},
   "source": [
    "## 2020 KAKAO BLIND RECRUITMENT - 괄호 변환"
   ]
  },
  {
   "cell_type": "code",
   "execution_count": null,
   "id": "006e5d15",
   "metadata": {},
   "outputs": [],
   "source": [
    "p = \"(()())()\""
   ]
  },
  {
   "cell_type": "markdown",
   "id": "98a52ce1",
   "metadata": {},
   "source": [
    "1. 입력이 빈 문자열인 경우, 빈 문자열을 반환합니다. \n",
    "2. 문자열 w를 두 \"균형잡힌 괄호 문자열\" u, v로 분리합니다. 단, u는 \"균형잡힌 괄호 문자열\"로 더 이상 분리할 수 없어야 하며, v는 빈 문자열이 될 수 있습니다. \n",
    "3. 문자열 u가 \"올바른 괄호 문자열\" 이라면 문자열 v에 대해 1단계부터 다시 수행합니다. \n",
    "- 3-1. 수행한 결과 문자열을 u에 이어 붙인 후 반환합니다. \n",
    "4. 문자열 u가 \"올바른 괄호 문자열\"이 아니라면 아래 과정을 수행합니다. \n",
    "- 4-1. 빈 문자열에 첫 번째 문자로 '('를 붙입니다. \n",
    "- 4-2. 문자열 v에 대해 1단계부터 재귀적으로 수행한 결과 문자열을 이어 붙입니다. \n",
    "- 4-3. ')'를 다시 붙입니다. \n",
    "- 4-4. u의 첫 번째와 마지막 문자를 제거하고, 나머지 문자열의 괄호 방향을 뒤집어서 뒤에 붙입니다. \n",
    "- 4-5. 생성된 문자열을 반환합니다."
   ]
  },
  {
   "cell_type": "code",
   "execution_count": 61,
   "id": "f33ce441",
   "metadata": {},
   "outputs": [],
   "source": [
    "p = \"()))((()\"\n",
    "\n",
    "u = \"()\"\n",
    "v = \"))((()\""
   ]
  },
  {
   "cell_type": "code",
   "execution_count": 67,
   "id": "4a4ea4ac",
   "metadata": {},
   "outputs": [
    {
     "name": "stdout",
     "output_type": "stream",
     "text": [
      "(())\n",
      ")(\n",
      "(())()\n",
      "()(())()\n"
     ]
    }
   ],
   "source": [
    "\n",
    "u = \"))((\"\n",
    "v = \"()\"\n",
    "\n",
    "new_str = '('\n",
    "new_str = new_str + v + ')'\n",
    "\n",
    "u = u[1:-1]\n",
    "print(new_str)\n",
    "print(u)\n",
    "print(new_str + '()')\n",
    "print('()'+ new_str + '()')"
   ]
  },
  {
   "cell_type": "code",
   "execution_count": null,
   "id": "e0b2b853",
   "metadata": {},
   "outputs": [],
   "source": [
    "# 올바른 괄호 문자열 판별\n"
   ]
  },
  {
   "cell_type": "markdown",
   "id": "869f3974",
   "metadata": {},
   "source": [
    "### 백준 소수 구하기"
   ]
  },
  {
   "cell_type": "code",
   "execution_count": 23,
   "id": "8a8ca659",
   "metadata": {},
   "outputs": [
    {
     "name": "stdout",
     "output_type": "stream",
     "text": [
      "10, 99\n",
      "10, 99\n"
     ]
    }
   ],
   "source": [
    "m, n = input().split()\n",
    "print(m, n)"
   ]
  },
  {
   "cell_type": "code",
   "execution_count": 29,
   "id": "f49bb5e3",
   "metadata": {},
   "outputs": [
    {
     "name": "stdout",
     "output_type": "stream",
     "text": [
      "1 4\n",
      "2\n",
      "3\n"
     ]
    }
   ],
   "source": [
    "m, n = map(int,input().split())\n",
    "for i in range(m, n+1) :\n",
    "    if i == 1 :\n",
    "        continue\n",
    "    for yaksu in range(2, int(i**0.5) + 1) :\n",
    "        if i%yaksu == 0 :\n",
    "            break\n",
    "    else :\n",
    "        print(i)"
   ]
  },
  {
   "cell_type": "code",
   "execution_count": null,
   "id": "4fb8f1fd",
   "metadata": {},
   "outputs": [],
   "source": []
  },
  {
   "cell_type": "code",
   "execution_count": null,
   "id": "ef62c526",
   "metadata": {},
   "outputs": [],
   "source": []
  }
 ],
 "metadata": {
  "kernelspec": {
   "display_name": "yeseul",
   "language": "python",
   "name": "yeseul"
  },
  "language_info": {
   "codemirror_mode": {
    "name": "ipython",
    "version": 3
   },
   "file_extension": ".py",
   "mimetype": "text/x-python",
   "name": "python",
   "nbconvert_exporter": "python",
   "pygments_lexer": "ipython3",
   "version": "3.7.10"
  },
  "toc": {
   "base_numbering": 1,
   "nav_menu": {},
   "number_sections": false,
   "sideBar": true,
   "skip_h1_title": false,
   "title_cell": "Table of Contents",
   "title_sidebar": "Contents",
   "toc_cell": false,
   "toc_position": {},
   "toc_section_display": true,
   "toc_window_display": true
  }
 },
 "nbformat": 4,
 "nbformat_minor": 5
}
