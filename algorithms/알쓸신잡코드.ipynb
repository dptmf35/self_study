{
 "cells": [
  {
   "cell_type": "markdown",
   "id": "0ab6648d",
   "metadata": {},
   "source": [
    "# 수학\n",
    "---"
   ]
  },
  {
   "cell_type": "markdown",
   "id": "982d93cc",
   "metadata": {},
   "source": [
    "### factorial "
   ]
  },
  {
   "cell_type": "code",
   "execution_count": 2,
   "id": "20590799",
   "metadata": {},
   "outputs": [
    {
     "data": {
      "text/plain": [
       "24"
      ]
     },
     "execution_count": 2,
     "metadata": {},
     "output_type": "execute_result"
    }
   ],
   "source": [
    "import math # 수학 관련 각종 함수들을 모아놓은 라이브러리\n",
    "\n",
    "## -* 팩토리얼 *-\n",
    "math.factorial(4) # = 4!"
   ]
  },
  {
   "cell_type": "markdown",
   "id": "b39c400a",
   "metadata": {},
   "source": [
    "### divmod"
   ]
  },
  {
   "cell_type": "code",
   "execution_count": 5,
   "id": "2f70e9e9",
   "metadata": {},
   "outputs": [
    {
     "data": {
      "text/plain": [
       "(3, 1)"
      ]
     },
     "execution_count": 5,
     "metadata": {},
     "output_type": "execute_result"
    }
   ],
   "source": [
    "# python 내장함수 : divmod(x, y)\n",
    "# 몫과 나머지를 한번에 반환(tuple)\n",
    "divmod(10, 3)"
   ]
  },
  {
   "cell_type": "markdown",
   "id": "09691e48",
   "metadata": {},
   "source": [
    "### N 진수 변환"
   ]
  },
  {
   "cell_type": "code",
   "execution_count": 8,
   "id": "6f539fc3",
   "metadata": {},
   "outputs": [
    {
     "name": "stdout",
     "output_type": "stream",
     "text": [
      "0b10100\n",
      "0x3a\n",
      "0o200\n"
     ]
    }
   ],
   "source": [
    "# 1. 자주 사용하는 2진수, 8진수, 16진수 : bin(), hex(), oct()\n",
    "# 앞 2문자 빼고 사용하면 됨\n",
    "print(bin(20))\n",
    "print(hex(58))\n",
    "print(oct(128))"
   ]
  },
  {
   "cell_type": "code",
   "execution_count": 9,
   "id": "c62dd493",
   "metadata": {},
   "outputs": [
    {
     "data": {
      "text/plain": [
       "'101101'"
      ]
     },
     "execution_count": 9,
     "metadata": {},
     "output_type": "execute_result"
    }
   ],
   "source": [
    "##2.10진수 --> 기타 N진수로 변환\n",
    "def solution(n, q) :\n",
    "    jinsu = ''\n",
    "    while n > 0 :\n",
    "        n, mod = divmod(n, q)\n",
    "        jinsu += str(mod)\n",
    "    return jinsu[::-1] # 진수를 뒤집어(역수) 반환\n",
    "\n",
    "solution(45,2)"
   ]
  },
  {
   "cell_type": "code",
   "execution_count": 10,
   "id": "698fb7b4",
   "metadata": {},
   "outputs": [
    {
     "data": {
      "text/plain": [
       "45"
      ]
     },
     "execution_count": 10,
     "metadata": {},
     "output_type": "execute_result"
    }
   ],
   "source": [
    "# N진수 --> 10진수로 변환\n",
    "int('101101', 2)"
   ]
  },
  {
   "cell_type": "markdown",
   "id": "930f1287",
   "metadata": {},
   "source": [
    "### 순열과 조합"
   ]
  },
  {
   "cell_type": "code",
   "execution_count": 22,
   "id": "c763cc84",
   "metadata": {},
   "outputs": [
    {
     "name": "stdout",
     "output_type": "stream",
     "text": [
      "[(1, 2, 3), (1, 2, 4), (1, 2, 5), (1, 3, 2), (1, 3, 4), (1, 3, 5), (1, 4, 2), (1, 4, 3), (1, 4, 5), (1, 5, 2), (1, 5, 3), (1, 5, 4), (2, 1, 3), (2, 1, 4), (2, 1, 5), (2, 3, 1), (2, 3, 4), (2, 3, 5), (2, 4, 1), (2, 4, 3), (2, 4, 5), (2, 5, 1), (2, 5, 3), (2, 5, 4), (3, 1, 2), (3, 1, 4), (3, 1, 5), (3, 2, 1), (3, 2, 4), (3, 2, 5), (3, 4, 1), (3, 4, 2), (3, 4, 5), (3, 5, 1), (3, 5, 2), (3, 5, 4), (4, 1, 2), (4, 1, 3), (4, 1, 5), (4, 2, 1), (4, 2, 3), (4, 2, 5), (4, 3, 1), (4, 3, 2), (4, 3, 5), (4, 5, 1), (4, 5, 2), (4, 5, 3), (5, 1, 2), (5, 1, 3), (5, 1, 4), (5, 2, 1), (5, 2, 3), (5, 2, 4), (5, 3, 1), (5, 3, 2), (5, 3, 4), (5, 4, 1), (5, 4, 2), (5, 4, 3)]\n",
      "뽑은 집합의 개수 : 60\n"
     ]
    }
   ],
   "source": [
    "# 순열(Permutation) : n개의 집합에서 중복x, 순서o r개의 원소를 선택\n",
    "from itertools import permutations\n",
    "elements = [1,2,3,4,5]\n",
    "# 5P3\n",
    "p = list(permutations(elements, 3))\n",
    "print(p)\n",
    "print(f'뽑은 집합의 개수 : {len(list(p))}')"
   ]
  },
  {
   "attachments": {
    "image.png": {
     "image/png": "[encoded data removed]"
    }
   },
   "cell_type": "markdown",
   "id": "f7243dfd",
   "metadata": {},
   "source": [
    "![image.png](attachment:image.png)"
   ]
  },
  {
   "cell_type": "code",
   "execution_count": 23,
   "id": "2edfda5d",
   "metadata": {},
   "outputs": [
    {
     "name": "stdout",
     "output_type": "stream",
     "text": [
      "[(1, 2, 3), (1, 2, 4), (1, 2, 5), (1, 3, 4), (1, 3, 5), (1, 4, 5), (2, 3, 4), (2, 3, 5), (2, 4, 5), (3, 4, 5)]\n",
      "뽑은 집합의 개수 : 10\n"
     ]
    }
   ],
   "source": [
    "# 조합(Combination) : n개의 집합에서 중복x, 순서x r개의 원소를 선택\n",
    "from itertools import combinations\n",
    "elements = [1,2,3,4,5]\n",
    "# 5C3\n",
    "c = list(combinations(elements, 3))\n",
    "print(c)\n",
    "print(f'뽑은 집합의 개수 : {len(list(c))}')"
   ]
  },
  {
   "attachments": {
    "image.png": {
     "image/png": "[encoded data removed]"
    }
   },
   "cell_type": "markdown",
   "id": "9aa72603",
   "metadata": {},
   "source": [
    "![image.png](attachment:image.png)"
   ]
  },
  {
   "cell_type": "markdown",
   "id": "4f937e16",
   "metadata": {},
   "source": [
    "### 순환"
   ]
  },
  {
   "cell_type": "code",
   "execution_count": null,
   "id": "96ae1131",
   "metadata": {},
   "outputs": [],
   "source": [
    "## cycle : 무한 반복자 이터레이터(이터러블을 순환하며 반복)\n",
    "from itertools import cycle\n",
    "c = cycle([1,2,3,4])\n",
    "for i in range(12):\n",
    "    print(next(c), end=',') # next() : 이터레이터 다음 요소를 리턴"
   ]
  },
  {
   "cell_type": "code",
   "execution_count": 24,
   "id": "92e3197b",
   "metadata": {},
   "outputs": [
    {
     "data": {
      "text/plain": [
       "[1, 4, 9, 16, 25, 36, 49]"
      ]
     },
     "execution_count": 24,
     "metadata": {},
     "output_type": "execute_result"
    }
   ],
   "source": [
    "# accumulate : 이터러블의 누적합을 계산하여 이터레이터로 리턴\n",
    "from itertools import accumulate\n",
    "numbers = [1, 3, 5, 7, 9, 11, 13]\n",
    "list(accumulate(numbers))"
   ]
  },
  {
   "cell_type": "markdown",
   "id": "13d53a9f",
   "metadata": {},
   "source": [
    "### 최소공배수(lcm), 최대공약수(gcd)"
   ]
  },
  {
   "cell_type": "code",
   "execution_count": 26,
   "id": "b3935bb1",
   "metadata": {},
   "outputs": [
    {
     "name": "stdout",
     "output_type": "stream",
     "text": [
      "8\n",
      "24\n"
     ]
    }
   ],
   "source": [
    "# math.gcd(a,b) a와 b의 최대공약수\n",
    "import math\n",
    "a, b = 8, 24\n",
    "print(math.gcd(8, 24))\n",
    "\n",
    "# 최소공배수(lcm) : a * b // math.gcd(a,b)\n",
    "# python 3.9 이상 버전에서는 math.lcm() 을 지원\n",
    "print(a * b // math.gcd(8, 24))"
   ]
  },
  {
   "cell_type": "markdown",
   "id": "a12e06f5",
   "metadata": {},
   "source": [
    "### 누적합(cumsum), 누적곱(cumprod)"
   ]
  },
  {
   "cell_type": "code",
   "execution_count": 27,
   "id": "70546e8e",
   "metadata": {},
   "outputs": [
    {
     "name": "stderr",
     "output_type": "stream",
     "text": [
      "C:\\Users\\PC\\anaconda3\\envs\\yeseul\\lib\\site-packages\\numpy\\_distributor_init.py:32: UserWarning: loaded more than 1 DLL from .libs:\n",
      "C:\\Users\\PC\\anaconda3\\envs\\yeseul\\lib\\site-packages\\numpy\\.libs\\libopenblas.NOIJJG62EMASZI6NYURL6JBKM4EVBGM7.gfortran-win_amd64.dll\n",
      "C:\\Users\\PC\\anaconda3\\envs\\yeseul\\lib\\site-packages\\numpy\\.libs\\libopenblas.PYQHXLVVQ7VESDPUVUADXEVJOBGHJPAY.gfortran-win_amd64.dll\n",
      "C:\\Users\\PC\\anaconda3\\envs\\yeseul\\lib\\site-packages\\numpy\\.libs\\libopenblas.WCDJNK7YVMPZQ2ME2ZZHJJRJ3JIKNDB7.gfortran-win_amd64.dll\n",
      "C:\\Users\\PC\\anaconda3\\envs\\yeseul\\lib\\site-packages\\numpy\\.libs\\libopenblas.XWYDX2IKJW2NMTWSFYNGFUWKQU3LYTCZ.gfortran-win_amd64.dll\n",
      "  stacklevel=1)\n"
     ]
    },
    {
     "name": "stdout",
     "output_type": "stream",
     "text": [
      "[ 1  4  9 16]\n",
      "[  1   3  15 105]\n"
     ]
    }
   ],
   "source": [
    "# cumsum() : arr에 대한 누적합을 반환\n",
    "import numpy as np\n",
    "arr = [1,3,5,7]\n",
    "print(np.cumsum(arr))\n",
    "print(np.cumprod(arr))"
   ]
  },
  {
   "cell_type": "markdown",
   "id": "b0ed7824",
   "metadata": {},
   "source": [
    "### 누적 함수(reduce)"
   ]
  },
  {
   "cell_type": "code",
   "execution_count": 31,
   "id": "bab12a5a",
   "metadata": {},
   "outputs": [
    {
     "name": "stdout",
     "output_type": "stream",
     "text": [
      "[  1   2   6  24 120]\n",
      "120\n"
     ]
    }
   ],
   "source": [
    "# reduce(func, iterable) : func에 대한 iterable의 누적 값을 도출\n",
    "from functools import reduce\n",
    "arr = [1,2,3,4,5]\n",
    "print(np.cumprod(arr))\n",
    "print(reduce(lambda x , y : x*y, arr))"
   ]
  },
  {
   "cell_type": "markdown",
   "id": "0730feca",
   "metadata": {},
   "source": [
    "### 집합"
   ]
  },
  {
   "cell_type": "code",
   "execution_count": 2,
   "id": "1840f22a",
   "metadata": {},
   "outputs": [
    {
     "name": "stdout",
     "output_type": "stream",
     "text": [
      "['e', 'a', 'd', 'c', 'b']\n",
      "['e', 'a', 'd', 'c', 'b']\n"
     ]
    }
   ],
   "source": [
    "# 합집합(union)\n",
    "arr1 = ['a','b','c','d']\n",
    "arr2 = ['b','c','d','e']\n",
    "print(list(set(arr1) | set(arr2)))\n",
    "print(list(set().union(arr1,arr2)))"
   ]
  },
  {
   "cell_type": "code",
   "execution_count": 6,
   "id": "74a5fe8b",
   "metadata": {},
   "outputs": [
    {
     "name": "stdout",
     "output_type": "stream",
     "text": [
      "['c', 'b', 'd']\n",
      "['c', 'b', 'd']\n"
     ]
    }
   ],
   "source": [
    "# 교집합(intersection)\n",
    "arr1 = ['a','b','c','d']\n",
    "arr2 = ['b','c','d','e']\n",
    "print(list(set(arr1) & set(arr2)))\n",
    "print(list(set(arr1).intersection(arr2)))"
   ]
  },
  {
   "cell_type": "code",
   "execution_count": 7,
   "id": "1e60a002",
   "metadata": {},
   "outputs": [
    {
     "name": "stdout",
     "output_type": "stream",
     "text": [
      "['a']\n",
      "['a']\n"
     ]
    }
   ],
   "source": [
    "# 차집합(difference)\n",
    "arr1 = ['a','b','c','d']\n",
    "arr2 = ['b','c','d','e']\n",
    "print(list(set(arr1) - set(arr2)))\n",
    "print(list(set(arr1).difference(arr2)))"
   ]
  },
  {
   "cell_type": "code",
   "execution_count": 8,
   "id": "db1d4693",
   "metadata": {},
   "outputs": [
    {
     "name": "stdout",
     "output_type": "stream",
     "text": [
      "['e', 'a']\n",
      "['e', 'a']\n"
     ]
    }
   ],
   "source": [
    "# 대칭차집합\n",
    "arr1 = ['a','b','c','d']\n",
    "arr2 = ['b','c','d','e']\n",
    "print(list(set(arr1) ^ set(arr2)))\n",
    "print(list(set(arr1).symmetric_difference(arr2)))"
   ]
  },
  {
   "cell_type": "markdown",
   "id": "1b6db274",
   "metadata": {},
   "source": [
    "# 문자열\n",
    "---"
   ]
  },
  {
   "cell_type": "markdown",
   "id": "8b8470f5",
   "metadata": {},
   "source": [
    "### 정규표현식(re)\n",
    "정규표현식에 대한 자세한 정보는 <a href='https://wikidocs.net/1669'>여기</a>"
   ]
  },
  {
   "cell_type": "code",
   "execution_count": 15,
   "id": "896791ac",
   "metadata": {},
   "outputs": [
    {
     "name": "stdout",
     "output_type": "stream",
     "text": [
      "HelloWorld\n",
      "안녕하세요  world\n"
     ]
    }
   ],
   "source": [
    "# ^ 괄호안의 문자를 제외한 모든 문자\n",
    "import re\n",
    "\n",
    "string = \"Hello ! World\"\n",
    "new_string = re.sub(r\"[^a-zA-Z0-9]\",\"\",string) # 영,숫자 외의 문자 전부 제거\n",
    "print(new_string)\n",
    "\n",
    "string = \"안녕하세요 ! world\"\n",
    "new_string = re.sub(r\"[^ A-Za-z0-9가-힣]\",\"\",string) # 띄어쓰기,한,영,숫자 외의 문자 전부 제거\n",
    "print(new_string)"
   ]
  },
  {
   "cell_type": "code",
   "execution_count": 16,
   "id": "a054f658",
   "metadata": {},
   "outputs": [
    {
     "data": {
      "text/plain": [
       "'colour socks and colour shoes'"
      ]
     },
     "execution_count": 16,
     "metadata": {},
     "output_type": "execute_result"
    }
   ],
   "source": [
    "# sub 메서드를 사용하면 정규식과 매치되는 부분을 다른 문자로 쉽게 바꿀 수 있다.\n",
    "p = re.compile('(blue|white|red)') # 정규표현식 컴파일\n",
    "p.sub('colour', 'blue socks and red shoes')"
   ]
  },
  {
   "cell_type": "markdown",
   "id": "9bba4c86",
   "metadata": {},
   "source": [
    "### 문자열 공백 채우기(rjust, ljust, zfill)"
   ]
  },
  {
   "cell_type": "code",
   "execution_count": 1,
   "id": "362dc376",
   "metadata": {},
   "outputs": [
    {
     "name": "stdout",
     "output_type": "stream",
     "text": [
      "0000012345\n"
     ]
    }
   ],
   "source": [
    "# 오른쪽으로 정렬 .rjust(공백 수, 공백 채울 문자)\n",
    "val = '12345'.rjust(10, '0')\n",
    "print(val)"
   ]
  },
  {
   "cell_type": "code",
   "execution_count": 2,
   "id": "a40dc2ff",
   "metadata": {},
   "outputs": [
    {
     "name": "stdout",
     "output_type": "stream",
     "text": [
      "1234500000\n"
     ]
    }
   ],
   "source": [
    "# 왼쪽으로 정렬 .rjust(공백 수, 공백 채울 문자)\n",
    "val = '12345'.ljust(10, '0')\n",
    "print(val)"
   ]
  },
  {
   "cell_type": "code",
   "execution_count": 4,
   "id": "be107955",
   "metadata": {},
   "outputs": [
    {
     "name": "stdout",
     "output_type": "stream",
     "text": [
      "0000012345\n"
     ]
    }
   ],
   "source": [
    "# 자리수만큼 왼쪽에 0을 채워줌(zerofill)\n",
    "val = '12345'.zfill(10)\n",
    "print(val)"
   ]
  },
  {
   "cell_type": "code",
   "execution_count": null,
   "id": "db4d3d0e",
   "metadata": {},
   "outputs": [],
   "source": []
  },
  {
   "cell_type": "markdown",
   "id": "aa5c2c00",
   "metadata": {},
   "source": [
    "# 정렬\n",
    "---"
   ]
  },
  {
   "cell_type": "markdown",
   "id": "56528e64",
   "metadata": {},
   "source": [
    "### sort, key로 정렬 구현"
   ]
  },
  {
   "cell_type": "code",
   "execution_count": 4,
   "id": "0d26aacc",
   "metadata": {},
   "outputs": [
    {
     "name": "stdout",
     "output_type": "stream",
     "text": [
      "[1, 2, 2, 7, 7, 13, 14, 32]\n",
      "[32, 14, 13, 7, 7, 2, 2, 1]\n"
     ]
    }
   ],
   "source": [
    "numbers = [1, 13, 7, 2, 14, 32, 2 , 7]\n",
    "# 오름차순\n",
    "print(sorted(numbers))\n",
    "# 내림차순\n",
    "print(sorted(numbers , reverse=True))"
   ]
  },
  {
   "cell_type": "markdown",
   "id": "6131578b",
   "metadata": {},
   "source": [
    "lambda식으로 2차원 list를 정렬"
   ]
  },
  {
   "cell_type": "code",
   "execution_count": 9,
   "id": "4421d214",
   "metadata": {},
   "outputs": [
    {
     "name": "stdout",
     "output_type": "stream",
     "text": [
      "[(1, 0), (2, 3), (2, 6), (7, 2), (7, 8), (13, 1), (14, 4), (32, 5)]\n",
      "[(1, 0), (13, 1), (7, 2), (2, 3), (14, 4), (32, 5), (2, 6), (7, 8)]\n"
     ]
    }
   ],
   "source": [
    "numbers = [(1, 0), (13, 1), (7, 2), (2, 3), (14, 4), (32, 5), (2, 6), (7, 8)]\n",
    "print(sorted(numbers, key=lambda x : x[0])) # x[0]을 기준으로 오름차순 정렬\n",
    "print(sorted(numbers, key=lambda x : x[1])) # x[1]을 기준으로 오름차순 정렬"
   ]
  },
  {
   "cell_type": "code",
   "execution_count": 13,
   "id": "5e2a6fcb",
   "metadata": {},
   "outputs": [
    {
     "name": "stdout",
     "output_type": "stream",
     "text": [
      "[(32, 5), (14, 4), (13, 1), (7, 2), (7, 8), (2, 3), (2, 6), (1, 0)]\n",
      "[(1, 0), (2, 6), (2, 3), (7, 8), (7, 2), (13, 1), (14, 4), (32, 5)]\n"
     ]
    }
   ],
   "source": [
    "print(sorted(numbers, key=lambda x : -x[0])) # x[1]을 기준으로 내림차순 정렬 > x[0] 오름차순 정렬\n",
    "print(sorted(numbers, key=lambda x : (x[0], -x[1])))  # x[1]을 기준으로 오름차순 정렬 > x[0] 내림차순 정렬"
   ]
  },
  {
   "cell_type": "code",
   "execution_count": 7,
   "id": "06f69bb8",
   "metadata": {},
   "outputs": [
    {
     "name": "stdout",
     "output_type": "stream",
     "text": [
      "[('shopping', 8), ('lunch', 5), ('academy', 5), ('dinner', 4), ('dessert', 2), ('breakfast', 1)]\n"
     ]
    }
   ],
   "source": [
    "# 딕셔너리 정렬\n",
    "budget = {'breakfast' : 1, 'lunch' : 5 , 'shopping' : 8, 'dinner' : 4 , 'dessert' : 2, 'academy' : 5}\n",
    "print(sorted(budget.items(), key=lambda x : -x[1])) # item 값으로 정렬"
   ]
  },
  {
   "cell_type": "markdown",
   "id": "54f982ac",
   "metadata": {},
   "source": [
    "# heapq(우선순위 큐), deque(양방향 큐)\n",
    "---"
   ]
  },
  {
   "cell_type": "markdown",
   "id": "9d118c0e",
   "metadata": {},
   "source": [
    "### heapq / deque 모듈로 시간복잡도 최소화하기"
   ]
  },
  {
   "cell_type": "code",
   "execution_count": 24,
   "id": "7e187856",
   "metadata": {},
   "outputs": [
    {
     "name": "stdout",
     "output_type": "stream",
     "text": [
      "[4, 6, 5, 10]\n"
     ]
    }
   ],
   "source": [
    "import heapq\n",
    "heap = []\n",
    "heapq.heappush(heap, 10)\n",
    "heapq.heappush(heap, 4)\n",
    "heapq.heappush(heap, 5)\n",
    "heapq.heappush(heap, 6)\n",
    "\n",
    "print(heap) # push 하면서 힙 구조로 인덱스를 정렬"
   ]
  },
  {
   "cell_type": "code",
   "execution_count": 25,
   "id": "4afa66b3",
   "metadata": {},
   "outputs": [
    {
     "name": "stdout",
     "output_type": "stream",
     "text": [
      "[4, 6, 5, 10]\n"
     ]
    }
   ],
   "source": [
    "heapq.heapify(heap)\n",
    "print(heap) # heappush 1번 했을 때의 효과"
   ]
  },
  {
   "cell_type": "code",
   "execution_count": 26,
   "id": "fff7f233",
   "metadata": {},
   "outputs": [
    {
     "name": "stdout",
     "output_type": "stream",
     "text": [
      "꺼낸 값 : 4, heap : [5, 6, 10]\n",
      "꺼낸 값 : 5, heap : [6, 10]\n"
     ]
    }
   ],
   "source": [
    "m = heapq.heappop(heap) # 최솟값을 꺼냄, 힙 구조로 정렬\n",
    "print(f'꺼낸 값 : {m}, heap : {heap}')\n",
    "m = heapq.heappop(heap) \n",
    "print(f'꺼낸 값 : {m}, heap : {heap}')"
   ]
  },
  {
   "cell_type": "markdown",
   "id": "8595d01c",
   "metadata": {},
   "source": [
    "### deque 모듈\n",
    "- 리스트 연산 0(n) / 데크 연산 0(1)"
   ]
  },
  {
   "cell_type": "code",
   "execution_count": 2,
   "id": "2751cce2",
   "metadata": {},
   "outputs": [
    {
     "data": {
      "text/plain": [
       "2"
      ]
     },
     "execution_count": 2,
     "metadata": {},
     "output_type": "execute_result"
    }
   ],
   "source": [
    "from collections import deque\n",
    "\n",
    "deq = deque()\n",
    "\n",
    "# 왼쪽 끝에 삽입\n",
    "deq.appendleft(5)\n",
    "\n",
    "# 오른쪽 끝에 삽입\n",
    "deq.append(2)\n",
    "\n",
    "# 왼쪽 끝 pop\n",
    "deq.popleft()\n",
    "\n",
    "# 오른쪽 끝 pop\n",
    "deq.pop()"
   ]
  },
  {
   "cell_type": "code",
   "execution_count": 3,
   "id": "d2adf9a8",
   "metadata": {},
   "outputs": [
    {
     "name": "stdout",
     "output_type": "stream",
     "text": [
      "deque([5, 1, 2, 3, 4])\n",
      "deque([1, 2, 3, 4, 5])\n"
     ]
    }
   ],
   "source": [
    "deq = deque([1,2,3,4,5])\n",
    "\n",
    "# 좌우 회전 rotate\n",
    "deq.rotate(1)\n",
    "print(deq)\n",
    "\n",
    "deq.rotate(-1)\n",
    "print(deq)"
   ]
  },
  {
   "cell_type": "code",
   "execution_count": null,
   "id": "d4bdd698",
   "metadata": {},
   "outputs": [],
   "source": []
  },
  {
   "cell_type": "markdown",
   "id": "53996b70",
   "metadata": {},
   "source": [
    "# 파일 읽고 쓰기\n",
    "---\n",
    "1. mode = 'r(read)', 'w(write)', 'a(append), +(update) ..'\n",
    "- r : 파일이 없을 경우 error\n",
    "- w : 파일이 있을 경우 덮어씌움, 없을 경우 생성\n",
    "- a : 파일이 있을 경우 끝에서부터 내용 추가\n",
    "-　+ : r, w, a 뒤에 붙이면 update 가능\n",
    "- t : text 모드, b : binary 모드\n",
    "2. encoding = 'utf8 ..'"
   ]
  },
  {
   "cell_type": "code",
   "execution_count": 58,
   "id": "9319dcc1",
   "metadata": {},
   "outputs": [],
   "source": [
    "# write \n",
    "f = open('./test.txt', 'w')\n",
    "f.write('안녕하세요\\n')\n",
    "f.write('안녕히가세요\\n')\n",
    "f.close()"
   ]
  },
  {
   "cell_type": "code",
   "execution_count": 59,
   "id": "3f35fbf9",
   "metadata": {},
   "outputs": [
    {
     "name": "stdout",
     "output_type": "stream",
     "text": [
      "['안녕하세요\\n', '안녕히가세요\\n']\n",
      "안녕하세요\n",
      "안녕히가세요\n",
      "\n"
     ]
    }
   ],
   "source": [
    "# read\n",
    "f = open('./test.txt', 'r')\n",
    "lines = f.readlines()\n",
    "print(lines)\n",
    "print(''.join([l for l in lines]))\n",
    "f.close()"
   ]
  },
  {
   "cell_type": "code",
   "execution_count": 60,
   "id": "be33e178",
   "metadata": {},
   "outputs": [],
   "source": [
    "# append\n",
    "f = open('./test.txt', 'a')\n",
    "f.write('마지막 줄에 내용을 추가합니다')\n",
    "f.close()"
   ]
  },
  {
   "cell_type": "code",
   "execution_count": 61,
   "id": "dec4110c",
   "metadata": {},
   "outputs": [
    {
     "name": "stdout",
     "output_type": "stream",
     "text": [
      "['안녕하세요\\n', '안녕히가세요\\n', '마지막 줄에 내용을 추가합니다']\n"
     ]
    }
   ],
   "source": [
    "# read\n",
    "f = open('./test.txt', 'r')\n",
    "lines = f.readlines()\n",
    "print(lines)\n",
    "f.close()"
   ]
  },
  {
   "cell_type": "code",
   "execution_count": null,
   "id": "f3436e1a",
   "metadata": {},
   "outputs": [],
   "source": []
  },
  {
   "cell_type": "code",
   "execution_count": null,
   "id": "4dd7be5c",
   "metadata": {},
   "outputs": [],
   "source": []
  },
  {
   "cell_type": "markdown",
   "id": "49774489",
   "metadata": {},
   "source": [
    "# Pandas, DataFrame "
   ]
  },
  {
   "cell_type": "code",
   "execution_count": null,
   "id": "50c133c4",
   "metadata": {},
   "outputs": [],
   "source": [
    "import pandas as pd\n",
    "\n",
    "# float 형 -> 소숫점 N자리까지 표기 / 쉼표도 표기\n",
    "pd.set_option('display.float_format', '{:,.3f}'.format)\n",
    "\n",
    "# 기본 셋팅으로 돌아오기\n",
    "# pd.set_option('display.float_format', None) "
   ]
  },
  {
   "cell_type": "code",
   "execution_count": null,
   "id": "42918d66",
   "metadata": {},
   "outputs": [],
   "source": []
  },
  {
   "cell_type": "code",
   "execution_count": null,
   "id": "c0ef85c5",
   "metadata": {},
   "outputs": [],
   "source": []
  },
  {
   "cell_type": "code",
   "execution_count": null,
   "id": "0f8bec4f",
   "metadata": {},
   "outputs": [],
   "source": []
  },
  {
   "cell_type": "markdown",
   "id": "9d57c92e",
   "metadata": {},
   "source": [
    "# Recursive function"
   ]
  },
  {
   "cell_type": "code",
   "execution_count": 1,
   "id": "d3aefd6b",
   "metadata": {},
   "outputs": [
    {
     "name": "stdout",
     "output_type": "stream",
     "text": [
      "1번째 재귀 함수에서 2번째 재귀함수 호출\n",
      "2번째 재귀 함수에서 3번째 재귀함수 호출\n",
      "3번째 재귀 함수에서 4번째 재귀함수 호출\n",
      "4번째 재귀 함수에서 5번째 재귀함수 호출\n",
      "5번째 재귀 함수에서 6번째 재귀함수 호출\n",
      "6번째 재귀 함수에서 7번째 재귀함수 호출\n",
      "7번째 재귀 함수에서 8번째 재귀함수 호출\n",
      "8번째 재귀 함수에서 9번째 재귀함수 호출\n",
      "9번째 재귀 함수에서 10번째 재귀함수 호출\n",
      "10번째 재귀 함수에서 11번째 재귀함수 호출\n",
      "11번째 재귀 함수에서 12번째 재귀함수 호출\n",
      "12번째 재귀 함수에서 13번째 재귀함수 호출\n",
      "13번째 재귀 함수에서 14번째 재귀함수 호출\n",
      "14번째 재귀 함수에서 15번째 재귀함수 호출\n",
      "15번째 재귀 함수에서 16번째 재귀함수 호출\n",
      "16번째 재귀 함수에서 17번째 재귀함수 호출\n",
      "17번째 재귀 함수에서 18번째 재귀함수 호출\n",
      "18번째 재귀 함수에서 19번째 재귀함수 호출\n",
      "19번째 재귀 함수에서 20번째 재귀함수 호출\n",
      "20번째 재귀 함수에서 21번째 재귀함수 호출\n",
      "21번째 재귀 함수에서 22번째 재귀함수 호출\n",
      "22번째 재귀 함수에서 23번째 재귀함수 호출\n",
      "23번째 재귀 함수에서 24번째 재귀함수 호출\n",
      "24번째 재귀 함수에서 25번째 재귀함수 호출\n",
      "25번째 재귀 함수에서 26번째 재귀함수 호출\n",
      "26번째 재귀 함수에서 27번째 재귀함수 호출\n",
      "27번째 재귀 함수에서 28번째 재귀함수 호출\n",
      "28번째 재귀 함수에서 29번째 재귀함수 호출\n",
      "29번째 재귀 함수에서 30번째 재귀함수 호출\n",
      "30번째 재귀 함수에서 31번째 재귀함수 호출\n",
      "31번째 재귀 함수에서 32번째 재귀함수 호출\n",
      "32번째 재귀 함수에서 33번째 재귀함수 호출\n",
      "33번째 재귀 함수에서 34번째 재귀함수 호출\n",
      "34번째 재귀 함수에서 35번째 재귀함수 호출\n",
      "35번째 재귀 함수에서 36번째 재귀함수 호출\n",
      "36번째 재귀 함수에서 37번째 재귀함수 호출\n",
      "37번째 재귀 함수에서 38번째 재귀함수 호출\n",
      "38번째 재귀 함수에서 39번째 재귀함수 호출\n",
      "39번째 재귀 함수에서 40번째 재귀함수 호출\n",
      "40번째 재귀 함수에서 41번째 재귀함수 호출\n",
      "41번째 재귀 함수에서 42번째 재귀함수 호출\n",
      "42번째 재귀 함수에서 43번째 재귀함수 호출\n",
      "43번째 재귀 함수에서 44번째 재귀함수 호출\n",
      "44번째 재귀 함수에서 45번째 재귀함수 호출\n",
      "45번째 재귀 함수에서 46번째 재귀함수 호출\n",
      "46번째 재귀 함수에서 47번째 재귀함수 호출\n",
      "47번째 재귀 함수에서 48번째 재귀함수 호출\n",
      "48번째 재귀 함수에서 49번째 재귀함수 호출\n",
      "49번째 재귀 함수에서 50번째 재귀함수 호출\n",
      "50번째 재귀 함수에서 51번째 재귀함수 호출\n",
      "51번째 재귀 함수에서 52번째 재귀함수 호출\n",
      "52번째 재귀 함수에서 53번째 재귀함수 호출\n",
      "53번째 재귀 함수에서 54번째 재귀함수 호출\n",
      "54번째 재귀 함수에서 55번째 재귀함수 호출\n",
      "55번째 재귀 함수에서 56번째 재귀함수 호출\n",
      "56번째 재귀 함수에서 57번째 재귀함수 호출\n",
      "57번째 재귀 함수에서 58번째 재귀함수 호출\n",
      "58번째 재귀 함수에서 59번째 재귀함수 호출\n",
      "59번째 재귀 함수에서 60번째 재귀함수 호출\n",
      "60번째 재귀 함수에서 61번째 재귀함수 호출\n",
      "61번째 재귀 함수에서 62번째 재귀함수 호출\n",
      "62번째 재귀 함수에서 63번째 재귀함수 호출\n",
      "63번째 재귀 함수에서 64번째 재귀함수 호출\n",
      "64번째 재귀 함수에서 65번째 재귀함수 호출\n",
      "65번째 재귀 함수에서 66번째 재귀함수 호출\n",
      "66번째 재귀 함수에서 67번째 재귀함수 호출\n",
      "67번째 재귀 함수에서 68번째 재귀함수 호출\n",
      "68번째 재귀 함수에서 69번째 재귀함수 호출\n",
      "69번째 재귀 함수에서 70번째 재귀함수 호출\n",
      "70번째 재귀 함수에서 71번째 재귀함수 호출\n",
      "71번째 재귀 함수에서 72번째 재귀함수 호출\n",
      "72번째 재귀 함수에서 73번째 재귀함수 호출\n",
      "73번째 재귀 함수에서 74번째 재귀함수 호출\n",
      "74번째 재귀 함수에서 75번째 재귀함수 호출\n",
      "75번째 재귀 함수에서 76번째 재귀함수 호출\n",
      "76번째 재귀 함수에서 77번째 재귀함수 호출\n",
      "77번째 재귀 함수에서 78번째 재귀함수 호출\n",
      "78번째 재귀 함수에서 79번째 재귀함수 호출\n",
      "79번째 재귀 함수에서 80번째 재귀함수 호출\n",
      "80번째 재귀 함수에서 81번째 재귀함수 호출\n",
      "81번째 재귀 함수에서 82번째 재귀함수 호출\n",
      "82번째 재귀 함수에서 83번째 재귀함수 호출\n",
      "83번째 재귀 함수에서 84번째 재귀함수 호출\n",
      "84번째 재귀 함수에서 85번째 재귀함수 호출\n",
      "85번째 재귀 함수에서 86번째 재귀함수 호출\n",
      "86번째 재귀 함수에서 87번째 재귀함수 호출\n",
      "87번째 재귀 함수에서 88번째 재귀함수 호출\n",
      "88번째 재귀 함수에서 89번째 재귀함수 호출\n",
      "89번째 재귀 함수에서 90번째 재귀함수 호출\n",
      "90번째 재귀 함수에서 91번째 재귀함수 호출\n",
      "91번째 재귀 함수에서 92번째 재귀함수 호출\n",
      "92번째 재귀 함수에서 93번째 재귀함수 호출\n",
      "93번째 재귀 함수에서 94번째 재귀함수 호출\n",
      "94번째 재귀 함수에서 95번째 재귀함수 호출\n",
      "95번째 재귀 함수에서 96번째 재귀함수 호출\n",
      "96번째 재귀 함수에서 97번째 재귀함수 호출\n",
      "97번째 재귀 함수에서 98번째 재귀함수 호출\n",
      "98번째 재귀 함수에서 99번째 재귀함수 호출\n",
      "99번째 재귀 함수에서 100번째 재귀함수 호출\n",
      "99번째 재귀함수 종료!\n",
      "98번째 재귀함수 종료!\n",
      "97번째 재귀함수 종료!\n",
      "96번째 재귀함수 종료!\n",
      "95번째 재귀함수 종료!\n",
      "94번째 재귀함수 종료!\n",
      "93번째 재귀함수 종료!\n",
      "92번째 재귀함수 종료!\n",
      "91번째 재귀함수 종료!\n",
      "90번째 재귀함수 종료!\n",
      "89번째 재귀함수 종료!\n",
      "88번째 재귀함수 종료!\n",
      "87번째 재귀함수 종료!\n",
      "86번째 재귀함수 종료!\n",
      "85번째 재귀함수 종료!\n",
      "84번째 재귀함수 종료!\n",
      "83번째 재귀함수 종료!\n",
      "82번째 재귀함수 종료!\n",
      "81번째 재귀함수 종료!\n",
      "80번째 재귀함수 종료!\n",
      "79번째 재귀함수 종료!\n",
      "78번째 재귀함수 종료!\n",
      "77번째 재귀함수 종료!\n",
      "76번째 재귀함수 종료!\n",
      "75번째 재귀함수 종료!\n",
      "74번째 재귀함수 종료!\n",
      "73번째 재귀함수 종료!\n",
      "72번째 재귀함수 종료!\n",
      "71번째 재귀함수 종료!\n",
      "70번째 재귀함수 종료!\n",
      "69번째 재귀함수 종료!\n",
      "68번째 재귀함수 종료!\n",
      "67번째 재귀함수 종료!\n",
      "66번째 재귀함수 종료!\n",
      "65번째 재귀함수 종료!\n",
      "64번째 재귀함수 종료!\n",
      "63번째 재귀함수 종료!\n",
      "62번째 재귀함수 종료!\n",
      "61번째 재귀함수 종료!\n",
      "60번째 재귀함수 종료!\n",
      "59번째 재귀함수 종료!\n",
      "58번째 재귀함수 종료!\n",
      "57번째 재귀함수 종료!\n",
      "56번째 재귀함수 종료!\n",
      "55번째 재귀함수 종료!\n",
      "54번째 재귀함수 종료!\n",
      "53번째 재귀함수 종료!\n",
      "52번째 재귀함수 종료!\n",
      "51번째 재귀함수 종료!\n",
      "50번째 재귀함수 종료!\n",
      "49번째 재귀함수 종료!\n",
      "48번째 재귀함수 종료!\n",
      "47번째 재귀함수 종료!\n",
      "46번째 재귀함수 종료!\n",
      "45번째 재귀함수 종료!\n",
      "44번째 재귀함수 종료!\n",
      "43번째 재귀함수 종료!\n",
      "42번째 재귀함수 종료!\n",
      "41번째 재귀함수 종료!\n",
      "40번째 재귀함수 종료!\n",
      "39번째 재귀함수 종료!\n",
      "38번째 재귀함수 종료!\n",
      "37번째 재귀함수 종료!\n",
      "36번째 재귀함수 종료!\n",
      "35번째 재귀함수 종료!\n",
      "34번째 재귀함수 종료!\n",
      "33번째 재귀함수 종료!\n",
      "32번째 재귀함수 종료!\n",
      "31번째 재귀함수 종료!\n",
      "30번째 재귀함수 종료!\n",
      "29번째 재귀함수 종료!\n",
      "28번째 재귀함수 종료!\n",
      "27번째 재귀함수 종료!\n",
      "26번째 재귀함수 종료!\n",
      "25번째 재귀함수 종료!\n",
      "24번째 재귀함수 종료!\n",
      "23번째 재귀함수 종료!\n",
      "22번째 재귀함수 종료!\n",
      "21번째 재귀함수 종료!\n",
      "20번째 재귀함수 종료!\n",
      "19번째 재귀함수 종료!\n",
      "18번째 재귀함수 종료!\n",
      "17번째 재귀함수 종료!\n",
      "16번째 재귀함수 종료!\n",
      "15번째 재귀함수 종료!\n",
      "14번째 재귀함수 종료!\n",
      "13번째 재귀함수 종료!\n",
      "12번째 재귀함수 종료!\n",
      "11번째 재귀함수 종료!\n",
      "10번째 재귀함수 종료!\n",
      "9번째 재귀함수 종료!\n",
      "8번째 재귀함수 종료!\n",
      "7번째 재귀함수 종료!\n",
      "6번째 재귀함수 종료!\n",
      "5번째 재귀함수 종료!\n",
      "4번째 재귀함수 종료!\n",
      "3번째 재귀함수 종료!\n",
      "2번째 재귀함수 종료!\n",
      "1번째 재귀함수 종료!\n"
     ]
    }
   ],
   "source": [
    "def recursive_function(i) :\n",
    "    # 100번째 출력 했을 때 종료\n",
    "    if i == 100 :\n",
    "        return\n",
    "    print(f'{i}번째 재귀 함수에서 {i+1}번째 재귀함수 호출')\n",
    "    recursive_function(i+1)\n",
    "    print(f'{i}번째 재귀함수 종료!')\n",
    "    \n",
    "recursive_function(1)"
   ]
  },
  {
   "cell_type": "code",
   "execution_count": 3,
   "id": "df73146c",
   "metadata": {},
   "outputs": [
    {
     "data": {
      "text/plain": [
       "120"
      ]
     },
     "execution_count": 3,
     "metadata": {},
     "output_type": "execute_result"
    }
   ],
   "source": [
    "# 재귀적으로 factorial 구현\n",
    "def factorial_recursive(n) :\n",
    "    if n <= 1 :\n",
    "        return 1\n",
    "    return n * factorial_recursive(n - 1)\n",
    "\n",
    "factorial_recursive(5)"
   ]
  },
  {
   "cell_type": "code",
   "execution_count": null,
   "id": "ba9d8fdc",
   "metadata": {},
   "outputs": [],
   "source": []
  },
  {
   "cell_type": "markdown",
   "id": "5ae0db5d",
   "metadata": {},
   "source": [
    "# 날짜형 다루기(Datetime)"
   ]
  },
  {
   "cell_type": "code",
   "execution_count": 8,
   "id": "f2c962dd",
   "metadata": {
    "scrolled": true
   },
   "outputs": [
    {
     "data": {
      "text/plain": [
       "'2022-02-04 10:01:19.552124'"
      ]
     },
     "execution_count": 8,
     "metadata": {},
     "output_type": "execute_result"
    }
   ],
   "source": [
    "from datetime import datetime, timedelta\n",
    "# 오늘 날짜\n",
    "datetime.today()\n",
    "# 지금 현재 시간\n",
    "datetime.now()\n",
    "# string type을 datetime 형으로 변환\n",
    "datetime.strptime('2021-01-01 12:10:03.003','%Y-%m-%d %H:%M:%S.%f')\n",
    "# datetime을 string으로 변환\n",
    "datetime.strftime(datetime.today(), '%Y-%m-%d %H:%M:%S.%f')"
   ]
  },
  {
   "cell_type": "code",
   "execution_count": 16,
   "id": "b0d3aa3c",
   "metadata": {},
   "outputs": [
    {
     "name": "stdout",
     "output_type": "stream",
     "text": [
      "How old are you? : 9102 days, 10:04:23.072054\n"
     ]
    },
    {
     "data": {
      "text/plain": [
       "datetime.datetime(2022, 2, 4, 11, 4, 23, 72054)"
      ]
     },
     "execution_count": 16,
     "metadata": {},
     "output_type": "execute_result"
    }
   ],
   "source": [
    "# datetime, timedelta 연산\n",
    "my_birthday = datetime(1997, 3, 5)\n",
    "now = datetime.now()\n",
    "print('How old are you? :',now - my_birthday)\n",
    "\n",
    "# 지금으로부터 10일 전\n",
    "now - timedelta(days=10)\n",
    "# 지금으로부터 1시간 후\n",
    "now + timedelta(hours=1)\n",
    "# --> 분, 초 등 계산 가능. year 단위로는 불가능. \n",
    "# (days=0, seconds=0, microseconds=0, milliseconds=0, minutes=0, hours=0, weeks=0)"
   ]
  },
  {
   "cell_type": "code",
   "execution_count": null,
   "id": "e8141c1d",
   "metadata": {},
   "outputs": [],
   "source": []
  },
  {
   "cell_type": "markdown",
   "id": "2a76a1f7",
   "metadata": {},
   "source": [
    "# 판다스 "
   ]
  },
  {
   "cell_type": "markdown",
   "id": "4f966b8f",
   "metadata": {},
   "source": [
    "---"
   ]
  },
  {
   "cell_type": "code",
   "execution_count": null,
   "id": "f52b989f",
   "metadata": {},
   "outputs": [],
   "source": [
    "import pandas as pd\n",
    "pd.set_option('display.max_colwidth', -1) # 출력 폭 최대화"
   ]
  },
  {
   "cell_type": "code",
   "execution_count": null,
   "id": "1cf4eca0",
   "metadata": {},
   "outputs": [],
   "source": [
    "pd.options.display.float_format = '{:.5f}'.format # 지수를 실수로 표현\n",
    "pd.reset_option('display.float_format') # 설정 초기화"
   ]
  },
  {
   "cell_type": "markdown",
   "id": "018f63f4",
   "metadata": {},
   "source": [
    "# 기타\n",
    "--- "
   ]
  },
  {
   "cell_type": "code",
   "execution_count": null,
   "id": "53dae0c6",
   "metadata": {},
   "outputs": [],
   "source": [
    "%config Completer.use_jedi = False # tab 키 안먹을때"
   ]
  },
  {
   "cell_type": "code",
   "execution_count": 2,
   "id": "fd115c3a",
   "metadata": {},
   "outputs": [
    {
     "data": {
      "text/plain": [
       "-60"
      ]
     },
     "execution_count": 2,
     "metadata": {},
     "output_type": "execute_result"
    }
   ],
   "source": [
    "eval('100-20*(2+6)') # string형태 식을 연산해줌"
   ]
  },
  {
   "cell_type": "code",
   "execution_count": null,
   "id": "a801ca25",
   "metadata": {},
   "outputs": [],
   "source": []
  }
 ],
 "metadata": {
  "kernelspec": {
   "display_name": "yeseul",
   "language": "python",
   "name": "yeseul"
  },
  "language_info": {
   "codemirror_mode": {
    "name": "ipython",
    "version": 3
   },
   "file_extension": ".py",
   "mimetype": "text/x-python",
   "name": "python",
   "nbconvert_exporter": "python",
   "pygments_lexer": "ipython3",
   "version": "3.7.10"
  },
  "toc": {
   "base_numbering": 1,
   "nav_menu": {},
   "number_sections": true,
   "sideBar": true,
   "skip_h1_title": false,
   "title_cell": "Table of Contents",
   "title_sidebar": "Contents",
   "toc_cell": false,
   "toc_position": {},
   "toc_section_display": true,
   "toc_window_display": false
  }
 },
 "nbformat": 4,
 "nbformat_minor": 5
}
