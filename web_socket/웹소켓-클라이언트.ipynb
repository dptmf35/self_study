{
 "cells": [
  {
   "cell_type": "code",
   "execution_count": 3,
   "id": "7010f002",
   "metadata": {},
   "outputs": [
    {
     "name": "stdout",
     "output_type": "stream",
     "text": [
      "[소켓 생성완료]\n",
      "이름을 입력하세요정예슬임\n",
      "서버에 연결되었습니다\n"
     ]
    }
   ],
   "source": [
    "import socket\n",
    "server = socket.socket()\n",
    "print('[소켓 생성완료]')\n",
    "s_name = socket.gethostname()\n",
    "client = socket.socket()\n",
    "c_name = socket.gethostname()\n",
    "client.connect((s_name, 999))\n",
    "name = input(\"이름을 입력하세요\")\n",
    "client.send(bytes(name, 'utf-8'))\n",
    "print(client.recv(1024).decode())"
   ]
  },
  {
   "cell_type": "code",
   "execution_count": 4,
   "id": "212b0926",
   "metadata": {},
   "outputs": [
    {
     "name": "stdout",
     "output_type": "stream",
     "text": [
      ">>> 반가\n",
      "Sent from Server : '반가웡'\n",
      ">>> 나둥\n",
      "Sent from Server : '나두나두'\n",
      ">>> 안녕히 계세용~~\n",
      "Sent from Server : '가지마'\n",
      ">>> 취소할게?\n",
      "Sent from Server : '구랭'\n",
      ">>> ㅠㅠ\n",
      "Sent from Server : 'ㅠㅠㅠㅠㅠㅠㅠㅠㅠ'\n",
      ">>> 취소\n"
     ]
    }
   ],
   "source": [
    "import socket\n",
    "\n",
    "host = '127.0.0.1'\n",
    "port = 9999\n",
    "\n",
    "client_socket = socket.socket(socket.AF_INET, socket.SOCK_STREAM)\n",
    "client_socket.connect((host, port))\n",
    "\n",
    "while True :\n",
    "    message = input('>>> ')\n",
    "    if message == '취소' :\n",
    "        break\n",
    "    client_socket.send(message.encode())\n",
    "    data = client_socket.recv(1024)\n",
    "    print(f'Sent from Server : {repr(data.decode())}')\n",
    "    \n",
    "client_socket.close()"
   ]
  },
  {
   "cell_type": "code",
   "execution_count": null,
   "id": "a4db9b81",
   "metadata": {},
   "outputs": [],
   "source": []
  }
 ],
 "metadata": {
  "kernelspec": {
   "display_name": "yeseul",
   "language": "python",
   "name": "yeseul"
  },
  "language_info": {
   "codemirror_mode": {
    "name": "ipython",
    "version": 3
   },
   "file_extension": ".py",
   "mimetype": "text/x-python",
   "name": "python",
   "nbconvert_exporter": "python",
   "pygments_lexer": "ipython3",
   "version": "3.7.10"
  }
 },
 "nbformat": 4,
 "nbformat_minor": 5
}
