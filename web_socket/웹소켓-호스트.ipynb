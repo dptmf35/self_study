{
 "cells": [
  {
   "cell_type": "code",
   "execution_count": 4,
   "id": "c81a0790",
   "metadata": {},
   "outputs": [
    {
     "name": "stdout",
     "output_type": "stream",
     "text": [
      "-- Run Main --\n",
      "making Americano . . .\n",
      "making Ade . . .\n",
      "Americano finished !\n",
      "Ade finished !\n",
      "-- End Main\n"
     ]
    }
   ],
   "source": [
    "import asyncio\n",
    "async def make_ame():\n",
    "    print('making Americano . . .')\n",
    "    await asyncio.sleep(3)\n",
    "    print('Americano finished !')\n",
    "\n",
    "async def make_ade():\n",
    "    print('making Ade . . .')\n",
    "    await asyncio.sleep(3)\n",
    "    print('Ade finished !')\n",
    "\n",
    "async def main() :\n",
    "    d1 = make_ame()\n",
    "    d2 = make_ade()\n",
    "    await asyncio.gather(d1, d2)\n",
    "    \n",
    "\n",
    "print('-- Run Main --')\n",
    "await main() # jupyter\n",
    "# asyncio.run(main())\n",
    "print('-- End Main')"
   ]
  },
  {
   "cell_type": "code",
   "execution_count": 8,
   "id": "8b21b03a",
   "metadata": {
    "collapsed": true
   },
   "outputs": [
    {
     "name": "stdout",
     "output_type": "stream",
     "text": [
      "{\"status\":\"0000\",\"resmsg\":\"Connected Successfully\"}\n",
      "{'status': '0000', 'resmsg': 'Filter Registered Successfully'}\n",
      "{'type': 'ticker', 'content': {'tickType': '1H', 'date': '20211220', 'time': '143659', 'openPrice': '57969000', 'closePrice': '57903000', 'lowPrice': '57901000', 'highPrice': '58193000', 'value': '4111355687.75013', 'volume': '70.84608344', 'sellVolume': '30.13314041', 'buyVolume': '40.71294303', 'prevClosePrice': '58830000', 'chgRate': '-0.11', 'chgAmt': '-66000', 'volumePower': '135.11', 'symbol': 'BTC_KRW'}}\n",
      "{'type': 'ticker', 'content': {'tickType': '1H', 'date': '20211220', 'time': '143700', 'openPrice': '57969000', 'closePrice': '57903000', 'lowPrice': '57901000', 'highPrice': '58193000', 'value': '4112803262.75013', 'volume': '70.87108344', 'sellVolume': '30.15814041', 'buyVolume': '40.71294303', 'prevClosePrice': '58830000', 'chgRate': '-0.11', 'chgAmt': '-66000', 'volumePower': '135', 'symbol': 'BTC_KRW'}}\n",
      "{'type': 'ticker', 'content': {'tickType': '1H', 'date': '20211220', 'time': '143701', 'openPrice': '58003000', 'closePrice': '57941000', 'lowPrice': '57901000', 'highPrice': '58193000', 'value': '4111881544.45013', 'volume': '70.85518344', 'sellVolume': '30.14184041', 'buyVolume': '40.71334303', 'prevClosePrice': '58830000', 'chgRate': '-0.11', 'chgAmt': '-62000', 'volumePower': '135.07', 'symbol': 'BTC_KRW'}}\n",
      "{'type': 'ticker', 'content': {'tickType': '1H', 'date': '20211220', 'time': '143702', 'openPrice': '58003000', 'closePrice': '57941000', 'lowPrice': '57901000', 'highPrice': '58193000', 'value': '4113560883.45013', 'volume': '70.88418344', 'sellVolume': '30.16684041', 'buyVolume': '40.71734303', 'prevClosePrice': '58830000', 'chgRate': '-0.11', 'chgAmt': '-62000', 'volumePower': '134.97', 'symbol': 'BTC_KRW'}}\n",
      "{'type': 'ticker', 'content': {'tickType': '1H', 'date': '20211220', 'time': '143707', 'openPrice': '57969000', 'closePrice': '57903000', 'lowPrice': '57901000', 'highPrice': '58193000', 'value': '4114323936.25013', 'volume': '70.89738344', 'sellVolume': '30.18574041', 'buyVolume': '40.71164303', 'prevClosePrice': '58830000', 'chgRate': '-0.11', 'chgAmt': '-66000', 'volumePower': '134.87', 'symbol': 'BTC_KRW'}}\n",
      "{'type': 'ticker', 'content': {'tickType': '1H', 'date': '20211220', 'time': '143710', 'openPrice': '57969000', 'closePrice': '57938000', 'lowPrice': '57901000', 'highPrice': '58193000', 'value': '4115378936.24469', 'volume': '70.91559256', 'sellVolume': '30.18574041', 'buyVolume': '40.72985215', 'prevClosePrice': '58830000', 'chgRate': '-0.05', 'chgAmt': '-31000', 'volumePower': '134.93', 'symbol': 'BTC_KRW'}}\n",
      "{'type': 'ticker', 'content': {'tickType': '1H', 'date': '20211220', 'time': '143711', 'openPrice': '57969000', 'closePrice': '57903000', 'lowPrice': '57901000', 'highPrice': '58193000', 'value': '4116235900.64469', 'volume': '70.93039256', 'sellVolume': '30.20054041', 'buyVolume': '40.72985215', 'prevClosePrice': '58830000', 'chgRate': '-0.11', 'chgAmt': '-66000', 'volumePower': '134.86', 'symbol': 'BTC_KRW'}}\n",
      "{'type': 'ticker', 'content': {'tickType': '1H', 'date': '20211220', 'time': '143713', 'openPrice': '57969000', 'closePrice': '57903000', 'lowPrice': '57901000', 'highPrice': '58193000', 'value': '4118636023.94469', 'volume': '70.97189256', 'sellVolume': '30.24204041', 'buyVolume': '40.72985215', 'prevClosePrice': '58830000', 'chgRate': '-0.11', 'chgAmt': '-66000', 'volumePower': '134.68', 'symbol': 'BTC_KRW'}}\n",
      "{'type': 'ticker', 'content': {'tickType': '1H', 'date': '20211220', 'time': '143714', 'openPrice': '57969000', 'closePrice': '57897000', 'lowPrice': '57897000', 'highPrice': '58193000', 'value': '4158674170.84469', 'volume': '71.66339256', 'sellVolume': '30.93354041', 'buyVolume': '40.72985215', 'prevClosePrice': '58830000', 'chgRate': '-0.12', 'chgAmt': '-72000', 'volumePower': '131.67', 'symbol': 'BTC_KRW'}}\n",
      "{'type': 'ticker', 'content': {'tickType': '1H', 'date': '20211220', 'time': '143715', 'openPrice': '57969000', 'closePrice': '57943000', 'lowPrice': '57897000', 'highPrice': '58193000', 'value': '4159055542.84469', 'volume': '71.66999256', 'sellVolume': '30.89884041', 'buyVolume': '40.77115215', 'prevClosePrice': '58830000', 'chgRate': '-0.04', 'chgAmt': '-26000', 'volumePower': '131.95', 'symbol': 'BTC_KRW'}}\n",
      "{'type': 'ticker', 'content': {'tickType': '1H', 'date': '20211220', 'time': '143720', 'openPrice': '57969000', 'closePrice': '57945000', 'lowPrice': '57897000', 'highPrice': '58193000', 'value': '4149101571.94469', 'volume': '71.49829256', 'sellVolume': '30.89884041', 'buyVolume': '40.59945215', 'prevClosePrice': '58830000', 'chgRate': '-0.04', 'chgAmt': '-24000', 'volumePower': '131.39', 'symbol': 'BTC_KRW'}}\n",
      "{'type': 'ticker', 'content': {'tickType': '1H', 'date': '20211220', 'time': '143722', 'openPrice': '57969000', 'closePrice': '57945000', 'lowPrice': '57897000', 'highPrice': '58193000', 'value': '4148956649.44469', 'volume': '71.49579256', 'sellVolume': '30.89884041', 'buyVolume': '40.59695215', 'prevClosePrice': '58830000', 'chgRate': '-0.04', 'chgAmt': '-24000', 'volumePower': '131.39', 'symbol': 'BTC_KRW'}}\n",
      "{'type': 'ticker', 'content': {'tickType': '1H', 'date': '20211220', 'time': '143725', 'openPrice': '57967000', 'closePrice': '57945000', 'lowPrice': '57897000', 'highPrice': '58193000', 'value': '4148811726.94469', 'volume': '71.49329256', 'sellVolume': '30.89884041', 'buyVolume': '40.59445215', 'prevClosePrice': '58830000', 'chgRate': '-0.04', 'chgAmt': '-22000', 'volumePower': '131.38', 'symbol': 'BTC_KRW'}}\n"
     ]
    },
    {
     "ename": "CancelledError",
     "evalue": "",
     "output_type": "error",
     "traceback": [
      "\u001b[1;31m---------------------------------------------------------------------------\u001b[0m",
      "\u001b[1;31mCancelledError\u001b[0m                            Traceback (most recent call last)",
      "\u001b[1;32m<ipython-input-8-a713ca2efb7b>\u001b[0m in \u001b[0;36masync-def-wrapper\u001b[1;34m()\u001b[0m\n",
      "\u001b[1;32m<ipython-input-8-a713ca2efb7b>\u001b[0m in \u001b[0;36mmain\u001b[1;34m()\u001b[0m\n\u001b[0;32m     29\u001b[0m \u001b[1;33m\u001b[0m\u001b[0m\n\u001b[0;32m     30\u001b[0m \u001b[1;32mawait\u001b[0m \u001b[0mmain\u001b[0m\u001b[1;33m(\u001b[0m\u001b[1;33m)\u001b[0m\u001b[1;33m\u001b[0m\u001b[1;33m\u001b[0m\u001b[0m\n",
      "\u001b[1;32m<ipython-input-8-a713ca2efb7b>\u001b[0m in \u001b[0;36mbithum_ws_client\u001b[1;34m()\u001b[0m\n\u001b[0;32m     24\u001b[0m             \u001b[0mdata\u001b[0m \u001b[1;33m=\u001b[0m \u001b[0mjson\u001b[0m\u001b[1;33m.\u001b[0m\u001b[0mloads\u001b[0m\u001b[1;33m(\u001b[0m\u001b[0mdata\u001b[0m\u001b[1;33m)\u001b[0m\u001b[1;33m\u001b[0m\u001b[1;33m\u001b[0m\u001b[0m\n\u001b[0;32m     25\u001b[0m             \u001b[0mprint\u001b[0m\u001b[1;33m(\u001b[0m\u001b[0mdata\u001b[0m\u001b[1;33m)\u001b[0m\u001b[1;33m\u001b[0m\u001b[1;33m\u001b[0m\u001b[0m\n\u001b[1;32m---> 26\u001b[1;33m \u001b[1;33m\u001b[0m\u001b[0m\n\u001b[0m\u001b[0;32m     27\u001b[0m \u001b[1;32masync\u001b[0m \u001b[1;32mdef\u001b[0m \u001b[0mmain\u001b[0m\u001b[1;33m(\u001b[0m\u001b[1;33m)\u001b[0m \u001b[1;33m:\u001b[0m\u001b[1;33m\u001b[0m\u001b[1;33m\u001b[0m\u001b[0m\n\u001b[0;32m     28\u001b[0m     \u001b[1;32mawait\u001b[0m \u001b[0mbithum_ws_client\u001b[0m\u001b[1;33m(\u001b[0m\u001b[1;33m)\u001b[0m\u001b[1;33m\u001b[0m\u001b[1;33m\u001b[0m\u001b[0m\n",
      "\u001b[1;32m~\\anaconda3\\envs\\yeseul\\lib\\site-packages\\websockets\\legacy\\protocol.py\u001b[0m in \u001b[0;36mrecv\u001b[1;34m(self)\u001b[0m\n\u001b[0;32m    536\u001b[0m                     \u001b[1;33m[\u001b[0m\u001b[0mpop_message_waiter\u001b[0m\u001b[1;33m,\u001b[0m \u001b[0mself\u001b[0m\u001b[1;33m.\u001b[0m\u001b[0mtransfer_data_task\u001b[0m\u001b[1;33m]\u001b[0m\u001b[1;33m,\u001b[0m\u001b[1;33m\u001b[0m\u001b[1;33m\u001b[0m\u001b[0m\n\u001b[0;32m    537\u001b[0m                     \u001b[0mreturn_when\u001b[0m\u001b[1;33m=\u001b[0m\u001b[0masyncio\u001b[0m\u001b[1;33m.\u001b[0m\u001b[0mFIRST_COMPLETED\u001b[0m\u001b[1;33m,\u001b[0m\u001b[1;33m\u001b[0m\u001b[1;33m\u001b[0m\u001b[0m\n\u001b[1;32m--> 538\u001b[1;33m                     \u001b[1;33m**\u001b[0m\u001b[0mloop_if_py_lt_38\u001b[0m\u001b[1;33m(\u001b[0m\u001b[0mself\u001b[0m\u001b[1;33m.\u001b[0m\u001b[0mloop\u001b[0m\u001b[1;33m)\u001b[0m\u001b[1;33m,\u001b[0m\u001b[1;33m\u001b[0m\u001b[1;33m\u001b[0m\u001b[0m\n\u001b[0m\u001b[0;32m    539\u001b[0m                 )\n\u001b[0;32m    540\u001b[0m             \u001b[1;32mfinally\u001b[0m\u001b[1;33m:\u001b[0m\u001b[1;33m\u001b[0m\u001b[1;33m\u001b[0m\u001b[0m\n",
      "\u001b[1;32m~\\anaconda3\\envs\\yeseul\\lib\\asyncio\\tasks.py\u001b[0m in \u001b[0;36mwait\u001b[1;34m(fs, loop, timeout, return_when)\u001b[0m\n\u001b[0;32m    387\u001b[0m     \u001b[0mfs\u001b[0m \u001b[1;33m=\u001b[0m \u001b[1;33m{\u001b[0m\u001b[0mensure_future\u001b[0m\u001b[1;33m(\u001b[0m\u001b[0mf\u001b[0m\u001b[1;33m,\u001b[0m \u001b[0mloop\u001b[0m\u001b[1;33m=\u001b[0m\u001b[0mloop\u001b[0m\u001b[1;33m)\u001b[0m \u001b[1;32mfor\u001b[0m \u001b[0mf\u001b[0m \u001b[1;32min\u001b[0m \u001b[0mset\u001b[0m\u001b[1;33m(\u001b[0m\u001b[0mfs\u001b[0m\u001b[1;33m)\u001b[0m\u001b[1;33m}\u001b[0m\u001b[1;33m\u001b[0m\u001b[1;33m\u001b[0m\u001b[0m\n\u001b[0;32m    388\u001b[0m \u001b[1;33m\u001b[0m\u001b[0m\n\u001b[1;32m--> 389\u001b[1;33m     \u001b[1;32mreturn\u001b[0m \u001b[1;32mawait\u001b[0m \u001b[0m_wait\u001b[0m\u001b[1;33m(\u001b[0m\u001b[0mfs\u001b[0m\u001b[1;33m,\u001b[0m \u001b[0mtimeout\u001b[0m\u001b[1;33m,\u001b[0m \u001b[0mreturn_when\u001b[0m\u001b[1;33m,\u001b[0m \u001b[0mloop\u001b[0m\u001b[1;33m)\u001b[0m\u001b[1;33m\u001b[0m\u001b[1;33m\u001b[0m\u001b[0m\n\u001b[0m\u001b[0;32m    390\u001b[0m \u001b[1;33m\u001b[0m\u001b[0m\n\u001b[0;32m    391\u001b[0m \u001b[1;33m\u001b[0m\u001b[0m\n",
      "\u001b[1;32m~\\anaconda3\\envs\\yeseul\\lib\\asyncio\\tasks.py\u001b[0m in \u001b[0;36m_wait\u001b[1;34m(fs, timeout, return_when, loop)\u001b[0m\n\u001b[0;32m    480\u001b[0m \u001b[1;33m\u001b[0m\u001b[0m\n\u001b[0;32m    481\u001b[0m     \u001b[1;32mtry\u001b[0m\u001b[1;33m:\u001b[0m\u001b[1;33m\u001b[0m\u001b[1;33m\u001b[0m\u001b[0m\n\u001b[1;32m--> 482\u001b[1;33m         \u001b[1;32mawait\u001b[0m \u001b[0mwaiter\u001b[0m\u001b[1;33m\u001b[0m\u001b[1;33m\u001b[0m\u001b[0m\n\u001b[0m\u001b[0;32m    483\u001b[0m     \u001b[1;32mfinally\u001b[0m\u001b[1;33m:\u001b[0m\u001b[1;33m\u001b[0m\u001b[1;33m\u001b[0m\u001b[0m\n\u001b[0;32m    484\u001b[0m         \u001b[1;32mif\u001b[0m \u001b[0mtimeout_handle\u001b[0m \u001b[1;32mis\u001b[0m \u001b[1;32mnot\u001b[0m \u001b[1;32mNone\u001b[0m\u001b[1;33m:\u001b[0m\u001b[1;33m\u001b[0m\u001b[1;33m\u001b[0m\u001b[0m\n",
      "\u001b[1;31mCancelledError\u001b[0m: "
     ]
    }
   ],
   "source": [
    "#!pip install websockets\n",
    "import websockets \n",
    "import asyncio\n",
    "import json\n",
    "\n",
    "async def bithum_ws_client() :\n",
    "    uri = 'wss://pubwss.bithumb.com/pub/ws'\n",
    "    \n",
    "    async with websockets.connect(uri) as ws :\n",
    "        greeting = await ws.recv()\n",
    "        print(greeting)\n",
    "        \n",
    "        subscribe_fmt = {\n",
    "            'type' : 'ticker',\n",
    "            'symbols' : ['BTC_KRW'],\n",
    "            'tickTypes' : ['1H']\n",
    "        }\n",
    "        \n",
    "        subscribe_data = json.dumps(subscribe_fmt)\n",
    "        await ws.send(subscribe_data)\n",
    "        \n",
    "        while True :\n",
    "            data = await ws.recv()\n",
    "            data = json.loads(data)\n",
    "            print(data)\n",
    "        \n",
    "async def main() :\n",
    "    await bithum_ws_client()\n",
    "\n",
    "await main()"
   ]
  },
  {
   "cell_type": "code",
   "execution_count": null,
   "id": "8c6af215",
   "metadata": {},
   "outputs": [],
   "source": [
    "import socket\n",
    "server = socket.socket()\n",
    "print('[소켓 생성완료]')\n",
    "s_name = socket.gethostname()\n",
    "print('서버 컴퓨터이름:', s_name)\n",
    "server.bind((s_name, 999))\n",
    "server.listen(3)\n",
    "print('서버 리스닝...')\n",
    "while True:\n",
    "    client, address = server.accept()\n",
    "    name = client.recv(1024).decode()\n",
    "    print('클라이언트와 연결되었습니다,', address, name)\n",
    "    client.send(bytes('서버에 연결되었습니다', 'utf-8'))\n",
    "    client.close()"
   ]
  },
  {
   "cell_type": "code",
   "execution_count": 14,
   "id": "3de73164",
   "metadata": {},
   "outputs": [
    {
     "ename": "ConnectionRefusedError",
     "evalue": "[WinError 10061] 대상 컴퓨터에서 연결을 거부했으므로 연결하지 못했습니다",
     "output_type": "error",
     "traceback": [
      "\u001b[1;31m---------------------------------------------------------------------------\u001b[0m",
      "\u001b[1;31mConnectionRefusedError\u001b[0m                    Traceback (most recent call last)",
      "\u001b[1;32m<ipython-input-14-e45f0f64ee6a>\u001b[0m in \u001b[0;36m<module>\u001b[1;34m\u001b[0m\n\u001b[0;32m      2\u001b[0m \u001b[1;33m\u001b[0m\u001b[0m\n\u001b[0;32m      3\u001b[0m \u001b[0mclient\u001b[0m \u001b[1;33m=\u001b[0m \u001b[0msocket\u001b[0m\u001b[1;33m(\u001b[0m\u001b[0mAF_INET\u001b[0m\u001b[1;33m,\u001b[0m \u001b[0mSOCK_STREAM\u001b[0m\u001b[1;33m)\u001b[0m\u001b[1;33m\u001b[0m\u001b[1;33m\u001b[0m\u001b[0m\n\u001b[1;32m----> 4\u001b[1;33m \u001b[0mclient\u001b[0m\u001b[1;33m.\u001b[0m\u001b[0mconnect\u001b[0m\u001b[1;33m(\u001b[0m\u001b[1;33m(\u001b[0m\u001b[1;34m'127.0.0.1'\u001b[0m\u001b[1;33m,\u001b[0m \u001b[1;36m8765\u001b[0m\u001b[1;33m)\u001b[0m\u001b[1;33m)\u001b[0m\u001b[1;33m\u001b[0m\u001b[1;33m\u001b[0m\u001b[0m\n\u001b[0m\u001b[0;32m      5\u001b[0m \u001b[1;33m\u001b[0m\u001b[0m\n\u001b[0;32m      6\u001b[0m \u001b[0mprint\u001b[0m\u001b[1;33m(\u001b[0m\u001b[1;34m'connected'\u001b[0m\u001b[1;33m)\u001b[0m\u001b[1;33m\u001b[0m\u001b[1;33m\u001b[0m\u001b[0m\n",
      "\u001b[1;31mConnectionRefusedError\u001b[0m: [WinError 10061] 대상 컴퓨터에서 연결을 거부했으므로 연결하지 못했습니다"
     ]
    }
   ],
   "source": [
    "from socket import *\n",
    "\n",
    "client = socket(AF_INET, SOCK_STREAM)\n",
    "client.connect(('127.0.0.1', 8765))\n",
    "\n",
    "print('connected')\n",
    "client.send('hello im client'.encode('utf8'))\n",
    "\n",
    "print('message sent')\n",
    "data = client.recv(1024)\n",
    "print('받은 데이터 : ', data.decode('utf8'))"
   ]
  },
  {
   "cell_type": "code",
   "execution_count": null,
   "id": "fe44286e",
   "metadata": {},
   "outputs": [
    {
     "name": "stdout",
     "output_type": "stream",
     "text": [
      "server started\n",
      "wait..\n",
      "wait..\n",
      "Connected : 127.0.0.1 : 61151\n",
      "Received : 127.0.0.1 : 61151 , ㅎㅇㅎㅇ\n",
      "Received : 127.0.0.1 : 61151 , ㅂㄱㅂㄱ\n",
      "Received : 127.0.0.1 : 61151 , ㅂㄱ ! ㅂㄱ ! 잘가!\n",
      "Disconnected : 127.0.0.1 : 61151\n"
     ]
    }
   ],
   "source": [
    "# 특수문자 제거기\n",
    "import re\n",
    "import socket\n",
    "from _thread import *\n",
    "host = '127.0.0.1'\n",
    "port = 9999\n",
    "\n",
    "def threading(client_socket, addr) :\n",
    "    print(f'Connected : {addr[0]} : {addr[1]}')\n",
    "    \n",
    "    # 접속 끊어질 때 까지 반복\n",
    "    while True :\n",
    "        try :\n",
    "            data = client_socket.recv(1024)\n",
    "            \n",
    "            if not data :\n",
    "                print(f'Disconnected : {addr[0]} : {addr[1]}')\n",
    "                break\n",
    "                \n",
    "            print(f'Received : {addr[0]} : {addr[1]} , {data.decode()}')\n",
    "            \n",
    "            get_data = data.decode()\n",
    "            new_data = re.sub(r\"[^ A-Za-z0-9가-힣]\",\"\",get_data).strip()\n",
    "            if new_data == '' :\n",
    "                new_data = '텍스트가 비었습니다.'\n",
    "            client_socket.send(new_data.encode('utf8'))\n",
    "            \n",
    "        except ConnectionResetError as e :\n",
    "            print(f'Disconnected : {addr[0]} : {addr[1]}')\n",
    "            break\n",
    "    client_socket.close()\n",
    "\n",
    "server_socket = socket.socket(socket.AF_INET, socket.SOCK_STREAM)\n",
    "server_socket.setsockopt(socket.SOL_SOCKET, socket.SO_REUSEADDR, 1)\n",
    "server_socket.bind((host, port))\n",
    "server_socket.listen()\n",
    "\n",
    "print('server started')\n",
    "\n",
    "while True :\n",
    "    print('wait..')\n",
    "    client_socket, addr = server_socket.accept()\n",
    "    start_new_thread(threading, (client_socket, addr))\n",
    "    \n",
    "server_socket.close()"
   ]
  },
  {
   "cell_type": "code",
   "execution_count": null,
   "id": "e2769514",
   "metadata": {},
   "outputs": [
    {
     "name": "stdout",
     "output_type": "stream",
     "text": [
      "server started\n",
      "wait..\n",
      "wait..\n",
      "Connected : 127.0.0.1 : 61484\n",
      "Received : 127.0.0.1 : 61484 , 반가\n",
      "호스트 입력 >>반가웡\n",
      "Received : 127.0.0.1 : 61484 , 나둥\n",
      "호스트 입력 >>나두나두\n",
      "Received : 127.0.0.1 : 61484 , 안녕히 계세용~~\n",
      "호스트 입력 >>가지마\n",
      "Received : 127.0.0.1 : 61484 , 취소할게?\n",
      "호스트 입력 >>구랭\n",
      "Received : 127.0.0.1 : 61484 , ㅠㅠ\n",
      "호스트 입력 >>ㅠㅠㅠㅠㅠㅠㅠㅠㅠ\n",
      "Disconnected : 127.0.0.1 : 61484\n"
     ]
    }
   ],
   "source": [
    "# 대화 주고받기\n",
    "import socket\n",
    "from _thread import *\n",
    "host = '127.0.0.1'\n",
    "port = 9999\n",
    "\n",
    "def threading(client_socket, addr) :\n",
    "    print(f'Connected : {addr[0]} : {addr[1]}')\n",
    "    \n",
    "    # 접속 끊어질 때 까지 반복\n",
    "    while True :\n",
    "        try :\n",
    "            data = client_socket.recv(1024)\n",
    "            \n",
    "            if not data :\n",
    "                print(f'Disconnected : {addr[0]} : {addr[1]}')\n",
    "                break\n",
    "                \n",
    "            print(f'Received : {addr[0]} : {addr[1]} , {data.decode()}')\n",
    "            \n",
    "            new_data = input('호스트 입력 >>')\n",
    "            client_socket.send(new_data.encode('utf8'))\n",
    "            \n",
    "        except ConnectionResetError as e :\n",
    "            print(f'Disconnected : {addr[0]} : {addr[1]}')\n",
    "            break\n",
    "    client_socket.close()\n",
    "\n",
    "server_socket = socket.socket(socket.AF_INET, socket.SOCK_STREAM)\n",
    "server_socket.setsockopt(socket.SOL_SOCKET, socket.SO_REUSEADDR, 1)\n",
    "server_socket.bind((host, port))\n",
    "server_socket.listen()\n",
    "\n",
    "print('server started')\n",
    "\n",
    "while True :\n",
    "    print('wait..')\n",
    "    client_socket, addr = server_socket.accept()\n",
    "    start_new_thread(threading, (client_socket, addr))\n",
    "    \n",
    "server_socket.close()"
   ]
  },
  {
   "cell_type": "code",
   "execution_count": null,
   "id": "e9b80920",
   "metadata": {},
   "outputs": [],
   "source": []
  }
 ],
 "metadata": {
  "kernelspec": {
   "display_name": "yeseul",
   "language": "python",
   "name": "yeseul"
  },
  "language_info": {
   "codemirror_mode": {
    "name": "ipython",
    "version": 3
   },
   "file_extension": ".py",
   "mimetype": "text/x-python",
   "name": "python",
   "nbconvert_exporter": "python",
   "pygments_lexer": "ipython3",
   "version": "3.7.10"
  }
 },
 "nbformat": 4,
 "nbformat_minor": 5
}
