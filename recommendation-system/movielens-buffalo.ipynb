{
 "cells": [
  {
   "cell_type": "code",
   "execution_count": 12,
   "id": "6dff425b",
   "metadata": {},
   "outputs": [],
   "source": [
    "%config Completer.use_jedi = False"
   ]
  },
  {
   "cell_type": "markdown",
   "id": "6eeb57ad",
   "metadata": {},
   "source": [
    "## movielens data download\n",
    "[ml-25.zip] https://grouplens.org/datasets/movielens/\n"
   ]
  },
  {
   "cell_type": "code",
   "execution_count": 2,
   "id": "4d439dcf",
   "metadata": {},
   "outputs": [
    {
     "data": {
      "text/html": [
       "<div>\n",
       "<style scoped>\n",
       "    .dataframe tbody tr th:only-of-type {\n",
       "        vertical-align: middle;\n",
       "    }\n",
       "\n",
       "    .dataframe tbody tr th {\n",
       "        vertical-align: top;\n",
       "    }\n",
       "\n",
       "    .dataframe thead th {\n",
       "        text-align: right;\n",
       "    }\n",
       "</style>\n",
       "<table border=\"1\" class=\"dataframe\">\n",
       "  <thead>\n",
       "    <tr style=\"text-align: right;\">\n",
       "      <th></th>\n",
       "      <th>userId</th>\n",
       "      <th>movieId</th>\n",
       "      <th>rating</th>\n",
       "      <th>timestamp</th>\n",
       "    </tr>\n",
       "  </thead>\n",
       "  <tbody>\n",
       "    <tr>\n",
       "      <th>0</th>\n",
       "      <td>1</td>\n",
       "      <td>296</td>\n",
       "      <td>5.0</td>\n",
       "      <td>1147880044</td>\n",
       "    </tr>\n",
       "    <tr>\n",
       "      <th>1</th>\n",
       "      <td>1</td>\n",
       "      <td>306</td>\n",
       "      <td>3.5</td>\n",
       "      <td>1147868817</td>\n",
       "    </tr>\n",
       "    <tr>\n",
       "      <th>2</th>\n",
       "      <td>1</td>\n",
       "      <td>307</td>\n",
       "      <td>5.0</td>\n",
       "      <td>1147868828</td>\n",
       "    </tr>\n",
       "    <tr>\n",
       "      <th>3</th>\n",
       "      <td>1</td>\n",
       "      <td>665</td>\n",
       "      <td>5.0</td>\n",
       "      <td>1147878820</td>\n",
       "    </tr>\n",
       "    <tr>\n",
       "      <th>4</th>\n",
       "      <td>1</td>\n",
       "      <td>899</td>\n",
       "      <td>3.5</td>\n",
       "      <td>1147868510</td>\n",
       "    </tr>\n",
       "  </tbody>\n",
       "</table>\n",
       "</div>"
      ],
      "text/plain": [
       "   userId  movieId  rating   timestamp\n",
       "0       1      296     5.0  1147880044\n",
       "1       1      306     3.5  1147868817\n",
       "2       1      307     5.0  1147868828\n",
       "3       1      665     5.0  1147878820\n",
       "4       1      899     3.5  1147868510"
      ]
     },
     "execution_count": 2,
     "metadata": {},
     "output_type": "execute_result"
    }
   ],
   "source": [
    "import pandas as pd\n",
    "data = pd.read_csv('./data/ratings.csv')\n",
    "data.head()"
   ]
  },
  {
   "cell_type": "code",
   "execution_count": 5,
   "id": "76776c5b",
   "metadata": {},
   "outputs": [
    {
     "data": {
      "text/plain": [
       "25000095"
      ]
     },
     "execution_count": 5,
     "metadata": {},
     "output_type": "execute_result"
    }
   ],
   "source": [
    "len(data)"
   ]
  },
  {
   "cell_type": "code",
   "execution_count": 3,
   "id": "7be2d885",
   "metadata": {},
   "outputs": [
    {
     "name": "stdout",
     "output_type": "stream",
     "text": [
      "<class 'pandas.core.frame.DataFrame'>\n",
      "RangeIndex: 25000095 entries, 0 to 25000094\n",
      "Data columns (total 4 columns):\n",
      " #   Column     Dtype  \n",
      "---  ------     -----  \n",
      " 0   userId     int64  \n",
      " 1   movieId    int64  \n",
      " 2   rating     float64\n",
      " 3   timestamp  int64  \n",
      "dtypes: float64(1), int64(3)\n",
      "memory usage: 762.9 MB\n"
     ]
    }
   ],
   "source": [
    "data.info()"
   ]
  },
  {
   "cell_type": "code",
   "execution_count": 4,
   "id": "d0b27dff",
   "metadata": {},
   "outputs": [
    {
     "name": "stdout",
     "output_type": "stream",
     "text": [
      "<class 'pandas.core.frame.DataFrame'>\n",
      "RangeIndex: 25000095 entries, 0 to 25000094\n",
      "Data columns (total 3 columns):\n",
      " #   Column   Dtype \n",
      "---  ------   ----- \n",
      " 0   userId   object\n",
      " 1   movieId  object\n",
      " 2   rating   object\n",
      "dtypes: object(3)\n",
      "memory usage: 572.2+ MB\n"
     ]
    }
   ],
   "source": [
    "# dtype transform\n",
    "data = data[['userId', 'movieId', 'rating']].astype(str)\n",
    "data.info()"
   ]
  },
  {
   "cell_type": "markdown",
   "id": "b4c67a30",
   "metadata": {},
   "source": [
    "## buffalo \n",
    "- 공식 문서(<a href=\"https://buffalo-recsys.readthedocs.io/en/latest/\">링크</a>)\n",
    "- github(<a href=\"https://github.com/kakao/buffalo\">링크</a>)"
   ]
  },
  {
   "cell_type": "code",
   "execution_count": 17,
   "id": "d8a2692b",
   "metadata": {},
   "outputs": [],
   "source": [
    "# buffalo library import\n",
    "from buffalo.algo.als import ALS, inited_CUALS\n",
    "from buffalo.algo.options import ALSOption\n",
    "import buffalo.data\n",
    "from buffalo.misc import aux\n",
    "from buffalo.data.mm import MatrixMarketOptions\n",
    "import numpy as np\n",
    "from scipy.io import mmwrite\n",
    "from scipy.io import mmread\n",
    "from scipy.sparse import csr_matrix\n",
    "import scipy.sparse as sp"
   ]
  },
  {
   "cell_type": "code",
   "execution_count": 7,
   "id": "553cfaf6",
   "metadata": {},
   "outputs": [
    {
     "data": {
      "text/plain": [
       "True"
      ]
     },
     "execution_count": 7,
     "metadata": {},
     "output_type": "execute_result"
    }
   ],
   "source": [
    "inited_CUALS # True이면 gpu 학습 가능"
   ]
  },
  {
   "cell_type": "code",
   "execution_count": 8,
   "id": "44322724",
   "metadata": {},
   "outputs": [],
   "source": [
    "# 유저 * 아이템 매트릭스 생성\n",
    "def get_df_matrix_mappings(df, row_name, col_name):\n",
    "    \n",
    "    rid_to_idx = {}\n",
    "    idx_to_rid = {}\n",
    "    for (idx, rid) in enumerate(df[row_name].unique().tolist()):\n",
    "        rid_to_idx[rid] = idx\n",
    "        idx_to_rid[idx] = rid\n",
    "\n",
    "    cid_to_idx = {}\n",
    "    idx_to_cid = {}\n",
    "    for (idx, cid) in enumerate(df[col_name].unique().tolist()):\n",
    "        cid_to_idx[cid] = idx\n",
    "        idx_to_cid[idx] = cid\n",
    "\n",
    "    return rid_to_idx, idx_to_rid, cid_to_idx, idx_to_cid\n",
    "\n",
    "def df_to_matrix(df, row_name, col_name):\n",
    "    \n",
    "    rid_to_idx, idx_to_rid, cid_to_idx, idx_to_cid = get_df_matrix_mappings(df, row_name, col_name)\n",
    "\n",
    "    def map_ids(row, mapper):\n",
    "        return mapper[row]\n",
    "\n",
    "    I = df[row_name].apply(map_ids, args=[rid_to_idx]).to_numpy()\n",
    "    J = df[col_name].apply(map_ids, args=[cid_to_idx]).to_numpy()\n",
    "    V = np.ones(I.shape[0])\n",
    "    interactions = sp.coo_matrix((V, (I, J)), dtype=np.float64)\n",
    "    interactions = interactions.tocsr()\n",
    "    \n",
    "    return interactions, rid_to_idx, idx_to_rid, cid_to_idx, idx_to_cid"
   ]
  },
  {
   "cell_type": "code",
   "execution_count": 9,
   "id": "ea327b6b",
   "metadata": {},
   "outputs": [],
   "source": [
    "user_items, uid_to_idx, idx_to_uid, mid_to_idx, idx_to_mid = df_to_matrix(data, 'userId', 'movieId')\n",
    "mmwrite(f'./train/main.mtx', user_items)"
   ]
  },
  {
   "cell_type": "code",
   "execution_count": 10,
   "id": "d4f7fd6c",
   "metadata": {},
   "outputs": [],
   "source": [
    "iid = list(idx_to_mid.values())\n",
    "uid = list(idx_to_uid.values())"
   ]
  },
  {
   "cell_type": "code",
   "execution_count": 11,
   "id": "15256862",
   "metadata": {},
   "outputs": [],
   "source": [
    "with open(f\"./train/uid\", \"w\") as f:\n",
    "    for val in uid:\n",
    "        print(val, file=f)\n",
    "f.close()\n",
    "with open(f\"./train/iid\", \"w\") as f:\n",
    "    for val in iid:\n",
    "        print(val, file=f)\n",
    "f.close()"
   ]
  },
  {
   "cell_type": "markdown",
   "id": "059cfb9f",
   "metadata": {},
   "source": [
    "## parameter Optimizer\n",
    "- hyperopt 사용하여 최적 파라미터 서치"
   ]
  },
  {
   "cell_type": "code",
   "execution_count": 19,
   "id": "b113e572",
   "metadata": {},
   "outputs": [],
   "source": [
    "opt = ALSOption().get_default_option()\n",
    "opt.num_workers = 6\n",
    "opt.num_iters = 20\n",
    "opt.evaluation_period = 20\n",
    "opt.evaluation_on_learning = True\n",
    "opt.save_best = True\n",
    "opt.accelerator = True # GPU option\n",
    "\n",
    "data_opt = MatrixMarketOptions().get_default_option()\n",
    "data_opt.input.main = './train/main.mtx'\n",
    "data_opt.input.iid = './train/iid'\n",
    "data_opt.input.uid = './train/uid'\n",
    "data_opt.data.ath = './train/mm.h5py'\n",
    "data_opt.data.validation.p = 0.1\n",
    "data_opt.data.validation.max_samples = 5000"
   ]
  },
  {
   "cell_type": "code",
   "execution_count": 20,
   "id": "30445390",
   "metadata": {},
   "outputs": [],
   "source": [
    "# optimizer 범위 설정\n",
    "opt.validation = aux.Option({'topk' : 10 })\n",
    "opt.tensorboard = aux.Option({'root' : './train/als-validation', 'name' : 'als-new'})\n",
    "opt.optimize = aux.Option({\n",
    "   'loss': 'val_ndcg',\n",
    "        'max_trials':100,\n",
    "        'deployment': True,\n",
    "        'start_with_default_parameters': False,\n",
    "        'space': {\n",
    "            'd': ['randint', ['d', 10, 128]],\n",
    "            'reg_u': ['uniform', ['reg_u', 0.1, 1.0]],\n",
    "            'reg_i': ['uniform', ['reg_i', 0.1, 1.0]],\n",
    "            'alpha': ['randint', ['alpha', 1, 10]]\n",
    "        } \n",
    "})"
   ]
  },
  {
   "cell_type": "code",
   "execution_count": 21,
   "id": "0a5f2674",
   "metadata": {},
   "outputs": [
    {
     "name": "stderr",
     "output_type": "stream",
     "text": [
      "[INFO    ] 2022-01-25 18:20:17 [mm.py:245] Create the database from matrix market file.\n",
      "[INFO    ] 2022-01-25 18:20:18 [mm.py:258] Creating working data...\n",
      "[PROGRESS] 100.00% 37.1/37.1secs 22,122,287.42it/s\n",
      "[INFO    ] 2022-01-25 18:20:56 [mm.py:263] Building data part...\n",
      "[INFO    ] 2022-01-25 18:20:56 [base.py:405] Building compressed triplets for rowwise...\n",
      "[INFO    ] 2022-01-25 18:20:56 [base.py:406] Preprocessing...\n",
      "[INFO    ] 2022-01-25 18:20:56 [base.py:409] In-memory Compressing ...\n",
      "[INFO    ] 2022-01-25 18:20:59 [base.py:290] Load triplet files. Total job files: 13\n",
      "[INFO    ] 2022-01-25 18:20:59 [base.py:439] Finished\n",
      "[INFO    ] 2022-01-25 18:20:59 [base.py:405] Building compressed triplets for colwise...\n",
      "[INFO    ] 2022-01-25 18:20:59 [base.py:406] Preprocessing...\n",
      "[INFO    ] 2022-01-25 18:20:59 [base.py:409] In-memory Compressing ...\n",
      "[INFO    ] 2022-01-25 18:21:02 [base.py:290] Load triplet files. Total job files: 13\n",
      "[INFO    ] 2022-01-25 18:21:02 [base.py:439] Finished\n",
      "[INFO    ] 2022-01-25 18:21:04 [mm.py:277] DB built on ./mm.h5py\n",
      "[INFO    ] 2022-01-25 18:21:04 [als.py:57] ALS({\n",
      "  \"evaluation_on_learning\": true,\n",
      "  \"compute_loss_on_training\": true,\n",
      "  \"early_stopping_rounds\": 0,\n",
      "  \"save_best\": true,\n",
      "  \"evaluation_period\": 20,\n",
      "  \"save_period\": 10,\n",
      "  \"random_seed\": 0,\n",
      "  \"validation\": {\n",
      "    \"topk\": 10\n",
      "  },\n",
      "  \"adaptive_reg\": false,\n",
      "  \"save_factors\": false,\n",
      "  \"accelerator\": true,\n",
      "  \"d\": 20,\n",
      "  \"num_iters\": 20,\n",
      "  \"num_workers\": 6,\n",
      "  \"hyper_threads\": 256,\n",
      "  \"num_cg_max_iters\": 3,\n",
      "  \"reg_u\": 0.1,\n",
      "  \"reg_i\": 0.1,\n",
      "  \"alpha\": 8,\n",
      "  \"optimizer\": \"manual_cg\",\n",
      "  \"cg_tolerance\": 1e-10,\n",
      "  \"eps\": 1e-10,\n",
      "  \"model_path\": \"\",\n",
      "  \"data_opt\": {},\n",
      "  \"tensorboard\": {\n",
      "    \"root\": \"./train/als-validation\",\n",
      "    \"name\": \"als-new\"\n",
      "  },\n",
      "  \"optimize\": {\n",
      "    \"loss\": \"val_ndcg\",\n",
      "    \"max_trials\": 100,\n",
      "    \"deployment\": true,\n",
      "    \"start_with_default_parameters\": false,\n",
      "    \"space\": {\n",
      "      \"d\": [\n",
      "        \"randint\",\n",
      "        [\n",
      "          \"d\",\n",
      "          10,\n",
      "          128\n",
      "        ]\n",
      "      ],\n",
      "      \"reg_u\": [\n",
      "        \"uniform\",\n",
      "        [\n",
      "          \"reg_u\",\n",
      "          0.1,\n",
      "          1.0\n",
      "        ]\n",
      "      ],\n",
      "      \"reg_i\": [\n",
      "        \"uniform\",\n",
      "        [\n",
      "          \"reg_i\",\n",
      "          0.1,\n",
      "          1.0\n",
      "        ]\n",
      "      ],\n",
      "      \"alpha\": [\n",
      "        \"randint\",\n",
      "        [\n",
      "          \"alpha\",\n",
      "          1,\n",
      "          10\n",
      "        ]\n",
      "      ]\n",
      "    }\n",
      "  }\n",
      "})\n",
      "[INFO    ] 2022-01-25 18:21:04 [als.py:59] MatrixMarket Header(162541, 59047, 24995095) Validation(5000 samples)\n",
      "[optimizing... ] 0.00% 0.0/0.0secs 0.00it/s[INFO    ] 2022-01-25 18:21:53 [optimize.py:73] Found new best parameters: {'alpha': 3, 'd': 112, 'reg_i': 0.5778206958826371, 'reg_u': 0.5498119678797182} @ iter 1\n",
      "[INFO    ] 2022-01-25 18:21:53 [optimize.py:79] Saving model... to ./train/als-best-model.bin\n",
      "[optimizing... ] 1.00% 50.3/5030.0secs 0.02it/s[INFO    ] 2022-01-25 18:22:29 [optimize.py:73] Found new best parameters: {'alpha': 2, 'd': 77, 'reg_i': 0.9642176710410275, 'reg_u': 0.48139718642553275} @ iter 2\n",
      "[INFO    ] 2022-01-25 18:22:29 [optimize.py:79] Saving model... to ./train/als-best-model.bin\n",
      "[optimizing... ] 3.00% 109.6/3651.9secs 0.03it/s[INFO    ] 2022-01-25 18:23:28 [optimize.py:73] Found new best parameters: {'alpha': 1, 'd': 69, 'reg_i': 0.5470740149632949, 'reg_u': 0.6595254157814294} @ iter 4\n",
      "[INFO    ] 2022-01-25 18:23:28 [optimize.py:79] Saving model... to ./train/als-best-model.bin\n",
      "[optimizing... ] 5.00% 168.5/3369.6secs 0.03it/s[INFO    ] 2022-01-25 18:24:27 [optimize.py:73] Found new best parameters: {'alpha': 1, 'd': 80, 'reg_i': 0.6986845087564665, 'reg_u': 0.9846552410221874} @ iter 6\n",
      "[INFO    ] 2022-01-25 18:24:27 [optimize.py:79] Saving model... to ./train/als-best-model.bin\n",
      "[optimizing... ] 100.00% 3153.2/3153.2secs 0.03it/s\n"
     ]
    },
    {
     "data": {
      "text/plain": [
       "{'trials': <hyperopt.base.Trials at 0x7fd0f36220f0>,\n",
       " 'best': {'train_loss': 0.04939169654752978,\n",
       "  'val_ndcg': 0.1234076712927393,\n",
       "  'val_map': 0.09617349333762493,\n",
       "  'val_accuracy': 0.20863258695958314,\n",
       "  'val_auc': 0.6042390495244309,\n",
       "  'val_rmse': 0.6066403147516816,\n",
       "  'val_error': 0.5343958109974861,\n",
       "  'loss': -0.1234076712927393,\n",
       "  'status': 'ok'},\n",
       " 'best_parameters': {'alpha': 1,\n",
       "  'd': 80,\n",
       "  'reg_i': 0.6986845087564665,\n",
       "  'reg_u': 0.9846552410221874}}"
      ]
     },
     "execution_count": 21,
     "metadata": {},
     "output_type": "execute_result"
    }
   ],
   "source": [
    "als = ALS(opt, data_opt = data_opt)\n",
    "als.initialize()\n",
    "\n",
    "als.opt.model_path = './train/als-best-model.bin'\n",
    "als.optimize() # parameter optimizing\n",
    "als.get_optimization_data()"
   ]
  },
  {
   "cell_type": "code",
   "execution_count": 22,
   "id": "22b9b091",
   "metadata": {},
   "outputs": [
    {
     "name": "stderr",
     "output_type": "stream",
     "text": [
      "[INFO    ] 2022-01-26 08:42:49 [mm.py:245] Create the database from matrix market file.\n",
      "[INFO    ] 2022-01-26 08:42:51 [mm.py:258] Creating working data...\n",
      "[PROGRESS] 100.00% 39.2/39.2secs 20,977,265.04it/s\n",
      "[INFO    ] 2022-01-26 08:43:31 [mm.py:263] Building data part...\n",
      "[INFO    ] 2022-01-26 08:43:31 [base.py:405] Building compressed triplets for rowwise...\n",
      "[INFO    ] 2022-01-26 08:43:31 [base.py:406] Preprocessing...\n",
      "[INFO    ] 2022-01-26 08:43:31 [base.py:409] In-memory Compressing ...\n",
      "[INFO    ] 2022-01-26 08:43:34 [base.py:290] Load triplet files. Total job files: 13\n",
      "[INFO    ] 2022-01-26 08:43:34 [base.py:439] Finished\n",
      "[INFO    ] 2022-01-26 08:43:34 [base.py:405] Building compressed triplets for colwise...\n",
      "[INFO    ] 2022-01-26 08:43:34 [base.py:406] Preprocessing...\n",
      "[INFO    ] 2022-01-26 08:43:34 [base.py:409] In-memory Compressing ...\n",
      "[INFO    ] 2022-01-26 08:43:37 [base.py:290] Load triplet files. Total job files: 13\n",
      "[INFO    ] 2022-01-26 08:43:37 [base.py:439] Finished\n",
      "[INFO    ] 2022-01-26 08:43:38 [mm.py:277] DB built on ./train/mm.h5py\n"
     ]
    }
   ],
   "source": [
    "data_opt = MatrixMarketOptions().get_default_option()\n",
    "data_opt.input.main = f'./train/main.mtx'\n",
    "data_opt.input.iid = f'./train/iid'\n",
    "data_opt.input.uid = f'./train/uid'\n",
    "data_opt.data.validation.p = 0.1\n",
    "data_opt.data.validation.max_samples = 10000\n",
    "data_opt.data.path = f'./train/mm.h5py'\n",
    "\n",
    "data = buffalo.data.load(data_opt)\n",
    "data.create()"
   ]
  },
  {
   "cell_type": "code",
   "execution_count": 24,
   "id": "022ec989",
   "metadata": {},
   "outputs": [
    {
     "name": "stderr",
     "output_type": "stream",
     "text": [
      "[INFO    ] 2022-01-26 08:45:52 [als.py:57] ALS({\n",
      "  \"evaluation_on_learning\": true,\n",
      "  \"compute_loss_on_training\": true,\n",
      "  \"early_stopping_rounds\": 0,\n",
      "  \"save_best\": false,\n",
      "  \"evaluation_period\": 1,\n",
      "  \"save_period\": 10,\n",
      "  \"random_seed\": 0,\n",
      "  \"validation\": {},\n",
      "  \"adaptive_reg\": false,\n",
      "  \"save_factors\": false,\n",
      "  \"accelerator\": false,\n",
      "  \"d\": 20,\n",
      "  \"num_iters\": 10,\n",
      "  \"num_workers\": 1,\n",
      "  \"hyper_threads\": 256,\n",
      "  \"num_cg_max_iters\": 3,\n",
      "  \"reg_u\": 0.1,\n",
      "  \"reg_i\": 0.1,\n",
      "  \"alpha\": 8,\n",
      "  \"optimizer\": \"manual_cg\",\n",
      "  \"cg_tolerance\": 1e-10,\n",
      "  \"eps\": 1e-10,\n",
      "  \"model_path\": \"\",\n",
      "  \"data_opt\": {}\n",
      "})\n"
     ]
    },
    {
     "data": {
      "text/plain": [
       "{'evaluation_on_learning': True,\n",
       " 'compute_loss_on_training': True,\n",
       " 'early_stopping_rounds': 0,\n",
       " 'save_best': True,\n",
       " 'evaluation_period': 20,\n",
       " 'save_period': 10,\n",
       " 'random_seed': 0,\n",
       " 'validation': {'topk': 10},\n",
       " 'adaptive_reg': False,\n",
       " 'save_factors': False,\n",
       " 'accelerator': True,\n",
       " 'd': 80,\n",
       " 'num_iters': 20,\n",
       " 'num_workers': 6,\n",
       " 'hyper_threads': 256,\n",
       " 'num_cg_max_iters': 3,\n",
       " 'reg_u': 0.76870304240029,\n",
       " 'reg_i': 0.18059745401234717,\n",
       " 'alpha': 1,\n",
       " 'optimizer': 'manual_cg',\n",
       " 'cg_tolerance': 1e-10,\n",
       " 'eps': 1e-10,\n",
       " 'model_path': './train/als-best-model.bin',\n",
       " 'data_opt': {},\n",
       " 'tensorboard': None,\n",
       " 'optimize': {'loss': 'val_ndcg',\n",
       "  'max_trials': 100,\n",
       "  'deployment': True,\n",
       "  'start_with_default_parameters': False,\n",
       "  'space': {'d': ['randint', ['d', 10, 128]],\n",
       "   'reg_u': ['uniform', ['reg_u', 0.1, 1.0]],\n",
       "   'reg_i': ['uniform', ['reg_i', 0.1, 1.0]],\n",
       "   'alpha': ['randint', ['alpha', 1, 10]]}}}"
      ]
     },
     "execution_count": 24,
     "metadata": {},
     "output_type": "execute_result"
    }
   ],
   "source": [
    "del als\n",
    "als_opt = ALS()\n",
    "als_opt.load('./train/als-best-model.bin')\n",
    "als_opt.opt"
   ]
  },
  {
   "cell_type": "markdown",
   "id": "63cb74c9",
   "metadata": {},
   "source": [
    "## model train"
   ]
  },
  {
   "cell_type": "code",
   "execution_count": 25,
   "id": "063f2879",
   "metadata": {
    "scrolled": true
   },
   "outputs": [
    {
     "name": "stderr",
     "output_type": "stream",
     "text": [
      "[INFO    ] 2022-01-26 08:46:37 [als.py:57] ALS({\n",
      "  \"evaluation_on_learning\": true,\n",
      "  \"compute_loss_on_training\": true,\n",
      "  \"early_stopping_rounds\": 0,\n",
      "  \"save_best\": true,\n",
      "  \"evaluation_period\": 20,\n",
      "  \"save_period\": 10,\n",
      "  \"random_seed\": 0,\n",
      "  \"validation\": {\n",
      "    \"topk\": 10\n",
      "  },\n",
      "  \"adaptive_reg\": false,\n",
      "  \"save_factors\": false,\n",
      "  \"accelerator\": true,\n",
      "  \"d\": 80,\n",
      "  \"num_iters\": 20,\n",
      "  \"num_workers\": 6,\n",
      "  \"hyper_threads\": 256,\n",
      "  \"num_cg_max_iters\": 3,\n",
      "  \"reg_u\": 0.76870304240029,\n",
      "  \"reg_i\": 0.18059745401234717,\n",
      "  \"alpha\": 1,\n",
      "  \"optimizer\": \"manual_cg\",\n",
      "  \"cg_tolerance\": 1e-10,\n",
      "  \"eps\": 1e-10,\n",
      "  \"model_path\": \"./train/als-best-model.bin\",\n",
      "  \"data_opt\": {},\n",
      "  \"tensorboard\": null,\n",
      "  \"optimize\": {\n",
      "    \"loss\": \"val_ndcg\",\n",
      "    \"max_trials\": 100,\n",
      "    \"deployment\": true,\n",
      "    \"start_with_default_parameters\": false,\n",
      "    \"space\": {\n",
      "      \"d\": [\n",
      "        \"randint\",\n",
      "        [\n",
      "          \"d\",\n",
      "          10,\n",
      "          128\n",
      "        ]\n",
      "      ],\n",
      "      \"reg_u\": [\n",
      "        \"uniform\",\n",
      "        [\n",
      "          \"reg_u\",\n",
      "          0.1,\n",
      "          1.0\n",
      "        ]\n",
      "      ],\n",
      "      \"reg_i\": [\n",
      "        \"uniform\",\n",
      "        [\n",
      "          \"reg_i\",\n",
      "          0.1,\n",
      "          1.0\n",
      "        ]\n",
      "      ],\n",
      "      \"alpha\": [\n",
      "        \"randint\",\n",
      "        [\n",
      "          \"alpha\",\n",
      "          1,\n",
      "          10\n",
      "        ]\n",
      "      ]\n",
      "    }\n",
      "  }\n",
      "})\n",
      "[INFO    ] 2022-01-26 08:46:37 [als.py:59] MatrixMarket Header(162541, 59047, 24990095) Validation(10000 samples)\n",
      "[INFO    ] 2022-01-26 08:46:38 [buffered_data.py:71] Set data buffer size as 67108864(minimum required batch size is 81461).\n",
      "[INFO    ] 2022-01-26 08:46:40 [als.py:187] Iteration 1: RMSE 0.072 Elapsed 1.512 secs\n",
      "[INFO    ] 2022-01-26 08:46:41 [als.py:187] Iteration 2: RMSE 0.055 Elapsed 1.429 secs\n",
      "[INFO    ] 2022-01-26 08:46:42 [als.py:187] Iteration 3: RMSE 0.052 Elapsed 1.429 secs\n",
      "[INFO    ] 2022-01-26 08:46:44 [als.py:187] Iteration 4: RMSE 0.051 Elapsed 1.431 secs\n",
      "[INFO    ] 2022-01-26 08:46:45 [als.py:187] Iteration 5: RMSE 0.050 Elapsed 1.430 secs\n",
      "[INFO    ] 2022-01-26 08:46:47 [als.py:187] Iteration 6: RMSE 0.050 Elapsed 1.433 secs\n",
      "[INFO    ] 2022-01-26 08:46:48 [als.py:187] Iteration 7: RMSE 0.050 Elapsed 1.430 secs\n",
      "[INFO    ] 2022-01-26 08:46:50 [als.py:187] Iteration 8: RMSE 0.050 Elapsed 1.430 secs\n",
      "[INFO    ] 2022-01-26 08:46:51 [als.py:187] Iteration 9: RMSE 0.050 Elapsed 1.430 secs\n",
      "[INFO    ] 2022-01-26 08:46:52 [als.py:187] Iteration 10: RMSE 0.049 Elapsed 1.428 secs\n",
      "[INFO    ] 2022-01-26 08:46:54 [als.py:187] Iteration 11: RMSE 0.049 Elapsed 1.430 secs\n",
      "[INFO    ] 2022-01-26 08:46:55 [als.py:187] Iteration 12: RMSE 0.049 Elapsed 1.430 secs\n",
      "[INFO    ] 2022-01-26 08:46:57 [als.py:187] Iteration 13: RMSE 0.049 Elapsed 1.430 secs\n",
      "[INFO    ] 2022-01-26 08:46:58 [als.py:187] Iteration 14: RMSE 0.049 Elapsed 1.437 secs\n",
      "[INFO    ] 2022-01-26 08:47:00 [als.py:187] Iteration 15: RMSE 0.049 Elapsed 1.442 secs\n",
      "[INFO    ] 2022-01-26 08:47:01 [als.py:187] Iteration 16: RMSE 0.049 Elapsed 1.442 secs\n",
      "[INFO    ] 2022-01-26 08:47:03 [als.py:187] Iteration 17: RMSE 0.049 Elapsed 1.440 secs\n",
      "[INFO    ] 2022-01-26 08:47:04 [als.py:187] Iteration 18: RMSE 0.049 Elapsed 1.440 secs\n",
      "[INFO    ] 2022-01-26 08:47:06 [als.py:187] Iteration 19: RMSE 0.049 Elapsed 1.440 secs\n",
      "[INFO    ] 2022-01-26 08:47:23 [als.py:184] Validation: ndcg:0.12672 map:0.09802 accuracy:0.21319 auc:0.60652 rmse:0.60091 error:0.52843 Elapsed 16.265 secs\n",
      "[INFO    ] 2022-01-26 08:47:23 [als.py:187] Iteration 20: RMSE 0.049 Elapsed 1.438 secs\n",
      "[INFO    ] 2022-01-26 08:47:23 [als.py:193] elapsed for full epochs: 45.33 sec\n"
     ]
    },
    {
     "data": {
      "text/plain": [
       "{'train_loss': 0.049260287558788134,\n",
       " 'val_ndcg': 0.12672110195986627,\n",
       " 'val_map': 0.09802290104881599,\n",
       " 'val_accuracy': 0.21319396051103368,\n",
       " 'val_auc': 0.6065194910348387,\n",
       " 'val_rmse': 0.6009071995885302,\n",
       " 'val_error': 0.5284293065428733}"
      ]
     },
     "execution_count": 25,
     "metadata": {},
     "output_type": "execute_result"
    }
   ],
   "source": [
    "model = ALS(als_opt.opt, data= data)\n",
    "model.initialize()\n",
    "model.train()"
   ]
  },
  {
   "cell_type": "markdown",
   "id": "0258cf8b",
   "metadata": {},
   "source": [
    "## predict next movie(recommendation)"
   ]
  },
  {
   "cell_type": "code",
   "execution_count": 27,
   "id": "a3d3695e",
   "metadata": {},
   "outputs": [
    {
     "data": {
      "text/plain": [
       "['4973', '6016', '7361', '306', '307']"
      ]
     },
     "execution_count": 27,
     "metadata": {},
     "output_type": "execute_result"
    }
   ],
   "source": [
    "# Top 5 movie list for 'userId 1'\n",
    "model.topk_recommendation('1',topk=5)"
   ]
  },
  {
   "cell_type": "code",
   "execution_count": 28,
   "id": "523d5681",
   "metadata": {},
   "outputs": [
    {
     "data": {
      "text/plain": [
       "[('7361', 0.79582864),\n",
       " ('4226', 0.75482124),\n",
       " ('6711', 0.7251757),\n",
       " ('6016', 0.7054305),\n",
       " ('5618', 0.6970457)]"
      ]
     },
     "execution_count": 28,
     "metadata": {},
     "output_type": "execute_result"
    }
   ],
   "source": [
    "# Simmilar movie with 'movieId 4973'\n",
    "model.most_similar('4973',topk=5)"
   ]
  },
  {
   "cell_type": "code",
   "execution_count": null,
   "id": "fc440078",
   "metadata": {},
   "outputs": [],
   "source": []
  }
 ],
 "metadata": {
  "kernelspec": {
   "display_name": "recomm",
   "language": "python",
   "name": "recomm"
  },
  "language_info": {
   "codemirror_mode": {
    "name": "ipython",
    "version": 3
   },
   "file_extension": ".py",
   "mimetype": "text/x-python",
   "name": "python",
   "nbconvert_exporter": "python",
   "pygments_lexer": "ipython3",
   "version": "3.6.13"
  }
 },
 "nbformat": 4,
 "nbformat_minor": 5
}
