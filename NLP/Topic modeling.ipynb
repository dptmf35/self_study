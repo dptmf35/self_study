{
 "cells": [
  {
   "cell_type": "markdown",
   "id": "b1d3e895",
   "metadata": {},
   "source": [
    "# LSA(잠재의미 분석)"
   ]
  },
  {
   "cell_type": "markdown",
   "id": "0062763a",
   "metadata": {},
   "source": [
    "- DTM이나 TF-IDF 행렬에 Truncated SVD를 사용하여 차원을 축소시키고, 단어들의 잠재 의미를 끌어낸다"
   ]
  },
  {
   "cell_type": "code",
   "execution_count": 1,
   "id": "8559e75a",
   "metadata": {},
   "outputs": [],
   "source": [
    "import pandas as pd\n",
    "import numpy as np\n",
    "from sklearn.datasets import fetch_20newsgroups\n",
    "import nltk\n",
    "from nltk.corpus import stopwords\n",
    "from sklearn.feature_extraction.text import TfidfVectorizer\n",
    "from sklearn.decomposition import TruncatedSVD\n",
    "import warnings\n",
    "warnings.filterwarnings('ignore')"
   ]
  },
  {
   "cell_type": "code",
   "execution_count": 2,
   "id": "bc49a37e",
   "metadata": {},
   "outputs": [
    {
     "name": "stdout",
     "output_type": "stream",
     "text": [
      "샘플의 수 : 11314\n"
     ]
    }
   ],
   "source": [
    "dataset = fetch_20newsgroups(shuffle=True, random_state=1, remove=('headers', 'footers', 'quotes'))\n",
    "documents = dataset.data\n",
    "print(f'샘플의 수 : {len(documents)}')"
   ]
  },
  {
   "cell_type": "code",
   "execution_count": 3,
   "id": "5dcfb366",
   "metadata": {},
   "outputs": [
    {
     "name": "stdout",
     "output_type": "stream",
     "text": [
      "['alt.atheism', 'comp.graphics', 'comp.os.ms-windows.misc', 'comp.sys.ibm.pc.hardware', 'comp.sys.mac.hardware', 'comp.windows.x', 'misc.forsale', 'rec.autos', 'rec.motorcycles', 'rec.sport.baseball', 'rec.sport.hockey', 'sci.crypt', 'sci.electronics', 'sci.med', 'sci.space', 'soc.religion.christian', 'talk.politics.guns', 'talk.politics.mideast', 'talk.politics.misc', 'talk.religion.misc']\n"
     ]
    }
   ],
   "source": [
    "print(dataset.target_names) # 뉴스그룹 데이터의 카테고리(20개)"
   ]
  },
  {
   "cell_type": "markdown",
   "id": "a3e2f14c",
   "metadata": {},
   "source": [
    "### 텍스트 전처리"
   ]
  },
  {
   "cell_type": "code",
   "execution_count": 4,
   "id": "f8d8687c",
   "metadata": {},
   "outputs": [],
   "source": [
    "df = pd.DataFrame({'documents' : documents})\n",
    "df['cleaned_doc'] = df['documents'].str.replace('[^a-zA-z]', ' ') # 정규식으로 특수문자 제거\n",
    "df['cleaned_doc'] = df['cleaned_doc'].apply(lambda x : ' '.join([w for w in x.split() if len(x)>3])) # 3글자 넘는 텍스트만\n",
    "df['cleaned_doc'] = df['cleaned_doc'].apply(lambda x : x.lower()) # 소문자로 변환"
   ]
  },
  {
   "cell_type": "code",
   "execution_count": 5,
   "id": "b45e7694",
   "metadata": {},
   "outputs": [
    {
     "name": "stdout",
     "output_type": "stream",
     "text": [
      "['yeah', 'expect', 'people', 'read', 'faq', 'etc', 'actually', 'accept', 'hard', 'atheism', 'need', 'little', 'leap', 'faith', 'jimmy', 'logic', 'runs', 'steam', 'jim', 'sorry', 'pity', 'jim', 'sorry', 'feelings', 'denial', 'faith', 'need', 'get', 'oh', 'well', 'pretend', 'end', 'happily', 'ever', 'anyway', 'maybe', 'start', 'new', 'newsgroup', 'alt', 'atheist', 'hard', 'bummin', 'much', 'bye', 'bye', 'big', 'jim', 'forget', 'flintstone', 'chewables', 'bake', 'timmons', 'iii']\n"
     ]
    }
   ],
   "source": [
    "# 불용어\n",
    "stop_words = stopwords.words('english')\n",
    "tokenized_doc = df['cleaned_doc'].apply(lambda x : x.split())\n",
    "tokenized_doc = tokenized_doc.apply(lambda x : [item for item in x if item not in stop_words])\n",
    "print(tokenized_doc[1])"
   ]
  },
  {
   "cell_type": "code",
   "execution_count": 6,
   "id": "9ed861ba",
   "metadata": {},
   "outputs": [],
   "source": [
    "# TF-IDF 행렬\n",
    "detokenized_doc = [] # 역토큰화\n",
    "for i in range(len(df)) :\n",
    "    t = ' '.join(tokenized_doc[i])\n",
    "    detokenized_doc.append(t)\n",
    "    \n",
    "df['clean_doc'] = detokenized_doc"
   ]
  },
  {
   "cell_type": "code",
   "execution_count": 7,
   "id": "3d9608f2",
   "metadata": {},
   "outputs": [
    {
     "name": "stdout",
     "output_type": "stream",
     "text": [
      "TF-IDF 행렬 크기 : (11314, 1000)\n"
     ]
    }
   ],
   "source": [
    "# 상위 1000개 단어 보존\n",
    "vectorizer = TfidfVectorizer(stop_words='english', max_features = 1000,\n",
    "                            max_df=0.5, smooth_idf=True)\n",
    "\n",
    "X = vectorizer.fit_transform(df['clean_doc'])\n",
    "print(f'TF-IDF 행렬 크기 : {X.shape}')"
   ]
  },
  {
   "cell_type": "markdown",
   "id": "cd9fc945",
   "metadata": {},
   "source": [
    "### 토픽 모델링"
   ]
  },
  {
   "cell_type": "code",
   "execution_count": 8,
   "id": "b645f171",
   "metadata": {},
   "outputs": [
    {
     "data": {
      "text/plain": [
       "30"
      ]
     },
     "execution_count": 8,
     "metadata": {},
     "output_type": "execute_result"
    }
   ],
   "source": [
    "svd = TruncatedSVD(n_components=30, algorithm='randomized', n_iter=100,\n",
    "                  random_state=0)\n",
    "svd.fit(X)\n",
    "len(svd.components_)"
   ]
  },
  {
   "cell_type": "code",
   "execution_count": 9,
   "id": "25e647a3",
   "metadata": {},
   "outputs": [
    {
     "data": {
      "text/plain": [
       "(30, 1000)"
      ]
     },
     "execution_count": 9,
     "metadata": {},
     "output_type": "execute_result"
    }
   ],
   "source": [
    "np.shape(svd.components_)"
   ]
  },
  {
   "cell_type": "code",
   "execution_count": 11,
   "id": "87aa794e",
   "metadata": {},
   "outputs": [
    {
     "name": "stdout",
     "output_type": "stream",
     "text": [
      "Topic 1: [('like', 0.19259), ('people', 0.18158), ('know', 0.18046), ('think', 0.16337), ('good', 0.13876)]\n",
      "Topic 2: [('windows', 0.24861), ('thanks', 0.24842), ('card', 0.14924), ('drive', 0.14144), ('file', 0.12795)]\n",
      "Topic 3: [('god', 0.55292), ('jesus', 0.19138), ('windows', 0.14159), ('thanks', 0.12546), ('bible', 0.1156)]\n",
      "Topic 4: [('key', 0.26756), ('use', 0.19789), ('government', 0.19529), ('people', 0.18715), ('chip', 0.1511)]\n",
      "Topic 5: [('drive', 0.42574), ('scsi', 0.17444), ('mb', 0.16456), ('card', 0.15601), ('disk', 0.13606)]\n",
      "Topic 6: [('windows', 0.37433), ('file', 0.21786), ('window', 0.16185), ('files', 0.15976), ('game', 0.15579)]\n",
      "Topic 7: [('edu', 0.41718), ('god', 0.21425), ('com', 0.14189), ('team', 0.1317), ('key', 0.12201)]\n",
      "Topic 8: [('key', 0.39663), ('chip', 0.23618), ('god', 0.19907), ('thanks', 0.17538), ('clipper', 0.15697)]\n",
      "Topic 9: [('car', 0.43925), ('like', 0.31015), ('good', 0.18644), ('bike', 0.15935), ('god', 0.14572)]\n",
      "Topic 10: [('edu', 0.40728), ('like', 0.32352), ('think', 0.27784), ('know', 0.26799), ('key', 0.1509)]\n",
      "Topic 11: [('card', 0.49786), ('video', 0.2335), ('com', 0.17828), ('people', 0.15347), ('monitor', 0.1429)]\n",
      "Topic 12: [('like', 0.68373), ('new', 0.17437), ('space', 0.12724), ('sounds', 0.09198), ('sale', 0.07713)]\n",
      "Topic 13: [('com', 0.56345), ('think', 0.38188), ('use', 0.14309), ('space', 0.09675), ('good', 0.09305)]\n",
      "Topic 14: [('com', 0.51538), ('know', 0.27568), ('like', 0.13896), ('said', 0.12228), ('right', 0.1161)]\n",
      "Topic 15: [('com', 0.31034), ('car', 0.30636), ('windows', 0.25603), ('people', 0.24987), ('drive', 0.19139)]\n",
      "Topic 16: [('know', 0.3828), ('space', 0.30024), ('new', 0.28025), ('think', 0.24186), ('file', 0.11612)]\n",
      "Topic 17: [('good', 0.4753), ('people', 0.31162), ('use', 0.24863), ('know', 0.18875), ('com', 0.11335)]\n",
      "Topic 18: [('use', 0.49605), ('know', 0.29064), ('new', 0.24814), ('people', 0.15936), ('window', 0.15655)]\n",
      "Topic 19: [('people', 0.37552), ('space', 0.29483), ('car', 0.19651), ('time', 0.12518), ('god', 0.11654)]\n",
      "Topic 20: [('car', 0.3483), ('use', 0.27625), ('israel', 0.20367), ('space', 0.19792), ('like', 0.13546)]\n",
      "Topic 21: [('right', 0.36181), ('bike', 0.26405), ('windows', 0.17641), ('got', 0.16528), ('thanks', 0.15503)]\n",
      "Topic 22: [('file', 0.3148), ('game', 0.22897), ('right', 0.22885), ('bike', 0.20204), ('need', 0.17609)]\n",
      "Topic 23: [('time', 0.42547), ('use', 0.31263), ('said', 0.17343), ('new', 0.16238), ('armenian', 0.11966)]\n",
      "Topic 24: [('file', 0.38733), ('problem', 0.31), ('year', 0.28038), ('files', 0.16187), ('got', 0.14733)]\n",
      "Topic 25: [('problem', 0.28857), ('windows', 0.19134), ('time', 0.17749), ('dos', 0.14801), ('sale', 0.14763)]\n",
      "Topic 26: [('year', 0.46664), ('time', 0.30614), ('believe', 0.12103), ('old', 0.11459), ('bit', 0.11287)]\n",
      "Topic 27: [('problem', 0.34789), ('gun', 0.18228), ('law', 0.1522), ('make', 0.13321), ('sure', 0.12888)]\n",
      "Topic 28: [('israel', 0.27965), ('people', 0.22073), ('bike', 0.20842), ('thanks', 0.16387), ('key', 0.16105)]\n",
      "Topic 29: [('time', 0.37114), ('need', 0.35415), ('team', 0.17077), ('new', 0.17055), ('file', 0.15905)]\n",
      "Topic 30: [('need', 0.29583), ('year', 0.23564), ('mail', 0.20837), ('want', 0.17214), ('post', 0.1354)]\n"
     ]
    }
   ],
   "source": [
    "terms = vectorizer.get_feature_names()\n",
    "\n",
    "def get_topics(components, feature_names, n=5) :\n",
    "    for idx, topic in enumerate(components) :\n",
    "        print('Topic %d:' %(idx+1), [(feature_names[i], topic[i].round(5)) for i in topic.argsort()[:-n - 1 : -1]])\n",
    "get_topics(svd.components_, terms)"
   ]
  },
  {
   "cell_type": "code",
   "execution_count": null,
   "id": "02718041",
   "metadata": {},
   "outputs": [],
   "source": []
  },
  {
   "cell_type": "markdown",
   "id": "de26c365",
   "metadata": {},
   "source": [
    "# LDA(잠재 디리클레 할당)"
   ]
  },
  {
   "cell_type": "markdown",
   "id": "53598252",
   "metadata": {},
   "source": [
    "- 문서 집합에서 존재하는 토픽을 찾는 알고리즘\n",
    "- 단어가 특정 토픽에 존재할 확률, 문서에 특정 토픽이 존재할 확률을 결합확률로 추정하여 토픽을 추출"
   ]
  },
  {
   "cell_type": "code",
   "execution_count": 12,
   "id": "fdfedb34",
   "metadata": {},
   "outputs": [
    {
     "data": {
      "text/plain": [
       "0    [well, sure, story, nad, seem, biased, disagre...\n",
       "1    [yeah, expect, people, read, faq, etc, actuall...\n",
       "2    [although, realize, principle, one, strongest,...\n",
       "3    [notwithstanding, legitimate, fuss, proposal, ...\n",
       "4    [well, change, scoring, playoff, pool, unfortu...\n",
       "Name: cleaned_doc, dtype: object"
      ]
     },
     "execution_count": 12,
     "metadata": {},
     "output_type": "execute_result"
    }
   ],
   "source": [
    "tokenized_doc[:5]"
   ]
  },
  {
   "cell_type": "code",
   "execution_count": 13,
   "id": "1d7e32bb",
   "metadata": {},
   "outputs": [
    {
     "name": "stdout",
     "output_type": "stream",
     "text": [
      "[(59, 1), (62, 1), (63, 1), (64, 1), (65, 1), (66, 1), (67, 1), (68, 1), (69, 1), (70, 1), (71, 2), (72, 1), (73, 1), (74, 1), (75, 1), (76, 1), (77, 1), (78, 2), (79, 1), (80, 1), (81, 1), (82, 1), (83, 1), (84, 1), (85, 2), (86, 1), (87, 3), (88, 1), (89, 1), (90, 1), (91, 1), (92, 1), (93, 1), (94, 2), (95, 1), (96, 1), (97, 1), (98, 1), (99, 1), (100, 1), (101, 1), (102, 1), (103, 2), (104, 1), (105, 1), (106, 1), (107, 1)]\n"
     ]
    }
   ],
   "source": [
    "from gensim import corpora\n",
    "dic = corpora.Dictionary(tokenized_doc)\n",
    "corpus = [dic.doc2bow(text) for text in tokenized_doc]\n",
    "print(corpus[1])"
   ]
  },
  {
   "cell_type": "code",
   "execution_count": 14,
   "id": "a24b5a30",
   "metadata": {},
   "outputs": [
    {
     "name": "stdout",
     "output_type": "stream",
     "text": [
      "(0, '0.012*\"runs\" + 0.011*\"mon\" + 0.011*\"ball\" + 0.010*\"hit\"')\n",
      "(1, '0.587*\"ax\" + 0.057*\"q\" + 0.046*\"f\" + 0.043*\"max\"')\n",
      "(2, '0.012*\"georgia\" + 0.006*\"corn\" + 0.005*\"hci\" + 0.005*\"mom\"')\n",
      "(3, '0.015*\"armenian\" + 0.013*\"armenians\" + 0.012*\"said\" + 0.011*\"turkish\"')\n",
      "(4, '0.064*\"`\" + 0.056*\"w\" + 0.035*\"b\" + 0.032*\"u\"')\n",
      "(5, '0.178*\"x\" + 0.020*\"file\" + 0.014*\"window\" + 0.012*\"output\"')\n",
      "(6, '0.018*\"game\" + 0.018*\"team\" + 0.013*\"play\" + 0.011*\"year\"')\n",
      "(7, '0.024*\"drive\" + 0.021*\"card\" + 0.018*\"db\" + 0.018*\"mb\"')\n",
      "(8, '0.013*\"would\" + 0.012*\"one\" + 0.010*\"like\" + 0.010*\"get\"')\n",
      "(9, '0.018*\"edu\" + 0.010*\"com\" + 0.010*\"available\" + 0.007*\"software\"')\n",
      "(10, '0.016*\"ms\" + 0.015*\"myers\" + 0.010*\"de\" + 0.008*\"nist\"')\n",
      "(11, '0.011*\"people\" + 0.009*\"would\" + 0.009*\"one\" + 0.007*\"god\"')\n",
      "(12, '0.012*\"picture\" + 0.012*\"smokeless\" + 0.010*\"sleeve\" + 0.010*\"hanging\"')\n",
      "(13, '0.015*\"new\" + 0.014*\"games\" + 0.013*\"san\" + 0.011*\"st\"')\n",
      "(14, '0.016*\"space\" + 0.008*\"president\" + 0.006*\"nasa\" + 0.006*\"research\"')\n",
      "(15, '0.103*\"\\\\\" + 0.014*\"dos\" + 0.014*\"__\" + 0.014*\"cd\"')\n",
      "(16, '0.042*\"car\" + 0.036*\"israel\" + 0.022*\"israeli\" + 0.019*\"bike\"')\n",
      "(17, '0.021*\"_\" + 0.012*\"sale\" + 0.010*\"condition\" + 0.008*\"offer\"')\n",
      "(18, '0.025*\"key\" + 0.010*\"encryption\" + 0.009*\"use\" + 0.009*\"chip\"')\n",
      "(19, '0.025*\"please\" + 0.020*\"mail\" + 0.018*\"list\" + 0.015*\"send\"')\n"
     ]
    }
   ],
   "source": [
    "import gensim\n",
    "num_topics = 20\n",
    "lda = gensim.models.ldamodel.LdaModel(corpus, num_topics=num_topics, id2word=dic, passes=15)\n",
    "topics = lda.print_topics(num_words=4)\n",
    "for topic in topics :\n",
    "    print(topic)\n",
    "\n",
    "# --> 20개의 토픽, * 해당 토픽에 대한 각각의 기여도"
   ]
  },
  {
   "cell_type": "markdown",
   "id": "53517a12",
   "metadata": {},
   "source": [
    "### 시각화"
   ]
  },
  {
   "cell_type": "code",
   "execution_count": 15,
   "id": "195344d3",
   "metadata": {},
   "outputs": [
    {
     "name": "stderr",
     "output_type": "stream",
     "text": [
      "C:\\Users\\PC\\anaconda3\\envs\\yeseul\\lib\\site-packages\\joblib\\numpy_pickle.py:104: DeprecationWarning: tostring() is deprecated. Use tobytes() instead.\n",
      "  pickler.file_handle.write(chunk.tostring('C'))\n",
      "C:\\Users\\PC\\anaconda3\\envs\\yeseul\\lib\\site-packages\\joblib\\numpy_pickle.py:104: DeprecationWarning: tostring() is deprecated. Use tobytes() instead.\n",
      "  pickler.file_handle.write(chunk.tostring('C'))\n"
     ]
    },
    {
     "data": {
      "text/html": [
       "\n",
       "<link rel=\"stylesheet\" type=\"text/css\" href=\"https://cdn.jsdelivr.net/gh/bmabey/pyLDAvis@3.3.1/pyLDAvis/js/ldavis.v1.0.0.css\">\n",
       "\n",
       "\n",
       "<div id=\"ldavis_el2088826073336635608443781244\"></div>\n",
       "<script type=\"text/javascript\">\n",
       "\n",
       "var ldavis_el2088826073336635608443781244_data = {\"mdsDat\": {\"x\": [0.2854877733317212, 0.2729121676048013, 0.030123468243222387, 0.21711698992305378, 0.030617532353689633, 0.15408637846440051, 0.15789998882265674, 0.15545995899460857, 0.07948623935793903, 0.02008144660161944, 0.022898945297777383, -0.0739243842307446, -0.04968098209107055, -0.09068592733070731, -0.1604743088106264, -0.1919958610255237, -0.1937966028234172, -0.21588889178001083, -0.22194973195997772, -0.227774198943412], \"y\": [0.12138092243160731, 0.13353147247511232, -0.3845135896098458, -0.0017594326347727329, -0.4110917584717296, 0.06114484516050527, 0.049663949180015494, -0.053902232703653165, 0.0839293956953666, 0.065126737245301, -0.056769796655494684, 0.02458735254102991, 0.07253568825310272, 0.042675788704512836, 0.025993619394434446, 0.03477557963586721, 0.03403169237420092, 0.03736897839502714, 0.05536702242514973, 0.06592376616426389], \"topics\": [1, 2, 3, 4, 5, 6, 7, 8, 9, 10, 11, 12, 13, 14, 15, 16, 17, 18, 19, 20], \"cluster\": [1, 1, 1, 1, 1, 1, 1, 1, 1, 1, 1, 1, 1, 1, 1, 1, 1, 1, 1, 1], \"Freq\": [21.941740661837322, 21.68996811789507, 10.04351540115398, 8.997276234562925, 7.914852737350555, 5.424576828971177, 3.811237223570956, 3.6575634407425888, 3.250355467171975, 2.933081428633994, 2.5664434553214, 1.6695041316576886, 1.5464278109918603, 1.1815415338918314, 1.0694547203862326, 0.8140935602700985, 0.6506786240881678, 0.33540825954470593, 0.3243253789011327, 0.17795498305635304]}, \"tinfo\": {\"Term\": [\"ax\", \"x\", \"`\", \"\\\\\", \"q\", \"w\", \"f\", \"g\", \"max\", \"v\", \"u\", \"r\", \"b\", \"k\", \"c\", \"p\", \"z\", \"l\", \"_\", \"e\", \"]\", \"people\", \"h\", \"j\", \"edu\", \"n\", \"please\", \"file\", \"would\", \"key\", \"supply\", \"cheap\", \"insurance\", \"nec\", \"lock\", \"circuit\", \"henrik]\", \"wiring\", \"plug\", \"backup\", \"plastic\", \"chain\", \"paying\", \"voltage\", \"adl\", \"speeds\", \"fat\", \"shop\", \"timing\", \"afford\", \"vram\", \"specs\", \"bigger\", \"duo\", \"wires\", \"crash\", \"centris\", \"slower\", \"hook\", \"burst\", \"buy\", \"wondering\", \"cheaper\", \"bought\", \"jobs\", \"looks\", \"ride\", \"fine\", \"getting\", \"store\", \"expensive\", \"get\", \"extra\", \"pretty\", \"like\", \"got\", \"lot\", \"work\", \"know\", \"back\", \"anyone\", \"fast\", \"much\", \"problems\", \"pay\", \"want\", \"could\", \"good\", \"would\", \"problem\", \"better\", \"money\", \"time\", \"around\", \"one\", \"looking\", \"going\", \"really\", \"need\", \"sure\", \"probably\", \"something\", \"well\", \"way\", \"make\", \"think\", \"two\", \"use\", \"used\", \"also\", \"even\", \"since\", \"new\", \"see\", \"god\", \"jesus\", \"christian\", \"bible\", \"church\", \"christians\", \"truth\", \"religion\", \"faith\", \"christ\", \"laws\", \"moral\", \"christianity\", \"existence\", \"belief\", \"spirit\", \"lord\", \"holy\", \"matthew\", \"koresh\", \"beliefs\", \"conclusion\", \"atheism\", \"respect\", \"evil\", \"judge\", \"atheists\", \"morality\", \"heaven\", \"militia\", \"evidence\", \"religious\", \"firearms\", \"death\", \"argument\", \"life\", \"people\", \"guns\", \"believe\", \"crime\", \"say\", \"man\", \"human\", \"gun\", \"person\", \"claim\", \"fact\", \"true\", \"law\", \"us\", \"would\", \"think\", \"many\", \"one\", \"even\", \"see\", \"must\", \"said\", \"world\", \"well\", \"right\", \"may\", \"point\", \"know\", \"way\", \"time\", \"also\", \"make\", \"like\", \"could\", \"lk\", \"q\\\\\", \"ql\", \"^\", \"qs\", \"ck\", \"mv\", \"]w\", \"mw\", \"dy\", \"mk\", \"uw\", \"tl\", \"\\\\_\", \"c_\", \"t\\\\\", \"\\\\t\", \"x^\", \"zd\", \"pu\", \"bh\", \"cj\", \"\\\\k\", \"\\\\w\", \"q]\", \"qy\", \"jz\", \"aq\", \"rg\", \"kh\", \"`\", \"w\", \"u]\", \"j\", \"h\", \"ww\", \"k\", \"\\\\\", \"z\", \"p\", \"n\", \"l\", \"b\", \"_\", \"c\", \"u\", \"r\", \"]\", \"v\", \"g\", \"[\", \"e\", \"hz\", \"f\", \"ah\", \"q\", \"p\\\\\", \"x\", \"pl\", \"ftp\", \"tar\", \"jpeg\", \"gif\", \"printf\", \"lcs\", \"formats\", \"uuencode\", \"servers\", \"pub\", \"binaries\", \"sgi\", \"shareware\", \"guidelines\", \"openwindows\", \"programmer\", \"platforms\", \"borland\", \"tiff\", \"workstation\", \"msdos\", \"linux\", \"workstations\", \"readme\", \"gnu\", \"terminals\", \"visualization\", \"animation\", \"defaults\", \"bandwidth\", \"contrib\", \"vendor\", \"zip\", \"anonymous\", \"image\", \"fax\", \"edu\", \"comp\", \"archive\", \"graphics\", \"dec\", \"unix\", \"mit\", \"images\", \"software\", \"internet\", \"available\", \"version\", \"directory\", \"com\", \"faq\", \"files\", \"export\", \"cs\", \"sun\", \"server\", \"format\", \"mail\", \"information\", \"user\", \"file\", \"email\", \"data\", \"send\", \"windows\", \"also\", \"]\", \"based\", \"system\", \"program\", \"use\", \"[\", \"c\", \"e\", \"r\", \"ax\", \"max\", \"francis\", \"financial\", \"nei\", \"p]\", \"qq\", \"execution\", \"ey\", \"w]_\", \"t]\", \"caste\", \"wri\", \"tq\", \"gk\", \"fq\", \"quantities\", \"bud\", \"gq\", \"tm\", \"eq\", \"d]\", \"ei\", \"]_\", \"di\", \"]f\", \"tg\", \"um\", \"bs\", \"m]\", \"m[\", \"q\", \"f\", \"pl\", \"g\", \"v\", \"mf\", \"u\", \"p\\\\\", \"r\", \"b\", \"l\", \"e\", \"p\", \"z\", \"[\", \"n\", \"launch\", \"satellite\", \"shuttle\", \"orbit\", \"lunar\", \"solar\", \"satellites\", \"spacecraft\", \"naval\", \"launched\", \"funding\", \"mars\", \"missions\", \"telescope\", \"planetary\", \"cdc\", \"avenue\", \"propulsion\", \"orbital\", \"atmosphere\", \"payload\", \"maryland\", \"venus\", \"ozone\", \"aerospace\", \"gravity\", \"molecular\", \"ieee\", \"integration\", \"gps\", \"sky\", \"newsletter\", \"senate\", \"moon\", \"mission\", \"centers\", \"nasa\", \"flight\", \"nuclear\", \"space\", \"senior\", \"president\", \"billion\", \"center\", \"research\", \"united\", \"congress\", \"energy\", \"national\", \"washington\", \"april\", \"earth\", \"states\", \"dc\", \"university\", \"science\", \"water\", \"program\", \"report\", \"administration\", \"year\", \"technology\", \"data\", \"american\", \"new\", \"office\", \"years\", \"control\", \"us\", \"first\", \"also\", \"information\", \"encryption\", \"keys\", \"clipper\", \"privacy\", \"des\", \"ripem\", \"enforcement\", \"nsa\", \"escrow\", \"rsa\", \"cryptography\", \"patients\", \"pgp\", \"encrypted\", \"crypto\", \"gordon\", \"cancer\", \"diseases\", \"surrender\", \"crypt\", \"wiretap\", \"phones\", \"eff\", \"skepticism\", \"candida\", \"cipher\", \"key\", \"intellect\", \"shameful\", \"cadre\", \"security\", \"medical\", \"secure\", \"disease\", \"banks\", \"chip\", \"algorithm\", \"agencies\", \"secret\", \"public\", \"drug\", \"health\", \"government\", \"law\", \"use\", \"information\", \"number\", \"technology\", \"system\", \"n\", \"data\", \"u\", \"bit\", \"used\", \"widget\", \"char\", \"null\", \"xterm\", \"lib\", \"xlib\", \"exit\", \"prog\", \"colormap\", \"pixmap\", \"cursor\", \"icon\", \"allocation\", \"xdm\", \"osf\", \"temp\", \"handler\", \"xmu\", \"entries\", \"restore\", \"parameter\", \"compilers\", \"ncd\", \"flags\", \"grayscale\", \"toplevel\", \"ultrix\", \"mwm\", \"soundblaster\", \"debugger\", \"entry\", \"int\", \"window\", \"output\", \"string\", \"x\", \"contest\", \"echo\", \"font\", \"\\\\n\", \"stream\", \"file\", \"app\", \"remark\", \"application\", \"client\", \"section\", \"function\", \"program\", \"build\", \"input\", \"define\", \"motif\", \"error\", \"rules\", \"xt\", \"display\", \"return\", \"c\", \"set\", \"r\", \"size\", \"use\", \"]\", \"line\", \"open\", \"info\", \"n\", \"files\", \"armenian\", \"armenians\", \"turkish\", \"turkey\", \"armenia\", \"turks\", \"genocide\", \"apartment\", \"azerbaijan\", \"azerbaijani\", \"sumgait\", \"karina\", \"ho\", \"greece\", \"karabakh\", \"nazis\", \"republic\", \"argic\", \"ottoman\", \"serdar\", \"massacre\", \"azeri\", \"mamma\", \"baku\", \"azerbaijanis\", \"cyprus\", \"azeris\", \"kurds\", \"istanbul\", \"lyuda\", \"nazi\", \"soldiers\", \"greek\", \"soviet\", \"war\", \"killed\", \"muslim\", \"jews\", \"russian\", \"women\", \"said\", \"went\", \"army\", \"germany\", \"children\", \"german\", \"came\", \"people\", \"started\", \"saw\", \"government\", \"us\", \"told\", \"one\", \"players\", \"nhl\", \"puck\", \"scorer\", \"scored\", \"cubs\", \"flyers\", \"pts\", \"leafs\", \"islanders\", \"hartford\", \"defensive\", \"sharks\", \"lemieux\", \"hawks\", \"lindros\", \"tampa\", \"mets\", \"murray\", \"edmonton\", \"defenseman\", \"blues\", \"gilmour\", \"mvp\", \"pds\", \"winnipeg\", \"goalie\", \"habs\", \"recchi\", \"sabres\", \"season\", \"devils\", \"calgary\", \"teams\", \"team\", \"hockey\", \"kings\", \"jets\", \"game\", \"play\", \"scoring\", \"stats\", \"score\", \"player\", \"playoffs\", \"detroit\", \"vancouver\", \"played\", \"period\", \"la\", \"league\", \"gm\", \"baseball\", \"games\", \"goal\", \"flames\", \"year\", \"pp\", \"vs\", \"win\", \"first\", \"second\", \"third\", \"last\", \"power\", \"two\", \"st\", \"scsi\", \"ram\", \"controller\", \"drives\", \"vga\", \"motherboard\", \"bios\", \"cpu\", \"isa\", \"adapter\", \"irq\", \"adaptec\", \"nubus\", \"quadra\", \"vlb\", \"svga\", \"diamond\", \"ati\", \"slots\", \"dma\", \"eisa\", \"rockefeller\", \"connector\", \"ethernet\", \"mhz\", \"alomar\", \"accelerators\", \"quicktime\", \"norton\", \"fpu\", \"card\", \"db\", \"floppy\", \"disk\", \"bus\", \"drive\", \"vesa\", \"apple\", \"monitor\", \"port\", \"dx\", \"modem\", \"video\", \"mb\", \"mac\", \"pin\", \"dos\", \"cards\", \"memory\", \"pc\", \"sys\", \"mouse\", \"drivers\", \"windows\", \"board\", \"mode\", \"hard\", \"bit\", \"system\", \"driver\", \"k\", \"msg\", \"simms\", \"stereo\", \"detector\", \"acid\", \"simm\", \"dodgers\", \"obo\", \"foods\", \"gnd\", \"rpm\", \"kidney\", \"restaurant\", \"batteries\", \"neck\", \"protein\", \"glutamate\", \"diagnosed\", \"watts\", \"bury\", \"disc\", \"amplifier\", \"amps\", \"twins\", \"overtime\", \"outs\", \"jacket\", \"headaches\", \"yep\", \"tea\", \"diet\", \"amp\", \"sale\", \"condition\", \"timer\", \"radar\", \"food\", \"channel\", \"excellent\", \"offer\", \"shipping\", \"audio\", \"asking\", \"scores\", \"_\", \"battery\", \"pain\", \"surgery\", \"sony\", \"sell\", \"price\", \"unit\", \"cd\", \"best\", \"model\", \"sound\", \"new\", \"included\", \"old\", \"body\", \"sports\", \"quebec\", \"pens\", \"espn\", \"abc\", \"sox\", \"phillies\", \"conductor\", \"astros\", \"football\", \"hulk\", \"campbell\", \"nut\", \"jays\", \"mario\", \"wolverine\", \"comics\", \"tigers\", \"sas\", \"franchise\", \"copper\", \"orioles\", \"bure\", \"messier\", \"comic\", \"speedstar\", \"mint\", \"picks\", \"hawk\", \"sport\", \"tie\", \"milwaukee\", \"wins\", \"san\", \"francisco\", \"cooper\", \"cleveland\", \"games\", \"diego\", \"york\", \"chicago\", \"st\", \"pick\", \"captain\", \"city\", \"pittsburgh\", \"cover\", \"vs\", \"league\", \"friday\", \"new\", \"lost\", \"angeles\", \"los\", \"boston\", \"east\", \"tv\", \"game\", \"series\", \"year\", \"th\", \"last\", \"edu\", \"go\", \"filename\", \"weaver\", \"circuits\", \"qur\", \"outlets\", \"outlet\", \"pointer\", \"dpy\", \"skip\", \"stewart\", \"consensus\", \"publisher\", \"breaker\", \"fleet\", \"cod\", \"restraint\", \"tis\", \"unclear\", \"compiling\", \"ama\", \"kits\", \"mitre\", \"zealand\", \"partial\", \"household\", \"promotion\", \"thumbs\", \"transformer\", \"ian\", \"lang\", \"pointers\", \"idle\", \"rec\", \"wire\", \"neutral\", \"clinic\", \"grounded\", \"listserv\", \"ground\", \"mailing\", \"list\", \"please\", \"mail\", \"send\", \"request\", \"interested\", \"reply\", \"email\", \"music\", \"thanks\", \"address\", \"post\", \"dod\", \"requests\", \"connected\", \"e\", \"box\", \"com\", \"posting\", \"book\", \"subject\", \"posts\", \"anyone\", \"israel\", \"israeli\", \"cars\", \"arab\", \"palestinian\", \"arabs\", \"honda\", \"bikes\", \"lebanon\", \"palestinians\", \"sabbath\", \"israelis\", \"tires\", \"lebanese\", \"liar\", \"compass\", \"brake\", \"ford\", \"clutch\", \"shaft\", \"civic\", \"[kk]\", \"bone\", \"brakes\", \"rear\", \"plo\", \"pedal\", \"negotiating\", \"carbs\", \"cpr\", \"bmw\", \"bike\", \"car\", \"miles\", \"engine\", \"steering\", \"tire\", \"autos\", \"wheel\", \"oil\", \"mph\", \"driving\", \"land\", \"road\", \"front\", \"peace\", \"jews\", \"k\", \"bos\", \"pitching\", \"tor\", \"que\", \"braves\", \"helmet\", \"nyi\", \"phi\", \"pitch\", \"edm\", \"ott\", \"hitter\", \"pitcher\", \"alan\", \"innings\", \"laptop\", \"inning\", \"pitched\", \"giants\", \"pitchers\", \"expos\", \"batting\", \"bonds\", \"rbi\", \"aaa\", \"gifs\", \"hof\", \"rectangle\", \"ball\", \"boggs\", \"det\", \"mon\", \"nyr\", \"pit\", \"chi\", \"min\", \"stl\", \"tb\", \"hits\", \"cal\", \"runs\", \"van\", \"nj\", \"hit\", \"buf\", \"sj\", \"win\", \"la\", \"myers\", \"ncsl\", \"jumper\", \"pex\", \"khz\", \"compress\", \"ctrl\", \"ingr\", \"seagate\", \"exclusively\", \"yassin\", \"nords\", \"catbyte\", \"dtmedin\", \"het\", \"gamma\", \"carson\", \"cylinders\", \"sect\", \"cardinals\", \"volvo\", \"huntsville\", \"graham\", \"offenses\", \"oates\", \"fitting\", \"intergraph\", \"een\", \"fielder\", \"toner\", \"redesign\", \"ssf\", \"floppies\", \"slave\", \"nist\", \"jumpers\", \"sw\", \"ms\", \"master\", \"de\", \"anderson\", \"heads\", \"gov\", \"van\", \"st\", \"options\", \"ide\", \"closed\", \"___\", \"____\", \"darren\", \"tocchet\", \"freeware\", \"toshiba\", \"bronx\", \"ico\", \"orchid\", \"confirmation\", \"lens\", \"manhattan\", \"ins\", \"verlag\", \"sank\", \"incremental\", \"turner\", \"bobbe\", \"persecuted\", \"cwru\", \"queens\", \"smartdrive\", \"beauchaine\", \"_______\", \"hooking\", \"mpc\", \"chunks\", \"indianapolis\", \"removable\", \"ramsey\", \"__\", \"clement\", \"hotel\", \"\\\\\", \"storm\", \"cd\", \"dos\", \"bob\", \"tek\", \"edt\", \"blew\", \"vice\", \"com\", \"_____\", \"sea\", \"smokeless\", \"sleeve\", \"decenso\", \"males\", \"suck\", \"cub\", \"xsun\", \"olwm\", \"pan\", \"ttl\", \"contradictions\", \"invaded\", \"nintendo\", \"studio\", \"sega\", \"lan\", \"semitism\", \"ali\", \"hex\", \"shifting\", \"pavement\", \"winmarks\", \"bullinger\", \"armies\", \"awarded\", \"berryhill\", \"promiscuous\", \"netware\", \"rewritten\", \"helper\", \"hanging\", \"dram\", \"`w\", \"catcher\", \"archer\", \"courses\", \"rolling\", \"picture\", \"wg\", \"awards\", \"greek\", \"stones\", \"hang\", \"sed\", \"austria\", \"corn\", \"hci\", \"mom\", \"echl\", \"crowley\", \"inflammatory\", \"teel\", \"conner\", \"cubic\", \"endometriosis\", \"mozumder\", \"resembles\", \"zenith\", \"covington\", \"melrose\", \"compaq\", \"squid\", \"memphis\", \"pathetic\", \"rit\", \"crown\", \"gatech\", \"bankrupt\", \"mca\", \"crucis\", \"ajteel\", \"ultb\", \"cellar\", \"adress\", \"featuring\", \"georgia\", \"uga\", \"yamaha\", \"athens\", \"pacific\", \"contacts\", \"bobby\", \"br\", \"michael\", \"edu\", \"colorado\", \"ai\"], \"Freq\": [62275.0, 11286.0, 8678.0, 3720.0, 8968.0, 7839.0, 7975.0, 7865.0, 4562.0, 6584.0, 6593.0, 7011.0, 6807.0, 3857.0, 5195.0, 4819.0, 3780.0, 4131.0, 2091.0, 4831.0, 4787.0, 4386.0, 2918.0, 2703.0, 2553.0, 3151.0, 1486.0, 1755.0, 6536.0, 1265.0, 224.73715030715113, 198.18865670316643, 183.3263228423606, 158.11310521050774, 155.99602098839537, 149.98389825659797, 142.68574879913135, 130.28327528527885, 125.33000279329548, 113.61968062002208, 112.94711257383061, 110.59710868818205, 110.19515472357008, 109.1550404240596, 101.14988097257991, 95.49742153337992, 91.02484702190287, 86.58623514684633, 82.00842610543224, 82.64310287354064, 80.85203599549516, 80.88675183554597, 83.37993288400763, 78.62648189148833, 76.14827932431092, 76.13283009075774, 73.37710622234574, 71.97498342802535, 71.4516481306519, 70.01945282547881, 508.53340810397617, 186.95085853918422, 130.57241132885784, 265.59524613515634, 248.26433873085585, 308.70317832511324, 147.17379822155806, 409.2799312489647, 606.3176243319851, 131.84871488039053, 179.04947856517398, 2968.5984552620926, 242.57575119479824, 465.78081684487466, 3087.8420934112137, 994.4017549304403, 766.9342585817388, 1342.5760217166373, 2568.5133942760526, 1189.4331531980588, 1260.667455006144, 369.9375036625467, 1594.2038254950983, 640.8365358700022, 329.7338904344737, 1317.394507110314, 1753.1897738852663, 1721.8640349013506, 3722.065022095836, 1145.82019797399, 894.9592239642252, 478.81171896035704, 1917.225199412923, 807.6770971360448, 3543.104661214737, 566.3555498135358, 996.4161638031322, 1034.9249319169298, 1113.6236871203976, 853.8839487167305, 766.61551650001, 1037.953426768226, 1405.5124845489486, 1221.6897149229028, 1203.2091106500163, 1578.3902468040246, 1259.5176554279722, 1545.4273170200797, 1117.3803929360736, 1507.7927444288239, 1145.7882895292885, 947.2941402809806, 1036.905788991545, 973.5131586515048, 1986.9760327383015, 983.5900941791647, 620.6166431513318, 562.4402060435865, 494.10528426571864, 452.72813840718027, 451.53948073380036, 442.39001149201766, 408.08054252844386, 405.79274371109835, 338.51790747230234, 273.5216307266438, 258.89662659737, 249.81308484114462, 229.09288499439424, 216.73721795588918, 213.57146335487576, 202.3779543895497, 200.0507107650086, 199.82201210810226, 195.74699632088468, 193.80079867164636, 185.99113297105617, 188.538106677723, 177.3895251954962, 177.30559287302077, 176.6687056107208, 168.2798730413717, 164.8886180110624, 156.75672664825905, 561.3231277500596, 320.54528973603857, 208.39351593170986, 393.5356802296627, 391.02048573702996, 739.5718931750588, 3159.873788076886, 353.87359661861024, 1131.0894410170067, 303.0357212078833, 1509.5327020747714, 610.8970094592493, 518.7653113262478, 593.0925948047205, 599.9805279236098, 384.86784037543964, 788.5013912471791, 750.429012898754, 714.5173503552168, 1344.948051061416, 2643.312850900684, 1587.9081633034766, 1245.708638961882, 2565.5230206833157, 1210.747442283022, 1090.768150237738, 802.501438010795, 924.3635892611592, 721.4974736541152, 1064.0437603247758, 910.0392523709465, 972.9601332250079, 732.3401759708046, 1076.0938020253313, 871.8334622421996, 927.3603116103163, 950.4091426724228, 788.4830479734768, 922.4058678394197, 746.1178697672175, 434.47350128001057, 412.9285351940461, 330.24305226680167, 1687.2099600146046, 298.8981469370011, 292.81010643896735, 284.4937043338213, 274.0447234685373, 270.0769441066687, 269.9358399256875, 268.4198005578376, 258.99015792577455, 232.3057494291789, 224.83407618536435, 222.25068179058783, 220.88491430095084, 213.6852317462866, 192.8331241731543, 192.51697182451875, 192.31244598422717, 192.27673114321692, 189.62099813233542, 185.54645035809176, 181.42042243785485, 155.08186336041442, 152.10621689434078, 144.6482246756258, 142.300056153409, 140.933207345637, 140.30425630171217, 8554.776274634065, 7556.533461237907, 389.71755561628805, 2481.0237189278932, 2644.5654079234782, 390.6596814661578, 3302.1048735253257, 3013.631761741865, 3001.7637153727815, 3617.9162151664123, 2425.304178994282, 3068.2487959735226, 4682.40164316063, 1625.8735835493906, 3571.7935147225817, 4371.652500204268, 4323.067528668061, 3018.322864579674, 3725.9489861955544, 4292.525838985973, 1992.1248744803922, 2628.128118569019, 392.35286895282275, 2937.321166372703, 391.0456650265272, 2802.4275752781837, 775.4201926685316, 2523.5324974517207, 499.80555198072136, 840.9553490147995, 381.9351010970342, 291.18392151020004, 266.68011076002546, 260.25377006706566, 144.24173793952252, 142.41374699755718, 138.80833283786393, 133.12954371289982, 589.5003910426327, 114.43271028591596, 113.47811463211966, 109.58147277796668, 104.7459165992715, 99.53076555781769, 95.48416836039921, 107.65319573436607, 84.6764263691112, 84.11624352169724, 79.06672213336766, 76.81546867005385, 74.78557885909322, 67.96653107282575, 67.65081270792399, 67.06081146898299, 66.5684991553908, 64.88522006835039, 62.992405010153384, 62.501187722238726, 61.42989462043468, 259.86818064066205, 82.4727924839799, 137.56731777543558, 407.54522471250823, 656.8978737716936, 366.2761496753784, 2205.5960026799694, 351.50268094071686, 267.4323091677553, 576.9422996415547, 212.14878665599235, 338.38682838362706, 399.81757235090134, 289.99699790848433, 872.1826735802711, 392.3096832195036, 1157.687314607831, 779.7305541076483, 330.12455079314435, 1203.1667072199632, 384.02606666709954, 705.6370735931365, 288.6141770208137, 443.18322847439157, 501.86357679306593, 473.8352433954292, 329.8771030676004, 734.1162767941076, 739.9285607801972, 367.2744200071599, 717.3335201738931, 455.42073005018193, 559.7997007371496, 452.8377329423392, 534.7809471427134, 767.5976696004359, 778.9485934635544, 457.8002208474899, 548.0064426554652, 508.65919383759206, 613.3610005563655, 594.557612707682, 575.2411351351143, 526.0551086820695, 517.0850514177513, 62268.17933138357, 4522.718906901849, 57.18887511879987, 43.232667960648065, 26.819724785650948, 190.3492257955506, 205.52147890489945, 12.08291252354092, 424.67770469377945, 360.87714896598493, 494.8106925244728, 7.939937246187205, 7.059333136724999, 347.2521337593722, 240.61438913736524, 130.1596410646992, 4.76357348198755, 4.58602517245836, 142.26393348444986, 635.1055668216981, 170.59636600796316, 106.45659710470763, 565.8938773814147, 111.91788353520526, 625.9546779351186, 76.67119921549833, 118.21217931867258, 378.39315554091013, 142.4554054716471, 140.1668311107404, 270.2655503931354, 6037.380093748121, 4886.04381972274, 864.6984608446205, 3186.8328816497938, 2468.0982194663807, 154.50157952376685, 1681.5289248899267, 502.3001815469092, 1638.1334489308767, 1519.2304316676848, 864.0869953499023, 860.2903567926185, 662.4708459826353, 388.5747130396885, 316.016536869607, 170.57099942761593, 271.9726390431051, 229.30978963372343, 199.46692839329387, 192.5045031559971, 174.86460883061912, 133.0713261928837, 114.72218498899962, 113.8915364829496, 102.81030943369578, 95.76623878753836, 95.12658433611625, 90.98585185296304, 85.97138822524637, 82.78403475078463, 81.38707384885653, 77.1226798040763, 75.11697560904656, 69.06229056180383, 68.83348704818977, 67.71183605620426, 65.04671356674083, 61.08498986981964, 55.4599292952028, 54.35063176312109, 54.287184325341755, 54.262845597042066, 54.256857194930426, 53.63976399556286, 53.25543131049797, 52.9599470451729, 54.5653212689314, 123.88112226415691, 111.72696823246623, 165.99803254109898, 182.83496466898833, 87.5074916604795, 442.32459118253183, 163.5763989047036, 173.03118440460761, 1140.9960615937262, 119.10684646219589, 569.4136010038683, 155.38477266633075, 410.9709936321392, 426.75403470176, 309.64252382316386, 232.1297810891752, 130.45827529323063, 422.1248432822664, 284.74685296665825, 360.87616054652716, 264.60992615540005, 353.0507621280364, 185.76595528386355, 321.7132803622665, 256.03451740318104, 185.46989545480196, 386.83117338845307, 180.24504635304004, 185.29649841500108, 296.4536162274441, 201.7730430020995, 253.19575241291145, 210.4294538860619, 271.9619064722534, 190.2171282253189, 229.11235434374998, 204.730340265403, 221.28189435004685, 217.62308646199, 202.34621984195294, 194.3685848151512, 522.6626227984743, 436.08480644856814, 391.83258516316215, 320.9958288337622, 257.4764652102739, 230.8868872648449, 209.02959657081038, 198.13308782680622, 192.34648926005383, 177.9229823885432, 176.13372765720118, 174.77140686433384, 174.3426175187274, 146.38721015797032, 144.07068677941248, 123.52564467295844, 115.37710093382617, 111.12493595868376, 104.97533174405456, 99.87367574981212, 98.95585579499398, 96.2754882672594, 95.32197551242558, 88.60038258125068, 86.12020277876228, 85.93040414409049, 1252.9131432518313, 80.97713909266561, 77.73530276894978, 76.99846826492752, 432.58555617259003, 298.2813400448495, 214.73533031006977, 200.77669807415145, 125.27832647526073, 473.1720638601188, 228.5858018251142, 155.08211182923182, 202.84162348818697, 469.43513117310664, 178.97704393755646, 283.0210445569102, 420.33444560513215, 294.19915890770244, 475.8480366895509, 295.6405010145665, 283.3658886234395, 207.20844310916445, 300.457970483126, 264.16130680787717, 233.2743442852866, 264.8426931833846, 214.4182222014334, 218.3838694983427, 349.0841095927539, 211.14272938436926, 197.61408946662272, 175.94671583516808, 167.25915942165992, 125.02618945147987, 79.6183675376579, 72.7543685105619, 72.73978132984638, 70.9655327233177, 68.14135523438861, 63.81016674620201, 54.813688543910125, 51.980847776293196, 51.194578190401586, 45.49047119047383, 43.98844243251702, 42.53865301676659, 212.72026791855734, 37.75522197715583, 34.36209878404372, 34.249399116133, 32.55781976087767, 29.225328104511142, 28.789667342433212, 28.776586818880794, 28.775867732507493, 27.173380896090197, 26.938753285144752, 26.187835925756392, 547.415618978542, 216.63657210452314, 671.9716058403694, 610.7932438571345, 146.44063871871285, 8739.648856641139, 153.90483517205695, 100.00514535785459, 142.46930730408542, 99.892237383177, 189.71201506821637, 990.0643254633732, 89.15199184673577, 102.05050094118694, 255.36293449640795, 123.22818816649342, 253.6477879413229, 178.11205611621685, 568.8162229795716, 226.8946930558053, 197.71944132734595, 157.88780893749018, 224.29689651266756, 203.5840586784568, 195.1579186968169, 149.34012053062366, 217.2794353222537, 186.28952918152783, 572.3471881820038, 276.3671963509854, 482.65520241816245, 190.91686140778532, 307.4085571166453, 272.19220369574214, 206.6503571149039, 188.48050546248822, 187.29477768919352, 193.53803396509002, 187.7868153936417, 659.5200286157553, 577.3712646945686, 464.98035749640763, 290.83901550667605, 224.94859062341396, 217.67133703688083, 195.1143908022958, 173.15697477562333, 165.24085524290595, 129.58554432598834, 123.14214144499894, 122.64621495825882, 109.8984840563736, 107.88738104157616, 101.06616032171547, 100.77818173861316, 100.51170696292081, 96.17122429704736, 93.26546146094067, 91.39181037737563, 89.99218638423085, 88.99242163255259, 88.8858459229032, 87.2297383098674, 80.65300675128341, 76.93856382193857, 76.26610831998161, 61.63561257464558, 60.41536786552998, 57.20433718229723, 163.28552012109913, 171.3737816894556, 224.4559099943961, 163.32402410832947, 331.3662878615714, 260.6227173718153, 160.3559509472607, 334.3206472737636, 203.62007981704053, 215.15295717662073, 540.4435471206081, 272.40716899148157, 145.81947857116376, 133.58017070824937, 207.71460761400957, 128.3611865065403, 199.8829006686818, 396.80659342519874, 182.59456982904027, 174.72419660359606, 216.80471331164762, 232.91589327508925, 166.05028086908968, 187.29911601168695, 383.4905738527119, 228.89367931903521, 135.8530163900008, 120.04519977211592, 102.48223951599454, 100.12162111595266, 96.3030816579906, 223.58510023841015, 94.38869071585094, 93.40600359393791, 88.73001104165236, 83.03492910698573, 77.05359012080356, 73.49865355427197, 62.88186609745955, 60.647076682746835, 60.63154828574306, 59.73585771515474, 58.50106869257766, 57.2184176081481, 56.22020208923128, 55.3557376467764, 54.297165953475314, 53.24523490386785, 53.131492713848736, 80.03799882783477, 49.32543363862447, 48.93423061844002, 48.17945350017892, 47.97094827203419, 427.3885695841316, 76.52801360682957, 121.6669904979162, 255.02548638367927, 695.1306094686308, 335.5020148315853, 153.57517818404537, 73.44033854259435, 702.7656197622604, 513.5867425414788, 108.75562037356045, 113.10923736293823, 104.1302083823376, 226.21556400955038, 99.45052709206648, 149.70190261403934, 140.3704755876707, 160.99338587736156, 337.41353167018286, 225.26930660769335, 239.8079502222498, 141.57250074518737, 151.6214742651116, 271.9763998832716, 172.5687555144369, 137.08489927284978, 434.0981551499863, 183.7103185805738, 174.4007493862388, 193.3057970049766, 288.60814143855407, 222.55234513441005, 166.94466576789952, 211.9186379948028, 199.91894449783882, 147.33720188858416, 142.58259253590637, 582.2564694660628, 312.233843290061, 290.409824044769, 308.7036196203587, 190.50181917357835, 160.6500210066262, 159.8987412273423, 151.62253797203078, 147.49831600683612, 104.2256771347609, 97.90932546775761, 85.74270007792876, 81.32095036849485, 81.24389541607822, 78.58447039635034, 77.87256304675986, 76.20910191932707, 75.00636869883947, 74.06906299919581, 72.3125448618754, 72.29906565130298, 71.10900272857268, 78.53214735257757, 65.7970885158286, 283.0192762045013, 46.30484455495998, 40.84517160433682, 39.55423084633329, 98.65499091156244, 94.02815377186839, 719.0407752820837, 614.7757257176294, 221.3141092045278, 585.3818522944017, 313.6999777448359, 842.1481434011434, 87.35731408398236, 341.55364913196144, 291.86615543730943, 226.04711414894433, 155.05758223683551, 231.02106298573193, 354.5681432966198, 608.7836199448769, 462.26990300573567, 174.18772959093678, 441.64749571564306, 210.89571259792402, 371.4821418446304, 425.82874910120273, 141.1637918331253, 211.62448698106502, 235.04465940034322, 512.4922402428866, 228.75926266433362, 226.93528440184895, 321.4082280954937, 381.63385351145985, 433.4030242679892, 226.0063641647539, 249.4608152657017, 172.50434667447772, 131.76676537771834, 83.99211483708034, 71.13860716908225, 52.73776180586298, 50.111993899027276, 49.155540376116406, 49.05604015887959, 45.86640121783489, 42.84294764590273, 42.21784630993044, 41.570154496319695, 40.0730534295304, 39.67313789256373, 37.525724391718086, 36.55724883763777, 36.159505862750265, 36.10940408041401, 35.98917334875761, 34.90719575348907, 36.20779457169672, 33.353600257670166, 32.9868149899154, 31.845172692175613, 31.72817735872342, 30.97460310114453, 30.74017740082622, 29.77316845639886, 28.99714960064968, 28.263558225216137, 72.38161485725871, 100.66311625705666, 259.13259728059404, 229.20561194998893, 37.60464257899396, 96.50856278394869, 169.79487521281288, 89.55867736221062, 148.17989357786257, 185.05702482925602, 148.32476230969246, 88.1611520573827, 151.4883773956163, 58.324335868034126, 464.36685738661254, 66.5029640499565, 112.84671935742846, 47.23284898596694, 61.65220602510811, 107.98604673872723, 128.00834760035778, 88.9827035421266, 88.15023193719585, 124.80489699966837, 75.51864862009417, 74.31966527141142, 100.12825960706549, 70.38620255223903, 80.44002793746769, 70.34245434173857, 91.75084517903397, 87.56362433176739, 77.88926863691445, 76.11824065415023, 67.72046573447189, 61.40425096682657, 56.25870295320579, 45.26837748966541, 39.334296765431255, 39.25351120412211, 36.70963468483378, 36.58042604573635, 36.36175487763362, 35.027123354729774, 34.541994959499036, 33.16067768270602, 32.94502994077774, 31.49073782137205, 31.081513589883894, 30.949450431102218, 30.173918694333917, 28.36767612131444, 28.050824436362614, 27.309066758783207, 26.4960739754401, 26.351270441398203, 25.55194460606152, 24.041170156335514, 23.83120008542755, 72.23225246739239, 71.95493696589486, 48.84790174061826, 67.29911642993778, 259.8944667954771, 100.75801058582769, 45.402494068777855, 47.32799427567257, 286.65888733778553, 50.45775915044096, 152.5296161090794, 113.52078767254964, 234.2883780075095, 117.28446825680935, 46.252035803648724, 146.0609994282834, 99.764473655118, 115.28561920007368, 122.69393507430553, 118.53648037651054, 66.77609024420761, 305.60137379267906, 110.64923256228816, 75.7757610287365, 79.87462447803362, 79.55840739889494, 84.73409315626576, 84.25911845404543, 119.11354216140312, 86.52397110333546, 115.64040969567256, 94.6294364510869, 97.59022244716715, 98.28905133378925, 80.62320839076666, 136.07835716002648, 64.40674039235823, 63.90946140161343, 60.04561404145279, 56.689196555591884, 52.79403742530827, 49.42630021096438, 44.799528961506226, 43.80331542363588, 41.20293043536738, 40.6968427047705, 32.4635359036811, 32.31908215684788, 30.902772109167625, 30.219338892997303, 26.693009332840386, 25.850847344161963, 25.509373170001155, 24.978688075003625, 24.946939370735624, 26.21457566205537, 23.321116635108773, 38.81010944563073, 22.019781106502297, 21.71183655806137, 20.89886988212832, 20.340578661022608, 20.181234124782694, 19.95668131550642, 19.916697232226447, 48.034640992200416, 39.61812420125347, 102.23040740125214, 161.85874011618387, 106.29767065097286, 27.672610155179758, 39.09888788701805, 44.30545784169959, 170.44720616383296, 98.37220146929312, 291.29176033367736, 390.2003178238334, 321.95868202833356, 230.6826450462503, 126.5807141187549, 140.85239180879475, 103.81385674283128, 165.14578278399674, 58.850033168378815, 186.99995294430576, 130.07516960957267, 128.03514067887585, 67.36189009593312, 63.55446439220462, 59.8726544897655, 164.6521983756428, 81.37350900750226, 111.52118332629914, 76.89530642897734, 77.07913586977467, 79.22519415299814, 61.19416088959874, 63.54565196514457, 513.851021796908, 314.95021266374056, 236.89099706766, 208.5928276604675, 107.45647128621074, 98.69987189748731, 80.32474400020013, 89.04519911540336, 70.46849096690478, 66.37356170945706, 66.21181024496681, 64.848713906527, 64.77335493181916, 60.03908253589357, 56.5890298615679, 51.82648283173067, 46.94803716971103, 72.57851555935311, 34.08287849463346, 33.67596673058218, 32.68383145311336, 30.381781646857927, 29.223068993586743, 28.715009999842355, 80.24838379907898, 25.870133612640636, 25.007930824247342, 24.689924628275865, 23.48599659017998, 23.390416179344832, 74.4720950257739, 272.8014107970715, 606.3461334149391, 159.30218433991956, 180.77833070901275, 42.770983984422934, 47.268696615677754, 57.007121987234385, 56.81089495991278, 103.61063381070696, 73.52600281363144, 95.07479817127377, 82.37506879904464, 75.72693208956478, 74.32004210780715, 71.28421015034986, 69.3656066984393, 70.48233459077937, 92.83469828297903, 89.24911730679935, 87.23911726824781, 79.96985559915204, 78.51582847741888, 73.13568372878922, 69.79731078691705, 63.38812759979166, 54.08023929018171, 53.47860811187303, 52.109703720470044, 50.53795389002681, 56.19734265545859, 40.9777765020975, 36.90465156932874, 35.95566497923938, 35.262460685227516, 33.90227790587083, 33.70537982884643, 30.251039678970287, 30.225355001490488, 29.016635603604435, 27.969330811886177, 27.28366932770987, 27.037525772122816, 25.911995767320438, 25.49097537945625, 25.337997846870095, 119.14860209111316, 25.281433124408405, 86.61825433835436, 122.19018617121037, 65.31570802342732, 90.81383497233021, 84.1064656363266, 80.2942650161753, 63.68565321294834, 68.8795522933244, 51.97529486322512, 85.18728499434688, 134.81164176582672, 87.87182919277684, 70.2052525674948, 108.67284089642826, 68.63850756540322, 59.20021426122966, 73.48318649084625, 57.305625056362814, 126.52845656503717, 59.43746902095903, 55.61666335247238, 36.85075523654928, 34.319739057823256, 33.47243636236307, 32.99884752676056, 30.388523883966172, 30.138318652573513, 29.501198910379475, 27.412612670358374, 27.041083689813952, 26.455574614445975, 26.455574614445975, 26.148724965467455, 26.08292273589019, 25.57272498844887, 25.809479810388964, 21.80029530951504, 21.38452861454828, 21.28325255448546, 21.127738286861135, 19.836371054325053, 19.74993430469088, 19.70922366774727, 19.501042843665946, 19.191169695340374, 19.17438105020846, 18.851181356406258, 18.77985804239338, 27.100788156772552, 29.44012381745764, 35.16252579455419, 54.749461198582985, 71.85429654159593, 36.56903576078709, 44.14327321707861, 141.6717819851124, 59.35790773726785, 88.11698680388443, 26.45604367310895, 40.479064103088, 63.665324203286254, 41.06017296147474, 47.66823891654625, 34.707782558306945, 34.50245263622915, 26.51631060435172, 33.60258755442414, 24.84544811284828, 23.05819250681601, 22.131847989045117, 22.13106296373667, 20.24226485740724, 17.304252165429922, 16.07218111133573, 15.711904736379202, 15.422455438151408, 14.923685944979418, 14.136306607309466, 12.934302022528719, 12.22488721169188, 12.126454458316577, 11.686191331332378, 11.55395538817543, 11.304602042601774, 11.142744477806167, 11.051916002918665, 10.90027737423819, 10.595132803343551, 10.543560827380357, 9.479381565952687, 8.648040811009812, 18.01859588850338, 7.700327904343047, 7.3011514319522455, 7.158464708539071, 6.9427920887989405, 61.960707819039726, 9.954936290703339, 22.517603145412536, 461.56078405307983, 18.845713207286824, 61.847601372598966, 64.00691920021856, 26.330795545657534, 14.97486540828839, 15.625501710830509, 12.049814007503704, 13.682086777041526, 15.56224646487683, 12.116808067326403, 11.86681728120229, 52.06050559139344, 44.456672775016244, 28.73798859041922, 23.12769106422134, 21.48655779157173, 19.313912676029506, 18.691547377763957, 18.371334644536564, 17.93956869356198, 17.437080241332584, 17.16601173174319, 17.004057244354243, 14.780519983717916, 14.245207651498326, 13.848886956640932, 13.059554168686432, 12.869765524977598, 12.620923046179255, 12.591420925435703, 12.137181987772387, 12.080993448364548, 11.851063338025297, 11.621132215571711, 10.732177013648021, 10.702360125346361, 10.359877840411523, 9.914610284211408, 9.798339601549957, 9.72623252788521, 9.689162828260752, 44.008472111474035, 21.694437979014175, 41.18707790118806, 15.346866777783866, 13.29716926316942, 19.863286312701742, 14.437163231997854, 53.587077642492986, 17.927374740056944, 15.064671083198258, 33.107767939947216, 15.784225672572264, 14.469305959040764, 13.317990479263845, 13.12764719689957, 15.375235292121912, 12.84334009685887, 12.599591464908125, 11.318860166605496, 10.469955539158427, 10.38950457379943, 8.201749561849565, 8.017751604415418, 6.932913641946512, 6.525406966714325, 6.283940225979445, 6.222515201982234, 6.126676881595438, 6.054437725778668, 5.884811406888061, 5.6581011551743545, 5.594851839951998, 5.378918512291614, 5.15545921973529, 5.04855186656323, 4.741617783466503, 4.576417245068679, 4.445372047725865, 4.395812969119118, 4.326448807418809, 4.271854740564641, 4.233878661723026, 4.063197752562541, 4.045854768448183, 3.84672463462184, 27.722766909713837, 8.925923760757815, 6.835923546825789, 7.545975454758259, 8.43558038040918, 6.802339928089284, 7.052417212338889, 5.707430323106153, 6.696773720521097, 7.429430734791324, 5.970628065342143, 5.222425979542463], \"Total\": [62275.0, 11286.0, 8678.0, 3720.0, 8968.0, 7839.0, 7975.0, 7865.0, 4562.0, 6584.0, 6593.0, 7011.0, 6807.0, 3857.0, 5195.0, 4819.0, 3780.0, 4131.0, 2091.0, 4831.0, 4787.0, 4386.0, 2918.0, 2703.0, 2553.0, 3151.0, 1486.0, 1755.0, 6536.0, 1265.0, 225.64841949892087, 199.04538916014852, 184.18287273972214, 158.9696551236777, 156.8525716639253, 150.84052676116036, 143.54230052487307, 131.13982518984196, 126.20639571164207, 114.47623637681644, 113.80366248648609, 111.45365861357453, 111.05271440918469, 110.01159048107358, 102.00643093941729, 96.35403984633739, 91.89404088709635, 87.44283675409093, 82.86497600670437, 83.50972317004519, 81.70858590067795, 81.74536451364797, 84.27605972616576, 79.48303189606234, 77.00482922527317, 76.98938031943698, 74.23365612361788, 72.83154364246187, 72.30819804606242, 70.87600273759116, 516.7364148487668, 190.6296608453911, 132.66759390276076, 276.0135485406624, 259.05385078720207, 327.9413379485533, 152.1619630514619, 444.245362747734, 677.6600496506046, 136.28842459286173, 188.5363820722909, 3779.6021576975127, 263.4001179101124, 538.3245963964306, 4257.3139810851935, 1250.0927796686592, 946.4771800662378, 1774.4758755941334, 3729.1760481896013, 1574.6925152313245, 1697.251016307694, 430.1418734942727, 2226.707103746859, 811.9852537854463, 383.36724331820244, 1899.5859540077174, 2687.047094977427, 2632.1355045546575, 6536.959214279792, 1674.0743365923136, 1256.6953135943934, 598.2785931973858, 3185.6824333553673, 1125.9514836170595, 6865.446835323959, 734.2874591650332, 1477.7968336438894, 1556.8265570134668, 1748.7542900273975, 1260.4754117934704, 1096.4023517759147, 1707.9430089635573, 2669.2524621649477, 2209.5391393567766, 2165.6764444953033, 3239.9798104444, 2401.9931269550784, 3403.029877973383, 2030.9341344643883, 3637.6237667850764, 2446.666504380292, 1613.096151876117, 2685.570632673263, 2338.588283649314, 1987.832310209069, 984.446371649933, 621.4729206290505, 563.2964835143548, 494.9615617364869, 453.5844158779485, 452.39575862201303, 443.2462889627859, 408.9368199992121, 406.6490211818666, 339.3747408613939, 274.37791022853423, 259.75290406813826, 250.66936231191286, 229.9491624651625, 217.59349545407693, 214.427740825644, 203.23423186031795, 200.90698823937765, 200.6782895788705, 196.60327379165292, 194.65707618002799, 186.84741044182442, 189.41190200794307, 178.24580266626444, 178.16188591353637, 177.52498308148904, 169.13615051213995, 165.74489548183064, 157.6130042026126, 564.8303100621174, 325.36335826333266, 210.00334195406847, 417.06460273977893, 415.00503169458676, 852.2371308246558, 4386.2771739793925, 382.03325145643606, 1435.9615087815844, 322.7023172956437, 2084.2631343561643, 728.6801542472057, 603.4719974361967, 725.9147569491644, 750.1649163019792, 438.01507348780405, 1068.2550705766482, 1031.9991500646122, 1010.0433840490804, 2365.598894024689, 6536.959214279792, 3239.9798104444, 2290.6784013521283, 6865.446835323959, 2446.666504380292, 2338.588283649314, 1405.1350123666148, 1891.515931840903, 1189.5593872843306, 2669.2524621649477, 1951.4093640981746, 2632.42033163171, 1379.7121881334888, 3729.1760481896013, 2209.5391393567766, 3185.6824333553673, 3637.6237667850764, 2165.6764444953033, 4257.3139810851935, 2687.047094977427, 435.3228548919499, 413.7778888059854, 331.0924058877863, 1691.7849797345004, 299.7475005489404, 293.65946005090666, 285.3430579457606, 274.8940770804766, 270.926297718608, 270.7851935376268, 269.2691541730361, 259.8395115494135, 233.15510304607102, 225.6834297973037, 223.10003540252717, 221.73426791289018, 214.53458541541366, 193.68247778509362, 193.36632543645808, 193.1617995961665, 193.12608476303282, 190.4703517481854, 186.3958039700311, 182.2697760497942, 155.93121697235375, 152.9555705062801, 145.49757828756515, 143.14940977137852, 141.7825609617092, 141.1536099136515, 8678.641434661346, 7839.037273103168, 393.69826003185756, 2703.014161304149, 2918.976124331054, 406.04696801092064, 3857.6169736239685, 3720.058168040403, 3780.980990346338, 4819.119054086187, 3151.8119378251927, 4131.38033442056, 6807.802135816384, 2091.0427377066803, 5195.946744194858, 6593.019898690219, 7011.019507275584, 4787.460874477518, 6584.473053985975, 7865.086106741885, 3151.6547806543076, 4831.364045986737, 439.375079104069, 7975.531212345925, 447.8874180125055, 8968.526289496109, 1278.5229041462048, 11286.936153960947, 1365.306542756106, 841.8122205351806, 382.79196927042887, 292.0407891513468, 267.5369784049982, 261.11064190466385, 145.09860900856552, 143.27061463870393, 139.66520053277097, 133.98641149337845, 593.6793013210754, 115.28957792706265, 114.33498231087972, 110.43834041911337, 105.6028088305434, 100.38763320175102, 96.341781929078, 108.64140047562951, 85.5332944042951, 84.97311116284394, 79.92359050143764, 77.67233631929047, 75.64265788039856, 68.82339877248212, 68.50768034907068, 67.91768912809344, 67.42536680705781, 65.74393180344725, 63.849272651300076, 63.35805536617205, 62.286762292475956, 265.58493552074225, 83.63660618869662, 140.34861963149038, 422.6038403690048, 698.9188929517682, 384.61457539171334, 2553.912903510499, 377.3197829234867, 288.0925475430297, 650.1791854060448, 228.1056534375835, 376.91004488800405, 457.26913582756544, 323.3423672802452, 1083.8594581629657, 451.47302142930806, 1516.4884359627729, 984.4864548251794, 379.3106891791727, 1652.395669527055, 456.04182114358116, 925.017746152301, 333.339619694729, 574.593643052285, 686.0229055045178, 642.0205268974801, 408.6226117346178, 1187.8121843388572, 1567.522505217896, 500.51286974572207, 1755.4301999998615, 756.784166470224, 1299.219143283546, 848.6758125580304, 1255.7470032089248, 3637.6237667850764, 4787.460874477518, 1011.5692625780949, 2053.469011916288, 1547.7412660767352, 3403.029877973383, 3151.6547806543076, 5195.946744194858, 4831.364045986737, 7011.019507275584, 62275.32143511817, 4562.878993112385, 58.05218763198284, 44.09598141941229, 27.683036505420294, 202.16770577481714, 220.1014671402224, 12.946225902754897, 457.2302052627603, 388.6842613835226, 537.511835878826, 8.803249073362029, 7.922645027118267, 392.77779369915294, 274.9413112089035, 149.65489996533265, 5.626886521687576, 5.449337935406242, 173.7969332217068, 775.9695715519375, 209.51143107860509, 133.5689606671598, 710.3431119968958, 140.51080864699327, 794.065441351282, 97.69552031543377, 152.94523822135295, 489.6187008008337, 189.81247466091904, 193.17701865955664, 374.8606033280651, 8968.526289496109, 7975.531212345925, 1365.306542756106, 7865.086106741885, 6584.473053985975, 245.5781692926015, 6593.019898690219, 1278.5229041462048, 7011.019507275584, 6807.802135816384, 4131.38033442056, 4831.364045986737, 4819.119054086187, 3780.980990346338, 3151.6547806543076, 3151.8119378251927, 272.8265026448595, 230.1636532354778, 200.32079199504824, 193.35836675775147, 175.7184724323735, 133.92518979872673, 115.57604859075394, 114.74540008470393, 103.66417304458214, 96.62010240343677, 95.98044803740562, 91.83971545471736, 86.8252518270007, 83.63789835253895, 82.24093745061086, 77.97656065977039, 75.97087048818337, 69.91615416355816, 69.6873506499441, 68.56570083125017, 65.90057716849516, 61.93890817159665, 56.313792896957125, 55.20449536487542, 55.14104792709608, 55.11670919879639, 55.11072080011219, 54.4936276048333, 54.109294925321244, 53.81381070049117, 55.449466300160275, 127.29386563079754, 114.88600839214638, 172.54046442325534, 193.32623887004917, 90.3042748288331, 490.9423788237853, 173.98218953659403, 185.07057152579387, 1347.8086507366609, 125.5787624093246, 689.6765956822143, 169.82400936705235, 525.761171519228, 583.8960959444903, 403.5782914045987, 293.9221981199215, 147.62218222808994, 644.9487769679235, 416.4318149704261, 583.2370798801895, 407.72270914125966, 647.7612887617354, 258.75438161097827, 641.7748833161727, 512.3195589263692, 303.1453726170093, 1547.7412660767352, 318.63386442030816, 350.99648449220905, 1547.3628587774651, 491.0390808927215, 1299.219143283546, 611.6472207361624, 2685.570632673263, 396.4398138739606, 1491.4697119522855, 783.2047285128999, 2365.598894024689, 2292.6200370351476, 3637.6237667850764, 1567.522505217896, 523.5213144737638, 436.9797345296055, 392.69127685498313, 321.8545229836626, 258.33515688556326, 231.7455789401343, 209.90644467203052, 198.99177950209562, 193.20518093534324, 178.78167410591854, 176.99241933249058, 175.6301694795534, 175.20130919744423, 147.24590183325972, 144.9293784547019, 124.38433636269752, 116.23593403663473, 111.98393861102552, 105.83402341934391, 100.73236742510147, 99.81454747028333, 97.13417994254876, 96.18066848039818, 89.45907425654003, 86.97889445405163, 86.78909581937984, 1265.593315230072, 81.83583076795496, 78.59399444919191, 77.85715994021687, 484.41215217423877, 327.7475772052382, 231.65985739943287, 215.5837865602512, 132.32488788886184, 663.1376209440112, 282.44050268548415, 179.96669735363423, 269.94262468032167, 903.4868245098786, 229.9246978332754, 465.57329538760706, 1245.7145293012204, 1010.0433840490804, 3403.029877973383, 1567.522505217896, 1399.392043785422, 491.0390808927215, 2053.469011916288, 3151.8119378251927, 1299.219143283546, 6593.019898690219, 1300.2692550802233, 2030.9341344643883, 349.96526658473584, 212.0090077053607, 198.4803677915248, 176.8260346435524, 168.12543774607877, 125.89246817005417, 80.48464586190848, 73.62064683155327, 73.60605965769263, 71.83182356131682, 69.00763355537998, 64.81815248721345, 55.67996687953643, 52.84712610071201, 52.0608565148204, 46.3567495155981, 44.854720757977724, 43.404931509927756, 217.3317830336835, 38.62150035909639, 35.228378310029264, 35.11567744055181, 33.42409808186904, 30.091606454445717, 29.65594567076269, 29.64286513987217, 29.642146071968625, 28.039659237646212, 27.805031634646703, 27.05411425017521, 567.2389120091531, 224.59814577263663, 731.0056814984448, 663.9833430726579, 156.76651283465063, 11286.936153960947, 168.3595893254751, 107.67097416376279, 162.7475259711735, 113.6557627470861, 232.4217735437302, 1755.4301999998615, 103.38019982842444, 125.82670753554842, 428.94931181699695, 165.01194855598592, 454.5502154482567, 285.5216267307768, 1547.7412660767352, 426.99306479414435, 346.42656174748083, 246.67707568523863, 434.58878253892715, 383.68725365795984, 377.06396775095357, 238.29985456344514, 519.8475684458994, 407.2643403102037, 5195.946744194858, 1038.4713892176364, 7011.019507275584, 475.80305774771176, 3403.029877973383, 4787.460874477518, 975.8683424578373, 610.0656762190051, 801.7571785143793, 3151.8119378251927, 925.017746152301, 660.3799182708591, 578.2311543496724, 465.84024715151133, 291.69890516177975, 225.80848027851766, 218.53122669198453, 195.97428046148815, 174.01686443072703, 166.10074489800965, 130.44543398109204, 124.00203110010258, 123.50610461336247, 110.75837423179254, 108.7472706966798, 101.92604997681912, 101.63807141850465, 101.37159788220308, 97.031113952151, 94.12535111604431, 92.25170003247928, 90.85207604404728, 89.85231128765624, 89.74573557800684, 88.08962796497104, 81.51289640638706, 77.79845347704222, 77.12599797508526, 62.49550222974922, 61.27525752063362, 58.064226837400874, 168.87824103430103, 201.43808843267547, 300.8016613963493, 205.7258791857717, 528.4843717088571, 386.3144733935231, 206.18471887471733, 589.550226112331, 351.78373431257916, 389.1903626199619, 1891.515931840903, 614.0809514089746, 221.70647631652565, 191.47424532961466, 626.173674155223, 187.36909475770543, 616.6682185425849, 4386.2771739793925, 494.69161665315085, 447.5545775636295, 1245.7145293012204, 2365.598894024689, 634.3714439881074, 6865.446835323959, 384.3505310392247, 229.75633524858253, 136.71297300626568, 120.90515638838076, 103.34219613697216, 100.98157773693029, 97.1630383096333, 225.59195573092248, 95.24864733211578, 94.266116566526, 89.58996766262999, 83.89488572325057, 77.91355826927212, 74.3586101752496, 63.74182271372439, 61.507033299011674, 61.491506117908415, 60.59581433613237, 59.36103017265071, 58.078374229125735, 57.08015896469972, 56.215694263041236, 55.15712256974015, 54.10519152013269, 53.99144939060132, 81.36397550087815, 50.185390254889306, 49.79418727039824, 49.03941011644376, 48.83091183966826, 445.51159449947187, 78.43815104344729, 126.28880641142696, 273.9292492210234, 790.1127228159027, 368.3854507828375, 164.0409457720869, 75.77931934940064, 846.6926181000371, 618.0261446664854, 116.83741787444661, 122.24126203716429, 112.83454538501066, 276.04542001184626, 109.00966279647015, 179.37204219227348, 167.71213503697362, 200.9108952831668, 524.6127431449124, 321.7303282828186, 365.32759251163696, 179.1934504192519, 198.2294505868604, 561.6044043283322, 265.97656749856156, 181.34560550144724, 1547.3628587774651, 327.9533525192759, 390.12502431439185, 557.1014540584342, 2292.6200370351476, 1018.5282186740967, 469.8415237529426, 1399.4360069122272, 1147.4212815560836, 2401.9931269550784, 673.1371228855508, 583.1176523323684, 313.0950469186417, 291.27100446197954, 309.88337593326895, 191.3629995104342, 161.51120131104298, 160.75992164152515, 152.4837186935558, 148.35949631068036, 105.08685800010761, 98.77050573874025, 86.6038803489114, 82.18213063947749, 82.10509594395226, 79.44565066733298, 78.73376377548597, 77.07028238169676, 75.86754897760217, 74.93024327431135, 73.17372513285804, 73.16024592228563, 71.97018306680272, 79.50000093112004, 66.65826903699217, 287.23847264572595, 47.166024840086706, 41.7063519299107, 40.41542554828815, 100.82479335239812, 96.1435577222721, 746.0200934858663, 647.5437179433111, 232.4147709938991, 672.1543428767861, 356.76476972537466, 1047.2807684227319, 90.09538355194798, 412.99041098375324, 352.8549618573762, 264.01614353296026, 174.18387062702064, 278.36039479186906, 460.41718624151434, 877.3943255062768, 646.1196620556075, 207.7777331695106, 662.6079978678092, 263.33792782106, 547.6665134926156, 708.705958920998, 164.1875200470586, 305.73469771788507, 360.29737774948364, 1255.7470032089248, 364.31760169250504, 368.76400466719906, 829.0864239760693, 1300.2692550802233, 2053.469011916288, 413.42335724652526, 3857.6169736239685, 173.36742515133727, 132.62984385848858, 84.85519909222877, 72.0016856459418, 53.618615605010305, 50.975072383708145, 50.01862069383088, 49.919118772836704, 46.72947973187621, 43.70602612667294, 43.08092592891587, 42.433232978132025, 40.93613191764492, 40.53621637355617, 38.388802868577635, 37.420327318630214, 37.022584339609814, 36.97248255727356, 36.852251971891384, 35.770274293898204, 37.135593025191724, 34.216678734529715, 33.84989346677495, 32.70825118069826, 32.59125608028947, 31.83768158743537, 31.603256284196945, 30.636247946539463, 29.860228081978562, 29.126636737544075, 74.82292769950944, 104.7338829528238, 328.8147721483722, 317.23233260959864, 39.824504361735904, 131.00038579847313, 288.44364332267156, 128.5113717171908, 253.88274592208668, 368.27454416841846, 280.74497406411393, 133.84873715601663, 321.07657227014926, 76.117339778008, 2091.0427377066803, 97.59138640159073, 255.53063706864435, 56.93787837042196, 98.9955895639226, 365.4797852073493, 610.1562911099061, 289.6378844275534, 331.83721639334584, 1007.6793001765712, 351.52146278751195, 399.98589855695195, 2685.570632673263, 339.96303812213137, 854.3336124751139, 382.5436301882116, 92.61542014982378, 88.42819914377138, 78.7538434444491, 76.98281546168488, 68.5850405580159, 62.26882576989189, 57.12327789272493, 46.132952309064365, 40.19887157097755, 40.118086007187436, 37.574209487899104, 37.44500086425879, 37.226329689831, 35.89169816474541, 35.406569767033695, 34.02525248577135, 33.80960474384306, 32.355312624437374, 31.946155745831895, 31.814025234167538, 31.03849350517929, 29.232250924379763, 28.91539927467212, 28.173641583192087, 27.360648786817585, 27.215845263802215, 26.416519409126842, 24.905744966351147, 24.69577489566273, 74.95368474253914, 76.63750501921294, 52.047782111664915, 74.03294205603169, 325.62838093517036, 124.97721747403003, 51.743760395127524, 54.875165368642904, 561.6044043283322, 60.91459039313903, 299.1914121449353, 223.15799707578205, 673.1371228855508, 248.1282348589406, 58.19454672801976, 399.248872174899, 211.9946736676787, 285.2330607863591, 390.12502431439185, 365.32759251163696, 119.77720741741068, 2685.570632673263, 339.9682241553247, 161.8093061185748, 187.3742738633791, 187.07400323955792, 219.70667045157896, 260.3737878090845, 846.6926181000371, 355.52786040035147, 1547.3628587774651, 645.3094234526046, 1399.4360069122272, 2553.912903510499, 1657.014673598512, 136.94397687756972, 65.27200497171933, 64.77472534818047, 60.91087799250707, 57.554460498731494, 53.65930137316067, 50.29156479633255, 45.664794096113056, 44.668579406147494, 42.06819441989313, 41.56210738948312, 33.32879986820183, 33.184346099987486, 31.768036096450984, 31.084602851969244, 27.55827330023196, 26.716111312378924, 26.374637150947407, 25.843952050317633, 25.81220331387523, 27.15759847280684, 24.186380584462462, 40.288804885148, 22.885833190853912, 22.577100555151517, 21.764133854635116, 21.205842619107024, 21.04649807660103, 20.821945268287543, 20.781961250288898, 51.780097659336, 42.809521061656405, 116.97462615774664, 196.02375825011995, 126.61958296044904, 30.251532121190664, 46.90187760313485, 55.763084028083306, 329.3696519193448, 165.96728681893464, 915.4580420915695, 1486.1853361442054, 1187.8121843388572, 848.6758125580304, 379.1734983803713, 524.6267029992256, 311.2372617266773, 756.784166470224, 110.69126600712691, 1235.5067189103447, 608.1857934337957, 823.373359307878, 170.44301913769692, 151.2909299485571, 136.88341291375963, 4831.364045986737, 463.58878304774805, 1652.395669527055, 498.7518871966997, 672.7498767162015, 829.767828454128, 185.0119450436081, 1697.251016307694, 514.7270074166694, 315.81680415503695, 237.7701213927381, 209.5263895861084, 108.32306284773934, 99.56646339868924, 81.19133986484827, 90.0618288555129, 71.33508245571278, 67.2401531924908, 67.07851840794389, 65.71530538542942, 65.63994641072158, 60.905674014796, 57.45562134542312, 52.69307431684718, 47.81463022076593, 74.1405781913567, 34.94950034043741, 34.54255894998782, 33.550422953918314, 31.248373125760352, 30.089660480801335, 29.581602064615232, 82.89108038875314, 26.736725153512687, 25.87452231466714, 25.5565161889811, 24.352588069082408, 24.25700766320005, 78.4354704419152, 297.9434185949069, 729.5862527308846, 182.47139628659343, 226.80382454865784, 46.90253512011335, 52.86584212687584, 65.95248260769019, 69.32970443916581, 154.87231261058054, 116.74585674386637, 177.6670191252924, 256.01746224002085, 286.1864505486633, 302.5564478874009, 264.64860204259094, 589.550226112331, 3857.6169736239685, 93.70391309314924, 90.11833268721747, 88.10848441168089, 80.83907040932225, 79.38504329230187, 74.00489855193483, 70.6665256283726, 64.25734240996186, 54.94945410448482, 54.34782294117322, 52.97891853510959, 51.407168700197026, 57.26082462924487, 41.84699134621058, 37.773866379498955, 36.824879814921836, 36.13167549539773, 34.771492716041045, 34.57459464372944, 31.120254493853295, 31.09456982084283, 29.885850413774648, 28.838545634450316, 28.152884191512094, 27.90692466133946, 26.781210588524793, 26.360190685722536, 26.20721267022029, 123.24349260355694, 26.15064793457862, 89.61254895055922, 126.92120186564262, 68.73860040778963, 100.34207671952778, 96.30135114713923, 106.50650475957006, 84.68724162753254, 94.24114718745345, 66.47012725633299, 144.72699784238725, 381.4949170087261, 182.60240929809328, 130.67203403280342, 310.38335021451354, 159.70926334030435, 157.56483735584015, 557.1014540584342, 321.7303282828186, 127.39922024350564, 60.30823209601083, 56.48742626246952, 37.721518216055955, 35.19053312508904, 34.343199295415864, 33.869610443454995, 31.259286793963316, 31.00908156648132, 30.371961872705935, 28.283375738844665, 27.911846622401224, 27.32633752444312, 27.32633752444312, 27.019487878723798, 26.953685679464062, 26.443487934693305, 26.69467280286019, 22.671058540750696, 22.25529157354162, 22.154015467741804, 21.998501208887948, 20.70713406681887, 20.620697222080118, 20.579986618704503, 20.37180576126979, 20.061932608764955, 20.045143960205603, 19.721944289978776, 19.650620952390522, 28.76055834258146, 31.72620870162741, 41.40993653771912, 74.36207989356029, 107.44527480431526, 47.09418528939261, 65.84175081563149, 433.6957175583897, 134.92880511681682, 326.47484757745593, 33.600643134377655, 101.36130893761927, 341.7375075556512, 182.60240929809328, 673.1371228855508, 191.0452247054054, 225.68303177144736, 123.95608761692009, 34.482394517623035, 25.725255072081247, 23.93799947051831, 23.011655042607153, 23.010870038735227, 21.122071820550868, 18.184059124662888, 16.951988124132633, 16.59171170295027, 16.302262858494657, 15.803492904212385, 15.016113566542433, 13.814108991941694, 13.104694198175729, 13.006261474054478, 12.565998315242126, 12.433762409743052, 12.18440900183474, 12.022551464947517, 11.93172296463261, 11.780084333471157, 11.474939796433837, 11.423367786613325, 10.359188525185655, 9.527847842437797, 19.996675997293714, 8.580134880100161, 8.180958432081582, 8.0382716716827, 7.822599076569239, 80.86006772180068, 12.060865047130486, 33.04497397215024, 3720.058168040403, 32.39074595526428, 331.83721639334584, 662.6079978678092, 154.72390115577952, 38.204775443322816, 47.3553656078987, 27.510367227665864, 114.9659788793155, 1652.395669527055, 64.48686553793492, 100.019612362377, 52.942372888092, 45.33854005268879, 29.619855868091772, 24.009558350979574, 22.36842506924428, 20.195779971487017, 19.573414671292102, 19.25320192842319, 18.821436006427753, 18.318947522915796, 18.047879017774267, 17.885924554758706, 15.662387287217896, 15.127074940688244, 14.730754239026277, 13.941863056236347, 13.751632829613397, 13.502790338710165, 13.473752167167206, 13.019049272883402, 12.96286076239417, 12.732930619608512, 12.502999493244262, 11.614044309438132, 11.584227435729307, 11.241745120565053, 10.79647756188396, 10.680206896862915, 10.60809984402191, 10.57103015907824, 48.671122558532176, 25.21850335941442, 56.8748765406463, 18.619143868521324, 15.94631272589515, 32.254775323447596, 19.46104260834066, 215.36803540632013, 29.180936373787283, 21.779403624488296, 300.8016613963493, 36.15757702864038, 28.82247259763847, 29.364237243576962, 23.805966057585046, 16.264425502926077, 13.732530311795932, 13.48878167571229, 12.2080503935421, 11.359145802246465, 11.278694819065391, 9.09093977265373, 8.906941834938703, 7.822103856883574, 7.414597195770986, 7.17313043678361, 7.111705528170528, 7.015867109758051, 6.943627936582833, 6.77400162216156, 6.5472914186712705, 6.4840420507561625, 6.268108736410802, 6.04464943826799, 5.937742086549521, 5.630808032162379, 5.4656074665018615, 5.334562265968494, 5.2850032561000475, 5.215639047699696, 5.1610449513688055, 5.123068876996525, 4.952388023761881, 4.935044986422211, 4.735915041632877, 53.167935095110565, 14.39440900847344, 12.579790688676363, 24.15070949863407, 40.7352998301328, 47.28067494596272, 79.84054638599851, 32.9238721193487, 178.48873766641336, 2553.912903510499, 169.82228483275114, 156.67437924737578], \"Category\": [\"Default\", \"Default\", \"Default\", \"Default\", \"Default\", \"Default\", \"Default\", \"Default\", \"Default\", \"Default\", \"Default\", \"Default\", \"Default\", \"Default\", \"Default\", \"Default\", \"Default\", \"Default\", \"Default\", \"Default\", \"Default\", \"Default\", \"Default\", \"Default\", \"Default\", \"Default\", \"Default\", \"Default\", \"Default\", \"Default\", \"Topic1\", \"Topic1\", \"Topic1\", \"Topic1\", \"Topic1\", \"Topic1\", \"Topic1\", \"Topic1\", \"Topic1\", \"Topic1\", \"Topic1\", \"Topic1\", \"Topic1\", \"Topic1\", \"Topic1\", \"Topic1\", \"Topic1\", \"Topic1\", \"Topic1\", \"Topic1\", \"Topic1\", \"Topic1\", \"Topic1\", \"Topic1\", \"Topic1\", \"Topic1\", \"Topic1\", \"Topic1\", \"Topic1\", \"Topic1\", \"Topic1\", \"Topic1\", \"Topic1\", \"Topic1\", \"Topic1\", \"Topic1\", \"Topic1\", \"Topic1\", \"Topic1\", \"Topic1\", \"Topic1\", \"Topic1\", \"Topic1\", \"Topic1\", \"Topic1\", \"Topic1\", \"Topic1\", \"Topic1\", \"Topic1\", \"Topic1\", \"Topic1\", \"Topic1\", \"Topic1\", \"Topic1\", \"Topic1\", \"Topic1\", \"Topic1\", \"Topic1\", \"Topic1\", \"Topic1\", \"Topic1\", \"Topic1\", \"Topic1\", \"Topic1\", \"Topic1\", \"Topic1\", \"Topic1\", \"Topic1\", \"Topic1\", \"Topic1\", \"Topic1\", \"Topic1\", \"Topic1\", \"Topic1\", \"Topic1\", \"Topic1\", \"Topic1\", \"Topic1\", \"Topic1\", \"Topic1\", \"Topic1\", \"Topic1\", \"Topic1\", \"Topic1\", \"Topic2\", \"Topic2\", \"Topic2\", \"Topic2\", \"Topic2\", \"Topic2\", \"Topic2\", \"Topic2\", \"Topic2\", \"Topic2\", \"Topic2\", \"Topic2\", \"Topic2\", \"Topic2\", \"Topic2\", \"Topic2\", \"Topic2\", \"Topic2\", \"Topic2\", \"Topic2\", \"Topic2\", \"Topic2\", \"Topic2\", \"Topic2\", \"Topic2\", \"Topic2\", \"Topic2\", \"Topic2\", \"Topic2\", \"Topic2\", \"Topic2\", \"Topic2\", \"Topic2\", \"Topic2\", \"Topic2\", \"Topic2\", \"Topic2\", \"Topic2\", \"Topic2\", \"Topic2\", \"Topic2\", \"Topic2\", \"Topic2\", \"Topic2\", \"Topic2\", \"Topic2\", \"Topic2\", \"Topic2\", \"Topic2\", \"Topic2\", \"Topic2\", \"Topic2\", \"Topic2\", \"Topic2\", \"Topic2\", \"Topic2\", \"Topic2\", \"Topic2\", \"Topic2\", \"Topic2\", \"Topic2\", \"Topic2\", \"Topic2\", \"Topic2\", \"Topic2\", \"Topic2\", \"Topic2\", \"Topic2\", \"Topic2\", \"Topic2\", \"Topic3\", \"Topic3\", \"Topic3\", \"Topic3\", \"Topic3\", \"Topic3\", \"Topic3\", \"Topic3\", \"Topic3\", \"Topic3\", \"Topic3\", \"Topic3\", \"Topic3\", \"Topic3\", \"Topic3\", \"Topic3\", \"Topic3\", \"Topic3\", \"Topic3\", \"Topic3\", \"Topic3\", \"Topic3\", \"Topic3\", \"Topic3\", \"Topic3\", \"Topic3\", \"Topic3\", \"Topic3\", \"Topic3\", \"Topic3\", \"Topic3\", \"Topic3\", \"Topic3\", \"Topic3\", \"Topic3\", \"Topic3\", \"Topic3\", \"Topic3\", \"Topic3\", \"Topic3\", \"Topic3\", \"Topic3\", \"Topic3\", \"Topic3\", \"Topic3\", \"Topic3\", \"Topic3\", \"Topic3\", \"Topic3\", \"Topic3\", \"Topic3\", \"Topic3\", \"Topic3\", \"Topic3\", \"Topic3\", \"Topic3\", \"Topic3\", \"Topic3\", \"Topic3\", \"Topic4\", \"Topic4\", \"Topic4\", \"Topic4\", \"Topic4\", \"Topic4\", \"Topic4\", \"Topic4\", \"Topic4\", \"Topic4\", \"Topic4\", \"Topic4\", \"Topic4\", \"Topic4\", \"Topic4\", \"Topic4\", \"Topic4\", \"Topic4\", \"Topic4\", \"Topic4\", \"Topic4\", \"Topic4\", \"Topic4\", \"Topic4\", \"Topic4\", \"Topic4\", \"Topic4\", \"Topic4\", \"Topic4\", \"Topic4\", \"Topic4\", \"Topic4\", \"Topic4\", \"Topic4\", \"Topic4\", \"Topic4\", \"Topic4\", \"Topic4\", \"Topic4\", \"Topic4\", \"Topic4\", \"Topic4\", \"Topic4\", \"Topic4\", \"Topic4\", \"Topic4\", \"Topic4\", \"Topic4\", \"Topic4\", \"Topic4\", \"Topic4\", \"Topic4\", \"Topic4\", \"Topic4\", \"Topic4\", \"Topic4\", \"Topic4\", \"Topic4\", \"Topic4\", \"Topic4\", \"Topic4\", \"Topic4\", \"Topic4\", \"Topic4\", \"Topic4\", \"Topic4\", \"Topic4\", \"Topic4\", \"Topic4\", \"Topic4\", \"Topic4\", \"Topic4\", \"Topic4\", \"Topic4\", \"Topic4\", \"Topic5\", \"Topic5\", \"Topic5\", \"Topic5\", \"Topic5\", \"Topic5\", \"Topic5\", \"Topic5\", \"Topic5\", \"Topic5\", \"Topic5\", \"Topic5\", \"Topic5\", \"Topic5\", \"Topic5\", \"Topic5\", \"Topic5\", \"Topic5\", \"Topic5\", \"Topic5\", \"Topic5\", \"Topic5\", \"Topic5\", \"Topic5\", \"Topic5\", \"Topic5\", \"Topic5\", \"Topic5\", \"Topic5\", \"Topic5\", \"Topic5\", \"Topic5\", \"Topic5\", \"Topic5\", \"Topic5\", \"Topic5\", \"Topic5\", \"Topic5\", \"Topic5\", \"Topic5\", \"Topic5\", \"Topic5\", \"Topic5\", \"Topic5\", \"Topic5\", \"Topic5\", \"Topic5\", \"Topic6\", \"Topic6\", \"Topic6\", \"Topic6\", \"Topic6\", \"Topic6\", \"Topic6\", \"Topic6\", \"Topic6\", \"Topic6\", \"Topic6\", \"Topic6\", \"Topic6\", \"Topic6\", \"Topic6\", \"Topic6\", \"Topic6\", \"Topic6\", \"Topic6\", \"Topic6\", \"Topic6\", \"Topic6\", \"Topic6\", \"Topic6\", \"Topic6\", \"Topic6\", \"Topic6\", \"Topic6\", \"Topic6\", \"Topic6\", \"Topic6\", \"Topic6\", \"Topic6\", \"Topic6\", \"Topic6\", \"Topic6\", \"Topic6\", \"Topic6\", \"Topic6\", \"Topic6\", \"Topic6\", \"Topic6\", \"Topic6\", \"Topic6\", \"Topic6\", \"Topic6\", \"Topic6\", \"Topic6\", \"Topic6\", \"Topic6\", \"Topic6\", \"Topic6\", \"Topic6\", \"Topic6\", \"Topic6\", \"Topic6\", \"Topic6\", \"Topic6\", \"Topic6\", \"Topic6\", \"Topic6\", \"Topic6\", \"Topic6\", \"Topic6\", \"Topic6\", \"Topic6\", \"Topic6\", \"Topic6\", \"Topic6\", \"Topic6\", \"Topic6\", \"Topic6\", \"Topic7\", \"Topic7\", \"Topic7\", \"Topic7\", \"Topic7\", \"Topic7\", \"Topic7\", \"Topic7\", \"Topic7\", \"Topic7\", \"Topic7\", \"Topic7\", \"Topic7\", \"Topic7\", \"Topic7\", \"Topic7\", \"Topic7\", \"Topic7\", \"Topic7\", \"Topic7\", \"Topic7\", \"Topic7\", \"Topic7\", \"Topic7\", \"Topic7\", \"Topic7\", \"Topic7\", \"Topic7\", \"Topic7\", \"Topic7\", \"Topic7\", \"Topic7\", \"Topic7\", \"Topic7\", \"Topic7\", \"Topic7\", \"Topic7\", \"Topic7\", \"Topic7\", \"Topic7\", \"Topic7\", \"Topic7\", \"Topic7\", \"Topic7\", \"Topic7\", \"Topic7\", \"Topic7\", \"Topic7\", \"Topic7\", \"Topic7\", \"Topic7\", \"Topic7\", \"Topic7\", \"Topic7\", \"Topic8\", \"Topic8\", \"Topic8\", \"Topic8\", \"Topic8\", \"Topic8\", \"Topic8\", \"Topic8\", \"Topic8\", \"Topic8\", \"Topic8\", \"Topic8\", \"Topic8\", \"Topic8\", \"Topic8\", \"Topic8\", \"Topic8\", \"Topic8\", \"Topic8\", \"Topic8\", \"Topic8\", \"Topic8\", \"Topic8\", \"Topic8\", \"Topic8\", \"Topic8\", \"Topic8\", \"Topic8\", \"Topic8\", \"Topic8\", \"Topic8\", \"Topic8\", \"Topic8\", \"Topic8\", \"Topic8\", \"Topic8\", \"Topic8\", \"Topic8\", \"Topic8\", \"Topic8\", \"Topic8\", \"Topic8\", \"Topic8\", \"Topic8\", \"Topic8\", \"Topic8\", \"Topic8\", \"Topic8\", \"Topic8\", \"Topic8\", \"Topic8\", \"Topic8\", \"Topic8\", \"Topic8\", \"Topic8\", \"Topic8\", \"Topic8\", \"Topic8\", \"Topic8\", \"Topic8\", \"Topic8\", \"Topic8\", \"Topic8\", \"Topic8\", \"Topic8\", \"Topic8\", \"Topic8\", \"Topic8\", \"Topic8\", \"Topic9\", \"Topic9\", \"Topic9\", \"Topic9\", \"Topic9\", \"Topic9\", \"Topic9\", \"Topic9\", \"Topic9\", \"Topic9\", \"Topic9\", \"Topic9\", \"Topic9\", \"Topic9\", \"Topic9\", \"Topic9\", \"Topic9\", \"Topic9\", \"Topic9\", \"Topic9\", \"Topic9\", \"Topic9\", \"Topic9\", \"Topic9\", \"Topic9\", \"Topic9\", \"Topic9\", \"Topic9\", \"Topic9\", \"Topic9\", \"Topic9\", \"Topic9\", \"Topic9\", \"Topic9\", \"Topic9\", \"Topic9\", \"Topic9\", \"Topic9\", \"Topic9\", \"Topic9\", \"Topic9\", \"Topic9\", \"Topic9\", \"Topic9\", \"Topic9\", \"Topic9\", \"Topic9\", \"Topic9\", \"Topic9\", \"Topic9\", \"Topic9\", \"Topic9\", \"Topic9\", \"Topic9\", \"Topic10\", \"Topic10\", \"Topic10\", \"Topic10\", \"Topic10\", \"Topic10\", \"Topic10\", \"Topic10\", \"Topic10\", \"Topic10\", \"Topic10\", \"Topic10\", \"Topic10\", \"Topic10\", \"Topic10\", \"Topic10\", \"Topic10\", \"Topic10\", \"Topic10\", \"Topic10\", \"Topic10\", \"Topic10\", \"Topic10\", \"Topic10\", \"Topic10\", \"Topic10\", \"Topic10\", \"Topic10\", \"Topic10\", \"Topic10\", \"Topic10\", \"Topic10\", \"Topic10\", \"Topic10\", \"Topic10\", \"Topic10\", \"Topic10\", \"Topic10\", \"Topic10\", \"Topic10\", \"Topic10\", \"Topic10\", \"Topic10\", \"Topic10\", \"Topic10\", \"Topic10\", \"Topic10\", \"Topic10\", \"Topic10\", \"Topic10\", \"Topic10\", \"Topic10\", \"Topic10\", \"Topic10\", \"Topic10\", \"Topic10\", \"Topic10\", \"Topic10\", \"Topic10\", \"Topic10\", \"Topic10\", \"Topic10\", \"Topic10\", \"Topic10\", \"Topic10\", \"Topic10\", \"Topic10\", \"Topic11\", \"Topic11\", \"Topic11\", \"Topic11\", \"Topic11\", \"Topic11\", \"Topic11\", \"Topic11\", \"Topic11\", \"Topic11\", \"Topic11\", \"Topic11\", \"Topic11\", \"Topic11\", \"Topic11\", \"Topic11\", \"Topic11\", \"Topic11\", \"Topic11\", \"Topic11\", \"Topic11\", \"Topic11\", \"Topic11\", \"Topic11\", \"Topic11\", \"Topic11\", \"Topic11\", \"Topic11\", \"Topic11\", \"Topic11\", \"Topic11\", \"Topic11\", \"Topic11\", \"Topic11\", \"Topic11\", \"Topic11\", \"Topic11\", \"Topic11\", \"Topic11\", \"Topic11\", \"Topic11\", \"Topic11\", \"Topic11\", \"Topic11\", \"Topic11\", \"Topic11\", \"Topic11\", \"Topic11\", \"Topic11\", \"Topic11\", \"Topic11\", \"Topic11\", \"Topic11\", \"Topic11\", \"Topic11\", \"Topic11\", \"Topic11\", \"Topic11\", \"Topic11\", \"Topic11\", \"Topic11\", \"Topic12\", \"Topic12\", \"Topic12\", \"Topic12\", \"Topic12\", \"Topic12\", \"Topic12\", \"Topic12\", \"Topic12\", \"Topic12\", \"Topic12\", \"Topic12\", \"Topic12\", \"Topic12\", \"Topic12\", \"Topic12\", \"Topic12\", \"Topic12\", \"Topic12\", \"Topic12\", \"Topic12\", \"Topic12\", \"Topic12\", \"Topic12\", \"Topic12\", \"Topic12\", \"Topic12\", \"Topic12\", \"Topic12\", \"Topic12\", \"Topic12\", \"Topic12\", \"Topic12\", \"Topic12\", \"Topic12\", \"Topic12\", \"Topic12\", \"Topic12\", \"Topic12\", \"Topic12\", \"Topic12\", \"Topic12\", \"Topic12\", \"Topic12\", \"Topic12\", \"Topic12\", \"Topic12\", \"Topic12\", \"Topic12\", \"Topic12\", \"Topic12\", \"Topic12\", \"Topic12\", \"Topic12\", \"Topic12\", \"Topic12\", \"Topic12\", \"Topic12\", \"Topic12\", \"Topic12\", \"Topic13\", \"Topic13\", \"Topic13\", \"Topic13\", \"Topic13\", \"Topic13\", \"Topic13\", \"Topic13\", \"Topic13\", \"Topic13\", \"Topic13\", \"Topic13\", \"Topic13\", \"Topic13\", \"Topic13\", \"Topic13\", \"Topic13\", \"Topic13\", \"Topic13\", \"Topic13\", \"Topic13\", \"Topic13\", \"Topic13\", \"Topic13\", \"Topic13\", \"Topic13\", \"Topic13\", \"Topic13\", \"Topic13\", \"Topic13\", \"Topic13\", \"Topic13\", \"Topic13\", \"Topic13\", \"Topic13\", \"Topic13\", \"Topic13\", \"Topic13\", \"Topic13\", \"Topic13\", \"Topic13\", \"Topic13\", \"Topic13\", \"Topic13\", \"Topic13\", \"Topic13\", \"Topic13\", \"Topic13\", \"Topic13\", \"Topic13\", \"Topic13\", \"Topic13\", \"Topic13\", \"Topic13\", \"Topic13\", \"Topic13\", \"Topic13\", \"Topic13\", \"Topic13\", \"Topic13\", \"Topic13\", \"Topic13\", \"Topic13\", \"Topic13\", \"Topic14\", \"Topic14\", \"Topic14\", \"Topic14\", \"Topic14\", \"Topic14\", \"Topic14\", \"Topic14\", \"Topic14\", \"Topic14\", \"Topic14\", \"Topic14\", \"Topic14\", \"Topic14\", \"Topic14\", \"Topic14\", \"Topic14\", \"Topic14\", \"Topic14\", \"Topic14\", \"Topic14\", \"Topic14\", \"Topic14\", \"Topic14\", \"Topic14\", \"Topic14\", \"Topic14\", \"Topic14\", \"Topic14\", \"Topic14\", \"Topic14\", \"Topic14\", \"Topic14\", \"Topic14\", \"Topic14\", \"Topic14\", \"Topic14\", \"Topic14\", \"Topic14\", \"Topic14\", \"Topic14\", \"Topic14\", \"Topic14\", \"Topic14\", \"Topic14\", \"Topic14\", \"Topic14\", \"Topic14\", \"Topic14\", \"Topic14\", \"Topic14\", \"Topic14\", \"Topic14\", \"Topic14\", \"Topic14\", \"Topic14\", \"Topic14\", \"Topic14\", \"Topic14\", \"Topic14\", \"Topic14\", \"Topic14\", \"Topic14\", \"Topic15\", \"Topic15\", \"Topic15\", \"Topic15\", \"Topic15\", \"Topic15\", \"Topic15\", \"Topic15\", \"Topic15\", \"Topic15\", \"Topic15\", \"Topic15\", \"Topic15\", \"Topic15\", \"Topic15\", \"Topic15\", \"Topic15\", \"Topic15\", \"Topic15\", \"Topic15\", \"Topic15\", \"Topic15\", \"Topic15\", \"Topic15\", \"Topic15\", \"Topic15\", \"Topic15\", \"Topic15\", \"Topic15\", \"Topic15\", \"Topic15\", \"Topic15\", \"Topic15\", \"Topic15\", \"Topic15\", \"Topic15\", \"Topic15\", \"Topic15\", \"Topic15\", \"Topic15\", \"Topic15\", \"Topic15\", \"Topic15\", \"Topic15\", \"Topic15\", \"Topic15\", \"Topic15\", \"Topic15\", \"Topic16\", \"Topic16\", \"Topic16\", \"Topic16\", \"Topic16\", \"Topic16\", \"Topic16\", \"Topic16\", \"Topic16\", \"Topic16\", \"Topic16\", \"Topic16\", \"Topic16\", \"Topic16\", \"Topic16\", \"Topic16\", \"Topic16\", \"Topic16\", \"Topic16\", \"Topic16\", \"Topic16\", \"Topic16\", \"Topic16\", \"Topic16\", \"Topic16\", \"Topic16\", \"Topic16\", \"Topic16\", \"Topic16\", \"Topic16\", \"Topic16\", \"Topic16\", \"Topic16\", \"Topic16\", \"Topic16\", \"Topic16\", \"Topic16\", \"Topic16\", \"Topic16\", \"Topic16\", \"Topic16\", \"Topic16\", \"Topic16\", \"Topic16\", \"Topic16\", \"Topic16\", \"Topic16\", \"Topic16\", \"Topic17\", \"Topic17\", \"Topic17\", \"Topic17\", \"Topic17\", \"Topic17\", \"Topic17\", \"Topic17\", \"Topic17\", \"Topic17\", \"Topic17\", \"Topic17\", \"Topic17\", \"Topic17\", \"Topic17\", \"Topic17\", \"Topic17\", \"Topic17\", \"Topic17\", \"Topic17\", \"Topic17\", \"Topic17\", \"Topic17\", \"Topic17\", \"Topic17\", \"Topic17\", \"Topic17\", \"Topic17\", \"Topic17\", \"Topic17\", \"Topic17\", \"Topic17\", \"Topic17\", \"Topic17\", \"Topic17\", \"Topic17\", \"Topic17\", \"Topic17\", \"Topic17\", \"Topic17\", \"Topic17\", \"Topic17\", \"Topic17\", \"Topic17\", \"Topic17\", \"Topic17\", \"Topic17\", \"Topic17\", \"Topic18\", \"Topic18\", \"Topic18\", \"Topic18\", \"Topic18\", \"Topic18\", \"Topic18\", \"Topic18\", \"Topic18\", \"Topic18\", \"Topic18\", \"Topic18\", \"Topic18\", \"Topic18\", \"Topic18\", \"Topic18\", \"Topic18\", \"Topic18\", \"Topic18\", \"Topic18\", \"Topic18\", \"Topic18\", \"Topic18\", \"Topic18\", \"Topic18\", \"Topic18\", \"Topic18\", \"Topic18\", \"Topic18\", \"Topic18\", \"Topic18\", \"Topic18\", \"Topic18\", \"Topic18\", \"Topic18\", \"Topic18\", \"Topic18\", \"Topic18\", \"Topic18\", \"Topic18\", \"Topic18\", \"Topic18\", \"Topic18\", \"Topic18\", \"Topic18\", \"Topic19\", \"Topic19\", \"Topic19\", \"Topic19\", \"Topic19\", \"Topic19\", \"Topic19\", \"Topic19\", \"Topic19\", \"Topic19\", \"Topic19\", \"Topic19\", \"Topic19\", \"Topic19\", \"Topic19\", \"Topic19\", \"Topic19\", \"Topic19\", \"Topic19\", \"Topic19\", \"Topic19\", \"Topic19\", \"Topic19\", \"Topic19\", \"Topic19\", \"Topic19\", \"Topic19\", \"Topic19\", \"Topic19\", \"Topic19\", \"Topic19\", \"Topic19\", \"Topic19\", \"Topic19\", \"Topic19\", \"Topic19\", \"Topic19\", \"Topic19\", \"Topic19\", \"Topic19\", \"Topic19\", \"Topic19\", \"Topic19\", \"Topic19\", \"Topic19\", \"Topic20\", \"Topic20\", \"Topic20\", \"Topic20\", \"Topic20\", \"Topic20\", \"Topic20\", \"Topic20\", \"Topic20\", \"Topic20\", \"Topic20\", \"Topic20\", \"Topic20\", \"Topic20\", \"Topic20\", \"Topic20\", \"Topic20\", \"Topic20\", \"Topic20\", \"Topic20\", \"Topic20\", \"Topic20\", \"Topic20\", \"Topic20\", \"Topic20\", \"Topic20\", \"Topic20\", \"Topic20\", \"Topic20\", \"Topic20\", \"Topic20\", \"Topic20\", \"Topic20\", \"Topic20\", \"Topic20\", \"Topic20\", \"Topic20\", \"Topic20\", \"Topic20\", \"Topic20\", \"Topic20\", \"Topic20\"], \"logprob\": [30.0, 29.0, 28.0, 27.0, 26.0, 25.0, 24.0, 23.0, 22.0, 21.0, 20.0, 19.0, 18.0, 17.0, 16.0, 15.0, 14.0, 13.0, 12.0, 11.0, 10.0, 9.0, 8.0, 7.0, 6.0, 5.0, 4.0, 3.0, 2.0, 1.0, -7.1767, -7.3024, -7.3804, -7.5283, -7.5418, -7.5811, -7.631, -7.7219, -7.7607, -7.8588, -7.8647, -7.8857, -7.8894, -7.8989, -7.975, -8.0325, -8.0805, -8.1305, -8.1848, -8.1771, -8.199, -8.1986, -8.1682, -8.2269, -8.259, -8.2592, -8.296, -8.3153, -8.3226, -8.3429, -6.3601, -7.3608, -7.7197, -7.0097, -7.0771, -6.8593, -7.6, -6.5772, -6.1842, -7.71, -7.404, -4.5958, -7.1003, -6.4479, -4.5564, -5.6895, -5.9492, -5.3893, -4.7406, -5.5104, -5.4522, -6.6783, -5.2175, -6.1289, -6.7934, -5.4082, -5.1224, -5.1405, -4.3696, -5.5478, -5.7949, -6.4203, -5.033, -5.8975, -4.4189, -6.2524, -5.6875, -5.6496, -5.5763, -5.8418, -5.9497, -5.6466, -5.3435, -5.4836, -5.4989, -5.2275, -5.4532, -5.2486, -5.5729, -5.2732, -5.5478, -5.738, -5.6476, -5.7107, -4.9857, -5.6889, -6.1494, -6.2478, -6.3774, -6.4648, -6.4674, -6.4879, -6.5686, -6.5743, -6.7555, -6.9687, -7.0237, -7.0594, -7.146, -7.2014, -7.2161, -7.27, -7.2815, -7.2827, -7.3033, -7.3133, -7.3544, -7.3408, -7.4018, -7.4022, -7.4058, -7.4545, -7.4748, -7.5254, -6.2498, -6.8101, -7.2407, -6.6049, -6.6113, -5.974, -4.5218, -6.7112, -5.5492, -6.8662, -5.2605, -6.1652, -6.3286, -6.1947, -6.1832, -6.6272, -5.91, -5.9595, -6.0085, -5.376, -4.7003, -5.2099, -5.4526, -4.7302, -5.4811, -5.5855, -5.8924, -5.751, -5.9988, -5.6103, -5.7666, -5.6998, -5.9839, -5.599, -5.8095, -5.7478, -5.7232, -5.91, -5.7531, -5.9652, -5.736, -5.7869, -6.0103, -4.3793, -6.1101, -6.1307, -6.1595, -6.1969, -6.2115, -6.212, -6.2176, -6.2534, -6.3621, -6.3948, -6.4064, -6.4125, -6.4457, -6.5484, -6.55, -6.5511, -6.5512, -6.5651, -6.5869, -6.6094, -6.7662, -6.7856, -6.8359, -6.8522, -6.8619, -6.8664, -2.7559, -2.88, -5.8448, -3.9937, -3.9299, -5.8423, -3.7079, -3.7993, -3.8032, -3.6165, -4.0165, -3.7813, -3.3586, -4.4164, -3.6294, -3.4273, -3.4385, -3.7977, -3.5871, -3.4455, -4.2132, -3.9361, -5.838, -3.8249, -5.8414, -3.8719, -5.1568, -3.9768, -5.596, -4.9656, -5.7549, -6.0262, -6.1141, -6.1385, -6.7287, -6.7414, -6.7671, -6.8088, -5.3209, -6.9602, -6.9686, -7.0035, -7.0486, -7.0997, -7.1412, -7.0213, -7.2613, -7.268, -7.3299, -7.3588, -7.3855, -7.4812, -7.4858, -7.4946, -7.5019, -7.5276, -7.5572, -7.565, -7.5823, -6.14, -7.2877, -6.7761, -5.69, -5.2126, -5.7968, -4.0014, -5.838, -6.1113, -5.3424, -6.3429, -5.876, -5.7092, -6.0303, -4.9292, -5.7281, -4.646, -5.0412, -5.9007, -4.6075, -5.7495, -5.1411, -6.0351, -5.6062, -5.4818, -5.5393, -5.9015, -5.1015, -5.0936, -5.7941, -5.1246, -5.5789, -5.3726, -5.5846, -5.4183, -5.0569, -5.0422, -5.5737, -5.3939, -5.4684, -5.2812, -5.3124, -5.3454, -5.4348, -5.452, -0.5328, -3.1551, -7.5256, -7.8054, -8.2829, -6.3231, -6.2464, -9.0802, -5.5207, -5.6835, -5.3678, -9.5001, -9.6176, -5.7219, -6.0888, -6.7032, -10.011, -10.049, -6.6143, -5.1182, -6.4327, -6.9043, -5.2336, -6.8542, -5.1327, -7.2325, -6.7995, -5.6361, -6.613, -6.6292, -5.9726, -2.8663, -3.0779, -4.8096, -3.5052, -3.7608, -6.5318, -4.1445, -5.3528, -4.1707, -4.246, -4.8103, -4.8147, -5.076, -5.6095, -5.8162, -6.4328, -5.5885, -5.7591, -5.8985, -5.9341, -6.0302, -6.3033, -6.4517, -6.4589, -6.5613, -6.6323, -6.639, -6.6835, -6.7402, -6.778, -6.795, -6.8488, -6.8751, -6.9592, -6.9625, -6.9789, -7.0191, -7.0819, -7.1785, -7.1987, -7.1999, -7.2003, -7.2005, -7.2119, -7.2191, -7.2247, -7.1948, -6.3749, -6.4781, -6.0822, -5.9856, -6.7225, -5.1021, -6.0969, -6.0407, -4.1545, -6.4142, -4.8496, -6.1483, -5.1757, -5.138, -5.4588, -5.7469, -6.3231, -5.1489, -5.5426, -5.3057, -5.6159, -5.3276, -5.9697, -5.4205, -5.6489, -5.9713, -5.2362, -5.9999, -5.9722, -5.5023, -5.887, -5.66, -5.845, -5.5885, -5.946, -5.76, -5.8725, -5.7948, -5.8114, -5.8842, -5.9244, -4.5823, -4.7634, -4.8704, -5.0698, -5.2903, -5.3993, -5.4987, -5.5523, -5.5819, -5.6599, -5.67, -5.6777, -5.6802, -5.8549, -5.8709, -6.0248, -6.093, -6.1305, -6.1875, -6.2373, -6.2465, -6.274, -6.2839, -6.3571, -6.3855, -6.3877, -3.708, -6.447, -6.4879, -6.4974, -4.7714, -5.1432, -5.4718, -5.539, -6.0107, -4.6817, -5.4093, -5.7972, -5.5288, -4.6897, -5.6539, -5.1957, -4.8002, -5.1569, -4.6761, -5.1521, -5.1945, -5.5075, -5.1359, -5.2646, -5.389, -5.2621, -5.4733, -5.4549, -4.9447, -5.4475, -5.5137, -5.6299, -5.6805, -5.9715, -6.4228, -6.513, -6.5132, -6.5379, -6.5785, -6.6441, -6.7961, -6.8492, -6.8644, -6.9825, -7.0161, -7.0496, -5.4401, -7.1689, -7.2631, -7.2664, -7.317, -7.425, -7.44, -7.4405, -7.4405, -7.4978, -7.5065, -7.5348, -4.4948, -5.4218, -4.2898, -4.3853, -5.8134, -1.7244, -5.7637, -6.1948, -5.8409, -6.196, -5.5545, -3.9023, -6.3097, -6.1746, -5.2574, -5.986, -5.2641, -5.6176, -4.4565, -5.3756, -5.5132, -5.7382, -5.3871, -5.484, -5.5262, -5.7938, -5.4189, -5.5727, -4.4503, -5.1783, -4.6207, -5.5482, -5.0719, -5.1935, -5.469, -5.5611, -5.5674, -5.5346, -5.5647, -4.1905, -4.3235, -4.54, -5.0092, -5.2661, -5.299, -5.4084, -5.5278, -5.5746, -5.8177, -5.8687, -5.8727, -5.9825, -6.0009, -6.0662, -6.0691, -6.0717, -6.1159, -6.1466, -6.1669, -6.1823, -6.1935, -6.1947, -6.2135, -6.2919, -6.339, -6.3478, -6.5608, -6.5808, -6.6354, -5.5865, -5.5382, -5.2683, -5.5863, -4.8788, -5.1189, -5.6046, -4.8699, -5.3658, -5.3107, -4.3896, -5.0747, -5.6996, -5.7873, -5.3458, -5.8272, -5.3843, -4.6986, -5.4747, -5.5188, -5.303, -5.2313, -5.5697, -5.4493, -4.63, -5.146, -5.6677, -5.7914, -5.9496, -5.9729, -6.0118, -5.1695, -6.0319, -6.0423, -6.0937, -6.16, -6.2348, -6.282, -6.438, -6.4742, -6.4745, -6.4894, -6.5103, -6.5324, -6.55, -6.5655, -6.5848, -6.6044, -6.6065, -6.1968, -6.6809, -6.6888, -6.7044, -6.7087, -4.5216, -6.2416, -5.778, -5.0379, -4.0352, -4.7637, -5.5451, -6.2828, -4.0243, -4.3379, -5.8902, -5.8509, -5.9337, -5.1578, -5.9796, -5.5707, -5.635, -5.4979, -4.758, -5.162, -5.0995, -5.6265, -5.5579, -4.9736, -5.4285, -5.6587, -4.506, -5.3659, -5.4179, -5.315, -4.9142, -5.1741, -5.4616, -5.2231, -5.2814, -5.5866, -5.6194, -4.0789, -4.702, -4.7745, -4.7134, -5.1961, -5.3665, -5.3712, -5.4244, -5.452, -5.7992, -5.8617, -5.9944, -6.0474, -6.0483, -6.0816, -6.0907, -6.1123, -6.1282, -6.1408, -6.1648, -6.165, -6.1816, -6.0823, -6.2592, -4.8003, -6.6105, -6.736, -6.7681, -5.8541, -5.9022, -3.8679, -4.0245, -5.0462, -4.0735, -4.6973, -3.7098, -5.9758, -4.6123, -4.7695, -5.025, -5.402, -5.0033, -4.5749, -4.0343, -4.3096, -5.2856, -4.3553, -5.0944, -4.5283, -4.3917, -5.4958, -5.091, -4.986, -4.2065, -5.0131, -5.0211, -4.6731, -4.5013, -4.3741, -5.0252, -4.9265, -4.8654, -5.1347, -5.5851, -5.7511, -6.0504, -6.1015, -6.1208, -6.1228, -6.19, -6.2582, -6.2729, -6.2884, -6.3251, -6.3351, -6.3907, -6.4169, -6.4278, -6.4292, -6.4326, -6.4631, -6.4265, -6.5086, -6.5197, -6.5549, -6.5586, -6.5826, -6.5902, -6.6222, -6.6486, -6.6742, -5.7338, -5.404, -4.4584, -4.5812, -6.3886, -5.4461, -4.8812, -5.5209, -5.0173, -4.7951, -5.0164, -5.5366, -4.9953, -5.9498, -3.8751, -5.8185, -5.2897, -6.1607, -5.8943, -5.3338, -5.1637, -5.5273, -5.5367, -5.189, -5.6914, -5.7074, -5.4093, -5.7618, -5.6283, -5.7624, -5.4201, -5.4668, -5.5839, -5.6069, -5.7238, -5.8217, -5.9092, -6.1266, -6.2671, -6.2692, -6.3362, -6.3397, -6.3457, -6.3831, -6.397, -6.4378, -6.4444, -6.4895, -6.5026, -6.5068, -6.5322, -6.5939, -6.6052, -6.632, -6.6622, -6.6677, -6.6985, -6.7594, -6.7682, -5.6593, -5.6632, -6.0505, -5.73, -4.3789, -5.3265, -6.1236, -6.0821, -4.2809, -6.0181, -4.9118, -5.2072, -4.4826, -5.1746, -6.1051, -4.9552, -5.3364, -5.1918, -5.1295, -5.164, -5.7379, -4.2169, -5.2328, -5.6114, -5.5587, -5.5627, -5.4997, -5.5053, -5.1591, -5.4788, -5.1887, -5.3892, -5.3584, -5.3513, -5.5494, -4.7568, -5.5049, -5.5126, -5.575, -5.6325, -5.7037, -5.7696, -5.8679, -5.8904, -5.9516, -5.9639, -6.19, -6.1944, -6.2392, -6.2616, -6.3857, -6.4177, -6.431, -6.452, -6.4533, -6.4038, -6.5207, -6.0114, -6.5781, -6.5922, -6.6304, -6.6575, -6.6653, -6.6765, -6.6785, -5.7981, -5.9908, -5.0428, -4.5833, -5.0038, -6.3496, -6.004, -5.879, -4.5316, -5.0813, -3.9957, -3.7034, -3.8956, -4.229, -4.8292, -4.7224, -5.0275, -4.5632, -5.5951, -4.439, -4.802, -4.8178, -5.46, -5.5182, -5.5778, -4.5662, -5.271, -4.9559, -5.3276, -5.3252, -5.2978, -5.556, -5.5183, -3.3285, -3.818, -4.1028, -4.23, -4.8933, -4.9783, -5.1843, -5.0813, -5.3152, -5.3751, -5.3775, -5.3983, -5.3995, -5.4754, -5.5346, -5.6225, -5.7214, -5.2857, -6.0416, -6.0536, -6.0835, -6.1566, -6.1954, -6.213, -5.1853, -6.3173, -6.3512, -6.364, -6.414, -6.4181, -5.26, -3.9617, -3.1629, -4.4996, -4.3731, -5.8145, -5.7145, -5.5272, -5.5307, -4.9298, -5.2728, -5.0157, -5.1591, -5.2433, -5.262, -5.3037, -5.331, -5.315, -4.7667, -4.8061, -4.8289, -4.9159, -4.9343, -5.0053, -5.052, -5.1483, -5.3071, -5.3183, -5.3442, -5.3748, -5.2687, -5.5845, -5.6892, -5.7153, -5.7347, -5.7741, -5.7799, -5.888, -5.8889, -5.9297, -5.9665, -5.9913, -6.0003, -6.0429, -6.0592, -6.0653, -4.5172, -6.0675, -4.8361, -4.492, -5.1183, -4.7888, -4.8655, -4.9119, -5.1436, -5.0652, -5.3468, -4.8527, -4.3937, -4.8217, -5.0461, -4.6092, -5.0687, -5.2166, -5.0005, -5.2492, -4.233, -4.9886, -5.055, -5.4666, -5.5378, -5.5628, -5.577, -5.6594, -5.6677, -5.6891, -5.7625, -5.7762, -5.798, -5.798, -5.8097, -5.8122, -5.832, -5.8228, -5.9916, -6.0108, -6.0156, -6.0229, -6.086, -6.0904, -6.0924, -6.103, -6.1191, -6.1199, -6.1369, -6.1407, -5.7739, -5.6912, -5.5135, -5.0707, -4.7989, -5.4743, -5.2861, -4.12, -4.9899, -4.5948, -5.798, -5.3727, -4.9199, -5.3585, -5.2092, -5.5265, -5.5325, -5.7957, -4.8962, -5.1982, -5.2728, -5.3138, -5.3139, -5.4031, -5.5599, -5.6338, -5.6564, -5.675, -5.7079, -5.7621, -5.851, -5.9074, -5.9155, -5.9524, -5.9638, -5.9856, -6.0001, -6.0082, -6.0221, -6.0504, -6.0553, -6.1617, -6.2535, -5.5194, -6.3696, -6.4228, -6.4425, -6.4731, -4.2843, -6.1128, -5.2965, -2.2762, -5.4746, -4.2862, -4.2519, -5.1401, -5.7045, -5.6619, -5.9218, -5.7948, -5.666, -5.9162, -5.9371, -4.4248, -4.5827, -5.019, -5.2362, -5.3098, -5.4164, -5.4492, -5.4664, -5.4902, -5.5186, -5.5343, -5.5438, -5.6839, -5.7208, -5.749, -5.8077, -5.8224, -5.8419, -5.8442, -5.881, -5.8856, -5.9048, -5.9244, -6.004, -6.0068, -6.0393, -6.0832, -6.095, -6.1024, -6.1062, -4.5929, -5.3002, -4.6591, -5.6463, -5.7897, -5.3884, -5.7074, -4.3959, -5.4909, -5.6649, -4.8775, -5.6182, -5.7052, -5.7881, -5.8025, -5.0443, -5.2242, -5.2434, -5.3506, -5.4285, -5.4362, -5.6727, -5.6954, -5.8407, -5.9013, -5.939, -5.9488, -5.9644, -5.9762, -6.0046, -6.0439, -6.0552, -6.0945, -6.137, -6.1579, -6.2206, -6.2561, -6.2852, -6.2964, -6.3123, -6.325, -6.3339, -6.3751, -6.3793, -6.4298, -4.4548, -5.5881, -5.8548, -5.756, -5.6446, -5.8598, -5.8237, -6.0353, -5.8754, -5.7716, -5.9902, -6.1241], \"loglift\": [30.0, 29.0, 28.0, 27.0, 26.0, 25.0, 24.0, 23.0, 22.0, 21.0, 20.0, 19.0, 18.0, 17.0, 16.0, 15.0, 14.0, 13.0, 12.0, 11.0, 10.0, 9.0, 8.0, 7.0, 6.0, 5.0, 4.0, 3.0, 2.0, 1.0, 1.5127, 1.5125, 1.5121, 1.5114, 1.5113, 1.5111, 1.5108, 1.5102, 1.5098, 1.5093, 1.5092, 1.5091, 1.509, 1.509, 1.5083, 1.5078, 1.5073, 1.5069, 1.5064, 1.5063, 1.5062, 1.5062, 1.5061, 1.5059, 1.5056, 1.5056, 1.5052, 1.5049, 1.5049, 1.5046, 1.5008, 1.4973, 1.5009, 1.4783, 1.4742, 1.4563, 1.4834, 1.4348, 1.4055, 1.4837, 1.4652, 1.2753, 1.4344, 1.372, 1.1956, 1.2879, 1.3064, 1.2379, 1.1439, 1.2362, 1.2194, 1.366, 1.1826, 1.2801, 1.3661, 1.1508, 1.0898, 1.0924, 0.9536, 1.1376, 1.1773, 1.294, 1.009, 1.1846, 0.8553, 1.2571, 1.1226, 1.1085, 1.0655, 1.1273, 1.159, 1.0187, 0.8754, 0.9242, 0.929, 0.7976, 0.8712, 0.7274, 0.9193, 0.6361, 0.7581, 0.9845, 0.5651, 0.6404, 1.5279, 1.5275, 1.5269, 1.5268, 1.5266, 1.5264, 1.5264, 1.5264, 1.5262, 1.5262, 1.5258, 1.5252, 1.525, 1.5249, 1.5246, 1.5244, 1.5243, 1.5241, 1.524, 1.524, 1.524, 1.5239, 1.5237, 1.5237, 1.5235, 1.5235, 1.5235, 1.5232, 1.5231, 1.5229, 1.5221, 1.5134, 1.5206, 1.4703, 1.4688, 1.3865, 1.2004, 1.4518, 1.2897, 1.4654, 1.2057, 1.352, 1.3771, 1.3262, 1.3049, 1.399, 1.2247, 1.2097, 1.1822, 0.9636, 0.6229, 0.8152, 0.9192, 0.544, 0.8248, 0.7657, 0.9682, 0.8123, 1.0283, 0.6086, 0.7655, 0.533, 0.8949, 0.2855, 0.5984, 0.2942, 0.1861, 0.5179, -0.0011, 0.247, 2.2963, 2.2962, 2.2957, 2.2955, 2.2954, 2.2953, 2.2953, 2.2951, 2.2951, 2.2951, 2.2951, 2.295, 2.2946, 2.2945, 2.2944, 2.2944, 2.2943, 2.2938, 2.2938, 2.2938, 2.2938, 2.2938, 2.2937, 2.2936, 2.2928, 2.2927, 2.2924, 2.2923, 2.2922, 2.2922, 2.2839, 2.2615, 2.2881, 2.2125, 2.1995, 2.2596, 2.1428, 2.0876, 2.0675, 2.0116, 2.0362, 2.0007, 1.924, 2.0466, 1.9234, 1.8874, 1.8147, 1.8369, 1.7289, 1.6927, 1.8395, 1.6894, 2.1851, 1.2994, 2.1625, 1.135, 1.7982, 0.8003, 1.2933, 2.4072, 2.406, 2.4053, 2.405, 2.405, 2.4023, 2.4022, 2.4021, 2.4018, 2.4012, 2.4008, 2.4007, 2.4005, 2.4001, 2.3997, 2.3993, 2.3991, 2.3982, 2.3981, 2.3975, 2.3972, 2.3969, 2.3957, 2.3957, 2.3956, 2.3955, 2.3951, 2.3947, 2.3946, 2.3944, 2.3865, 2.3942, 2.3882, 2.372, 2.3462, 2.3594, 2.2616, 2.3374, 2.3338, 2.2887, 2.3357, 2.3004, 2.274, 2.2994, 2.191, 2.2678, 2.1383, 2.1751, 2.2694, 2.091, 2.2364, 2.1375, 2.2642, 2.1486, 2.0957, 2.1045, 2.1942, 1.927, 1.6576, 2.0987, 1.5133, 1.9004, 1.5663, 1.7801, 1.5546, 0.8524, 0.5924, 1.6154, 1.0872, 1.2955, 0.6948, 0.7404, 0.2074, 0.1908, -0.1988, 2.5363, 2.5276, 2.5214, 2.5167, 2.5047, 2.4762, 2.4679, 2.4674, 2.4626, 2.4622, 2.4537, 2.4332, 2.4211, 2.4132, 2.4031, 2.3969, 2.3699, 2.3639, 2.3362, 2.3361, 2.331, 2.3095, 2.3091, 2.3089, 2.2985, 2.2941, 2.2788, 2.2787, 2.2494, 2.2157, 2.2093, 2.1407, 2.0464, 2.0797, 1.633, 1.5552, 2.073, 1.1701, 1.6022, 1.0825, 1.0366, 0.9717, 0.8108, 0.5521, 0.2612, 0.2365, -0.3802, 2.9111, 2.9105, 2.91, 2.9098, 2.9094, 2.9078, 2.9068, 2.9068, 2.906, 2.9054, 2.9053, 2.9049, 2.9043, 2.904, 2.9038, 2.9032, 2.9029, 2.9019, 2.9019, 2.9017, 2.9012, 2.9003, 2.899, 2.8986, 2.8986, 2.8986, 2.8986, 2.8984, 2.8983, 2.8982, 2.8982, 2.8871, 2.8863, 2.8756, 2.8584, 2.8828, 2.8099, 2.8526, 2.847, 2.7477, 2.8613, 2.7226, 2.8254, 2.6679, 2.6007, 2.6493, 2.6782, 2.7906, 2.4904, 2.5341, 2.4342, 2.4819, 2.3073, 2.5828, 2.2237, 2.2206, 2.4229, 1.5277, 2.3445, 2.2754, 1.2618, 2.0249, 1.2789, 1.8472, 0.6242, 2.1799, 1.0409, 1.5725, 0.5449, 0.5595, 0.0251, 0.8267, 3.2656, 3.2652, 3.265, 3.2645, 3.2639, 3.2635, 3.263, 3.2629, 3.2628, 3.2624, 3.2624, 3.2623, 3.2623, 3.2614, 3.2613, 3.2603, 3.2598, 3.2595, 3.2591, 3.2587, 3.2586, 3.2583, 3.2582, 3.2576, 3.2573, 3.2573, 3.2571, 3.2567, 3.2562, 3.2561, 3.1541, 3.173, 3.1914, 3.1961, 3.2125, 2.9297, 3.0557, 3.1184, 2.9814, 2.6125, 3.0167, 2.7695, 2.1808, 2.0337, 1.2999, 1.5991, 1.6702, 2.4044, 1.3452, 0.788, 1.5499, 0.0526, 1.4648, 1.0372, 3.3059, 3.3043, 3.304, 3.3034, 3.3032, 3.3015, 3.2976, 3.2965, 3.2965, 3.2962, 3.2957, 3.2927, 3.2927, 3.2918, 3.2916, 3.2895, 3.2889, 3.2882, 3.2869, 3.2857, 3.2835, 3.2834, 3.2821, 3.2792, 3.2787, 3.2787, 3.2787, 3.277, 3.2767, 3.2758, 3.2728, 3.2723, 3.2242, 3.2249, 3.2402, 3.0526, 3.2186, 3.2345, 3.1753, 3.1793, 3.1053, 2.7357, 3.1603, 3.0989, 2.7897, 3.0164, 2.725, 2.8365, 2.3074, 2.6761, 2.7476, 2.8622, 2.6469, 2.6746, 2.6498, 2.8411, 2.436, 2.5262, 1.1025, 1.9846, 0.6324, 2.3952, 0.9041, 0.4411, 1.7561, 2.1338, 1.8543, 0.5181, 1.7139, 3.4251, 3.4249, 3.4246, 3.4235, 3.4226, 3.4225, 3.422, 3.4215, 3.4212, 3.4198, 3.4194, 3.4194, 3.4186, 3.4185, 3.4179, 3.4179, 3.4179, 3.4175, 3.4172, 3.417, 3.4169, 3.4168, 3.4168, 3.4166, 3.4158, 3.4153, 3.4152, 3.4126, 3.4123, 3.4115, 3.3927, 3.2648, 3.1336, 3.1956, 2.9596, 3.0328, 3.175, 2.8591, 2.8796, 2.8337, 2.1737, 2.6136, 3.0074, 3.0664, 2.3229, 3.0482, 2.2998, 1.0236, 2.4297, 2.4858, 1.6779, 1.1083, 2.0861, -0.1751, 3.5269, 3.5254, 3.5228, 3.522, 3.5208, 3.5206, 3.5202, 3.5202, 3.52, 3.52, 3.5195, 3.5188, 3.518, 3.5175, 3.5155, 3.515, 3.515, 3.5148, 3.5145, 3.5142, 3.5139, 3.5137, 3.5134, 3.5131, 3.5131, 3.5127, 3.5118, 3.5117, 3.5114, 3.5113, 3.4876, 3.5045, 3.4918, 3.4576, 3.401, 3.4356, 3.4632, 3.4978, 3.3428, 3.344, 3.4574, 3.4515, 3.4488, 3.33, 3.4373, 3.3483, 3.3512, 3.3076, 3.0878, 3.1727, 3.1082, 3.2935, 3.2611, 2.804, 3.0965, 3.2493, 2.2581, 2.9496, 2.724, 2.4706, 1.4567, 2.0082, 2.4944, 1.6415, 1.7818, 0.7378, 1.9771, 3.6612, 3.6599, 3.6597, 3.6588, 3.6581, 3.6573, 3.6573, 3.657, 3.6568, 3.6544, 3.6539, 3.6527, 3.6521, 3.6521, 3.6518, 3.6517, 3.6514, 3.6512, 3.6511, 3.6508, 3.6508, 3.6506, 3.6504, 3.6496, 3.6479, 3.6442, 3.6418, 3.6411, 3.6409, 3.6404, 3.6258, 3.6107, 3.6137, 3.5244, 3.534, 3.4447, 3.6318, 3.4727, 3.4729, 3.5074, 3.5463, 3.4762, 3.4014, 3.2972, 3.3278, 3.4863, 3.257, 3.4406, 3.2745, 3.1532, 3.5116, 3.2947, 3.2355, 2.7664, 3.1973, 3.1772, 2.715, 2.4368, 2.107, 3.0587, 0.9241, 4.0877, 4.0861, 4.0824, 4.0806, 4.0761, 4.0756, 4.0752, 4.0752, 4.074, 4.0727, 4.0724, 4.0721, 4.0713, 4.0711, 4.0699, 4.0693, 4.0691, 4.069, 4.0689, 4.0682, 4.0673, 4.0671, 4.0668, 4.0659, 4.0658, 4.0652, 4.065, 4.0641, 4.0633, 4.0626, 4.0595, 4.053, 3.8545, 3.7676, 4.0353, 3.7871, 3.5627, 3.7315, 3.5542, 3.4045, 3.4546, 3.6751, 3.3415, 3.8264, 2.5879, 3.7091, 3.2753, 3.9058, 3.6191, 2.8734, 2.531, 2.9125, 2.767, 2.004, 2.5548, 2.4096, 0.8034, 2.5178, 1.7298, 2.3992, 4.1598, 4.1594, 4.1582, 4.1579, 4.1565, 4.1552, 4.154, 4.1503, 4.1475, 4.1474, 4.1459, 4.1459, 4.1457, 4.1448, 4.1445, 4.1435, 4.1433, 4.1421, 4.1418, 4.1417, 4.141, 4.1392, 4.1389, 4.1381, 4.1371, 4.1369, 4.1359, 4.1339, 4.1336, 4.1322, 4.1062, 4.1058, 4.0739, 3.9437, 3.9538, 4.0385, 4.0213, 3.4967, 3.9809, 3.4955, 3.4933, 3.1138, 3.4199, 3.9395, 3.1637, 3.4155, 3.2633, 3.0124, 3.0436, 3.5849, 1.9959, 3.0467, 3.4106, 3.3166, 3.3142, 3.2164, 3.041, 2.208, 2.756, 1.5754, 2.2495, 1.5062, 0.9118, 1.1462, 4.432, 4.425, 4.4249, 4.424, 4.4232, 4.4221, 4.421, 4.4192, 4.4188, 4.4176, 4.4173, 4.412, 4.4119, 4.4107, 4.4101, 4.4064, 4.4054, 4.405, 4.4043, 4.4043, 4.403, 4.4019, 4.401, 4.3998, 4.3993, 4.3978, 4.3967, 4.3964, 4.3959, 4.3958, 4.3633, 4.3609, 4.3036, 4.2468, 4.2634, 4.3492, 4.2564, 4.2083, 3.7796, 3.9153, 3.2933, 3.101, 3.1329, 3.1357, 3.3412, 3.1234, 3.3404, 2.9161, 3.8066, 2.5502, 2.896, 2.5772, 3.51, 3.571, 3.6114, 1.0593, 2.6984, 1.7426, 2.5687, 2.2718, 2.0895, 3.332, 1.1533, 4.5363, 4.5353, 4.5343, 4.5336, 4.53, 4.5293, 4.5273, 4.5267, 4.5258, 4.525, 4.525, 4.5247, 4.5247, 4.5237, 4.5228, 4.5214, 4.5197, 4.5167, 4.5129, 4.5126, 4.5119, 4.5099, 4.5088, 4.5083, 4.5056, 4.5051, 4.504, 4.5035, 4.5018, 4.5016, 4.4862, 4.4499, 4.353, 4.4022, 4.3112, 4.4458, 4.4261, 4.3923, 4.3389, 4.1361, 4.0757, 3.9128, 3.4041, 3.2085, 3.1341, 3.2263, 2.3981, 0.5356, 4.8015, 4.8012, 4.8009, 4.8, 4.7998, 4.799, 4.7985, 4.7972, 4.7949, 4.7947, 4.7943, 4.7938, 4.7921, 4.7899, 4.7876, 4.787, 4.7865, 4.7855, 4.7854, 4.7825, 4.7825, 4.7813, 4.7802, 4.7795, 4.7792, 4.7779, 4.7773, 4.7771, 4.7771, 4.777, 4.7769, 4.7729, 4.7598, 4.7111, 4.6755, 4.5283, 4.5258, 4.4974, 4.5649, 4.2809, 3.7706, 4.0794, 4.1896, 3.7614, 3.9663, 3.8319, 2.7852, 3.0855, 5.0281, 5.0204, 5.0194, 5.0116, 5.0099, 5.0092, 5.0089, 5.0067, 5.0064, 5.0058, 5.0036, 5.0032, 5.0025, 5.0025, 5.0022, 5.0021, 5.0014, 5.0012, 4.9957, 4.995, 4.9948, 4.9945, 4.9919, 4.9918, 4.9917, 4.9912, 4.9905, 4.9905, 4.9898, 4.9896, 4.9755, 4.9601, 4.8714, 4.7287, 4.6326, 4.782, 4.6351, 3.9161, 4.2137, 3.7252, 4.7958, 4.117, 3.3545, 3.5426, 2.3872, 3.3294, 3.1568, 3.4927, 5.6717, 5.6628, 5.6601, 5.6586, 5.6586, 5.655, 5.648, 5.6443, 5.6431, 5.6421, 5.6403, 5.6372, 5.6318, 5.6281, 5.6275, 5.625, 5.6242, 5.6226, 5.6216, 5.621, 5.62, 5.6178, 5.6174, 5.6088, 5.6007, 5.5934, 5.5894, 5.5838, 5.5817, 5.5783, 5.4314, 5.5057, 5.314, 3.6107, 5.156, 4.0176, 3.3604, 3.9267, 4.761, 4.5888, 4.8721, 3.569, 1.0324, 4.0257, 3.566, 5.7144, 5.7115, 5.701, 5.6938, 5.691, 5.6865, 5.6851, 5.6843, 5.6832, 5.6818, 5.6811, 5.6806, 5.6732, 5.6711, 5.6694, 5.6658, 5.6649, 5.6636, 5.6635, 5.661, 5.6607, 5.6594, 5.658, 5.6522, 5.652, 5.6495, 5.646, 5.645, 5.6444, 5.6441, 5.6305, 5.5807, 5.4084, 5.5379, 5.5495, 5.2464, 5.4326, 4.3401, 5.244, 5.3626, 3.5245, 4.9023, 5.0421, 4.9405, 5.136, 6.2752, 6.2645, 6.2632, 6.2558, 6.2499, 6.2493, 6.2285, 6.2262, 6.2107, 6.2036, 6.199, 6.1978, 6.1959, 6.1944, 6.1907, 6.1854, 6.1839, 6.1784, 6.1723, 6.1692, 6.1595, 6.1538, 6.1491, 6.1472, 6.1445, 6.1423, 6.1408, 6.1335, 6.1327, 6.1234, 5.6802, 5.8535, 5.7215, 5.1681, 4.7568, 4.3926, 3.9047, 4.579, 3.0485, 0.4915, 2.9835, 2.9302]}, \"token.table\": {\"Topic\": [2, 3, 4, 5, 9, 15, 3, 5, 8, 18, 3, 3, 3, 8, 3, 3, 2, 3, 4, 5, 6, 7, 8, 9, 3, 5, 3, 5, 3, 3, 7, 3, 12, 3, 18, 18, 18, 4, 18, 18, 3, 5, 5, 19, 16, 13, 11, 12, 11, 11, 1, 2, 4, 6, 8, 11, 13, 14, 1, 6, 7, 9, 20, 6, 1, 6, 7, 9, 1, 2, 3, 3, 4, 8, 18, 20, 20, 16, 4, 7, 8, 19, 8, 11, 1, 2, 4, 6, 7, 8, 9, 10, 11, 12, 14, 14, 1, 2, 6, 7, 9, 10, 13, 4, 12, 12, 12, 2, 17, 6, 9, 10, 13, 4, 4, 7, 1, 2, 4, 11, 14, 9, 3, 8, 13, 1, 4, 8, 11, 1, 4, 6, 8, 1, 4, 6, 7, 9, 10, 13, 16, 20, 3, 15, 15, 13, 19, 4, 6, 7, 9, 9, 1, 2, 8, 9, 9, 9, 19, 1, 2, 4, 9, 1, 2, 4, 6, 8, 9, 10, 12, 17, 1, 2, 4, 12, 14, 13, 2, 2, 2, 20, 11, 6, 1, 4, 6, 12, 14, 2, 19, 1, 15, 1, 4, 6, 7, 6, 19, 6, 19, 3, 5, 9, 9, 9, 9, 9, 1, 2, 3, 4, 5, 6, 8, 10, 11, 12, 13, 16, 17, 1, 2, 6, 7, 8, 9, 10, 12, 13, 1, 9, 2, 16, 4, 20, 7, 16, 10, 13, 1, 2, 4, 6, 11, 12, 1, 12, 16, 18, 2, 2, 1, 2, 19, 1, 2, 4, 8, 10, 11, 12, 1, 2, 8, 10, 3, 2, 1, 1, 15, 15, 2, 6, 4, 11, 1, 2, 4, 7, 8, 11, 2, 18, 10, 1, 15, 1, 4, 6, 11, 14, 1, 2, 4, 10, 16, 17, 18, 18, 2, 10, 20, 1, 2, 4, 6, 12, 14, 16, 16, 15, 1, 2, 4, 6, 9, 13, 14, 4, 16, 9, 10, 13, 1, 12, 13, 1, 4, 6, 7, 8, 11, 13, 14, 3, 20, 15, 15, 16, 14, 18, 1, 3, 5, 5, 8, 16, 1, 2, 6, 7, 8, 19, 13, 1, 12, 6, 9, 11, 1, 7, 16, 1, 2, 3, 4, 5, 6, 8, 10, 11, 12, 13, 3, 7, 10, 16, 10, 13, 1, 2, 9, 10, 12, 13, 7, 7, 2, 13, 1, 9, 12, 15, 15, 4, 11, 13, 17, 1, 11, 13, 15, 15, 17, 5, 17, 2, 19, 1, 3, 4, 10, 12, 18, 6, 20, 2, 4, 6, 9, 10, 13, 15, 6, 9, 10, 1, 1, 1, 12, 13, 8, 1, 1, 6, 10, 16, 1, 2, 10, 13, 2, 8, 9, 1, 7, 11, 2, 2, 2, 2, 18, 2, 7, 1, 14, 2, 6, 9, 13, 15, 3, 3, 1, 2, 15, 18, 13, 18, 4, 8, 12, 14, 7, 1, 2, 4, 8, 9, 17, 15, 14, 2, 4, 6, 11, 13, 16, 20, 8, 1, 2, 4, 8, 10, 11, 12, 14, 16, 17, 18, 13, 13, 4, 8, 20, 15, 8, 14, 17, 2, 1, 2, 7, 12, 14, 13, 18, 1, 2, 6, 7, 9, 1, 14, 17, 11, 20, 14, 1, 10, 14, 20, 6, 8, 13, 19, 4, 8, 1, 2, 4, 6, 7, 12, 11, 2, 13, 13, 20, 1, 2, 4, 7, 9, 10, 14, 18, 4, 19, 1, 2, 4, 6, 7, 9, 13, 20, 15, 11, 1, 2, 7, 9, 20, 20, 20, 7, 7, 7, 2, 3, 4, 10, 11, 17, 19, 20, 10, 8, 18, 17, 9, 3, 5, 18, 1, 4, 6, 7, 8, 11, 3, 4, 11, 3, 6, 12, 13, 2, 3, 4, 5, 9, 17, 2, 9, 8, 1, 4, 9, 11, 19, 4, 10, 10, 2, 4, 8, 7, 10, 16, 18, 12, 10, 13, 10, 18, 3, 5, 12, 11, 4, 13, 7, 12, 4, 7, 8, 12, 2, 7, 7, 1, 4, 7, 11, 1, 4, 8, 11, 11, 1, 3, 14, 15, 16, 12, 4, 11, 18, 14, 7, 19, 1, 11, 17, 1, 10, 11, 1, 4, 11, 11, 1, 2, 15, 2, 7, 17, 1, 3, 11, 3, 1, 2, 3, 4, 5, 6, 7, 8, 11, 12, 14, 2, 6, 1, 2, 4, 6, 9, 13, 20, 2, 8, 16, 10, 1, 2, 17, 18, 2, 4, 7, 12, 13, 14, 15, 20, 17, 7, 3, 5, 11, 4, 8, 11, 12, 13, 14, 7, 7, 20, 2, 6, 8, 7, 1, 6, 15, 8, 13, 6, 8, 10, 3, 4, 5, 1, 2, 8, 10, 11, 7, 13, 11, 1, 2, 4, 7, 9, 10, 2, 7, 2, 1, 2, 4, 6, 10, 12, 13, 17, 5, 2, 8, 1, 7, 4, 7, 8, 16, 1, 2, 4, 16, 3, 5, 1, 3, 4, 5, 6, 8, 11, 1, 2, 4, 6, 7, 9, 2, 2, 4, 7, 14, 1, 4, 1, 3, 4, 5, 6, 20, 17, 4, 7, 8, 9, 14, 4, 7, 8, 5, 1, 2, 4, 8, 12, 1, 2, 1, 2, 4, 6, 7, 8, 9, 10, 13, 17, 17, 8, 1, 2, 10, 14, 6, 13, 8, 17, 4, 7, 11, 10, 4, 8, 2, 9, 12, 12, 13, 1, 15, 4, 8, 11, 4, 4, 11, 3, 5, 13, 5, 4, 6, 8, 13, 18, 2, 4, 9, 13, 14, 1, 2, 9, 10, 15, 4, 1, 2, 4, 6, 7, 8, 12, 6, 1, 2, 3, 4, 5, 6, 7, 10, 8, 10, 11, 13, 10, 13, 16, 17, 20, 9, 1, 20, 1, 2, 4, 6, 9, 1, 2, 4, 9, 13, 1, 2, 4, 7, 8, 10, 1, 2, 10, 16, 4, 16, 10, 3, 5, 12, 3, 10, 12, 4, 1, 2, 3, 4, 5, 6, 9, 10, 13, 2, 6, 7, 10, 10, 2, 1, 2, 7, 9, 10, 1, 2, 4, 10, 12, 13, 7, 1, 2, 8, 9, 10, 12, 4, 6, 7, 15, 17, 18, 1, 2, 6, 7, 9, 6, 3, 5, 17, 4, 11, 6, 8, 9, 2, 9, 19, 1, 2, 6, 9, 14, 2, 14, 4, 1, 2, 1, 2, 3, 4, 6, 8, 12, 14, 17, 10, 8, 12, 17, 19, 2, 8, 19, 1, 2, 10, 11, 10, 13, 10, 20, 12, 2, 9, 12, 15, 17, 1, 6, 7, 9, 2, 16, 19, 1, 17, 19, 1, 2, 8, 10, 16, 7, 10, 16, 16, 9, 10, 13, 16, 2, 15, 1, 18, 4, 15, 18, 14, 13, 2, 4, 6, 9, 17, 1, 3, 12, 14, 18, 8, 1, 17, 8, 14, 6, 1, 2, 4, 2, 4, 6, 1, 2, 4, 6, 7, 8, 11, 12, 18, 18, 20, 1, 4, 8, 11, 14, 1, 2, 4, 6, 7, 8, 9, 14, 17, 16, 16, 1, 4, 7, 8, 12, 18, 1, 8, 11, 6, 7, 1, 2, 4, 11, 12, 14, 19, 17, 4, 7, 14, 16, 17, 19, 11, 11, 10, 15, 15, 15, 9, 2, 3, 4, 5, 6, 7, 9, 10, 17, 12, 13, 2, 10, 18, 2, 9, 15, 1, 2, 4, 2, 17, 1, 17, 3, 1, 3, 4, 7, 9, 11, 15, 16, 9, 9, 4, 7, 8, 7, 3, 17, 12, 1, 2, 9, 2, 10, 18, 14, 1, 2, 4, 7, 11, 13, 2, 9, 2, 3, 4, 5, 6, 9, 10, 13, 2, 3, 6, 9, 10, 16, 19, 2, 6, 9, 12, 15, 14, 16, 1, 2, 4, 6, 7, 8, 9, 10, 13, 6, 6, 2, 7, 2, 4, 10, 7, 10, 13, 16, 15, 15, 10, 18, 15, 8, 1, 2, 6, 1, 2, 4, 7, 9, 12, 13, 10, 1, 2, 4, 7, 8, 10, 4, 1, 2, 4, 6, 8, 9, 10, 13, 14, 16, 4, 14, 3, 1, 1, 2, 4, 11, 12, 13, 1, 2, 8, 13, 2, 3, 6, 9, 10, 13, 1, 2, 8, 9, 10, 13, 14, 1, 2, 10, 14, 6, 9, 3, 5, 3, 5, 3, 4, 11, 1, 4, 7, 13, 14, 4, 14, 1, 2, 4, 7, 8, 10, 11, 13, 19, 9, 2, 4, 8, 13, 18, 1, 2, 4, 6, 7, 9, 13, 13, 6, 6, 9, 1, 2, 7, 15, 17, 18, 2, 5, 8, 1, 2, 4, 6, 7, 8, 10, 12, 13, 14, 15, 3, 4, 5, 11, 20, 2, 7, 9, 20, 1, 2, 4, 8, 11, 12, 20, 13, 10, 3, 5, 6, 3, 11, 1, 2, 4, 10, 12, 20, 6, 9, 15, 2, 13, 19, 10, 16, 13, 2, 6, 6, 4, 8, 14, 3, 1, 4, 7, 8, 11, 17, 1, 2, 4, 6, 8, 11, 12, 14, 17, 4, 11, 6, 20, 8, 16, 1, 2, 6, 18, 1, 11, 12, 2, 6, 2, 2, 11, 4, 8, 4, 8, 11, 20, 17, 18, 1, 3, 15, 1, 3, 4, 11, 17, 4, 12, 1, 2, 4, 7, 10, 10, 1, 2, 14, 2, 9, 1, 2, 4, 6, 7, 8, 11, 12, 3, 10, 3, 8, 17, 3, 5, 6, 7, 8, 11, 13, 4, 6, 1, 2, 6, 7, 9, 13, 14, 6, 2, 9, 9, 8, 17, 1, 12, 1, 2, 4, 7, 8, 11, 15, 5, 19, 2, 14, 1, 2, 3, 4, 6, 7, 8, 9, 10, 11, 12, 13, 14, 6, 14, 10, 19, 7, 17, 3, 6, 10, 16, 17, 4, 11, 7, 11, 2, 6, 8, 1, 2, 4, 6, 7, 8, 9, 10, 14, 13, 16, 10, 16, 17, 12, 17, 1, 2, 4, 11, 12, 13, 14, 1, 2, 4, 6, 7, 9, 13, 17, 1, 6, 15, 1, 2, 4, 9, 11, 12, 13, 19, 1, 2, 4, 6, 7, 8, 9, 10, 11, 12, 13, 1, 2, 4, 7, 8, 9, 10, 17, 4, 1, 4, 6, 7, 8, 11, 17, 6, 6, 18, 13, 8, 16, 9, 14, 14, 7, 8, 12, 12, 12, 6, 1, 2, 3, 4, 5, 6, 7, 8, 9, 12, 3, 5, 3, 5, 4, 17, 20, 1, 2, 12, 15, 15, 19, 8, 14, 20, 7, 19, 1, 2, 4, 9, 1, 6, 3, 4, 11, 10, 2, 9, 15, 15, 13, 1, 2, 4, 7, 9, 1, 2, 6, 8, 9, 10, 18, 1, 2, 4, 6, 7, 8, 17, 7, 16, 13, 7, 1, 8, 13, 13, 1, 2, 4, 12, 19, 1, 11, 4, 10, 16, 16, 16, 16, 16, 16, 10, 13, 19, 8, 3, 5, 6, 1, 4, 1, 2, 7, 10, 12, 13, 2, 10, 13, 10, 12, 16, 10, 10, 13, 1, 2, 4, 8, 11, 13, 14, 19, 15, 1, 1, 2, 4, 7, 10, 14, 7, 14, 4, 11, 1, 2, 4, 10, 12, 13, 14, 1, 2, 4, 8, 14, 1, 2, 4, 14, 1, 2, 6, 9, 10, 12, 17, 3, 4, 6, 9, 10, 2, 6, 7, 1, 2, 10, 1, 4, 11, 12, 13, 15, 16, 4, 7, 1, 2, 4, 7, 10, 14, 1, 2, 4, 8, 11, 1, 2, 4, 8, 11, 8, 1, 4, 6, 7, 8, 4, 19, 14, 6, 12, 10, 16, 3, 4, 7, 2, 4, 6, 7, 9, 14, 10, 1, 2, 3, 5, 7, 3, 3, 3, 3, 5, 3, 11, 5, 16, 13, 18, 11, 14, 3, 2, 3, 4, 5, 6, 8, 13, 15, 6, 12, 11, 18, 16, 4, 1, 2, 10, 1, 15, 12, 14, 15, 10, 16, 7, 17, 2, 2, 9, 2, 8, 18, 1, 2, 4, 11, 14, 1, 2, 6, 7, 8, 9, 10, 9, 2, 4, 6, 7, 8, 14, 4, 6, 7, 14, 2, 4, 6, 7, 20, 2, 12, 8, 14, 1, 2, 4, 6, 8, 9, 13, 15, 19, 3, 1, 2, 1, 2, 7, 8, 10, 11, 12, 15, 7, 20, 1, 2, 4, 6, 9, 13, 15, 11, 2, 6, 19, 12, 7, 2, 6, 8, 13, 14, 1, 4, 8, 11, 16, 6, 9, 10, 15, 10, 1, 2, 6, 9, 10, 18, 1, 6, 11, 12, 13, 4, 6, 8, 10, 13, 18, 13, 6, 6, 1, 2, 9, 1, 2, 7, 2, 4, 6, 10, 16, 10, 10, 1, 2, 9, 12, 10, 13, 11, 2, 6, 9, 17, 18, 17, 10, 13, 1, 2, 4, 6, 7, 8, 9, 10, 11, 2, 6, 7, 17, 1, 2, 4, 6, 8, 9, 13, 2, 7, 2, 6, 7, 9, 14, 15, 14, 19, 1, 2, 4, 7, 8, 10, 13, 19, 1, 7, 12, 13, 16, 19, 2, 6, 1, 2, 4, 7, 8, 13, 14, 1, 6, 7, 9, 1, 4, 6, 10, 13, 17, 4, 8, 4, 1, 2, 4, 6, 8, 9, 10, 11, 4, 15, 7, 4, 10, 19, 1, 4, 11, 12, 13, 14, 1, 6, 12, 12, 1, 2, 4, 6, 7, 8, 10, 13, 1, 4, 8, 13, 3, 10, 16, 7, 14, 6, 2, 17, 19, 11, 1, 18, 19, 1, 4, 11, 6, 9, 15, 1, 2, 8, 4, 11, 12, 1, 2, 11, 12, 8, 6, 9, 13, 1, 4, 6, 8, 6, 1, 1, 13, 2, 2, 13, 13, 20, 3, 17, 2, 3, 4, 6, 10, 11, 13, 17, 1, 2, 4, 9, 10, 1, 2, 6, 9, 1, 10, 12, 15, 12, 14, 10, 16, 2, 19, 1, 4, 2, 18, 1, 7, 8, 1, 8, 19, 1, 2, 4, 6, 7, 8, 14, 19, 9, 1, 2, 4, 6, 8, 1, 1, 2, 4, 7, 8, 7, 12, 7, 11, 3, 17, 3, 8, 11, 1, 2, 4, 6, 7, 11, 3, 3, 5, 10, 4, 3, 16, 12, 6, 10, 13, 16, 6, 10, 13, 1, 4, 6, 7, 20, 4, 18, 6, 8, 4, 3, 5, 1, 2, 3, 4, 6, 8, 9, 10, 13, 1, 4, 8, 11, 13, 14, 1, 2, 10, 1, 2, 4, 6, 7, 9, 10, 14, 5, 6, 13, 4, 13, 1, 2, 4, 6, 7, 8, 9, 10, 13, 1, 12, 1, 13, 15, 15, 14, 3, 1, 2, 3, 5, 8, 10, 12, 15, 18, 1, 2, 9, 17, 8, 16, 18, 3, 5, 14, 1, 2, 7, 8, 11, 15, 2, 19, 9, 9, 9, 18, 1, 2, 3, 6, 13, 12, 1, 2, 4, 6, 7, 8, 9, 10, 11, 12, 13, 1, 2, 3, 4, 5, 6, 7, 9, 10, 3, 7, 4, 20, 20, 8, 3, 5, 12, 15, 14, 1, 4, 6, 7, 8, 12, 2, 6, 9, 4, 6, 9, 10, 4, 8, 11, 1, 2, 3, 4, 6, 7, 9, 13, 1, 2, 4, 6, 7, 8, 11, 1, 2, 4, 6, 7, 8, 11, 12, 1, 4, 7, 8, 4, 3, 1, 3, 4, 5, 6, 11, 6, 9, 10, 16, 17, 1, 10, 4, 6, 18, 1, 2, 4, 8, 11, 10, 11, 11, 1, 2, 6, 18, 1, 4, 7, 10, 11, 4, 11, 1, 17, 1, 1, 2, 3, 10, 13, 3, 4, 5, 6, 11, 12, 13, 3, 5, 1, 2, 4, 8, 13, 2, 9, 13, 15, 2, 4, 6, 9, 10, 13, 14, 1, 2, 6, 12, 1, 2, 4, 7, 8, 12, 13, 14, 1, 2, 4, 6, 7, 8, 9, 10, 12, 13, 1, 2, 9, 10, 3, 19, 1, 12, 15, 8, 1, 4, 8, 10, 13, 16, 1, 4, 8, 9, 1, 4, 8, 11, 19, 10, 13, 8, 13, 1, 14, 1, 7, 1, 13, 1, 2, 9, 1, 14, 1, 2, 4, 6, 8, 9, 11, 4, 4, 1, 2, 4, 6, 8, 9, 10, 13, 18, 1, 2, 4, 7, 8, 10, 13, 5, 2, 3, 3, 4, 8, 9, 3, 8, 8, 8, 19, 3, 8, 11, 8, 12, 20, 17, 1, 2, 6, 8, 9, 10, 12, 13, 16, 1, 2, 6, 7, 9, 10, 12, 12, 2, 4, 6, 9, 10, 13, 3, 4, 5, 11, 3, 4, 14, 20, 3, 4], \"Freq\": [0.030460188910686997, 0.6320489198967552, 0.1887897125193621, 0.10026478849767803, 0.04822863244192108, 0.9600499801786089, 0.8102023849771334, 0.041128389151128535, 0.024730796090874675, 0.12419160645634891, 0.9969717324930878, 0.9978765403426424, 0.1143804738606032, 0.8798497989277169, 0.9975081620784895, 0.9930335348113486, 0.057232843710686855, 0.6303967967841347, 0.16271673449133234, 0.03467391261304386, 0.00041775798328968507, 0.029243058830277956, 0.05681508572739717, 0.028407542863698586, 0.19927292618708561, 0.7970917047483425, 0.20471767728371917, 0.7881630575423187, 0.9967475578594773, 0.9971716383631379, 0.0023643666588337594, 0.7776024710921456, 0.2218988601394561, 0.22260678858109614, 0.7667567162237756, 0.9860104112730195, 0.9718076625460425, 0.806365754735134, 0.1860844049388771, 0.8687939193421238, 0.9857533652482129, 0.01417272518124257, 0.26373683623348304, 0.7208806857048536, 0.9675018056505575, 0.9914698518327619, 0.9830636846133712, 0.9884626710699241, 0.9930270982491953, 0.9896575269182898, 0.034528922291056384, 0.110163704452418, 0.457097161757794, 0.04603856305474185, 0.07892325095098603, 0.04603856305474185, 0.011509640763685462, 0.21375047132558714, 0.9901336520634173, 0.5270708060442308, 0.41595858206733893, 0.05128256491241165, 0.8105295921324324, 0.9793067420734423, 0.9938962416507204, 0.10001850489388063, 0.8612704588084166, 0.033339501631293546, 0.035723262937368924, 0.0893081573434223, 0.872987238031953, 0.6765624380271827, 0.22977592234885452, 0.04467865156783282, 0.012765329019380807, 0.031913322548452014, 0.7750368457727006, 0.9797598030595985, 0.15932559095502824, 0.8107902295266992, 0.02832454950311613, 0.9627639675875918, 0.9877879438935814, 0.9752782888946008, 0.4145563413592844, 0.2611594988669232, 0.2111268369787337, 0.05553075660117735, 0.02446652147279596, 0.0005498094712987856, 0.009621665747728748, 0.0027490473564939282, 0.01731899834591175, 0.001649428413896357, 0.0008247142069481785, 0.9685341346494573, 0.042508163396389, 0.41527205779549253, 0.34333516589391117, 0.06866703317878223, 0.031063657866591963, 0.029428728505192386, 0.06866703317878223, 0.02864402536618752, 0.9643488539949799, 0.9644419394421848, 0.9748922853299625, 0.17856801061826255, 0.7737947126791377, 0.19158354203239103, 0.08034148536842205, 0.2533846846234849, 0.4696886836923135, 0.9866987889441089, 0.9654431905865949, 0.03312795261816747, 0.7429661186730401, 0.13021055688084207, 0.05479448773718693, 0.03417290633071873, 0.037708034571827566, 0.9941565179096086, 0.009673032182755073, 0.8608998642652015, 0.12574941837581594, 0.0484272745034431, 0.07990500293068112, 0.04358454705309879, 0.828106394008877, 0.067607055661561, 0.26576566708337773, 0.06993833344299415, 0.5944758342654503, 0.024003960795626927, 0.025718529423885993, 0.6189592748015229, 0.032576803936922256, 0.1423091961455025, 0.04800792159125385, 0.09087213729773051, 0.012001980397813463, 0.0034291372565181323, 0.9919705587804084, 0.9974877170023871, 0.994310700818799, 0.12542084395173114, 0.8152354856862525, 0.9267855148530724, 0.02429774758041763, 0.01735553398601259, 0.027768854377620146, 0.9893733678801269, 0.012048046693755832, 0.942157251451706, 0.04337296809752099, 0.9964196195044559, 0.9994246974198521, 0.9978708266747457, 0.9471291573307388, 0.05412561779597207, 0.17139778968724487, 0.11276170374160847, 0.6585283498509935, 0.7176152896076329, 0.17407499599393075, 0.015098341489269503, 0.004440688673314559, 0.010657652815954943, 0.034637371651853564, 0.034637371651853564, 0.0026644132039887356, 0.005328826407977471, 0.15572609252203773, 0.2211310513812936, 0.10900826476542642, 0.470292799416554, 0.04048878405572981, 0.9701764869478798, 0.995464692607617, 0.9970427650667734, 0.6625064162568366, 0.3312532081284183, 0.9885649531414507, 0.991749507051019, 0.11206680256172843, 0.09712456222016465, 0.06724008153703706, 0.6574585750288068, 0.05976896136625517, 0.42006276812336313, 0.5460815985603721, 0.12129945202498237, 0.8642585956779995, 0.12133293972873847, 0.7636062185102128, 0.048796943151775254, 0.06594181506996656, 0.9872204901438588, 0.9495669919318598, 0.2754896370648886, 0.6887240926622215, 9.634635135928007e-05, 0.9998824344066085, 0.9933730285274426, 0.9965852849923701, 0.9937077882273992, 0.9905143086978851, 0.9854005393168592, 0.00044067085678309645, 0.01718616341454076, 0.6877403171528192, 0.008078965707690101, 0.22312634381784116, 0.01689238284335203, 0.008225855993284467, 0.006610062851746447, 0.02350244569509848, 0.0008813417135661929, 0.003084695997481675, 0.0013220125703492893, 0.0027909154262929442, 0.7550680456656227, 0.12764396734969735, 0.0006350446136800864, 0.006350446136800864, 0.006350446136800864, 0.03429240913872467, 0.06223437214064847, 0.004445312295760605, 0.0025401784547203457, 0.995839866928811, 0.9876304624035381, 0.02434205601142966, 0.9655682217867098, 0.9793413199672543, 0.7498272211607219, 0.9446446696027891, 0.04534294414093388, 0.7667881818266781, 0.2270096590934244, 0.17299853452841515, 0.2847061596810489, 0.45276187893722364, 0.07710791824695075, 0.011862756653377039, 0.9867719185082608, 0.3074041788539547, 0.6865359994404989, 0.9703588687787064, 0.9629384438528316, 0.9958722943150259, 0.996931517059618, 0.21170483898133488, 0.7876255687101636, 0.889541605218084, 0.41481451482307485, 0.18557491452611244, 0.06549702865627498, 0.048626581881173844, 0.14091784953319766, 0.019847584441295446, 0.12404740275809654, 0.7121853565603946, 0.19575150582553863, 0.007957378285591002, 0.08355247199870551, 0.9941691731367385, 0.9976983994178942, 0.9848585739495653, 0.08055220723848625, 0.9162813573377812, 0.9882100011846705, 0.07654983561189044, 0.912709578449463, 0.9888144448938958, 0.9952729409558951, 0.39376459760129523, 0.06229478985489241, 0.07459993352993288, 0.16458129665366636, 0.010767000715660415, 0.29378530524159135, 0.5452489919842006, 0.4361991935873605, 0.97837446857184, 0.03824800161327046, 0.9434507064606713, 0.09607002197368726, 0.052152297642858794, 0.1811606128646674, 0.6285724294849824, 0.0384280087894749, 0.19389376674128272, 0.045241878906299306, 0.21974626897345376, 0.3166931523440951, 0.012926251116085516, 0.025852502232171032, 0.1680412645091117, 0.9027930692693924, 0.5886733261164443, 0.3131241096364066, 0.08767475069819383, 0.013070404538013084, 0.6169230941942176, 0.09672099358129684, 0.05750977996725758, 0.18298566353218318, 0.031368970891231404, 0.9559992571710955, 0.9709227488417933, 0.9637862154843325, 0.0995912482764584, 0.5172799164210078, 0.20661467926011517, 0.004459309624319033, 0.026755857745914196, 0.029728730828793553, 0.11445561369085518, 0.9937650664807279, 0.992487900772623, 0.04810930350635109, 0.5238568604024897, 0.4276382533897875, 0.9637208079327773, 0.018115052780691303, 0.018115052780691303, 0.44435932777688175, 0.23296508446554967, 0.07549794403976147, 0.008628336461687024, 0.019413757038795804, 0.015099588807952292, 0.025885009385061074, 0.17472381334916223, 0.7897005524061771, 0.1822385890168101, 0.9829627413826127, 0.9803390613076047, 0.9951496745944433, 0.9643100968023012, 0.9348847737160644, 0.08956207978621425, 0.1580507290344957, 0.7481067840966131, 0.9175426555055913, 0.5635239817507037, 0.4320350526755395, 0.2880608846874339, 0.03278741776930142, 0.12646575425301976, 0.01873566729674367, 0.5316245595451016, 0.9597696941829, 0.9683421533980358, 0.9876403478786121, 0.9784660780745089, 0.028029673467191447, 0.08969495509501263, 0.8801317468698114, 0.985028314965898, 0.011611335736336716, 0.0038704452454455716, 0.025981790546800346, 0.003271781031819303, 0.6874589320975617, 0.11066318195859406, 0.010970089341982368, 0.015011701204817977, 0.11008580883533184, 0.004618984986097839, 0.02867619845535742, 0.0007698308310163065, 0.0025019502008029964, 0.9950693176693476, 0.9889906086880763, 0.4076640908716497, 0.5873126732896647, 0.9660396947813825, 0.03167343261578303, 0.34540453617570527, 0.23837777848745859, 0.32432350814620214, 0.06486470162924043, 0.02594588065169617, 0.9881158805184181, 0.989367022798258, 0.9887456093780458, 0.18902114748672272, 0.7904520713081132, 0.08772095110131833, 0.02330087763628768, 0.05756687416024015, 0.830607755740608, 0.9444581386895946, 0.009383125281909875, 0.9637810110990286, 0.02680892937688536, 0.9435958154314193, 0.08354284619019693, 0.8012518430059797, 0.07215063989153372, 0.03797402099554406, 0.9967610674199638, 0.9832288412259164, 0.9087553848961742, 0.95146303366645, 0.1074163245164738, 0.8056224338735536, 0.09944635010704524, 0.09643282434622567, 0.3465554624942485, 0.006027051521639105, 0.2651902669521206, 0.18683859717081225, 0.9874762280933197, 0.8076911544103044, 0.01711803854589299, 0.038040085657539975, 0.7817237602624465, 0.011412025697261992, 0.10270823127535793, 0.009510021414384994, 0.038040085657539975, 0.9744832142974325, 0.011073672889743551, 0.011073672889743551, 0.9833814446433363, 0.9959296211607783, 0.24900520142622834, 0.7003271290112673, 0.04668847526741782, 0.9952407319090755, 0.9947479860520285, 0.9874302845653248, 0.007537635760040647, 0.11422477326608901, 0.8722619049410434, 0.022405650102254922, 0.035849040163607876, 0.4301884819632945, 0.5108488223314123, 0.6499794175299491, 0.017567011284593217, 0.3321762133813991, 0.006031930437464534, 0.7132757742301812, 0.2804847653421008, 0.9984039770218054, 0.9992390326056817, 0.9971014604404932, 0.9987115609410493, 0.9323862750169973, 0.9980573001808193, 0.9909078921501607, 0.9944277126365964, 0.9880396969031343, 0.13274927919341067, 0.14026338933643392, 0.3606772868651158, 0.3656866936271313, 0.9835941575259923, 0.9975305776260274, 0.997754337453347, 0.11871737560522075, 0.8789651847694229, 0.08291279241516092, 0.8291279241516092, 0.8564894462597287, 0.12756225795357662, 0.2484668556355442, 0.7454005669066326, 0.0661123539788927, 0.9255729557044978, 0.9982396429568808, 0.33076229484354486, 0.1936169530791482, 0.04840423826978705, 0.008067373044964509, 0.20168432612411272, 0.21781907221404173, 0.9728322198833036, 0.965108035732857, 0.1531012259410242, 0.3120909605720878, 0.2532058736716939, 0.05888508690039392, 0.1589897346310636, 0.02355403476015757, 0.03533105214023635, 0.9917661716914188, 0.022996913330616677, 0.029048732628147382, 0.7280338614929438, 0.019971003681851326, 0.019365821752098254, 0.08956692560345443, 0.004236273508271493, 0.06778037613234389, 0.0018155457892592114, 0.0072621831570368455, 0.009682910876049127, 0.9502698639414886, 0.9760540015188881, 0.9328956920114071, 0.06625679630762835, 0.9164094915478286, 0.9868469561544336, 0.9682285086927179, 0.9673443114011946, 0.960888929308483, 0.9966244423633472, 0.006304527610876588, 0.17022224549366788, 0.028370374248944646, 0.7218684114453693, 0.06934980371964247, 0.9754415823753435, 0.9201176628178287, 0.003402260892156215, 0.09526330498037403, 0.7893245269802419, 0.09866556587253024, 0.010206782676468646, 0.4894676321535895, 0.43832922282411, 0.073054870470685, 0.9937106801853594, 0.8981758439938275, 0.9864754839254047, 0.48645667656578073, 0.08460116114187491, 0.2749537737110935, 0.1480520319982811, 0.0712760113521151, 0.9147088123521439, 0.011879335225352517, 0.941938938268465, 0.9789711885962521, 0.018826369011466386, 0.3779343883201858, 0.21961052294281067, 0.0676706843951684, 0.2617451000190476, 0.015321664391358883, 0.05617943610164924, 0.9956363508811071, 0.1159560100422271, 0.8696700753167033, 0.9665417554815926, 0.9222582130122826, 0.6523890121898761, 0.2776281820271806, 0.002605090179879711, 0.03200539363852216, 0.02307365587893458, 0.002232934439896895, 0.006698803319690685, 0.0033494016598453425, 0.37203793483802705, 0.620063224730045, 0.2348956317170516, 0.1752952475500385, 0.00350590495100077, 0.07362400397101618, 0.0596003841670131, 0.049082669314010785, 0.40317906936508857, 0.8641015985877808, 0.9481796072849069, 0.9968277354612008, 0.9871491325773512, 0.9389458450104856, 0.03408714288816944, 0.02479064937321414, 0.8803478865481531, 0.8879720230987644, 0.7669242375513234, 0.9927295719953567, 0.9935873701756586, 0.9943928709702179, 0.0017403603609116248, 0.04698972974461387, 0.7709796398838498, 0.04002828830096737, 0.13922882887292998, 0.9743247580332581, 0.940790602136919, 0.8948999052013212, 0.9902796355639498, 0.9853982305512428, 0.9219121188620977, 0.9739770999258789, 0.9897368978256382, 0.19465600293760868, 0.7935975504379431, 0.9608154611385327, 0.02078171349273864, 0.4310281317012458, 0.19473235235788428, 0.1793384905114112, 0.006157544738589226, 0.1677930941265564, 0.04632891829339982, 0.0030885945528933215, 0.9497428250146963, 0.11207539682786807, 0.7188284072408091, 0.13526340996466837, 0.030917350849067056, 0.06126046201845615, 0.1225209240369123, 0.4104450955236562, 0.10720580853229826, 0.027567207908305268, 0.26954603288120704, 0.944697769630261, 0.055147331729685285, 0.9610368227018047, 0.026303600588495624, 0.9293938874601787, 0.021919667157079686, 0.01753573372566375, 0.9790729613657737, 0.9943487001912747, 0.9810764548611765, 0.9893332505845162, 0.3202567558438404, 0.036484946868285614, 0.6405135116876808, 0.9948316872482257, 0.011159151387957028, 0.9708461707522614, 0.011159151387957028, 0.9860880250655873, 0.8362507231712909, 0.16167513981311624, 0.9816651587994382, 0.01274889816622647, 0.2103101221932184, 0.7883481227123037, 0.9736971258079006, 0.9861129043695974, 0.16416428207857287, 0.8208214103928643, 0.026729774702642553, 0.9622718892951319, 0.8699992101833963, 0.015818167457879933, 0.11072717220515954, 0.9694203610961223, 0.06493994851550346, 0.9323521179725853, 0.9912135738104085, 0.0029755070709505537, 0.05951014141901107, 0.06546115556091218, 0.870335818253037, 0.08464019583959849, 0.4097354934962381, 0.41743005675438344, 0.08656383665413482, 0.9839597460601198, 0.10560714126671401, 0.058670634037063345, 0.3930932480483244, 0.2874861067816104, 0.14667658509265835, 0.9796351702685693, 0.23543331879782428, 0.6670610699271688, 0.09658802822474842, 0.9854418680895871, 0.11896027124385468, 0.8723753224549343, 0.19097075591411086, 0.8039868823984068, 0.0038194151182822174, 0.41361959115926855, 0.03870124829560408, 0.5466551321754075, 0.28032399411528813, 0.06661164216600907, 0.6522389962088387, 0.9971493277733647, 0.3095678661733695, 0.15196967975783596, 0.5347081324812746, 0.21746250172852832, 0.7785157561881314, 0.95146303366645, 0.9939228300111401, 0.10333907459516353, 0.8898642534583526, 0.997100308449776, 0.060645398941399566, 0.033323922285205906, 0.5439457625187647, 0.10887194485725656, 0.17800356003277687, 0.014074700095614916, 0.012832814793060658, 0.0004139617675180858, 0.009107158885397888, 0.004553579442698944, 0.034151845820242076, 0.3482759159995738, 0.6499515333794863, 0.013654569494107227, 0.1957154960822036, 0.05461827797642891, 0.18661244975279878, 0.16385483392928674, 0.3868794689997048, 0.9010447733586402, 0.06501287885956442, 0.9287554122794915, 0.9752000564469322, 0.9814324308584909, 0.25340317503532156, 0.14781851877060423, 0.25340317503532156, 0.3378709000470954, 0.01644535330169976, 0.8637726043702302, 0.04698672371914217, 0.009397344743828433, 0.038372491037299436, 0.016053797270706906, 0.005873340464892771, 0.0027408922169499597, 0.9478604911852734, 0.9877244720893283, 0.20271893619858072, 0.7967980408916436, 0.9841410330479466, 0.601228223526664, 0.09117526906228532, 0.04756970559771408, 0.026427614220952265, 0.014535187821523746, 0.2180278173228562, 0.9915386315153913, 0.9990042153789138, 0.9440836521763506, 0.08806264616732054, 0.8806264616732055, 0.02032214911553551, 0.9956816729784224, 0.1234547082956838, 0.07495464432237944, 0.7980465071970988, 0.980068340795731, 0.018405039263769598, 0.014103404809913518, 0.9643203038778367, 0.01939218161363109, 0.1718283332544916, 0.009546018514138421, 0.816184582958835, 0.13813333514395854, 0.2006842793600907, 0.5316830258371235, 0.005212578684677681, 0.1224955990899255, 0.9937621707165992, 0.9872333136195306, 0.9901247205110163, 0.46839240164047885, 0.49495916089582886, 0.0004087193731592311, 0.019618529911643093, 0.009809264955821547, 0.0065395099705476975, 0.9932186534718788, 0.005311329697710581, 0.9930107601546332, 0.015755304620927443, 0.13785891543311513, 0.0787765231046372, 0.047265913862782324, 0.03544943539708675, 0.5829462709743154, 0.10240948003602837, 0.9877531166980622, 0.9269110619679868, 0.9973297003441531, 0.9939784059839188, 0.9494188762536329, 0.047736144616104446, 0.8669836494823657, 0.10799796325731892, 0.023999547390515314, 0.9647986826269218, 0.9225508398706408, 0.015186022055483799, 0.030372044110967597, 0.030372044110967597, 0.06998662737430107, 0.9295098948149362, 0.0006269174888639547, 0.368251332958687, 0.0010030679821823275, 0.6126237701178565, 0.002382286457683028, 0.00802454385745862, 0.007146859373049084, 0.1853489915036105, 0.738587647961357, 0.0046805300884750125, 0.00374442407078001, 0.05054972495553013, 0.017786014336205046, 0.9977091326742994, 0.013156688097057107, 0.8420280382116548, 0.10963906747547589, 0.032891720242642766, 0.8601813094695755, 0.13716404664514853, 0.9902709590473359, 0.013000027351817637, 0.951602002153051, 0.01040002188145411, 0.02080004376290822, 0.8446097459174133, 0.9633938581630811, 0.40844688669481505, 0.022786437193574063, 0.563964320540958, 0.003987626508875461, 0.9931068390221086, 0.7632286006800127, 0.033512870568102544, 0.20323934409042835, 0.9751455487748866, 0.9206623958216797, 0.024761091330167427, 0.02701209963290992, 0.02025907472468244, 0.004502016605484986, 0.004761828981839337, 0.9904604282225821, 0.3258280866139651, 0.2708691322453445, 0.02050056234385055, 0.09508771470126426, 0.03794784944499995, 0.03882021380005742, 0.061937869209080385, 0.12605664930580446, 0.017447287101149404, 0.005234186130344821, 0.9817490032240217, 0.9637238890486538, 0.07720065761333418, 0.16542998060000183, 0.7554635780733416, 0.9758236205058711, 0.9426252217932085, 0.05747714767031759, 0.1207439667396168, 0.8452077671773176, 0.025815915117363603, 0.017210610078242403, 0.9508862068228927, 0.9880300335408718, 0.11674524627406845, 0.8725171037325115, 0.2045460226488639, 0.2045460226488639, 0.589369895767913, 0.9843893033677711, 0.9721301258742223, 0.013487890496605, 0.984616006252165, 0.8075911379429984, 0.10767881839239979, 0.08320635966685438, 0.9911313660382617, 0.010401112915840697, 0.9777046140890255, 0.1269587564750725, 0.8686651758820748, 0.9744130072137714, 0.981875142438161, 0.016002916694921578, 0.12002187521191184, 0.04800875008476474, 0.8081472930935397, 0.9560698905763413, 0.20037201164961696, 0.09183717200607444, 0.13358134109974465, 0.5593718658551807, 0.01669766763746808, 0.5717941270396706, 0.00330516836439116, 0.12559639784686408, 0.05288269383025856, 0.24458245896494582, 0.9990351523589617, 0.09456376495591613, 0.07705195663074649, 0.05954014830557683, 0.007004723330067862, 0.12958738160625544, 0.6234203763760398, 0.007004723330067862, 0.9897849191428704, 0.005721488536714987, 0.00559434434701021, 0.5458300064026098, 0.010552967745496532, 0.40520853258912587, 0.005975776916124542, 0.00305146055291466, 0.018054474938078404, 0.008267463126946676, 0.8302895111776447, 0.021259190897862882, 0.1405468731580935, 0.4843266860154109, 0.5110358782589078, 0.0035612256324662563, 0.9646176151638263, 0.9148113966552627, 0.9950285289518916, 0.47020821770261023, 0.5266332038269235, 0.021348237846655353, 0.17612296223490667, 0.10140412977161292, 0.016011178384991515, 0.6831436110929713, 0.07833951753761006, 0.005222634502507338, 0.12534322806017612, 0.6998330233359833, 0.08878478654262474, 0.7855324121755393, 0.0965710105907955, 0.0920731827002653, 0.0026457811120765887, 0.01878504589574378, 0.004233249779322542, 0.8942536900507092, 0.09444263393274817, 0.01032966308639433, 0.983381015753032, 0.997992881551554, 0.9708299000919874, 0.979021339115776, 0.12366275497306556, 0.8765507043679058, 0.972379444659249, 0.2064807609509865, 0.7924396771632455, 0.9838460233234962, 0.9864882162530195, 0.5515943911438521, 0.2884705896791699, 0.010259414277292654, 0.0012069899149756062, 0.004827959659902425, 0.004827959659902425, 0.04646911172656084, 0.04405513189660963, 0.048883091556512055, 0.16542810674567396, 0.1466294582518474, 0.03759729698765318, 0.6504332378864, 0.9763797740962308, 0.9995812975748536, 0.6739762715177194, 0.2801467634621846, 0.0020300490105955404, 0.03586419918718788, 0.0067668300353184675, 0.654221637533571, 0.24846745118870814, 0.026594375509494755, 0.042930920465327246, 0.01899598250678197, 0.008358232302984065, 0.9969100903382495, 0.7951409816665469, 0.1031923406790589, 0.004799643752514368, 0.002399821876257184, 0.09119323129777299, 0.002399821876257184, 0.44771204979624396, 0.1902044655997115, 0.1316800146459541, 0.03511467057225443, 0.18727824305202362, 0.005852445095375738, 0.0008027521366078525, 0.39575680334767127, 0.09151374357329518, 0.33715589737529805, 0.174197213643904, 0.98487728912155, 0.17836908526144335, 0.8170454873266115, 0.9658507032147929, 0.8874476651227408, 0.11073870344685846, 0.979739189530191, 0.9778814785390784, 0.9931283728603717, 0.13962688837898066, 0.7446767380212302, 0.1097068408691991, 0.22770768212235235, 0.08197476556404684, 0.11840799470362322, 0.05161374128106653, 0.5161374128106653, 0.14924775633144655, 0.8315232138466307, 0.9942917348769511, 0.18183953244698114, 0.8169003237959077, 0.07067447636316249, 0.9266209123170193, 0.9061396487462392, 0.0065091316923170306, 0.03494375961138616, 0.04145289130370319, 0.004796202299602022, 0.002398101149801011, 0.003425858785430016, 0.9840506028126225, 0.9809446866788106, 0.13878059859193811, 0.3122563468318607, 0.4857320950717834, 0.02054606401973561, 0.06163819205920682, 0.9040268168683667, 0.408883790877011, 0.18815891261596965, 0.014473762508920743, 0.3871731471136299, 0.9934148021478071, 0.9718261565550257, 0.9883620724644784, 0.9466572951113965, 0.97923218444864, 0.16771685545677295, 0.2663738292548747, 0.09865697379810173, 0.049328486899050866, 0.39462789519240693, 0.05369723789502697, 0.3350707644649683, 0.6078527329717053, 0.002147889515801079, 0.9955057712054107, 0.9864211887105065, 0.9459815977738131, 0.9962220159291714, 0.9622684233209845, 0.9648388836836673, 0.3608440978634777, 0.11598560288468926, 0.019330933814114878, 0.15464747051291902, 0.35117863095642027, 0.12035481697137558, 0.09026611272853169, 0.7823063103139413, 0.9920795346156563, 0.993152894875421, 0.9120881383506955, 0.08686553698578052, 0.9483998161493097, 0.993927047382617, 0.9853267618586984, 0.9819080259028298, 0.9445994676692127, 0.09078536428953918, 0.21183251667559141, 0.6960211262198004, 0.9744386772011857, 0.9847179888619073, 0.8600233353079026, 0.026513243477700274, 0.05302648695540055, 0.061311875542181885, 0.9546104891689381, 0.06600283306721443, 0.892176226287864, 0.04096727569689171, 0.9605250490433576, 0.9438420958555654, 0.9873777259020944, 0.8418887255662885, 0.15508476523589523, 0.04671857919455582, 0.9343715838911164, 0.9909415535993878, 0.030046404828620355, 0.030046404828620355, 0.9400232367811225, 0.02474157676054339, 0.8968821575696979, 0.07422473028163017, 0.04118094742690973, 0.16178229346285966, 0.2970911207227059, 0.13530882725984625, 0.020590473713454866, 0.06765441362992312, 0.06765441362992312, 0.20590473713454865, 0.9549579507299798, 0.8556454672290645, 0.8866274121626291, 0.1596493345244234, 0.48643156612910254, 0.23323769965677482, 0.0561267191687426, 0.06236302129860289, 0.057415443606335596, 0.05167389924570204, 0.47208253631875935, 0.12376217844032339, 0.18883301452750373, 0.06379493734037288, 0.009569240601055932, 0.03189746867018644, 0.9597147944460939, 0.9686791304338522, 0.9795131805750508, 0.18474333976345392, 0.10391812861694283, 0.0028866146838039675, 0.5715497073931856, 0.13855750482259044, 0.9410668474950794, 0.9935777267336159, 0.966170042292654, 0.03116677555782755, 0.9794989950090417, 0.9897864937630443, 0.34310110211882544, 0.06480798595577814, 0.20776677850528874, 0.015248937871947798, 0.09530586169967373, 0.2687625299930799, 0.005718351701980424, 0.9470672826255531, 0.8682689361126745, 0.09745875813509612, 0.002214971775797639, 0.004429943551595278, 0.026579661309571668, 0.9504680592805588, 0.9921990301357945, 0.9908364725919976, 0.9865686992034676, 0.9985875864172775, 0.9974136773461998, 0.9891150869461224, 0.9791880512259912, 0.006659232592150153, 0.9178642256180294, 0.030706461397136814, 0.009618891521994665, 0.017757953579067072, 0.002959658929844512, 0.001109872098691692, 0.005179403127227897, 0.008139062057072408, 0.9809115782635791, 0.975155865831356, 0.9995465759610807, 0.9633235113054283, 0.026392424967272007, 0.3137985396425761, 0.5665335796790293, 0.11703837424506892, 0.9573299113153034, 0.03860201255303643, 0.9964361514212748, 0.9934784821816478, 0.9913710661872841, 0.21234043945234948, 0.7856596259736931, 0.9965801610348337, 0.041994838032821086, 0.85596885916281, 0.0051845479052865535, 0.012442914972687728, 0.000777682185792983, 0.06454762142081759, 0.018145917668502938, 0.0005184547905286553, 0.990914491663027, 0.9959021894913872, 0.006321145903449783, 0.9900494771278223, 0.0031605729517248916, 0.9977579405812489, 0.9918272730371033, 0.9661689375134743, 0.9897902434548107, 0.007765694030686808, 0.31580489058126354, 0.6756153806697524, 0.04267227287097924, 0.9387900031615433, 0.012192077963136925, 0.957374785036094, 0.6888921216919135, 0.28853558697567105, 0.017430123748530316, 0.0008044672499321684, 0.0037541804996834524, 0.0005363114999547789, 0.9966200151481562, 0.9920713937472231, 0.005325096751975893, 0.7426089470482745, 0.009439944242139082, 0.20913107244123505, 0.013796841584664812, 0.003872797637800649, 0.012102492618127028, 0.0036307477854381084, 0.012432772568720286, 0.06527205598578151, 0.024865545137440572, 0.015540965710900358, 0.6993434569905161, 0.17716700910426408, 0.9324435297895828, 0.35153852089832616, 0.1367094247937935, 0.183581227580237, 0.0039059835655369576, 0.32029065237403054, 0.9623730772629543, 0.9775999319191916, 0.41874011895190144, 0.1886474256029044, 0.03644325267328835, 0.05073472430987202, 0.007860309400121017, 0.007860309400121017, 0.06716991669194323, 0.15148959934778689, 0.07002821101925998, 0.996970592530978, 0.9935820560316989, 0.7078903849988056, 0.29107660585964873, 0.9988957903571647, 0.9924285352142785, 0.9868906554886605, 0.00547453858124963, 0.6569446297499556, 0.325735045584353, 0.01094907716249926, 0.9851298909429033, 0.9812843497231304, 0.9817289460891268, 0.9491572585198418, 0.9920700301423263, 0.9933059639209474, 0.09856411667808762, 0.8683029326402958, 0.03285470555936254, 0.7253399710990698, 0.21656847582685956, 0.04392440887160818, 0.007516476384446319, 0.0016442292090976323, 0.002583788757153422, 0.0023488988701394747, 0.9917564988617356, 0.3924709751679926, 0.06763207404983684, 0.23671225917442898, 0.012296740736333972, 0.21211877770176102, 0.07890408639147632, 0.9915040283035177, 0.08520324953592792, 0.0710027079466066, 0.3987075138540217, 0.027308733825617923, 0.012015842883271887, 0.037139878002840375, 0.009831144177222452, 0.03386282994376622, 0.3178736617301926, 0.004369397412098868, 0.1972631211440924, 0.7890524845763696, 0.9969612096468534, 0.9945645031198339, 0.7708152889382112, 0.04085593404266137, 0.1756805163834439, 0.006809322340443562, 0.0027237289361774246, 0.0027237289361774246, 0.9422416885073367, 0.021345280969421867, 0.018295955116647312, 0.015246629263872762, 0.9980051982826615, 0.0640429433164854, 0.2028026538355371, 0.0640429433164854, 0.23482412549377982, 0.426952955443236, 0.3235596511212271, 0.20590159616805362, 0.002941451373829337, 0.04412177060744006, 0.06471193022424541, 0.32650110249505643, 0.026473062364464037, 0.810373473501308, 0.17538721851527656, 0.007395846563897204, 0.006339297054769032, 0.9959112299212025, 0.9816715575946432, 0.27743646325240207, 0.7202677411360437, 0.269183158332315, 0.7247238878177711, 0.006190803708517611, 0.27703846595616305, 0.715037828333784, 0.06735071508340222, 0.6179428108902153, 0.015995794832308025, 0.027782169971903414, 0.2710866282106939, 0.40369401274297506, 0.5904778096837546, 0.5554846399413793, 0.3638586003938544, 0.01985522819408089, 0.009696739350597644, 0.03740170892373377, 0.005079244421741623, 0.007387991886169633, 0.0009234989857712042, 0.9579518150137741, 0.9916905736723429, 0.8385023201725863, 0.05352142469186721, 0.00823406533721034, 0.09880878404652407, 0.9323317873136997, 0.2933628743359765, 0.5439436628312898, 0.11394004494299088, 0.0004365518963332984, 0.026629665676331203, 0.019208283438665128, 0.002182759481666492, 0.9885171094034576, 0.9908567284800507, 0.9848413832385375, 0.9906212815254307, 0.08152447500351441, 0.36315447956110963, 0.0222339477282312, 0.05929052727528321, 0.4372676386552137, 0.029645263637641604, 0.9954855316516069, 0.9912601247649605, 0.00854723521243278, 0.30694186269985235, 0.369621822285837, 0.1572697167793798, 0.020513441319049537, 0.049764089125842396, 0.0467250607822795, 0.015195141717814472, 0.0045585425153443415, 0.013675627546033024, 0.011016477745415492, 0.0045585425153443415, 0.12081226982957241, 0.013676860735423292, 0.17096075919279113, 0.694100682322732, 0.7568585687025124, 0.009153385741495126, 0.9092363169885157, 0.07932934309295775, 0.8857393804528528, 0.2118077281377622, 0.010955572145056665, 0.009129643454213887, 0.0894705058512961, 0.6774195443026705, 0.0018259286908427774, 0.7976887782682377, 0.9583425671215942, 0.9901674011206893, 0.35019399422891173, 0.6311635942497827, 0.016288092754833103, 0.01044428335928432, 0.9852440635591543, 0.1568726428685412, 0.3137452857370824, 0.40898939033583953, 0.0392181607171353, 0.04482075510529748, 0.0392181607171353, 0.021921243994414967, 0.09864559797486736, 0.8713694487779949, 0.9961107003466252, 0.941442613152543, 0.03842622910826706, 0.23472744745905902, 0.7511278318689888, 0.9842326158614623, 0.05172603604377697, 0.9465864596011186, 0.9904952555894107, 0.8747583614539831, 0.1246530665071926, 0.9509484033661241, 0.9952866707776691, 0.1708409692992027, 0.02440585275702896, 0.03796465984426727, 0.1437233551247261, 0.6155698417606192, 0.005423522834895324, 0.28447765097190697, 0.011379106038876277, 0.056895530194381386, 0.2702537684233116, 0.0028447765097190693, 0.0938776248207293, 0.21620301473864928, 0.04836120066522418, 0.014223882548595346, 0.16884585910701141, 0.8298594351855243, 0.9798456491951757, 0.9637638381683957, 0.031515617101029, 0.9612263215813844, 0.800630350887328, 0.11700234772883708, 0.07688725707895008, 0.005014386331235875, 0.09919089649686429, 0.8275354793452677, 0.07368466596909919, 0.03477445143118155, 0.9620931562626893, 0.998622665256764, 0.9932826275831648, 0.9968348863305245, 0.4809143917129968, 0.5154297786780444, 0.05887457372146029, 0.24531072383941785, 0.6934116460527545, 0.8364548857542267, 0.05000831138811954, 0.9001496049861518, 0.35119019332695994, 0.017131228942778534, 0.6338554708828057, 0.06917292190223441, 0.14987466412150788, 0.27669168760893764, 0.17984959694580946, 0.3274184970039095, 0.9913439410844207, 0.9978806563515809, 0.7158552632799308, 0.264965248014529, 0.01212552829896997, 0.0031436554849181403, 0.003592749125620732, 0.9939180608624774, 0.18971686527325385, 0.2710240932475055, 0.5330140500534275, 0.21825089776581869, 0.7760031920562442, 0.18859397685470147, 0.5714753336389633, 0.026331989221222468, 0.005693403074858912, 0.04981727690501548, 0.11529141226589297, 0.03487209383351084, 0.00711675384357364, 0.9952931816339617, 0.9795732814341588, 0.9965809973915117, 0.9629218305103238, 0.9968663839327856, 0.7693986975864092, 0.05425450609784577, 0.025064947261577868, 0.08376134274755136, 0.06155189580691274, 0.0031727781343769456, 0.002855500320939251, 0.09777114804185343, 0.900309321552067, 0.006202042926269383, 0.07287400438366524, 0.6543155287214198, 0.13799545510949376, 0.04806583267858772, 0.06977298292053055, 0.007752553657836728, 0.993593031950426, 0.02960712978402259, 0.9651924309591364, 0.9937221219411245, 0.9873116073070917, 0.978307570118651, 0.9939003759999144, 0.9898719720458936, 0.637024884715249, 0.12637567282052964, 0.09149369977956898, 0.04746235676065141, 0.032022794922849145, 0.0657610967165652, 0.9782240981178395, 0.9753265323590294, 0.9363114494474155, 0.15795345026722454, 0.8371532864162902, 0.3861376749446178, 0.1295813991135265, 0.0014894413691209944, 0.09718604933514488, 0.10128201310022762, 0.060694735791680526, 0.011543170610687707, 0.01899037745629268, 0.01899037745629268, 0.008564287872445718, 0.037236034228024864, 0.11394226473775608, 0.013777332664369198, 0.974123924868846, 0.02356751431134305, 0.9967080983957887, 0.9577084083625954, 0.32574722400537165, 0.6701085750967646, 0.16070768435982435, 0.10713845623988291, 0.19131867185693377, 0.5356922811994146, 0.9673311968664444, 0.00991819538379659, 0.9819013429958623, 0.9950159775213971, 0.9856157216869522, 0.05943678624489953, 0.9347785473061472, 0.9975797717584373, 0.3194244257605208, 0.127198093479581, 0.15435274264937918, 0.02929843726215068, 0.2022306767119181, 0.12076672920252353, 0.03215682138528733, 0.007145960307841629, 0.006431364277057466, 0.9670574644331378, 0.990568014736174, 0.04364360027993867, 0.9456113393986711, 0.9718179302324049, 0.9815878405822973, 0.9698993096404378, 0.14391437268540114, 0.09232242776044602, 0.11676071746174055, 0.07874560014861572, 0.502342621637721, 0.008146096567098178, 0.05702267596968725, 0.15134705925140934, 0.07315107863818118, 0.1109878434510335, 0.47926568762946287, 0.0681061766631342, 0.07315107863818118, 0.0025224509875234886, 0.04035921580037582, 0.07748318468113445, 0.251820350213687, 0.6715209339031653, 0.5372608466968989, 0.16738191955916457, 0.04213810562328619, 0.10066325232229478, 0.029262573349504297, 0.09364023471841375, 0.029262573349504297, 0.934909427892453, 0.5160625498941493, 0.37375571635009514, 0.02272248314521233, 0.008156788821358273, 0.018352774848056114, 0.012235183232037409, 0.02723784838560709, 0.00014565694323854058, 0.016022263756239465, 0.0016022263756239464, 0.0036414235809635147, 0.27701935478063405, 0.20489597247088318, 0.09671089900625686, 0.040979194494176634, 0.30816354259620826, 0.04589669783347783, 0.006556671119068261, 0.01803084557743772, 0.9961386359117365, 0.3873428404929205, 0.1151559796060034, 0.1832026948277327, 0.026171813546818953, 0.04710926438427412, 0.05234362709363791, 0.1832026948277327, 0.9981466188209975, 0.9901366511492621, 0.9643369102872578, 0.9578461840804718, 0.9796227610178023, 0.981522489281074, 0.9880441230476059, 0.9877131949859779, 0.9903663331403529, 0.013554556893477905, 0.9202038068794444, 0.06476066071328332, 0.973688989095049, 0.9818584445216566, 0.9781812086694339, 0.007262738190774327, 0.0004150136109013901, 0.7507596221206146, 0.018260598879661166, 0.13736950520836014, 0.03797374539747719, 0.0024900816654083407, 0.028428432346745223, 0.016393037630604908, 0.0004150136109013901, 0.6061682567333775, 0.39264059984536187, 0.054410272688419685, 0.9398138009817946, 0.5891695924684631, 0.1718411311366351, 0.1963898641561544, 0.4069962067682006, 0.14871015247299638, 0.44221703235391024, 0.9877859542284264, 0.9815563597997679, 0.9563563584549435, 0.9651310003764904, 0.961293382527671, 0.8271778290971793, 0.9964119519930956, 0.9257215841438742, 0.8607934187170327, 0.12520631544975022, 0.010433859620812518, 0.0026084649052031295, 0.9905205882198803, 0.9863343052945871, 0.03245351575005438, 0.3654548077940906, 0.6010955525879637, 0.981636918404826, 0.6612542014177598, 0.06801471786011244, 0.26828027600377685, 0.9662014121833117, 0.9904278520072377, 0.16004460551751218, 0.7204287085973483, 0.012995074806977484, 0.015958863798042525, 0.09050955611175546, 0.09912073368304775, 0.1239009171038097, 0.10102690163849098, 0.00953083977721613, 0.02287401546531871, 0.6423786009843672, 0.9149472166595561, 0.12130665940576713, 0.7998241279501129, 0.01466344234575207, 0.005332160853000753, 0.0453233672505064, 0.013330402132501883, 0.9808725032772184, 0.9931432635809222, 0.9804327044536013, 0.9803358992312312, 0.9883235752520938, 0.49974159559267106, 0.02418104494803247, 0.47153037648663315, 0.963633090775849, 0.2878793033656496, 0.18108536824613444, 0.1346532225419974, 0.1439396516828248, 0.25073358680234, 0.15882356350994417, 0.8374333348706147, 0.049829544728038695, 0.029897726836823218, 0.9068977140503043, 0.9827213187108381, 0.9778124936326034, 0.9779810256417276, 0.9640023993353087, 0.9875903974932716, 0.5000125624201522, 0.4717099645473134, 0.028302597872838803, 0.9884198462453516, 0.3662181234337778, 0.6335573535404355, 0.984910952026099, 0.9929381667608324, 0.9940961689298787, 0.0970832715052511, 0.02103470882613774, 0.024270817876312776, 0.8316800258949845, 0.02265276335122526, 0.003236109050175037, 0.1592745876469204, 0.8013502690985683, 0.03484131604776384, 0.8187058491689571, 0.1666392436361594, 0.010867776758879961, 0.9964861996272698, 0.9081763713446303, 0.0825614883040573, 0.20858771275746227, 0.15139430764654518, 0.27452834453240194, 0.020858771275746226, 0.0780521763866633, 0.0013457271790804017, 0.26241679992067835, 0.0026914543581608033, 0.9724451985318817, 0.9904410889413365, 0.3768901981676844, 0.5305454328052788, 0.05508395203989233, 0.009422254954192109, 0.026817187177316, 0.9743184607286919, 0.05793731830590893, 0.9269970928945429, 0.14014294544598882, 0.8560082613727965, 0.3133450907579437, 0.35342411399442486, 0.1250951331320473, 0.031577412246924556, 0.007287095133905667, 0.012145158556509444, 0.15545802952332088, 0.060150148340528446, 0.4070160037709092, 0.34686585543038073, 0.030075074170264223, 0.1543853807406897, 0.1405314667324409, 0.4432146258484675, 0.08107584619179284, 0.3297084411799575, 0.5455711952205083, 0.1342140001021698, 0.08715194811829208, 0.01220127273656089, 0.17430389623658415, 0.040089896134414355, 0.006100636368280445, 0.21954341813221168, 0.06708271109595357, 0.02744292726652646, 0.12501777976973164, 0.5610554018934298, 0.12759603639000125, 0.8250243716580763, 0.04639855868727319, 0.8656487240587283, 0.11702976312381948, 0.01671853758911707, 0.5080665470745108, 0.06719589816146755, 0.1622535101947631, 0.2097823162114109, 0.02786171387182801, 0.022944940835623068, 0.0016389243454016478, 0.995746470168499, 0.9973450024074821, 0.69956070301896, 0.22893055600750845, 0.0136811089247515, 0.0328346614194036, 0.020065626422968868, 0.004560369641583834, 0.6845574147757124, 0.14873891472875428, 0.0005973450390713023, 0.07586281996205539, 0.09019910089976664, 0.7894232032068081, 0.05418817619516311, 0.08128226429274467, 0.025862538638600576, 0.048030428900258215, 0.9915696634264388, 0.033597346752801446, 0.32886633648415264, 0.25004179217950306, 0.01938308466507776, 0.3676325058143081, 0.98607268931287, 0.9262280167472533, 0.9648902244518966, 0.9868963879017865, 0.9887674066811022, 0.9929432070139004, 0.004432782174169198, 0.9939853552897342, 0.9938025440454331, 0.005053233274807287, 0.20697590150409034, 0.1494211053639155, 0.11953688429113239, 0.5190999882642694, 0.004427292010782681, 0.9601305815553952, 0.9947848913633601, 0.0041255384447424995, 0.0001115010390470946, 0.31242591140995907, 0.6731317727273101, 0.010146594553285608, 0.9981200329282212, 0.9940280272902708, 0.9967006011966444, 0.06360702716752392, 0.9359319711792805, 0.9975062325871893, 0.986540470707121, 0.8885908718309172, 0.9896204841907054, 0.9951576629636527, 0.9337793931360341, 0.989721114088189, 0.985045725451222, 0.9937526269679673, 0.0014263260841911286, 0.6166007661958249, 0.07374105855268134, 0.23363221259050687, 0.0037084478188969343, 0.0688915498664315, 0.0005705304336764515, 0.0014263260841911286, 0.25954122037704935, 0.7404558346051113, 0.9965025096071666, 0.894843252412981, 0.9590491622929461, 0.9925894389288343, 0.6648139417569346, 0.3320858047230292, 0.0025693292435050616, 0.02412804840545141, 0.9651219362180565, 0.025646587627938533, 0.8719839793499101, 0.09403748796910795, 0.9788045958551359, 0.9539358616495653, 0.034769839586857025, 0.9387856688451397, 0.9971882698314243, 0.9865892757973036, 0.01229394736196017, 0.18279108188142065, 0.8106387109523873, 0.8708339660451719, 0.006425965801473869, 0.3084463584707457, 0.2731035465626394, 0.07711158961768642, 0.33415022167664116, 0.1851655036960335, 0.05962956898685824, 0.5649117061912886, 0.05962956898685824, 0.04707597551594071, 0.06904476409004638, 0.012553593470917524, 0.9963342998436813, 0.047471672141873, 0.379773377134984, 0.036922411665901225, 0.04483435702288006, 0.1556015920205837, 0.33493902011210397, 0.49573361751099004, 0.05287825253450561, 0.026439126267252804, 0.42302602027604486, 0.1267348771707407, 0.11988434326961957, 0.7312944939446794, 0.020551601703363356, 0.8436794769177525, 0.9978253636462306, 0.9771318912219594, 0.9839079177836755, 0.9797420798411466, 0.17678935490683836, 0.12031497764493167, 0.004910815414078844, 0.08839467745341918, 0.45670583350933247, 0.09576090057453746, 0.01227703853519711, 0.04419733872670959, 0.9426758936130679, 0.9944805556028816, 0.9660758645068472, 0.02628777862603666, 0.47196657807657466, 0.466329626546887, 0.010761452920312777, 0.003074700834375079, 0.037921310290625974, 0.003587150973437592, 0.005124501390625132, 0.0005124501390625131, 0.9967827695201603, 0.8420709298449081, 0.35990522892517524, 0.031448029711908514, 0.04891915732963547, 0.059401833900271636, 0.13627479541827023, 0.09783831465927094, 0.2655611397894497, 0.9865196526469553, 0.05138470842109033, 0.154154125263271, 0.7193859178952646, 0.9749094081520112, 0.9956277727578754, 0.4004625552015985, 0.031824838823968096, 0.5171536308894815, 0.02652069901997341, 0.018564489313981386, 0.24377782207219495, 0.33290089680826623, 0.002621266904002096, 0.06553167260005241, 0.353871032040283, 0.40081443866507416, 0.5799017410473414, 0.01705593356021592, 0.9839215529272012, 0.9829838967087798, 0.18715147678162683, 0.48849707498933104, 0.010573529761673832, 0.28548530356519347, 0.02379044196376612, 0.0037007354165858415, 0.003041225895863239, 0.05170084022967506, 0.1338139394179825, 0.7876775070285789, 0.018247355375179432, 0.03378083927576939, 0.05527773699671355, 0.01842591233223785, 0.09212956166118925, 0.7984562010636402, 0.9226325354090553, 0.9703827980631021, 0.9949442354641144, 0.9950158480257991, 0.44240414449084714, 0.16534296309253885, 0.39101376407019317, 0.27107901621765734, 0.7244766628117922, 0.0043180728247060466, 0.4938324051695268, 0.005855720219401504, 0.4996881253889283, 0.9217035407475106, 0.07090027236519313, 0.9870121190845104, 0.9925135005369569, 0.14451372094822137, 0.026275221990585705, 0.05255044398117141, 0.7619814377269855, 0.9329203091181911, 0.0599123134296086, 0.9980833159004912, 0.17996470466996942, 0.18996274381830106, 0.4499117616749235, 0.059988234889989805, 0.11997646977997961, 0.9674585148767493, 0.9584486807346294, 0.038158378389903276, 0.3613056499102758, 0.27588828158909645, 0.00294542649383377, 0.04418139740750655, 0.03829054441983901, 0.007854470650223386, 0.03436330909472732, 0.2189433693749769, 0.015708941300446772, 0.14817963649634738, 0.0963167637226258, 0.7520116552189631, 0.9704002113732588, 0.05059947002185104, 0.06159935480920997, 0.09239903221381496, 0.18479806442762992, 0.5587941471978333, 0.035199631319548556, 0.017599815659774278, 0.06906677824812979, 0.9280848327092441, 0.0020643577901825814, 0.02683665127237356, 0.8938669231490578, 0.02683665127237356, 0.010321788950912908, 0.03922279801346905, 0.5108254600851603, 0.4427153987404722, 0.4164905840031385, 0.4665207670918112, 0.07525907883424268, 0.008552168049345759, 0.022663245330766264, 0.005986517634542032, 0.004703692427140168, 0.9503926121386042, 0.637518159500425, 0.043778071038655796, 0.2955019795109266, 0.013680647199579937, 0.008208388319747961, 0.9453422848816326, 0.01740856025890721, 0.9748793744988039, 0.08365974256529808, 0.043597330632620133, 0.533772723691268, 0.007069837399884345, 0.045953943099248246, 0.01413967479976869, 0.2721887398955473, 0.00796312991794341, 0.9476124602352658, 0.039815649589717055, 0.986431686006452, 0.2306429653857837, 0.15188683086380877, 0.11532148269289184, 0.23626840356592477, 0.24470656083613634, 0.02250175272056426, 0.7382941512642475, 0.2601162937998509, 0.992637973639385, 0.32933020933552726, 0.13481353598530355, 0.18103531975169335, 0.0028888614853993617, 0.2657752566567413, 0.019259076569329077, 0.004814769142332269, 0.061629045021853054, 0.9883239382742032, 0.9842930296283677, 0.992442241250686, 0.9960309036024095, 0.9882747202211607, 0.9217262911043805, 0.003561951565949064, 0.13179220794011537, 0.23508880335263824, 0.5271688317604615, 0.021371709395694383, 0.08192488601682847, 0.9949357000466912, 0.9934066155495187, 0.9808715841270726, 0.9952511151324237, 0.5870697781397523, 0.3155422566770157, 0.0018597775442653185, 0.014258294506034108, 0.05083391954325204, 0.009918813569415033, 0.014258294506034108, 0.004959406784707516, 0.533834316244937, 0.05464445756837938, 0.4014265921369408, 0.00840683962590452, 0.596579805351577, 0.01903978102185884, 0.37444902676322384, 0.9948683321356137, 0.9850324452884777, 0.9918941275696467, 0.25550657038097974, 0.7396242826817834, 0.9704767720545644, 0.9875852094740193, 0.9885826442654572, 0.9586106938372402, 0.9822000254865046, 0.008303659604773951, 0.8045323528180983, 0.18637102668492644, 0.9930917417394205, 0.848896061963731, 0.1439648292219193, 0.6077486160559283, 0.3694502666004728, 0.022248985944244005, 0.1010146011963784, 0.26263796311058385, 0.6262905274175461, 0.3950139256659399, 0.13750484754194112, 0.27750978322100844, 0.18500652214733895, 0.9710472678030121, 0.2041551610630073, 0.7923164584111949, 0.9796234190350609, 0.08458173935720915, 0.03264558361155441, 0.8465593386541723, 0.03561336393987754, 0.9935038782892065, 0.9908818742434805, 0.9859472436392208, 0.9553258312568627, 0.9972724577412647, 0.026683144489425242, 0.9605932016193087, 0.9933551005995739, 0.9253487181348995, 0.031519681705576896, 0.9140707694617299, 0.08764930352835613, 0.16638511856230317, 0.03565395397763639, 0.0029711628314696994, 0.21243814245008352, 0.0742790707867425, 0.34762605128195484, 0.07130790795527278, 0.3497128194135087, 0.14150229687251795, 0.04042922767786227, 0.3699274332524398, 0.09500868504297634, 0.05248847158649233, 0.3720506368336662, 0.5449538373538763, 0.02933179294539277, 0.06544435051372267, 0.9244014510063326, 0.06396242745338303, 0.9167947934984901, 0.9899216653619626, 0.974608027878943, 0.236163082131817, 0.7557218628218144, 0.5531344089831578, 0.4425075271865262, 0.9685341979286013, 0.029349521149351555, 0.40134920072401686, 0.5865872933658708, 0.017210091546123577, 0.16349586968817398, 0.81747934844087, 0.06378913340087812, 0.9313213476528205, 0.925492869896699, 0.06025781945915025, 0.3422644145279734, 0.4109583287114047, 0.00482062555673202, 0.013256720281013054, 0.0711042269617973, 0.0952073547454574, 0.9388233608308073, 0.991919236393042, 0.011661418206024196, 0.04664567282409678, 0.7317539924280183, 0.08017225016641634, 0.1297332775420192, 0.9971264168374822, 0.677522141256912, 0.24276554475950243, 0.006346811627699411, 0.0150736776157861, 0.05712130464929469, 0.15806700666731044, 0.8254610348181768, 0.9921195151389145, 0.990680443302846, 0.31894656110837183, 0.6682689851794458, 0.024362387584961027, 0.10963074413232461, 0.8587741623698761, 0.2308289033091692, 0.06866429402234779, 0.26686548315068503, 0.07596900615238479, 0.14609424260074, 0.2108626901537347, 0.996688523069521, 0.07813781427032292, 0.9209099539002344, 0.9920069266645386, 0.9979310713546622, 0.26527690659657327, 0.7321642622065422, 0.961319367296127, 0.06707903628119284, 0.8796213248194156, 0.04809440337142128, 0.003796926581954312, 0.01825288834331702, 0.9308973055091679, 0.05110808736128765, 0.07738691578461543, 0.0855329069198381, 0.4113725523287452, 0.42155504124777354, 0.8799970300171426, 0.5758442431532474, 0.39262107487721415, 0.9923730944332176, 0.9707324277526925, 0.9936912941345202, 0.22230178850545737, 0.7715179718718815, 0.05268790252293156, 0.11777295858067055, 0.07748220959254641, 0.013946797726658355, 0.22624805201023554, 0.051138258331080634, 0.1146736701969687, 0.19525516817321698, 0.1472161982258382, 0.43544886625504486, 0.23634027685218048, 0.0016187690195354828, 0.1643050554828515, 0.010521998626980639, 0.15135490332656765, 0.4870400719514235, 0.49012651093717396, 0.0225310045959784, 0.23412149509765648, 0.1915539505344462, 0.019155395053444622, 0.038310790106889245, 0.034054035650568214, 0.1277026336896308, 0.35543899710280574, 0.9431363025385971, 0.013048441487614987, 0.039145324462844966, 0.9394877871082792, 0.9885480106644672, 0.9581115892722443, 0.6017548955690764, 0.2909894565427928, 0.02071769593508557, 0.026995785612384228, 0.010672752451407717, 0.019775982483490773, 0.014439606257786912, 0.012556179354597316, 0.0015695224193246645, 0.02511016812454841, 0.9541863887328396, 0.9895616212254211, 0.0945790287043987, 0.8890428698213477, 0.9902506561063089, 0.9731955259503986, 0.9950457741178294, 0.021908075552498837, 0.007732261959705472, 0.09923069514955356, 0.8183310574021625, 0.024485496205733995, 0.01030968261294063, 0.0012887103266175787, 0.015464523919410944, 0.9560372758615568, 0.4429581480424707, 0.29477997752292534, 0.26167634368345244, 0.9668905652413303, 0.9783129890839242, 0.9874190956854783, 0.9468768106611994, 0.11456859507303925, 0.8834511664521026, 0.9502768549526774, 0.16085284565361022, 0.7267447845795643, 0.005813958276636514, 0.06395354104300166, 0.039728714890349515, 0.0009689930461060857, 0.9991251937833845, 0.9280009115553238, 0.9976040185636208, 0.9981962761769744, 0.9975691039673095, 0.9651141468327272, 0.43015082640393304, 0.0691313828149178, 0.0768126475721309, 0.09601580946516362, 0.32261311980294977, 0.9783464063307605, 0.5245643652599695, 0.16777733269822834, 0.022065009014903478, 0.046627943578663955, 0.07577040831532893, 0.0033305673984759965, 0.06619502704471043, 0.06119917594699644, 0.015403874217951485, 0.015820195142760986, 0.0016652836992379983, 0.00864550704773752, 0.005460320240676329, 0.6631255581176919, 0.00015167556224100914, 0.2551182956893774, 0.024874792207525497, 0.04019402399386742, 0.0016684311846511006, 0.0009100533734460548, 0.9906063592164256, 0.007620048917049428, 0.3473570882317357, 0.6252427588171242, 0.7807820070428292, 0.9783367212883457, 0.20424056482409123, 0.7720293350350648, 0.012254433889445472, 0.010212028241204561, 0.9857955524163884, 0.2520388523907319, 0.034525870190511225, 0.055241392304817956, 0.255491439409783, 0.0932198495143803, 0.3072802446955499, 0.16353704202051128, 0.7681285307024014, 0.06690151719020916, 0.3459156875271962, 0.5017335647916991, 0.13088701690218235, 0.020256324044385363, 0.8967656993605307, 0.03183783548025553, 0.06898197687388698, 0.1593676768078779, 0.5685663801235962, 0.04396349705044907, 0.03212717092148201, 0.09342243123220428, 0.00042272593317739494, 0.09849514243033303, 0.0029590815322417647, 0.45400718048355737, 0.0672929736768509, 0.18013359329218168, 0.010872663869185516, 0.13987535139817042, 0.09021372453621497, 0.0570080213681619, 0.5499932179211625, 0.15510104175932515, 0.09601493061291558, 0.002461921297767066, 0.10733976858264409, 0.031020208351865034, 0.03052782409231162, 0.027081134275437728, 0.041956963086021606, 0.7332478786938061, 0.05194671620174103, 0.1718237535903742, 0.9952371776918411, 0.9967691151187612, 0.017465330795208227, 0.5658767177647466, 0.028096401714030623, 0.3748211861093383, 0.00015187244169746284, 0.01336477486937673, 0.01642913700608728, 0.20262602307507643, 0.07119292702637821, 0.4819213521785602, 0.22453153908319282, 0.16099013940790635, 0.8347636858187737, 0.9804319392754389, 0.9766701401313689, 0.9157024054533444, 0.08126064061918052, 0.02844122421671318, 0.7922912460370101, 0.0233624341780144, 0.07516609257274198, 0.022198695661768537, 0.9656432612869313, 0.9981030841314001, 0.234852086358026, 0.06958580336534105, 0.5740828777640636, 0.12177515588934683, 0.09339355976482623, 0.11511299226827419, 0.015203602752413573, 0.004343886500689592, 0.7710398538724026, 0.9886844035177061, 0.994390496350781, 0.9908046917906562, 0.9479094221351361, 0.9913278893170507, 0.13072732283612853, 0.05382889763840587, 0.05126561679848178, 0.4460108661467915, 0.31528354331066294, 0.9640214399705844, 0.0011481001666977981, 0.013904768685562221, 0.0017859335926410191, 0.006888601000186788, 0.00331673381490475, 0.008802101278016452, 0.06946512293524167, 0.9287744214674903, 0.6933089798971263, 0.24531661703269617, 0.049484467813462316, 0.008949318647115526, 0.0021057220346154177, 0.33681223046281583, 0.6263193723774834, 0.011353221251555589, 0.02459864604503711, 0.004802707017334962, 0.048027070173349624, 0.6843857499702322, 0.04322436315601466, 0.1272717359593765, 0.07924466578602687, 0.009605414034669925, 0.2606010420611229, 0.12535239997876796, 0.6102682630545282, 0.9768738156750522, 0.5530565076822939, 0.3946524342872015, 0.003620664534744968, 0.010409410537391783, 0.028512733211116623, 0.001357749200529363, 0.008146495203176177, 0.9805122430011082, 0.5267392350214926, 0.3986134751513998, 0.02510066055934566, 0.00824200794485977, 0.00037463672476635313, 0.006743461045794357, 0.011613738467756948, 0.019481109687850363, 0.0007492734495327063, 0.002247820348598119, 0.3012632122451084, 0.0993354375510898, 0.44293834449010533, 0.15470273061235296, 0.3426894830209363, 0.6168410694376854, 0.14423831863836403, 0.02884766372767281, 0.822158416238675, 0.9972418217551823, 0.26386576256284766, 0.09513527493762536, 0.1238553579376632, 0.3464360011879565, 0.035900103750047305, 0.13103537868767265, 0.00820787054308656, 0.021887654781564157, 0.9192815008256946, 0.04924722325851935, 0.03822426004389517, 0.42604123173924824, 0.1274142001463172, 0.40772544046821513, 0.9424381832034952, 0.9832361251711031, 0.012290451564638788, 0.08104500285101343, 0.9050025318363166, 0.16834694066977876, 0.8264304360152775, 0.9869510881930067, 0.9918393912417843, 0.9913083215705686, 0.9698678948466265, 0.02055549357940261, 0.42652649177260415, 0.5524288899464451, 0.9809596217645536, 0.01573732013526022, 0.7568431999957926, 0.09862067014092607, 0.0952393900218086, 0.0022541867460783103, 0.01577930722254817, 0.0011270933730391551, 0.030431521072057186, 0.988444081457764, 0.9880360635021218, 0.1076028665472632, 0.606106771723256, 0.07481761814614395, 0.07818020772574592, 0.0008406473949004937, 0.09583380301865628, 0.023538127057213823, 0.010087768738805925, 0.002521942184701481, 0.5693778832013212, 0.40431642807659646, 0.0009178579525007865, 0.019275017002516517, 0.0027535738575023595, 0.0021416685558351685, 0.0010708342779175842, 0.8835433085844231, 0.036941539234930515, 0.962942789390522, 0.22362135884982814, 0.00017719600542775605, 0.7743465437192939, 0.0018605580569914385, 0.9964763059988788, 0.9839702522499024, 0.9929108692281048, 0.9906708409426902, 0.9707044130560869, 0.1888377149135824, 0.625262656047195, 0.18044492758408984, 0.995328546244802, 0.3974628929637697, 0.5564480501492776, 0.9546243789746051, 0.2972799801873461, 0.053639648599021136, 0.19129320464229224, 0.07173495174085959, 0.02197286810080384, 0.2804771986984961, 0.0038775649589653832, 0.07496625587333075, 0.005170086611953844, 0.39558295771739754, 0.25478224395357807, 0.15353982596149837, 0.024137265216654765, 0.09185570374115841, 0.052967887558770174, 0.026819183574060847, 0.9711915100039797, 0.04010810308347661, 0.013369367694492202, 0.24733330234810572, 0.14372070271579115, 0.0467927869307227, 0.5113783143143267, 0.7939738410917049, 0.1023543892413357, 0.1028833524932289, 0.0007934448778398116, 0.9981055365476319, 0.02482079085866949, 0.9680108434881101, 0.8552043398391729, 0.014250229216727223, 0.9832658159541784], \"Term\": [\"[\", \"[\", \"[\", \"[\", \"[\", \"[kk]\", \"\\\\\", \"\\\\\", \"\\\\\", \"\\\\\", \"\\\\_\", \"\\\\k\", \"\\\\n\", \"\\\\n\", \"\\\\t\", \"\\\\w\", \"]\", \"]\", \"]\", \"]\", \"]\", \"]\", \"]\", \"]\", \"]_\", \"]_\", \"]f\", \"]f\", \"]w\", \"^\", \"^\", \"_\", \"_\", \"__\", \"__\", \"___\", \"____\", \"_____\", \"_____\", \"_______\", \"`\", \"`\", \"`w\", \"`w\", \"aaa\", \"abc\", \"accelerators\", \"acid\", \"adaptec\", \"adapter\", \"address\", \"address\", \"address\", \"address\", \"address\", \"address\", \"address\", \"address\", \"adl\", \"administration\", \"administration\", \"administration\", \"adress\", \"aerospace\", \"afford\", \"agencies\", \"agencies\", \"agencies\", \"ah\", \"ah\", \"ah\", \"ai\", \"ai\", \"ai\", \"ai\", \"ai\", \"ajteel\", \"alan\", \"algorithm\", \"algorithm\", \"algorithm\", \"ali\", \"allocation\", \"alomar\", \"also\", \"also\", \"also\", \"also\", \"also\", \"also\", \"also\", \"also\", \"also\", \"also\", \"also\", \"ama\", \"american\", \"american\", \"american\", \"american\", \"american\", \"american\", \"american\", \"amp\", \"amp\", \"amplifier\", \"amps\", \"anderson\", \"anderson\", \"angeles\", \"angeles\", \"angeles\", \"angeles\", \"animation\", \"anonymous\", \"anonymous\", \"anyone\", \"anyone\", \"anyone\", \"anyone\", \"anyone\", \"apartment\", \"app\", \"app\", \"app\", \"apple\", \"apple\", \"apple\", \"apple\", \"application\", \"application\", \"application\", \"application\", \"april\", \"april\", \"april\", \"april\", \"april\", \"april\", \"april\", \"april\", \"april\", \"aq\", \"arab\", \"arabs\", \"archer\", \"archer\", \"archive\", \"archive\", \"archive\", \"archive\", \"argic\", \"argument\", \"argument\", \"argument\", \"armenia\", \"armenian\", \"armenians\", \"armies\", \"army\", \"army\", \"army\", \"army\", \"around\", \"around\", \"around\", \"around\", \"around\", \"around\", \"around\", \"around\", \"around\", \"asking\", \"asking\", \"asking\", \"asking\", \"asking\", \"astros\", \"atheism\", \"atheists\", \"athens\", \"athens\", \"ati\", \"atmosphere\", \"audio\", \"audio\", \"audio\", \"audio\", \"audio\", \"austria\", \"austria\", \"autos\", \"autos\", \"available\", \"available\", \"available\", \"available\", \"avenue\", \"awarded\", \"awards\", \"awards\", \"ax\", \"ax\", \"azerbaijan\", \"azerbaijani\", \"azerbaijanis\", \"azeri\", \"azeris\", \"b\", \"b\", \"b\", \"b\", \"b\", \"b\", \"b\", \"b\", \"b\", \"b\", \"b\", \"b\", \"b\", \"back\", \"back\", \"back\", \"back\", \"back\", \"back\", \"back\", \"back\", \"back\", \"backup\", \"baku\", \"ball\", \"ball\", \"bandwidth\", \"bankrupt\", \"banks\", \"banks\", \"baseball\", \"baseball\", \"based\", \"based\", \"based\", \"based\", \"based\", \"batteries\", \"battery\", \"battery\", \"batting\", \"beauchaine\", \"belief\", \"beliefs\", \"believe\", \"believe\", \"berryhill\", \"best\", \"best\", \"best\", \"best\", \"best\", \"best\", \"best\", \"better\", \"better\", \"better\", \"better\", \"bh\", \"bible\", \"bigger\", \"bike\", \"bike\", \"bikes\", \"billion\", \"billion\", \"binaries\", \"bios\", \"bit\", \"bit\", \"bit\", \"bit\", \"bit\", \"bit\", \"blew\", \"blew\", \"blues\", \"bmw\", \"bmw\", \"board\", \"board\", \"board\", \"board\", \"board\", \"bob\", \"bob\", \"bob\", \"bob\", \"bob\", \"bob\", \"bob\", \"bobbe\", \"bobby\", \"bobby\", \"bobby\", \"body\", \"body\", \"body\", \"body\", \"body\", \"body\", \"boggs\", \"bonds\", \"bone\", \"book\", \"book\", \"book\", \"book\", \"book\", \"book\", \"book\", \"borland\", \"bos\", \"boston\", \"boston\", \"boston\", \"bought\", \"bought\", \"bought\", \"box\", \"box\", \"box\", \"box\", \"box\", \"box\", \"box\", \"box\", \"br\", \"br\", \"brake\", \"brakes\", \"braves\", \"breaker\", \"bronx\", \"bs\", \"bs\", \"bs\", \"bud\", \"buf\", \"buf\", \"build\", \"build\", \"build\", \"build\", \"build\", \"bullinger\", \"bure\", \"burst\", \"bury\", \"bus\", \"bus\", \"bus\", \"buy\", \"buy\", \"buy\", \"c\", \"c\", \"c\", \"c\", \"c\", \"c\", \"c\", \"c\", \"c\", \"c\", \"c\", \"c_\", \"cadre\", \"cal\", \"cal\", \"calgary\", \"calgary\", \"came\", \"came\", \"came\", \"came\", \"came\", \"campbell\", \"cancer\", \"candida\", \"captain\", \"captain\", \"car\", \"car\", \"car\", \"car\", \"carbs\", \"card\", \"card\", \"card\", \"cardinals\", \"cards\", \"cards\", \"cards\", \"cards\", \"cars\", \"carson\", \"caste\", \"catbyte\", \"catcher\", \"catcher\", \"cd\", \"cd\", \"cd\", \"cd\", \"cd\", \"cd\", \"cdc\", \"cellar\", \"center\", \"center\", \"center\", \"center\", \"center\", \"center\", \"center\", \"centers\", \"centers\", \"centers\", \"centris\", \"chain\", \"channel\", \"channel\", \"channel\", \"char\", \"cheap\", \"cheaper\", \"cheaper\", \"chi\", \"chi\", \"chicago\", \"chicago\", \"chicago\", \"chicago\", \"children\", \"children\", \"children\", \"chip\", \"chip\", \"chip\", \"christ\", \"christian\", \"christianity\", \"christians\", \"chunks\", \"church\", \"cipher\", \"circuit\", \"circuits\", \"city\", \"city\", \"city\", \"city\", \"civic\", \"cj\", \"ck\", \"claim\", \"claim\", \"clement\", \"clement\", \"cleveland\", \"cleveland\", \"client\", \"client\", \"clinic\", \"clinic\", \"clipper\", \"closed\", \"closed\", \"closed\", \"closed\", \"closed\", \"closed\", \"clutch\", \"cod\", \"colorado\", \"colorado\", \"colorado\", \"colorado\", \"colorado\", \"colorado\", \"colorado\", \"colormap\", \"com\", \"com\", \"com\", \"com\", \"com\", \"com\", \"com\", \"com\", \"com\", \"com\", \"com\", \"comic\", \"comics\", \"comp\", \"comp\", \"compaq\", \"compass\", \"compilers\", \"compiling\", \"compress\", \"conclusion\", \"condition\", \"condition\", \"condition\", \"condition\", \"condition\", \"conductor\", \"confirmation\", \"congress\", \"congress\", \"congress\", \"congress\", \"congress\", \"connected\", \"connected\", \"connected\", \"connector\", \"conner\", \"consensus\", \"contacts\", \"contacts\", \"contacts\", \"contacts\", \"contest\", \"contest\", \"contest\", \"contradictions\", \"contrib\", \"contrib\", \"control\", \"control\", \"control\", \"control\", \"control\", \"control\", \"controller\", \"cooper\", \"cooper\", \"copper\", \"corn\", \"could\", \"could\", \"could\", \"could\", \"could\", \"could\", \"could\", \"could\", \"courses\", \"courses\", \"cover\", \"cover\", \"cover\", \"cover\", \"cover\", \"cover\", \"cover\", \"covington\", \"cpr\", \"cpu\", \"crash\", \"crime\", \"crime\", \"crime\", \"crowley\", \"crown\", \"crucis\", \"crypt\", \"crypto\", \"cryptography\", \"cs\", \"cs\", \"cs\", \"cs\", \"cs\", \"ctrl\", \"cub\", \"cubic\", \"cubs\", \"cursor\", \"cwru\", \"cylinders\", \"cyprus\", \"d]\", \"d]\", \"darren\", \"data\", \"data\", \"data\", \"data\", \"data\", \"data\", \"db\", \"db\", \"db\", \"dc\", \"dc\", \"dc\", \"dc\", \"de\", \"de\", \"de\", \"de\", \"de\", \"de\", \"death\", \"death\", \"debugger\", \"dec\", \"dec\", \"dec\", \"dec\", \"decenso\", \"defaults\", \"defenseman\", \"defensive\", \"define\", \"define\", \"define\", \"des\", \"det\", \"det\", \"det\", \"detector\", \"detroit\", \"detroit\", \"devils\", \"devils\", \"di\", \"di\", \"diagnosed\", \"diamond\", \"diego\", \"diego\", \"diet\", \"diet\", \"directory\", \"directory\", \"directory\", \"disc\", \"disease\", \"disease\", \"diseases\", \"disk\", \"disk\", \"disk\", \"disk\", \"display\", \"display\", \"display\", \"display\", \"dma\", \"dod\", \"dod\", \"dod\", \"dod\", \"dod\", \"dodgers\", \"dos\", \"dos\", \"dos\", \"dpy\", \"dram\", \"dram\", \"drive\", \"drive\", \"drive\", \"driver\", \"driver\", \"driver\", \"drivers\", \"drivers\", \"drivers\", \"drives\", \"driving\", \"driving\", \"driving\", \"drug\", \"drug\", \"dtmedin\", \"duo\", \"dx\", \"dx\", \"dy\", \"e\", \"e\", \"e\", \"e\", \"e\", \"e\", \"e\", \"e\", \"e\", \"e\", \"e\", \"earth\", \"earth\", \"east\", \"east\", \"east\", \"east\", \"east\", \"east\", \"echl\", \"echo\", \"echo\", \"edm\", \"edmonton\", \"edt\", \"edt\", \"edt\", \"edt\", \"edu\", \"edu\", \"edu\", \"edu\", \"edu\", \"edu\", \"edu\", \"edu\", \"een\", \"eff\", \"ei\", \"ei\", \"eisa\", \"email\", \"email\", \"email\", \"email\", \"email\", \"email\", \"encrypted\", \"encryption\", \"endometriosis\", \"energy\", \"energy\", \"energy\", \"enforcement\", \"engine\", \"engine\", \"engine\", \"entries\", \"entries\", \"entry\", \"entry\", \"entry\", \"eq\", \"eq\", \"eq\", \"error\", \"error\", \"error\", \"error\", \"error\", \"escrow\", \"espn\", \"ethernet\", \"even\", \"even\", \"even\", \"even\", \"even\", \"even\", \"evidence\", \"evidence\", \"evil\", \"excellent\", \"excellent\", \"excellent\", \"excellent\", \"excellent\", \"excellent\", \"excellent\", \"exclusively\", \"execution\", \"existence\", \"exit\", \"expensive\", \"expensive\", \"export\", \"export\", \"export\", \"expos\", \"extra\", \"extra\", \"extra\", \"extra\", \"ey\", \"ey\", \"f\", \"f\", \"f\", \"f\", \"f\", \"f\", \"f\", \"fact\", \"fact\", \"fact\", \"fact\", \"fact\", \"fact\", \"faith\", \"faq\", \"faq\", \"faq\", \"faq\", \"fast\", \"fast\", \"fat\", \"fax\", \"fax\", \"fax\", \"fax\", \"featuring\", \"fielder\", \"file\", \"file\", \"file\", \"file\", \"filename\", \"files\", \"files\", \"files\", \"financial\", \"fine\", \"fine\", \"fine\", \"fine\", \"fine\", \"firearms\", \"firearms\", \"first\", \"first\", \"first\", \"first\", \"first\", \"first\", \"first\", \"first\", \"first\", \"first\", \"fitting\", \"flags\", \"flames\", \"flames\", \"flames\", \"fleet\", \"flight\", \"flight\", \"floppies\", \"floppies\", \"floppy\", \"floppy\", \"floppy\", \"flyers\", \"font\", \"font\", \"food\", \"food\", \"food\", \"foods\", \"football\", \"ford\", \"ford\", \"format\", \"format\", \"format\", \"formats\", \"fpu\", \"fpu\", \"fq\", \"fq\", \"franchise\", \"francis\", \"francisco\", \"francisco\", \"francisco\", \"francisco\", \"freeware\", \"friday\", \"friday\", \"friday\", \"friday\", \"friday\", \"front\", \"front\", \"front\", \"front\", \"front\", \"ftp\", \"function\", \"function\", \"function\", \"function\", \"function\", \"function\", \"function\", \"funding\", \"g\", \"g\", \"g\", \"g\", \"g\", \"g\", \"g\", \"g\", \"game\", \"game\", \"game\", \"game\", \"games\", \"games\", \"games\", \"gamma\", \"gatech\", \"genocide\", \"georgia\", \"georgia\", \"german\", \"german\", \"german\", \"german\", \"german\", \"germany\", \"germany\", \"germany\", \"germany\", \"germany\", \"get\", \"get\", \"get\", \"get\", \"get\", \"get\", \"getting\", \"getting\", \"getting\", \"giants\", \"gif\", \"gifs\", \"gilmour\", \"gk\", \"gk\", \"glutamate\", \"gm\", \"gm\", \"gnd\", \"gnu\", \"go\", \"go\", \"go\", \"go\", \"go\", \"go\", \"go\", \"go\", \"go\", \"goal\", \"goal\", \"goal\", \"goal\", \"goalie\", \"god\", \"going\", \"going\", \"going\", \"going\", \"going\", \"good\", \"good\", \"good\", \"good\", \"good\", \"good\", \"gordon\", \"got\", \"got\", \"got\", \"got\", \"got\", \"got\", \"gov\", \"gov\", \"gov\", \"gov\", \"gov\", \"gov\", \"government\", \"government\", \"government\", \"government\", \"government\", \"gps\", \"gq\", \"gq\", \"graham\", \"graphics\", \"graphics\", \"gravity\", \"grayscale\", \"greece\", \"greek\", \"greek\", \"greek\", \"ground\", \"ground\", \"ground\", \"ground\", \"ground\", \"grounded\", \"grounded\", \"guidelines\", \"gun\", \"gun\", \"guns\", \"guns\", \"h\", \"h\", \"h\", \"h\", \"h\", \"h\", \"h\", \"habs\", \"handler\", \"hang\", \"hang\", \"hang\", \"hanging\", \"hanging\", \"hanging\", \"hard\", \"hard\", \"hard\", \"hard\", \"hartford\", \"hawk\", \"hawks\", \"hci\", \"headaches\", \"heads\", \"heads\", \"heads\", \"heads\", \"heads\", \"health\", \"health\", \"health\", \"health\", \"heaven\", \"helmet\", \"helper\", \"henrik]\", \"het\", \"hex\", \"hit\", \"hit\", \"hit\", \"hit\", \"hit\", \"hits\", \"hits\", \"hits\", \"hitter\", \"ho\", \"hockey\", \"hockey\", \"hof\", \"holy\", \"honda\", \"hook\", \"hooking\", \"hotel\", \"hotel\", \"hotel\", \"household\", \"hulk\", \"human\", \"human\", \"human\", \"human\", \"huntsville\", \"hz\", \"hz\", \"hz\", \"ian\", \"ico\", \"icon\", \"ide\", \"ide\", \"idle\", \"idle\", \"ieee\", \"image\", \"image\", \"image\", \"images\", \"images\", \"images\", \"included\", \"included\", \"included\", \"included\", \"included\", \"included\", \"included\", \"included\", \"incremental\", \"indianapolis\", \"inflammatory\", \"info\", \"info\", \"info\", \"info\", \"info\", \"information\", \"information\", \"information\", \"information\", \"information\", \"information\", \"information\", \"information\", \"ingr\", \"inning\", \"innings\", \"input\", \"input\", \"input\", \"input\", \"input\", \"ins\", \"insurance\", \"int\", \"int\", \"integration\", \"intellect\", \"interested\", \"interested\", \"interested\", \"interested\", \"interested\", \"interested\", \"interested\", \"intergraph\", \"internet\", \"internet\", \"internet\", \"internet\", \"internet\", \"invaded\", \"irq\", \"isa\", \"islanders\", \"israel\", \"israeli\", \"israelis\", \"istanbul\", \"j\", \"j\", \"j\", \"j\", \"j\", \"j\", \"j\", \"j\", \"j\", \"jacket\", \"jays\", \"jesus\", \"jets\", \"jets\", \"jews\", \"jews\", \"jews\", \"jobs\", \"jobs\", \"jpeg\", \"judge\", \"jumper\", \"jumpers\", \"jumpers\", \"jz\", \"k\", \"k\", \"k\", \"k\", \"k\", \"k\", \"k\", \"k\", \"karabakh\", \"karina\", \"key\", \"key\", \"key\", \"keys\", \"kh\", \"khz\", \"kidney\", \"killed\", \"killed\", \"killed\", \"kings\", \"kings\", \"kings\", \"kits\", \"know\", \"know\", \"know\", \"know\", \"know\", \"know\", \"koresh\", \"kurds\", \"l\", \"l\", \"l\", \"l\", \"l\", \"l\", \"l\", \"l\", \"la\", \"la\", \"la\", \"la\", \"la\", \"la\", \"lan\", \"land\", \"land\", \"land\", \"land\", \"land\", \"lang\", \"laptop\", \"last\", \"last\", \"last\", \"last\", \"last\", \"last\", \"last\", \"last\", \"last\", \"launch\", \"launched\", \"law\", \"law\", \"laws\", \"lcs\", \"leafs\", \"league\", \"league\", \"league\", \"league\", \"lebanese\", \"lebanon\", \"lemieux\", \"lens\", \"liar\", \"lib\", \"life\", \"life\", \"life\", \"like\", \"like\", \"like\", \"like\", \"like\", \"like\", \"like\", \"lindros\", \"line\", \"line\", \"line\", \"line\", \"line\", \"line\", \"linux\", \"list\", \"list\", \"list\", \"list\", \"list\", \"list\", \"list\", \"list\", \"list\", \"list\", \"listserv\", \"listserv\", \"lk\", \"lock\", \"looking\", \"looking\", \"looking\", \"looking\", \"looking\", \"looking\", \"looks\", \"looks\", \"looks\", \"looks\", \"lord\", \"los\", \"los\", \"los\", \"los\", \"los\", \"lost\", \"lost\", \"lost\", \"lost\", \"lost\", \"lost\", \"lost\", \"lot\", \"lot\", \"lot\", \"lot\", \"lunar\", \"lyuda\", \"m[\", \"m[\", \"m]\", \"m]\", \"mac\", \"mac\", \"mac\", \"mail\", \"mail\", \"mail\", \"mail\", \"mail\", \"mailing\", \"mailing\", \"make\", \"make\", \"make\", \"make\", \"make\", \"make\", \"make\", \"make\", \"males\", \"mamma\", \"man\", \"man\", \"man\", \"man\", \"manhattan\", \"many\", \"many\", \"many\", \"many\", \"many\", \"many\", \"many\", \"mario\", \"mars\", \"maryland\", \"massacre\", \"master\", \"master\", \"master\", \"master\", \"master\", \"master\", \"matthew\", \"max\", \"max\", \"may\", \"may\", \"may\", \"may\", \"may\", \"may\", \"may\", \"may\", \"may\", \"may\", \"may\", \"mb\", \"mb\", \"mb\", \"mb\", \"mca\", \"medical\", \"medical\", \"medical\", \"melrose\", \"memory\", \"memory\", \"memory\", \"memory\", \"memory\", \"memory\", \"memphis\", \"messier\", \"mets\", \"mf\", \"mf\", \"mf\", \"mhz\", \"mhz\", \"michael\", \"michael\", \"michael\", \"michael\", \"michael\", \"michael\", \"miles\", \"miles\", \"miles\", \"militia\", \"milwaukee\", \"milwaukee\", \"min\", \"min\", \"mint\", \"mission\", \"mission\", \"missions\", \"mit\", \"mit\", \"mitre\", \"mk\", \"mode\", \"mode\", \"mode\", \"mode\", \"mode\", \"mode\", \"model\", \"model\", \"model\", \"model\", \"model\", \"model\", \"model\", \"model\", \"model\", \"modem\", \"modem\", \"molecular\", \"mom\", \"mon\", \"mon\", \"money\", \"money\", \"money\", \"money\", \"monitor\", \"monitor\", \"monitor\", \"moon\", \"moon\", \"moral\", \"morality\", \"motherboard\", \"motif\", \"motif\", \"mouse\", \"mouse\", \"mouse\", \"mozumder\", \"mpc\", \"mpc\", \"mph\", \"mph\", \"mph\", \"ms\", \"ms\", \"ms\", \"ms\", \"ms\", \"msdos\", \"msg\", \"much\", \"much\", \"much\", \"much\", \"much\", \"murray\", \"music\", \"music\", \"music\", \"muslim\", \"muslim\", \"must\", \"must\", \"must\", \"must\", \"must\", \"must\", \"must\", \"must\", \"mv\", \"mvp\", \"mw\", \"mwm\", \"myers\", \"n\", \"n\", \"n\", \"n\", \"n\", \"n\", \"n\", \"nasa\", \"nasa\", \"national\", \"national\", \"national\", \"national\", \"national\", \"national\", \"national\", \"naval\", \"nazi\", \"nazi\", \"nazis\", \"ncd\", \"ncsl\", \"nec\", \"neck\", \"need\", \"need\", \"need\", \"need\", \"need\", \"need\", \"negotiating\", \"nei\", \"netware\", \"neutral\", \"neutral\", \"new\", \"new\", \"new\", \"new\", \"new\", \"new\", \"new\", \"new\", \"new\", \"new\", \"new\", \"new\", \"new\", \"newsletter\", \"newsletter\", \"nhl\", \"nintendo\", \"nist\", \"nist\", \"nj\", \"nj\", \"nj\", \"nj\", \"nords\", \"norton\", \"norton\", \"nsa\", \"nubus\", \"nuclear\", \"nuclear\", \"null\", \"number\", \"number\", \"number\", \"number\", \"number\", \"number\", \"number\", \"number\", \"number\", \"nut\", \"nyi\", \"nyr\", \"nyr\", \"oates\", \"obo\", \"offenses\", \"offer\", \"offer\", \"offer\", \"offer\", \"offer\", \"offer\", \"offer\", \"office\", \"office\", \"office\", \"office\", \"office\", \"office\", \"office\", \"office\", \"oil\", \"oil\", \"oil\", \"old\", \"old\", \"old\", \"old\", \"old\", \"old\", \"old\", \"olwm\", \"one\", \"one\", \"one\", \"one\", \"one\", \"one\", \"one\", \"one\", \"one\", \"one\", \"one\", \"open\", \"open\", \"open\", \"open\", \"open\", \"open\", \"open\", \"open\", \"openwindows\", \"options\", \"options\", \"options\", \"options\", \"options\", \"options\", \"options\", \"orbit\", \"orbital\", \"orchid\", \"orioles\", \"osf\", \"ott\", \"ottoman\", \"outlet\", \"outlets\", \"output\", \"output\", \"output\", \"outs\", \"overtime\", \"ozone\", \"p\", \"p\", \"p\", \"p\", \"p\", \"p\", \"p\", \"p\", \"p\", \"p\", \"p\\\\\", \"p\\\\\", \"p]\", \"p]\", \"pacific\", \"pacific\", \"pacific\", \"pain\", \"pain\", \"pain\", \"palestinian\", \"palestinians\", \"pan\", \"parameter\", \"partial\", \"pathetic\", \"patients\", \"pavement\", \"pay\", \"pay\", \"pay\", \"pay\", \"paying\", \"payload\", \"pc\", \"pc\", \"pc\", \"pds\", \"peace\", \"peace\", \"peace\", \"pedal\", \"pens\", \"people\", \"people\", \"people\", \"people\", \"people\", \"period\", \"period\", \"period\", \"period\", \"period\", \"period\", \"persecuted\", \"person\", \"person\", \"person\", \"person\", \"person\", \"person\", \"pex\", \"pgp\", \"phi\", \"phillies\", \"phones\", \"pick\", \"pick\", \"pick\", \"picks\", \"picture\", \"picture\", \"picture\", \"picture\", \"picture\", \"pin\", \"pin\", \"pit\", \"pit\", \"pit\", \"pitch\", \"pitched\", \"pitcher\", \"pitchers\", \"pitching\", \"pittsburgh\", \"pittsburgh\", \"pittsburgh\", \"pixmap\", \"pl\", \"pl\", \"planetary\", \"plastic\", \"platforms\", \"play\", \"play\", \"play\", \"play\", \"play\", \"play\", \"played\", \"played\", \"played\", \"player\", \"player\", \"player\", \"players\", \"playoffs\", \"playoffs\", \"please\", \"please\", \"please\", \"please\", \"please\", \"please\", \"please\", \"please\", \"plo\", \"plug\", \"point\", \"point\", \"point\", \"point\", \"point\", \"pointer\", \"pointers\", \"pointers\", \"port\", \"port\", \"post\", \"post\", \"post\", \"post\", \"post\", \"post\", \"post\", \"posting\", \"posting\", \"posting\", \"posting\", \"posting\", \"posts\", \"posts\", \"posts\", \"posts\", \"power\", \"power\", \"power\", \"power\", \"power\", \"power\", \"power\", \"pp\", \"pp\", \"pp\", \"pp\", \"pp\", \"president\", \"president\", \"president\", \"pretty\", \"pretty\", \"pretty\", \"price\", \"price\", \"price\", \"price\", \"price\", \"price\", \"price\", \"printf\", \"privacy\", \"probably\", \"probably\", \"probably\", \"probably\", \"probably\", \"probably\", \"problem\", \"problem\", \"problem\", \"problem\", \"problem\", \"problems\", \"problems\", \"problems\", \"problems\", \"problems\", \"prog\", \"program\", \"program\", \"program\", \"program\", \"program\", \"programmer\", \"promiscuous\", \"promotion\", \"propulsion\", \"protein\", \"pts\", \"pts\", \"pu\", \"pub\", \"pub\", \"public\", \"public\", \"public\", \"public\", \"public\", \"publisher\", \"puck\", \"q\", \"q\", \"q\", \"q\", \"q\", \"q\\\\\", \"q]\", \"ql\", \"qq\", \"qq\", \"qs\", \"quadra\", \"quantities\", \"que\", \"quebec\", \"queens\", \"quicktime\", \"qur\", \"qy\", \"r\", \"r\", \"r\", \"r\", \"r\", \"r\", \"r\", \"r\", \"radar\", \"radar\", \"ram\", \"ramsey\", \"rbi\", \"readme\", \"really\", \"really\", \"really\", \"rear\", \"rear\", \"rec\", \"rec\", \"rec\", \"recchi\", \"rectangle\", \"redesign\", \"redesign\", \"religion\", \"religious\", \"religious\", \"remark\", \"remark\", \"removable\", \"reply\", \"reply\", \"reply\", \"reply\", \"reply\", \"report\", \"report\", \"report\", \"report\", \"report\", \"report\", \"report\", \"republic\", \"request\", \"request\", \"request\", \"request\", \"request\", \"request\", \"requests\", \"requests\", \"requests\", \"requests\", \"research\", \"research\", \"research\", \"research\", \"resembles\", \"respect\", \"restaurant\", \"restore\", \"restraint\", \"return\", \"return\", \"return\", \"return\", \"return\", \"return\", \"return\", \"return\", \"rewritten\", \"rg\", \"ride\", \"ride\", \"right\", \"right\", \"right\", \"right\", \"right\", \"right\", \"right\", \"right\", \"ripem\", \"rit\", \"road\", \"road\", \"road\", \"road\", \"road\", \"road\", \"road\", \"rockefeller\", \"rolling\", \"rolling\", \"rolling\", \"rpm\", \"rsa\", \"rules\", \"rules\", \"rules\", \"rules\", \"rules\", \"runs\", \"runs\", \"runs\", \"runs\", \"runs\", \"russian\", \"russian\", \"russian\", \"sabbath\", \"sabres\", \"said\", \"said\", \"said\", \"said\", \"said\", \"said\", \"sale\", \"sale\", \"sale\", \"sale\", \"sale\", \"san\", \"san\", \"san\", \"san\", \"san\", \"sank\", \"sas\", \"satellite\", \"satellites\", \"saw\", \"saw\", \"saw\", \"say\", \"say\", \"say\", \"science\", \"science\", \"science\", \"score\", \"score\", \"scored\", \"scorer\", \"scores\", \"scores\", \"scores\", \"scores\", \"scoring\", \"scoring\", \"scsi\", \"sea\", \"sea\", \"sea\", \"sea\", \"sea\", \"seagate\", \"season\", \"season\", \"second\", \"second\", \"second\", \"second\", \"second\", \"second\", \"second\", \"second\", \"second\", \"secret\", \"secret\", \"secret\", \"sect\", \"section\", \"section\", \"section\", \"section\", \"section\", \"section\", \"section\", \"secure\", \"secure\", \"security\", \"security\", \"security\", \"security\", \"security\", \"security\", \"sed\", \"sed\", \"see\", \"see\", \"see\", \"see\", \"see\", \"see\", \"see\", \"sega\", \"sell\", \"sell\", \"sell\", \"sell\", \"sell\", \"semitism\", \"senate\", \"senate\", \"send\", \"send\", \"send\", \"send\", \"send\", \"send\", \"send\", \"senior\", \"senior\", \"senior\", \"serdar\", \"series\", \"series\", \"series\", \"series\", \"series\", \"series\", \"server\", \"server\", \"servers\", \"set\", \"set\", \"set\", \"set\", \"set\", \"set\", \"set\", \"set\", \"sgi\", \"shaft\", \"shameful\", \"shareware\", \"sharks\", \"shifting\", \"shipping\", \"shipping\", \"shipping\", \"shipping\", \"shipping\", \"shipping\", \"shop\", \"shuttle\", \"simm\", \"simms\", \"since\", \"since\", \"since\", \"since\", \"since\", \"since\", \"since\", \"since\", \"size\", \"size\", \"size\", \"size\", \"sj\", \"sj\", \"sj\", \"skepticism\", \"skip\", \"sky\", \"slave\", \"slave\", \"sleeve\", \"slots\", \"slower\", \"smartdrive\", \"smokeless\", \"software\", \"software\", \"software\", \"solar\", \"soldiers\", \"soldiers\", \"something\", \"something\", \"something\", \"sony\", \"sony\", \"sony\", \"sound\", \"sound\", \"sound\", \"sound\", \"soundblaster\", \"soviet\", \"soviet\", \"sox\", \"space\", \"space\", \"space\", \"space\", \"spacecraft\", \"specs\", \"speeds\", \"speedstar\", \"spirit\", \"sport\", \"sport\", \"sports\", \"squid\", \"ssf\", \"ssf\", \"st\", \"st\", \"st\", \"st\", \"st\", \"st\", \"st\", \"st\", \"started\", \"started\", \"started\", \"started\", \"started\", \"states\", \"states\", \"states\", \"states\", \"stats\", \"stats\", \"steering\", \"steering\", \"stereo\", \"stewart\", \"stl\", \"stl\", \"stones\", \"stones\", \"store\", \"store\", \"storm\", \"storm\", \"stream\", \"stream\", \"stream\", \"string\", \"string\", \"studio\", \"subject\", \"subject\", \"subject\", \"subject\", \"subject\", \"subject\", \"subject\", \"suck\", \"sumgait\", \"sun\", \"sun\", \"sun\", \"sun\", \"sun\", \"supply\", \"sure\", \"sure\", \"sure\", \"sure\", \"sure\", \"surgery\", \"surgery\", \"surrender\", \"svga\", \"sw\", \"sw\", \"sys\", \"sys\", \"sys\", \"system\", \"system\", \"system\", \"system\", \"system\", \"system\", \"t\\\\\", \"t]\", \"t]\", \"tampa\", \"tar\", \"tb\", \"tb\", \"tea\", \"team\", \"team\", \"team\", \"team\", \"teams\", \"teams\", \"teams\", \"technology\", \"technology\", \"technology\", \"technology\", \"teel\", \"tek\", \"tek\", \"telescope\", \"temp\", \"terminals\", \"tg\", \"tg\", \"th\", \"th\", \"th\", \"th\", \"th\", \"th\", \"th\", \"th\", \"th\", \"thanks\", \"thanks\", \"thanks\", \"thanks\", \"thanks\", \"thanks\", \"think\", \"think\", \"think\", \"third\", \"third\", \"third\", \"third\", \"third\", \"third\", \"third\", \"thumbs\", \"tie\", \"tie\", \"tie\", \"tiff\", \"tigers\", \"time\", \"time\", \"time\", \"time\", \"time\", \"time\", \"time\", \"time\", \"time\", \"timer\", \"timer\", \"timing\", \"tire\", \"tire\", \"tires\", \"tis\", \"tl\", \"tm\", \"tm\", \"tm\", \"tm\", \"tm\", \"tm\", \"tm\", \"tm\", \"tocchet\", \"told\", \"told\", \"told\", \"toner\", \"toplevel\", \"tor\", \"toshiba\", \"tq\", \"tq\", \"transformer\", \"true\", \"true\", \"true\", \"true\", \"true\", \"true\", \"truth\", \"ttl\", \"turkey\", \"turkish\", \"turks\", \"turner\", \"tv\", \"tv\", \"tv\", \"tv\", \"tv\", \"twins\", \"two\", \"two\", \"two\", \"two\", \"two\", \"two\", \"two\", \"two\", \"two\", \"two\", \"two\", \"u\", \"u\", \"u\", \"u\", \"u\", \"u\", \"u\", \"u\", \"u\", \"u]\", \"u]\", \"uga\", \"uga\", \"ultb\", \"ultrix\", \"um\", \"um\", \"um\", \"um\", \"unclear\", \"unit\", \"unit\", \"unit\", \"unit\", \"unit\", \"unit\", \"united\", \"united\", \"united\", \"university\", \"university\", \"university\", \"university\", \"unix\", \"unix\", \"unix\", \"us\", \"us\", \"us\", \"us\", \"us\", \"us\", \"us\", \"us\", \"use\", \"use\", \"use\", \"use\", \"use\", \"use\", \"use\", \"used\", \"used\", \"used\", \"used\", \"used\", \"used\", \"used\", \"used\", \"user\", \"user\", \"user\", \"user\", \"uuencode\", \"uw\", \"v\", \"v\", \"v\", \"v\", \"v\", \"v\", \"van\", \"van\", \"van\", \"van\", \"van\", \"vancouver\", \"vancouver\", \"vendor\", \"venus\", \"verlag\", \"version\", \"version\", \"version\", \"version\", \"version\", \"vesa\", \"vesa\", \"vga\", \"vice\", \"vice\", \"vice\", \"vice\", \"video\", \"video\", \"video\", \"video\", \"video\", \"visualization\", \"vlb\", \"voltage\", \"volvo\", \"vram\", \"vs\", \"vs\", \"vs\", \"vs\", \"vs\", \"w\", \"w\", \"w\", \"w\", \"w\", \"w\", \"w\", \"w]_\", \"w]_\", \"want\", \"want\", \"want\", \"want\", \"want\", \"war\", \"war\", \"war\", \"war\", \"washington\", \"washington\", \"washington\", \"washington\", \"washington\", \"washington\", \"washington\", \"water\", \"water\", \"water\", \"watts\", \"way\", \"way\", \"way\", \"way\", \"way\", \"way\", \"way\", \"weaver\", \"well\", \"well\", \"well\", \"well\", \"well\", \"well\", \"well\", \"well\", \"well\", \"well\", \"went\", \"went\", \"went\", \"went\", \"wg\", \"wg\", \"wheel\", \"wheel\", \"wheel\", \"widget\", \"win\", \"win\", \"win\", \"win\", \"win\", \"win\", \"window\", \"window\", \"window\", \"window\", \"windows\", \"windows\", \"windows\", \"windows\", \"winmarks\", \"winnipeg\", \"winnipeg\", \"wins\", \"wins\", \"wire\", \"wire\", \"wires\", \"wiretap\", \"wiring\", \"wolverine\", \"women\", \"women\", \"women\", \"wondering\", \"wondering\", \"work\", \"work\", \"work\", \"work\", \"work\", \"work\", \"work\", \"workstation\", \"workstations\", \"world\", \"world\", \"world\", \"world\", \"world\", \"world\", \"world\", \"world\", \"world\", \"would\", \"would\", \"would\", \"would\", \"would\", \"would\", \"would\", \"wri\", \"ww\", \"ww\", \"x\", \"x\", \"x\", \"x\", \"x^\", \"xdm\", \"xlib\", \"xmu\", \"xsun\", \"xt\", \"xt\", \"xt\", \"xterm\", \"yamaha\", \"yamaha\", \"yassin\", \"year\", \"year\", \"year\", \"year\", \"year\", \"year\", \"year\", \"year\", \"year\", \"years\", \"years\", \"years\", \"years\", \"years\", \"years\", \"years\", \"yep\", \"york\", \"york\", \"york\", \"york\", \"york\", \"york\", \"z\", \"z\", \"z\", \"z\", \"zd\", \"zealand\", \"zealand\", \"zenith\", \"zip\", \"zip\"]}, \"R\": 30, \"lambda.step\": 0.01, \"plot.opts\": {\"xlab\": \"PC1\", \"ylab\": \"PC2\"}, \"topic.order\": [9, 12, 5, 10, 2, 15, 19, 6, 4, 7, 8, 18, 14, 20, 17, 1, 11, 16, 13, 3]};\n",
       "\n",
       "function LDAvis_load_lib(url, callback){\n",
       "  var s = document.createElement('script');\n",
       "  s.src = url;\n",
       "  s.async = true;\n",
       "  s.onreadystatechange = s.onload = callback;\n",
       "  s.onerror = function(){console.warn(\"failed to load library \" + url);};\n",
       "  document.getElementsByTagName(\"head\")[0].appendChild(s);\n",
       "}\n",
       "\n",
       "if(typeof(LDAvis) !== \"undefined\"){\n",
       "   // already loaded: just create the visualization\n",
       "   !function(LDAvis){\n",
       "       new LDAvis(\"#\" + \"ldavis_el2088826073336635608443781244\", ldavis_el2088826073336635608443781244_data);\n",
       "   }(LDAvis);\n",
       "}else if(typeof define === \"function\" && define.amd){\n",
       "   // require.js is available: use it to load d3/LDAvis\n",
       "   require.config({paths: {d3: \"https://d3js.org/d3.v5\"}});\n",
       "   require([\"d3\"], function(d3){\n",
       "      window.d3 = d3;\n",
       "      LDAvis_load_lib(\"https://cdn.jsdelivr.net/gh/bmabey/pyLDAvis@3.3.1/pyLDAvis/js/ldavis.v3.0.0.js\", function(){\n",
       "        new LDAvis(\"#\" + \"ldavis_el2088826073336635608443781244\", ldavis_el2088826073336635608443781244_data);\n",
       "      });\n",
       "    });\n",
       "}else{\n",
       "    // require.js not available: dynamically load d3 & LDAvis\n",
       "    LDAvis_load_lib(\"https://d3js.org/d3.v5.js\", function(){\n",
       "         LDAvis_load_lib(\"https://cdn.jsdelivr.net/gh/bmabey/pyLDAvis@3.3.1/pyLDAvis/js/ldavis.v3.0.0.js\", function(){\n",
       "                 new LDAvis(\"#\" + \"ldavis_el2088826073336635608443781244\", ldavis_el2088826073336635608443781244_data);\n",
       "            })\n",
       "         });\n",
       "}\n",
       "</script>"
      ],
      "text/plain": [
       "<IPython.core.display.HTML object>"
      ]
     },
     "execution_count": 15,
     "metadata": {},
     "output_type": "execute_result"
    }
   ],
   "source": [
    "import pyLDAvis.gensim_models # pip install pyLDAvis\n",
    "pyLDAvis.enable_notebook()\n",
    "vis = pyLDAvis.gensim_models.prepare(lda, corpus, dic)\n",
    "pyLDAvis.display(vis)"
   ]
  },
  {
   "cell_type": "code",
   "execution_count": 16,
   "id": "d30b14e8",
   "metadata": {},
   "outputs": [
    {
     "name": "stdout",
     "output_type": "stream",
     "text": [
      "1 번째 문서의 topic 비율 : [(3, 0.12794237), (4, 0.052900616), (11, 0.77652854), (16, 0.031341556)]\n",
      "2 번째 문서의 topic 비율 : [(8, 0.226915), (9, 0.11468083), (11, 0.6206118), (14, 0.022379648)]\n",
      "3 번째 문서의 topic 비율 : [(8, 0.07900906), (10, 0.09321193), (11, 0.6465423), (16, 0.16891348)]\n",
      "4 번째 문서의 topic 비율 : [(7, 0.030349782), (8, 0.40467688), (11, 0.20717981), (18, 0.3052814), (19, 0.036518432)]\n",
      "5 번째 문서의 topic 비율 : [(5, 0.08343804), (8, 0.31293124), (13, 0.57933366)]\n",
      "6 번째 문서의 topic 비율 : [(8, 0.34773692), (11, 0.5697628), (12, 0.045482088)]\n",
      "7 번째 문서의 topic 비율 : [(4, 0.7523156), (7, 0.037792824), (8, 0.15827344), (9, 0.029461812)]\n",
      "8 번째 문서의 topic 비율 : [(8, 0.42215464), (10, 0.06345883), (11, 0.3676844), (16, 0.119657554), (17, 0.016314458)]\n",
      "9 번째 문서의 topic 비율 : [(8, 0.64378864), (11, 0.14148825), (17, 0.1944189)]\n",
      "10 번째 문서의 topic 비율 : [(8, 0.91326475), (16, 0.07518156)]\n"
     ]
    },
    {
     "name": "stderr",
     "output_type": "stream",
     "text": [
      "C:\\Users\\PC\\anaconda3\\envs\\yeseul\\lib\\site-packages\\ipykernel\\ipkernel.py:287: DeprecationWarning: `should_run_async` will not call `transform_cell` automatically in the future. Please pass the result to `transformed_cell` argument and any exception that happen during thetransform in `preprocessing_exc_tuple` in IPython 7.17 and above.\n",
      "  and should_run_async(code)\n"
     ]
    }
   ],
   "source": [
    "# 문서별 토픽 분포\n",
    "for i, topic_list in enumerate(lda[corpus]) :\n",
    "    if i == 10 :\n",
    "        break\n",
    "    print(i+1, '번째 문서의 topic 비율 :', topic_list)"
   ]
  },
  {
   "cell_type": "code",
   "execution_count": 17,
   "id": "0710d9b9",
   "metadata": {},
   "outputs": [
    {
     "name": "stderr",
     "output_type": "stream",
     "text": [
      "C:\\Users\\PC\\anaconda3\\envs\\yeseul\\lib\\site-packages\\ipykernel\\ipkernel.py:287: DeprecationWarning: `should_run_async` will not call `transform_cell` automatically in the future. Please pass the result to `transformed_cell` argument and any exception that happen during thetransform in `preprocessing_exc_tuple` in IPython 7.17 and above.\n",
      "  and should_run_async(code)\n"
     ]
    }
   ],
   "source": [
    "# dataframe으로 생성\n",
    "def make_topictable_per_doc(lda, corpus) :\n",
    "    topic_table = pd.DataFrame()\n",
    "    \n",
    "    for i, topic_list in enumerate(lda[corpus]) :\n",
    "        doc = topic_list[0] if lda.per_word_topics else topic_list\n",
    "        doc = sorted(doc, key=lambda x : (x[1]), reverse=True) # 비중 높은 순으로 정렬\n",
    "        \n",
    "        for j, (topic_num, prop_topic) in enumerate(doc) :\n",
    "            if j == 0 :\n",
    "                topic_table = topic_table.append(pd.Series([int(topic_num), round(prop_topic,4), topic_list]), ignore_index=True)\n",
    "\n",
    "            else :\n",
    "                break\n",
    "                \n",
    "    return topic_table"
   ]
  },
  {
   "cell_type": "code",
   "execution_count": 18,
   "id": "657c8192",
   "metadata": {},
   "outputs": [
    {
     "name": "stderr",
     "output_type": "stream",
     "text": [
      "C:\\Users\\PC\\anaconda3\\envs\\yeseul\\lib\\site-packages\\ipykernel\\ipkernel.py:287: DeprecationWarning: `should_run_async` will not call `transform_cell` automatically in the future. Please pass the result to `transformed_cell` argument and any exception that happen during thetransform in `preprocessing_exc_tuple` in IPython 7.17 and above.\n",
      "  and should_run_async(code)\n"
     ]
    },
    {
     "data": {
      "text/html": [
       "<div>\n",
       "<style scoped>\n",
       "    .dataframe tbody tr th:only-of-type {\n",
       "        vertical-align: middle;\n",
       "    }\n",
       "\n",
       "    .dataframe tbody tr th {\n",
       "        vertical-align: top;\n",
       "    }\n",
       "\n",
       "    .dataframe thead th {\n",
       "        text-align: right;\n",
       "    }\n",
       "</style>\n",
       "<table border=\"1\" class=\"dataframe\">\n",
       "  <thead>\n",
       "    <tr style=\"text-align: right;\">\n",
       "      <th></th>\n",
       "      <th>문서 번호</th>\n",
       "      <th>가장 비중이 높은 토픽</th>\n",
       "      <th>가장 높은 토픽의 비중</th>\n",
       "      <th>각 토픽의 비중</th>\n",
       "    </tr>\n",
       "  </thead>\n",
       "  <tbody>\n",
       "    <tr>\n",
       "      <th>0</th>\n",
       "      <td>0</td>\n",
       "      <td>11.0</td>\n",
       "      <td>0.7766</td>\n",
       "      <td>[(3, 0.12791376), (4, 0.052900184), (11, 0.776...</td>\n",
       "    </tr>\n",
       "    <tr>\n",
       "      <th>1</th>\n",
       "      <td>1</td>\n",
       "      <td>11.0</td>\n",
       "      <td>0.6205</td>\n",
       "      <td>[(8, 0.2269899), (9, 0.11467805), (11, 0.62053...</td>\n",
       "    </tr>\n",
       "    <tr>\n",
       "      <th>2</th>\n",
       "      <td>2</td>\n",
       "      <td>11.0</td>\n",
       "      <td>0.6461</td>\n",
       "      <td>[(8, 0.07945902), (10, 0.09321128), (11, 0.646...</td>\n",
       "    </tr>\n",
       "    <tr>\n",
       "      <th>3</th>\n",
       "      <td>3</td>\n",
       "      <td>8.0</td>\n",
       "      <td>0.4046</td>\n",
       "      <td>[(7, 0.030333536), (8, 0.40456775), (11, 0.207...</td>\n",
       "    </tr>\n",
       "    <tr>\n",
       "      <th>4</th>\n",
       "      <td>4</td>\n",
       "      <td>13.0</td>\n",
       "      <td>0.5794</td>\n",
       "      <td>[(5, 0.083447896), (8, 0.312897), (13, 0.57935...</td>\n",
       "    </tr>\n",
       "    <tr>\n",
       "      <th>5</th>\n",
       "      <td>5</td>\n",
       "      <td>11.0</td>\n",
       "      <td>0.5698</td>\n",
       "      <td>[(8, 0.34770256), (11, 0.5697972), (12, 0.0454...</td>\n",
       "    </tr>\n",
       "    <tr>\n",
       "      <th>6</th>\n",
       "      <td>6</td>\n",
       "      <td>4.0</td>\n",
       "      <td>0.7523</td>\n",
       "      <td>[(4, 0.75231475), (7, 0.037793044), (8, 0.1582...</td>\n",
       "    </tr>\n",
       "    <tr>\n",
       "      <th>7</th>\n",
       "      <td>7</td>\n",
       "      <td>8.0</td>\n",
       "      <td>0.4221</td>\n",
       "      <td>[(8, 0.42214468), (10, 0.06345887), (11, 0.367...</td>\n",
       "    </tr>\n",
       "    <tr>\n",
       "      <th>8</th>\n",
       "      <td>8</td>\n",
       "      <td>8.0</td>\n",
       "      <td>0.6438</td>\n",
       "      <td>[(8, 0.6437841), (11, 0.1414929), (17, 0.19441...</td>\n",
       "    </tr>\n",
       "    <tr>\n",
       "      <th>9</th>\n",
       "      <td>9</td>\n",
       "      <td>8.0</td>\n",
       "      <td>0.9133</td>\n",
       "      <td>[(8, 0.9132625), (16, 0.07518383)]</td>\n",
       "    </tr>\n",
       "  </tbody>\n",
       "</table>\n",
       "</div>"
      ],
      "text/plain": [
       "   문서 번호  가장 비중이 높은 토픽  가장 높은 토픽의 비중  \\\n",
       "0      0          11.0        0.7766   \n",
       "1      1          11.0        0.6205   \n",
       "2      2          11.0        0.6461   \n",
       "3      3           8.0        0.4046   \n",
       "4      4          13.0        0.5794   \n",
       "5      5          11.0        0.5698   \n",
       "6      6           4.0        0.7523   \n",
       "7      7           8.0        0.4221   \n",
       "8      8           8.0        0.6438   \n",
       "9      9           8.0        0.9133   \n",
       "\n",
       "                                            각 토픽의 비중  \n",
       "0  [(3, 0.12791376), (4, 0.052900184), (11, 0.776...  \n",
       "1  [(8, 0.2269899), (9, 0.11467805), (11, 0.62053...  \n",
       "2  [(8, 0.07945902), (10, 0.09321128), (11, 0.646...  \n",
       "3  [(7, 0.030333536), (8, 0.40456775), (11, 0.207...  \n",
       "4  [(5, 0.083447896), (8, 0.312897), (13, 0.57935...  \n",
       "5  [(8, 0.34770256), (11, 0.5697972), (12, 0.0454...  \n",
       "6  [(4, 0.75231475), (7, 0.037793044), (8, 0.1582...  \n",
       "7  [(8, 0.42214468), (10, 0.06345887), (11, 0.367...  \n",
       "8  [(8, 0.6437841), (11, 0.1414929), (17, 0.19441...  \n",
       "9                 [(8, 0.9132625), (16, 0.07518383)]  "
      ]
     },
     "execution_count": 18,
     "metadata": {},
     "output_type": "execute_result"
    }
   ],
   "source": [
    "df = make_topictable_per_doc(lda, corpus)\n",
    "df.reset_index(inplace=True)\n",
    "df.columns = ['문서 번호', '가장 비중이 높은 토픽', '가장 높은 토픽의 비중', '각 토픽의 비중']\n",
    "df[:10]"
   ]
  },
  {
   "cell_type": "code",
   "execution_count": null,
   "id": "286a5521",
   "metadata": {},
   "outputs": [],
   "source": []
  },
  {
   "cell_type": "markdown",
   "id": "51b4d529",
   "metadata": {},
   "source": [
    "---\n",
    "# 1대1 문의 데이터에 적용해보기"
   ]
  },
  {
   "cell_type": "code",
   "execution_count": 19,
   "id": "6d64f121",
   "metadata": {},
   "outputs": [
    {
     "name": "stderr",
     "output_type": "stream",
     "text": [
      "C:\\Users\\PC\\anaconda3\\envs\\yeseul\\lib\\site-packages\\ipykernel\\ipkernel.py:287: DeprecationWarning: `should_run_async` will not call `transform_cell` automatically in the future. Please pass the result to `transformed_cell` argument and any exception that happen during thetransform in `preprocessing_exc_tuple` in IPython 7.17 and above.\n",
      "  and should_run_async(code)\n"
     ]
    },
    {
     "data": {
      "text/html": [
       "<div>\n",
       "<style scoped>\n",
       "    .dataframe tbody tr th:only-of-type {\n",
       "        vertical-align: middle;\n",
       "    }\n",
       "\n",
       "    .dataframe tbody tr th {\n",
       "        vertical-align: top;\n",
       "    }\n",
       "\n",
       "    .dataframe thead th {\n",
       "        text-align: right;\n",
       "    }\n",
       "</style>\n",
       "<table border=\"1\" class=\"dataframe\">\n",
       "  <thead>\n",
       "    <tr style=\"text-align: right;\">\n",
       "      <th></th>\n",
       "      <th>auto_no</th>\n",
       "      <th>mem_no</th>\n",
       "      <th>mem_agent</th>\n",
       "      <th>inqry_slct</th>\n",
       "      <th>inqry_media</th>\n",
       "      <th>inqry_conts</th>\n",
       "      <th>atchd_file_nm</th>\n",
       "      <th>mem_hphone</th>\n",
       "      <th>chrgr_name</th>\n",
       "      <th>ans_conts</th>\n",
       "      <th>...</th>\n",
       "      <th>read_yn</th>\n",
       "      <th>etc_yn</th>\n",
       "      <th>ins_date</th>\n",
       "      <th>ans_date</th>\n",
       "      <th>del_date</th>\n",
       "      <th>gthr_yn</th>\n",
       "      <th>gift_item_code</th>\n",
       "      <th>gift_item_cnt</th>\n",
       "      <th>gift_yn</th>\n",
       "      <th>memo_cnt</th>\n",
       "    </tr>\n",
       "  </thead>\n",
       "  <tbody>\n",
       "    <tr>\n",
       "      <th>0</th>\n",
       "      <td>1</td>\n",
       "      <td>7</td>\n",
       "      <td>Mozilla/5.0 (Linux; Android 4.4.2; IM-A910S Bu...</td>\n",
       "      <td>1</td>\n",
       "      <td>s</td>\n",
       "      <td>앙돼요</td>\n",
       "      <td>7_20150722163127.jpg|576|1024</td>\n",
       "      <td></td>\n",
       "      <td>양대기</td>\n",
       "      <td>앙돼면 안하면 됨</td>\n",
       "      <td>...</td>\n",
       "      <td>y</td>\n",
       "      <td>n</td>\n",
       "      <td>2015-07-22 16:31:31</td>\n",
       "      <td>2015-07-22 16:32:55</td>\n",
       "      <td>0000-00-00 00:00:00</td>\n",
       "      <td>n</td>\n",
       "      <td></td>\n",
       "      <td>0</td>\n",
       "      <td>n</td>\n",
       "      <td>0</td>\n",
       "    </tr>\n",
       "    <tr>\n",
       "      <th>1</th>\n",
       "      <td>2</td>\n",
       "      <td>7</td>\n",
       "      <td>Mozilla/5.0 (Linux; Android 4.4.2; IM-A910S Bu...</td>\n",
       "      <td>2</td>\n",
       "      <td>s</td>\n",
       "      <td>앙돼요2</td>\n",
       "      <td></td>\n",
       "      <td></td>\n",
       "      <td>양대기</td>\n",
       "      <td>앙돼요 답변2</td>\n",
       "      <td>...</td>\n",
       "      <td>y</td>\n",
       "      <td>n</td>\n",
       "      <td>2015-07-22 16:36:03</td>\n",
       "      <td>2015-07-22 16:36:19</td>\n",
       "      <td>0000-00-00 00:00:00</td>\n",
       "      <td>n</td>\n",
       "      <td></td>\n",
       "      <td>0</td>\n",
       "      <td>n</td>\n",
       "      <td>0</td>\n",
       "    </tr>\n",
       "    <tr>\n",
       "      <th>2</th>\n",
       "      <td>23</td>\n",
       "      <td>182</td>\n",
       "      <td>Mozilla/5.0 (Linux; Android 5.0.1; SM-N916L Bu...</td>\n",
       "      <td>2</td>\n",
       "      <td>s</td>\n",
       "      <td>메시지함이 갑자기 텅비워 졌네요~~\\n메시지함에 아무것도 나타 나지 않아요~~</td>\n",
       "      <td></td>\n",
       "      <td></td>\n",
       "      <td>이윤경</td>\n",
       "      <td>안녕하세요. [여보야] 관리자입니다. \\r\\n\\r\\n항상 저희 [여보야]를 이용해 ...</td>\n",
       "      <td>...</td>\n",
       "      <td>y</td>\n",
       "      <td>n</td>\n",
       "      <td>2015-08-26 21:21:38</td>\n",
       "      <td>2015-08-27 13:03:55</td>\n",
       "      <td>0000-00-00 00:00:00</td>\n",
       "      <td>n</td>\n",
       "      <td></td>\n",
       "      <td>0</td>\n",
       "      <td>n</td>\n",
       "      <td>0</td>\n",
       "    </tr>\n",
       "  </tbody>\n",
       "</table>\n",
       "<p>3 rows × 21 columns</p>\n",
       "</div>"
      ],
      "text/plain": [
       "   auto_no  mem_no                                          mem_agent  \\\n",
       "0        1       7  Mozilla/5.0 (Linux; Android 4.4.2; IM-A910S Bu...   \n",
       "1        2       7  Mozilla/5.0 (Linux; Android 4.4.2; IM-A910S Bu...   \n",
       "2       23     182  Mozilla/5.0 (Linux; Android 5.0.1; SM-N916L Bu...   \n",
       "\n",
       "   inqry_slct inqry_media                                  inqry_conts  \\\n",
       "0           1           s                                          앙돼요   \n",
       "1           2           s                                         앙돼요2   \n",
       "2           2           s  메시지함이 갑자기 텅비워 졌네요~~\\n메시지함에 아무것도 나타 나지 않아요~~   \n",
       "\n",
       "                   atchd_file_nm mem_hphone chrgr_name  \\\n",
       "0  7_20150722163127.jpg|576|1024                   양대기   \n",
       "1                                                  양대기   \n",
       "2                                                  이윤경   \n",
       "\n",
       "                                           ans_conts  ... read_yn etc_yn  \\\n",
       "0                                         앙돼면 안하면 됨   ...       y      n   \n",
       "1                                            앙돼요 답변2  ...       y      n   \n",
       "2  안녕하세요. [여보야] 관리자입니다. \\r\\n\\r\\n항상 저희 [여보야]를 이용해 ...  ...       y      n   \n",
       "\n",
       "             ins_date             ans_date             del_date gthr_yn  \\\n",
       "0 2015-07-22 16:31:31  2015-07-22 16:32:55  0000-00-00 00:00:00       n   \n",
       "1 2015-07-22 16:36:03  2015-07-22 16:36:19  0000-00-00 00:00:00       n   \n",
       "2 2015-08-26 21:21:38  2015-08-27 13:03:55  0000-00-00 00:00:00       n   \n",
       "\n",
       "  gift_item_code gift_item_cnt  gift_yn memo_cnt  \n",
       "0                            0        n        0  \n",
       "1                            0        n        0  \n",
       "2                            0        n        0  \n",
       "\n",
       "[3 rows x 21 columns]"
      ]
     },
     "execution_count": 19,
     "metadata": {},
     "output_type": "execute_result"
    }
   ],
   "source": [
    "import pymysql\n",
    "import pandas as pd\n",
    "conn = pymysql.connect(\n",
    "                user='my_srv',  # 유저 이름\n",
    "                passwd='wkrldi@duqhdi12',  # 패스워드\n",
    "                host='125.141.223.156',  # 호스트\n",
    "                db='m_yeoboya',  # 데이터베이스\n",
    "                charset='utf8',  # 인코딩\n",
    "                port=13306  # 포트 번호(''없이 사용)\n",
    "            )\n",
    "cursor = conn.cursor(pymysql.cursors.DictCursor)\n",
    "sql = 'SELECT * FROM m_yeoboya_ai_dv.adm_inqry'\n",
    "cursor.execute(sql)\n",
    "result = cursor.fetchall()\n",
    "cursor.close()\n",
    "data = pd.DataFrame(result)\n",
    "data.head(3)"
   ]
  },
  {
   "cell_type": "code",
   "execution_count": 20,
   "id": "17457759",
   "metadata": {},
   "outputs": [
    {
     "name": "stderr",
     "output_type": "stream",
     "text": [
      "C:\\Users\\PC\\anaconda3\\envs\\yeseul\\lib\\site-packages\\ipykernel\\ipkernel.py:287: DeprecationWarning: `should_run_async` will not call `transform_cell` automatically in the future. Please pass the result to `transformed_cell` argument and any exception that happen during thetransform in `preprocessing_exc_tuple` in IPython 7.17 and above.\n",
      "  and should_run_async(code)\n"
     ]
    }
   ],
   "source": [
    "data.drop_duplicates(subset='inqry_conts', inplace=True)\n",
    "data.dropna(subset=['ans_conts'], inplace=True)\n",
    "data = data[data['ans_conts'].str.contains('여보야')]\n",
    "data = data[['ans_conts','inqry_conts']]"
   ]
  },
  {
   "cell_type": "code",
   "execution_count": 21,
   "id": "a4295c2a",
   "metadata": {},
   "outputs": [
    {
     "name": "stderr",
     "output_type": "stream",
     "text": [
      "C:\\Users\\PC\\anaconda3\\envs\\yeseul\\lib\\site-packages\\ipykernel\\ipkernel.py:287: DeprecationWarning: `should_run_async` will not call `transform_cell` automatically in the future. Please pass the result to `transformed_cell` argument and any exception that happen during thetransform in `preprocessing_exc_tuple` in IPython 7.17 and above.\n",
      "  and should_run_async(code)\n"
     ]
    },
    {
     "name": "stdout",
     "output_type": "stream",
     "text": [
      "81647\n"
     ]
    }
   ],
   "source": [
    "import re\n",
    "data['inqry_conts'] =  data['inqry_conts'].apply(lambda x : re.sub('[^ A-Za-z0-9가-힣]', '', x))\n",
    "data['ans_conts'] =  data['ans_conts'].apply(lambda x : re.sub('[^ A-Za-z0-9가-힣]', '', x))\n",
    "data = data[data['inqry_conts']!='']\n",
    "\n",
    "print(len(data))"
   ]
  },
  {
   "cell_type": "code",
   "execution_count": 22,
   "id": "5a8a9d5b",
   "metadata": {},
   "outputs": [
    {
     "name": "stderr",
     "output_type": "stream",
     "text": [
      "C:\\Users\\PC\\anaconda3\\envs\\yeseul\\lib\\site-packages\\ipykernel\\ipkernel.py:287: DeprecationWarning: `should_run_async` will not call `transform_cell` automatically in the future. Please pass the result to `transformed_cell` argument and any exception that happen during thetransform in `preprocessing_exc_tuple` in IPython 7.17 and above.\n",
      "  and should_run_async(code)\n"
     ]
    }
   ],
   "source": [
    "# !pip install pandas==1.2.5\n",
    "# !pip install tqdm==4.62.2"
   ]
  },
  {
   "cell_type": "code",
   "execution_count": 23,
   "id": "50d15442",
   "metadata": {},
   "outputs": [
    {
     "name": "stderr",
     "output_type": "stream",
     "text": [
      "C:\\Users\\PC\\anaconda3\\envs\\yeseul\\lib\\site-packages\\ipykernel\\ipkernel.py:287: DeprecationWarning: `should_run_async` will not call `transform_cell` automatically in the future. Please pass the result to `transformed_cell` argument and any exception that happen during thetransform in `preprocessing_exc_tuple` in IPython 7.17 and above.\n",
      "  and should_run_async(code)\n",
      "100%|██████████| 81647/81647 [00:06<00:00, 11792.79it/s]\n",
      "100%|██████████| 81647/81647 [00:21<00:00, 3752.23it/s]\n"
     ]
    }
   ],
   "source": [
    "# tokenizing\n",
    "from tqdm import tqdm\n",
    "tqdm.pandas()\n",
    "data['inqry_tokens'] = data['inqry_conts'].progress_apply(nltk.word_tokenize)\n",
    "data['ans_tokens'] = data['ans_conts'].progress_apply(nltk.word_tokenize)"
   ]
  },
  {
   "cell_type": "code",
   "execution_count": 24,
   "id": "25c537ae",
   "metadata": {},
   "outputs": [
    {
     "name": "stderr",
     "output_type": "stream",
     "text": [
      "C:\\Users\\PC\\anaconda3\\envs\\yeseul\\lib\\site-packages\\ipykernel\\ipkernel.py:287: DeprecationWarning: `should_run_async` will not call `transform_cell` automatically in the future. Please pass the result to `transformed_cell` argument and any exception that happen during thetransform in `preprocessing_exc_tuple` in IPython 7.17 and above.\n",
      "  and should_run_async(code)\n"
     ]
    }
   ],
   "source": [
    "# 한국어 불용어 사전 정의\n",
    "f = open('./data/한국어불용어100.txt', encoding='utf8') # https://bab2min.tistory.com/544\n",
    "# print(f.readlines())\n",
    "stopwords = f.readlines()\n",
    "f.close()"
   ]
  },
  {
   "cell_type": "code",
   "execution_count": 25,
   "id": "cccb568a",
   "metadata": {},
   "outputs": [
    {
     "name": "stdout",
     "output_type": "stream",
     "text": [
      "144\n"
     ]
    },
    {
     "name": "stderr",
     "output_type": "stream",
     "text": [
      "C:\\Users\\PC\\anaconda3\\envs\\yeseul\\lib\\site-packages\\ipykernel\\ipkernel.py:287: DeprecationWarning: `should_run_async` will not call `transform_cell` automatically in the future. Please pass the result to `transformed_cell` argument and any exception that happen during thetransform in `preprocessing_exc_tuple` in IPython 7.17 and above.\n",
      "  and should_run_async(code)\n"
     ]
    }
   ],
   "source": [
    "import re\n",
    "stopwords = [re.sub('[^ 가-힣]', '', text) for text in stopwords ]\n",
    "temp = ['도', '는', '다', '의', '가', '이', '은', '한', '에', '하', '고', '을', '를', '인', '듯', '과', '와', '네', '들', '듯', '지', '임', '게',\n",
    "            '로', '요','안', '으로', '데', '하는', '하고', '인데', '야', '이고', '에게', '것', '거', '좀', '다', '왜', '더', '여기', '아마', \n",
    "            '합니다', '입니다','습니다', '너무','제가','듯', '전', '안', '때', '가요','이거','이건','무슨','있는데','하는데','는데','해서','라서','해야','너무']\n",
    "for t in temp :\n",
    "    if t not in stopwords :\n",
    "        stopwords.append(t)\n",
    "        \n",
    "print(len(stopwords))"
   ]
  },
  {
   "cell_type": "code",
   "execution_count": 26,
   "id": "fd4c74e9",
   "metadata": {},
   "outputs": [
    {
     "name": "stderr",
     "output_type": "stream",
     "text": [
      "C:\\Users\\PC\\anaconda3\\envs\\yeseul\\lib\\site-packages\\ipykernel\\ipkernel.py:287: DeprecationWarning: `should_run_async` will not call `transform_cell` automatically in the future. Please pass the result to `transformed_cell` argument and any exception that happen during thetransform in `preprocessing_exc_tuple` in IPython 7.17 and above.\n",
      "  and should_run_async(code)\n",
      "100%|██████████| 81647/81647 [00:01<00:00, 61552.91it/s]\n",
      "100%|██████████| 81647/81647 [00:07<00:00, 10421.21it/s]\n"
     ]
    }
   ],
   "source": [
    "# 전처리\n",
    "data['inqry_tokens'] = data['inqry_tokens'].progress_apply(lambda x : [item for item in x if item not in stopwords and len(item) > 1 ])\n",
    "data['ans_tokens'] = data['ans_tokens'].progress_apply(lambda x : [item for item in x if item not in stopwords and len(item) > 1])"
   ]
  },
  {
   "cell_type": "code",
   "execution_count": 28,
   "id": "08821f38",
   "metadata": {},
   "outputs": [
    {
     "name": "stderr",
     "output_type": "stream",
     "text": [
      "C:\\Users\\PC\\anaconda3\\envs\\yeseul\\lib\\site-packages\\ipykernel\\ipkernel.py:287: DeprecationWarning: `should_run_async` will not call `transform_cell` automatically in the future. Please pass the result to `transformed_cell` argument and any exception that happen during thetransform in `preprocessing_exc_tuple` in IPython 7.17 and above.\n",
      "  and should_run_async(code)\n"
     ]
    },
    {
     "data": {
      "text/html": [
       "<div>\n",
       "<style scoped>\n",
       "    .dataframe tbody tr th:only-of-type {\n",
       "        vertical-align: middle;\n",
       "    }\n",
       "\n",
       "    .dataframe tbody tr th {\n",
       "        vertical-align: top;\n",
       "    }\n",
       "\n",
       "    .dataframe thead th {\n",
       "        text-align: right;\n",
       "    }\n",
       "</style>\n",
       "<table border=\"1\" class=\"dataframe\">\n",
       "  <thead>\n",
       "    <tr style=\"text-align: right;\">\n",
       "      <th></th>\n",
       "      <th>ans_conts</th>\n",
       "      <th>inqry_conts</th>\n",
       "      <th>inqry_tokens</th>\n",
       "      <th>ans_tokens</th>\n",
       "    </tr>\n",
       "  </thead>\n",
       "  <tbody>\n",
       "    <tr>\n",
       "      <th>0</th>\n",
       "      <td>안녕하세요 여보야 관리자입니다 항상 저희 여보야를 이용해 주셔서 감사합니다먼저 불편...</td>\n",
       "      <td>메시지함이 갑자기 텅비워 졌네요메시지함에 아무것도 나타 나지 않아요</td>\n",
       "      <td>[메시지함이, 갑자기, 텅비워, 졌네요메시지함에, 아무것도, 나타, 나지, 않아요]</td>\n",
       "      <td>[안녕하세요, 여보야, 관리자입니다, 항상, 저희, 여보야를, 이용해, 주셔서, 감...</td>\n",
       "    </tr>\n",
       "    <tr>\n",
       "      <th>1</th>\n",
       "      <td>안녕하세요 여보야 관리자입니다 항상 저희 여보야를 이용해 주셔서 감사합니다차단회원이...</td>\n",
       "      <td>차단회원</td>\n",
       "      <td>[차단회원]</td>\n",
       "      <td>[안녕하세요, 여보야, 관리자입니다, 항상, 저희, 여보야를, 이용해, 주셔서, 감...</td>\n",
       "    </tr>\n",
       "    <tr>\n",
       "      <th>2</th>\n",
       "      <td>안녕하세요 여보야 관리자입니다 항상 저희 여보야를 이용해 주셔서 감사합니다회원탈퇴를...</td>\n",
       "      <td>탈퇴능 어떻게하나요</td>\n",
       "      <td>[탈퇴능, 어떻게하나요]</td>\n",
       "      <td>[안녕하세요, 여보야, 관리자입니다, 항상, 저희, 여보야를, 이용해, 주셔서, 감...</td>\n",
       "    </tr>\n",
       "  </tbody>\n",
       "</table>\n",
       "</div>"
      ],
      "text/plain": [
       "                                           ans_conts  \\\n",
       "0  안녕하세요 여보야 관리자입니다 항상 저희 여보야를 이용해 주셔서 감사합니다먼저 불편...   \n",
       "1  안녕하세요 여보야 관리자입니다 항상 저희 여보야를 이용해 주셔서 감사합니다차단회원이...   \n",
       "2  안녕하세요 여보야 관리자입니다 항상 저희 여보야를 이용해 주셔서 감사합니다회원탈퇴를...   \n",
       "\n",
       "                             inqry_conts  \\\n",
       "0  메시지함이 갑자기 텅비워 졌네요메시지함에 아무것도 나타 나지 않아요   \n",
       "1                                   차단회원   \n",
       "2                             탈퇴능 어떻게하나요   \n",
       "\n",
       "                                     inqry_tokens  \\\n",
       "0  [메시지함이, 갑자기, 텅비워, 졌네요메시지함에, 아무것도, 나타, 나지, 않아요]   \n",
       "1                                          [차단회원]   \n",
       "2                                   [탈퇴능, 어떻게하나요]   \n",
       "\n",
       "                                          ans_tokens  \n",
       "0  [안녕하세요, 여보야, 관리자입니다, 항상, 저희, 여보야를, 이용해, 주셔서, 감...  \n",
       "1  [안녕하세요, 여보야, 관리자입니다, 항상, 저희, 여보야를, 이용해, 주셔서, 감...  \n",
       "2  [안녕하세요, 여보야, 관리자입니다, 항상, 저희, 여보야를, 이용해, 주셔서, 감...  "
      ]
     },
     "execution_count": 28,
     "metadata": {},
     "output_type": "execute_result"
    }
   ],
   "source": [
    "data.reset_index(drop=True, inplace=True)\n",
    "data.head(3)"
   ]
  },
  {
   "cell_type": "code",
   "execution_count": null,
   "id": "2b29b600",
   "metadata": {},
   "outputs": [],
   "source": [
    "from gensim import corpora\n",
    "inqry_token = data['inqry_tokens']\n",
    "dic = corpora.Dictionary(inqry_token)\n",
    "corpus = [dic.doc2bow(text) for text in inqry_token]\n",
    "print(corpus[1])"
   ]
  },
  {
   "cell_type": "code",
   "execution_count": null,
   "id": "0ae191e6",
   "metadata": {},
   "outputs": [],
   "source": [
    "inqry_token[:5]"
   ]
  },
  {
   "cell_type": "code",
   "execution_count": null,
   "id": "556627ac",
   "metadata": {},
   "outputs": [],
   "source": [
    "import gensim\n",
    "num_topics = 10\n",
    "lda = gensim.models.ldamodel.LdaModel(corpus, num_topics=num_topics, id2word=dic, passes=15)\n",
    "topics = lda.print_topics(num_words=7)\n",
    "for topic in topics :\n",
    "    print(topic)"
   ]
  },
  {
   "cell_type": "code",
   "execution_count": null,
   "id": "33e2ef33",
   "metadata": {},
   "outputs": [],
   "source": [
    "import pyLDAvis.gensim_models\n",
    "pyLDAvis.enable_notebook()\n",
    "vis = pyLDAvis.gensim_models.prepare(lda, corpus, dic)\n",
    "pyLDAvis.display(vis)"
   ]
  },
  {
   "cell_type": "code",
   "execution_count": null,
   "id": "9dd50d19",
   "metadata": {},
   "outputs": [],
   "source": [
    "# 문서별 토픽 분포\n",
    "for i, topic_list in enumerate(lda[corpus]) :\n",
    "    if i == 10 :\n",
    "        break\n",
    "    print(i+1, '번째 문서의 topic 비율 :', topic_list)"
   ]
  },
  {
   "cell_type": "code",
   "execution_count": null,
   "id": "0487f0fb",
   "metadata": {},
   "outputs": [],
   "source": [
    "# dataframe으로 생성\n",
    "def make_topictable_per_doc(lda, corpus) :\n",
    "    topic_table = pd.DataFrame()\n",
    "    \n",
    "    for i, topic_list in enumerate(lda[corpus]) :\n",
    "        doc = topic_list[0] if lda.per_word_topics else topic_list\n",
    "        doc = sorted(doc, key=lambda x : (x[1]), reverse=True) # 비중 높은 순으로 정렬\n",
    "        \n",
    "        for j, (topic_num, prop_topic) in enumerate(doc) :\n",
    "            if j == 0 :\n",
    "                topic_table = topic_table.append(pd.Series([int(topic_num), round(prop_topic,4), topic_list]), ignore_index=True)\n",
    "\n",
    "            else :\n",
    "                break\n",
    "                \n",
    "    return topic_table"
   ]
  },
  {
   "cell_type": "code",
   "execution_count": null,
   "id": "49914360",
   "metadata": {},
   "outputs": [],
   "source": [
    "df = make_topictable_per_doc(lda, corpus)\n",
    "df.reset_index(inplace=True)\n",
    "df.columns = ['문서 번호', '가장 비중이 높은 토픽', '가장 높은 토픽의 비중', '각 토픽의 비중']\n",
    "df[:10]"
   ]
  },
  {
   "cell_type": "markdown",
   "id": "0af4dbcb",
   "metadata": {},
   "source": [
    "### sklearn으로 LDA 구현해보기"
   ]
  },
  {
   "cell_type": "code",
   "execution_count": null,
   "id": "f08733a7",
   "metadata": {},
   "outputs": [],
   "source": [
    "from sklearn.feature_extraction.text import CountVectorizer\n",
    "from sklearn.decomposition import LatentDirichletAllocation\n",
    "\n",
    "count_vector = CountVectorizer(max_df=0.95, max_features=1000,\n",
    "                              min_df=2,\n",
    "                              ngram_range=(1, 2))\n",
    "trans_vector = count_vector.fit_transform(data['inqry_conts'])\n",
    "\n",
    "lda_model = LatentDirichletAllocation(n_components=10, random_state=0)\n",
    "lda_model.fit(trans_vector)\n",
    "\n",
    "print(lda_model.components_.shape)\n",
    "print(lda_model.components_)"
   ]
  },
  {
   "cell_type": "code",
   "execution_count": null,
   "id": "830683ee",
   "metadata": {},
   "outputs": [],
   "source": [
    "def display_topic_words(model, feature_names, num_top_words) :\n",
    "    for topic_idx, topic in enumerate(model.components_) :\n",
    "        print(f'\\n Topic #', topic_idx + 1)\n",
    "        \n",
    "        topic_word_idx = topic.argsort()[::-1]\n",
    "        top_idx = topic_word_idx[:num_top_words]\n",
    "\n",
    "        feature_concat = '+'.join([str(feature_names[i]) +'*'+str(round(topic[i],1)) for i in top_idx])\n",
    "        print(feature_concat)\n",
    "\n",
    "feature_names = count_vector.get_feature_names()\n",
    "display_topic_words(lda_model, feature_names, 15)\n",
    "    "
   ]
  },
  {
   "cell_type": "code",
   "execution_count": null,
   "id": "dae1d803",
   "metadata": {},
   "outputs": [],
   "source": []
  }
 ],
 "metadata": {
  "kernelspec": {
   "display_name": "yeseul",
   "language": "python",
   "name": "yeseul"
  },
  "language_info": {
   "codemirror_mode": {
    "name": "ipython",
    "version": 3
   },
   "file_extension": ".py",
   "mimetype": "text/x-python",
   "name": "python",
   "nbconvert_exporter": "python",
   "pygments_lexer": "ipython3",
   "version": "3.7.10"
  }
 },
 "nbformat": 4,
 "nbformat_minor": 5
}
