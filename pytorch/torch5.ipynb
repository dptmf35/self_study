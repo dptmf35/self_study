{
 "cells": [
  {
   "cell_type": "markdown",
   "id": "c34a3bd7",
   "metadata": {},
   "source": [
    "# Mnist 분류기 구현"
   ]
  },
  {
   "cell_type": "code",
   "execution_count": 3,
   "id": "f3f90f57",
   "metadata": {},
   "outputs": [
    {
     "name": "stdout",
     "output_type": "stream",
     "text": [
      "Collecting torchvision\n",
      "  Downloading torchvision-0.11.2-cp37-cp37m-win_amd64.whl (984 kB)\n",
      "Requirement already satisfied: numpy in c:\\users\\pc\\appdata\\roaming\\python\\python37\\site-packages (from torchvision) (1.19.5)\n",
      "Requirement already satisfied: pillow!=8.3.0,>=5.3.0 in c:\\users\\pc\\anaconda3\\envs\\yeseul\\lib\\site-packages (from torchvision) (8.2.0)\n",
      "Requirement already satisfied: torch==1.10.1 in c:\\users\\pc\\anaconda3\\envs\\yeseul\\lib\\site-packages (from torchvision) (1.10.1)\n",
      "Requirement already satisfied: typing-extensions in c:\\users\\pc\\anaconda3\\envs\\yeseul\\lib\\site-packages (from torch==1.10.1->torchvision) (3.7.4.3)\n",
      "Installing collected packages: torchvision\n",
      "Successfully installed torchvision-0.11.2\n"
     ]
    },
    {
     "name": "stderr",
     "output_type": "stream",
     "text": [
      "WARNING: Ignoring invalid distribution -pype1 (c:\\users\\pc\\anaconda3\\envs\\yeseul\\lib\\site-packages)\n",
      "WARNING: Ignoring invalid distribution -pype1 (c:\\users\\pc\\anaconda3\\envs\\yeseul\\lib\\site-packages)\n",
      "WARNING: Ignoring invalid distribution -pype1 (c:\\users\\pc\\anaconda3\\envs\\yeseul\\lib\\site-packages)\n",
      "WARNING: Ignoring invalid distribution -pype1 (c:\\users\\pc\\anaconda3\\envs\\yeseul\\lib\\site-packages)\n",
      "WARNING: Ignoring invalid distribution -pype1 (c:\\users\\pc\\anaconda3\\envs\\yeseul\\lib\\site-packages)\n",
      "WARNING: Ignoring invalid distribution -pype1 (c:\\users\\pc\\anaconda3\\envs\\yeseul\\lib\\site-packages)\n",
      "WARNING: Ignoring invalid distribution -pype1 (c:\\users\\pc\\anaconda3\\envs\\yeseul\\lib\\site-packages)\n"
     ]
    }
   ],
   "source": [
    "# !pip install torchvision"
   ]
  },
  {
   "cell_type": "code",
   "execution_count": 4,
   "id": "12b56449",
   "metadata": {},
   "outputs": [],
   "source": [
    "import torch\n",
    "import torchvision.datasets as dsets\n",
    "import torchvision.transforms as transforms\n",
    "from torch.utils.data import DataLoader\n",
    "import torch.nn as nn\n",
    "import matplotlib.pyplot as plt\n",
    "import random"
   ]
  },
  {
   "cell_type": "code",
   "execution_count": 7,
   "id": "3e8a8c68",
   "metadata": {},
   "outputs": [
    {
     "name": "stdout",
     "output_type": "stream",
     "text": [
      "learn with cpu\n"
     ]
    }
   ],
   "source": [
    "use_cuda = torch.cuda.is_available()\n",
    "# use_cuda\n",
    "device = torch.device('cuda' if use_cuda else 'cpu')\n",
    "print(f'learn with {device}')"
   ]
  },
  {
   "cell_type": "code",
   "execution_count": 8,
   "id": "e12690e2",
   "metadata": {},
   "outputs": [],
   "source": [
    "random.seed(0)\n",
    "torch.manual_seed(0)\n",
    "if device == 'cuda' :\n",
    "    torch.cuda.manual_seed_all(0)"
   ]
  },
  {
   "cell_type": "code",
   "execution_count": 9,
   "id": "01703e92",
   "metadata": {},
   "outputs": [],
   "source": [
    "epochs = 15\n",
    "batch_size = 100"
   ]
  },
  {
   "cell_type": "code",
   "execution_count": 14,
   "id": "cebcf3fe",
   "metadata": {},
   "outputs": [],
   "source": [
    "mnist_train = dsets.MNIST(root='MNIST_data/',\n",
    "                         train=True,\n",
    "                         transform=transforms.ToTensor(),\n",
    "                         download=True)\n",
    "\n",
    "mnist_test = dsets.MNIST(root='MNIST_data/',\n",
    "                         train=False, # test dataset\n",
    "                         transform=transforms.ToTensor(), # pytorch tensor로 변환\n",
    "                         download=True)"
   ]
  },
  {
   "cell_type": "code",
   "execution_count": 11,
   "id": "6cd635cd",
   "metadata": {},
   "outputs": [],
   "source": [
    "data_loader = DataLoader(dataset=mnist_train,\n",
    "                        batch_size= batch_size,\n",
    "                        shuffle=True,\n",
    "                        drop_last=True)\n",
    "\n",
    "linear = nn.Linear(784, 10, bias = True).to(device) # 28 * 28 pixel"
   ]
  },
  {
   "cell_type": "code",
   "execution_count": 12,
   "id": "760e1764",
   "metadata": {},
   "outputs": [],
   "source": [
    "# 비용함수, 옵티마이저 정의\n",
    "criterion = nn.CrossEntropyLoss().to(device)\n",
    "optimizer = torch.optim.SGD(linear.parameters(), lr = 0.1)"
   ]
  },
  {
   "cell_type": "code",
   "execution_count": 13,
   "id": "607f5e9a",
   "metadata": {},
   "outputs": [
    {
     "name": "stdout",
     "output_type": "stream",
     "text": [
      "Epoch: 0001 cost = 0.939314187\n",
      "Epoch: 0002 cost = 0.506753147\n",
      "Epoch: 0003 cost = 0.429474860\n",
      "Epoch: 0004 cost = 0.390125722\n",
      "Epoch: 0005 cost = 0.365837693\n",
      "Epoch: 0006 cost = 0.347538322\n",
      "Epoch: 0007 cost = 0.334286153\n",
      "Epoch: 0008 cost = 0.323861003\n",
      "Epoch: 0009 cost = 0.314717114\n",
      "Epoch: 0010 cost = 0.307282984\n",
      "Epoch: 0011 cost = 0.300728649\n",
      "Epoch: 0012 cost = 0.295169324\n",
      "Epoch: 0013 cost = 0.289617449\n",
      "Epoch: 0014 cost = 0.284914643\n",
      "Epoch: 0015 cost = 0.281037569\n",
      "Learning Finished !\n"
     ]
    }
   ],
   "source": [
    "for epoch in range(epochs) :\n",
    "    avg_cost = 0\n",
    "    total_batch = len(data_loader)\n",
    "    \n",
    "    for x, y in data_loader :\n",
    "        x = x.view(-1, 28*28).to(device) # x : Tensor(100, 784)\n",
    "        y = y.to(device)\n",
    "        \n",
    "        optimizer.zero_grad()\n",
    "        h = linear(x)\n",
    "        cost = criterion(h, y)\n",
    "        cost.backward()\n",
    "        optimizer.step()\n",
    "        \n",
    "        avg_cost += cost / total_batch\n",
    "\n",
    "        \n",
    "    print('Epoch:', '%04d' % (epoch + 1), 'cost:', '{:.9f}'.format(avg_cost))\n",
    "        \n",
    "        \n",
    "print('Learning Finished !')\n",
    "        "
   ]
  },
  {
   "cell_type": "code",
   "execution_count": 20,
   "id": "a30d633c",
   "metadata": {},
   "outputs": [
    {
     "name": "stdout",
     "output_type": "stream",
     "text": [
      "Accuracy : 0.9190999865531921\n",
      "label : 1\n",
      "Pred : 1\n"
     ]
    },
    {
     "data": {
      "image/png": "[encoded data removed]",
      "text/plain": [
       "<Figure size 432x288 with 1 Axes>"
      ]
     },
     "metadata": {
      "needs_background": "light"
     },
     "output_type": "display_data"
    }
   ],
   "source": [
    "with torch.no_grad() : # no_grad() : gradient 계산 수행 X\n",
    "    X_test = mnist_test.test_data.view(-1, 28*28).float().to(device)\n",
    "    y_test = mnist_test.test_labels.to(device)\n",
    "    \n",
    "    pred = linear(X_test)\n",
    "    corr_pred = torch.argmax(pred, 1) == y_test\n",
    "    acc = corr_pred.float().mean()\n",
    "    print(f'Accuracy : {acc.item()}')\n",
    "    \n",
    "    # testset 무작위 예측\n",
    "    r = random.randint(0, len(mnist_test) - 1)\n",
    "    X_single_data = mnist_test.test_data[r:r+1].view(-1, 28*28).float().to(device)\n",
    "    y_single_data = mnist_test.test_labels[r:r+1].to(device)\n",
    "    \n",
    "    print('label :', y_single_data.item())\n",
    "    single_pred = linear(X_single_data)\n",
    "    print('Pred :', torch.argmax(single_pred, 1).item())\n",
    "    \n",
    "    plt.imshow(mnist_test.test_data[r:r+1].view(28, 28), cmap='Greys', interpolation='nearest')\n",
    "    plt.show()\n",
    "    \n",
    "    "
   ]
  },
  {
   "cell_type": "code",
   "execution_count": null,
   "id": "cb96306b",
   "metadata": {},
   "outputs": [],
   "source": []
  },
  {
   "cell_type": "code",
   "execution_count": null,
   "id": "9e4caf03",
   "metadata": {},
   "outputs": [],
   "source": []
  },
  {
   "cell_type": "code",
   "execution_count": null,
   "id": "0c3afef0",
   "metadata": {},
   "outputs": [],
   "source": []
  }
 ],
 "metadata": {
  "kernelspec": {
   "display_name": "yeseul",
   "language": "python",
   "name": "yeseul"
  },
  "language_info": {
   "codemirror_mode": {
    "name": "ipython",
    "version": 3
   },
   "file_extension": ".py",
   "mimetype": "text/x-python",
   "name": "python",
   "nbconvert_exporter": "python",
   "pygments_lexer": "ipython3",
   "version": "3.7.10"
  }
 },
 "nbformat": 4,
 "nbformat_minor": 5
}
