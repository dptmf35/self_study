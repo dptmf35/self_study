{
 "cells": [
  {
   "cell_type": "markdown",
   "id": "c617855d",
   "metadata": {},
   "source": [
    "# 선형회귀 구현\n",
    "---"
   ]
  },
  {
   "cell_type": "code",
   "execution_count": 1,
   "id": "9b0a70da",
   "metadata": {},
   "outputs": [],
   "source": [
    "# !pip install torch\n",
    "import torch\n",
    "import torch.nn as nn\n",
    "import torch.nn.functional as F\n",
    "import torch.optim as opt"
   ]
  },
  {
   "cell_type": "code",
   "execution_count": 2,
   "id": "9d100d27",
   "metadata": {},
   "outputs": [
    {
     "data": {
      "text/plain": [
       "<torch._C.Generator at 0x183a7008210>"
      ]
     },
     "execution_count": 2,
     "metadata": {},
     "output_type": "execute_result"
    }
   ],
   "source": [
    "# torch random seed\n",
    "torch.manual_seed(0)"
   ]
  },
  {
   "cell_type": "code",
   "execution_count": 3,
   "id": "dc040459",
   "metadata": {},
   "outputs": [],
   "source": [
    "X_train = torch.FloatTensor([[1],[2],[3]])\n",
    "y_train = torch.FloatTensor([[2],[4],[6]])"
   ]
  },
  {
   "cell_type": "code",
   "execution_count": 4,
   "id": "47829f6f",
   "metadata": {},
   "outputs": [
    {
     "name": "stdout",
     "output_type": "stream",
     "text": [
      "tensor([[1.],\n",
      "        [2.],\n",
      "        [3.]])\n",
      "torch.Size([3, 1])\n"
     ]
    }
   ],
   "source": [
    "print(X_train)\n",
    "print(X_train.shape)"
   ]
  },
  {
   "cell_type": "code",
   "execution_count": 5,
   "id": "508922c2",
   "metadata": {},
   "outputs": [
    {
     "name": "stdout",
     "output_type": "stream",
     "text": [
      "tensor([[2.],\n",
      "        [4.],\n",
      "        [6.]])\n",
      "torch.Size([3, 1])\n"
     ]
    }
   ],
   "source": [
    "print(y_train)\n",
    "print(y_train.shape)"
   ]
  },
  {
   "cell_type": "code",
   "execution_count": 6,
   "id": "32ef1b08",
   "metadata": {},
   "outputs": [
    {
     "name": "stdout",
     "output_type": "stream",
     "text": [
      "tensor([0.], requires_grad=True)\n"
     ]
    }
   ],
   "source": [
    "w = torch.zeros(1, requires_grad=True) # 가중치 초기화\n",
    "print(w)"
   ]
  },
  {
   "cell_type": "code",
   "execution_count": 7,
   "id": "0b26a357",
   "metadata": {},
   "outputs": [
    {
     "name": "stdout",
     "output_type": "stream",
     "text": [
      "tensor([0.], requires_grad=True)\n"
     ]
    }
   ],
   "source": [
    "b = torch.zeros(1, requires_grad=True) # 편향 초기화\n",
    "print(b)"
   ]
  },
  {
   "cell_type": "code",
   "execution_count": 8,
   "id": "4f450958",
   "metadata": {},
   "outputs": [
    {
     "name": "stdout",
     "output_type": "stream",
     "text": [
      "tensor([[0.],\n",
      "        [0.],\n",
      "        [0.]], grad_fn=<AddBackward0>)\n"
     ]
    }
   ],
   "source": [
    "# H(x) = wx + b\n",
    "h = X_train * w + b\n",
    "print(h)"
   ]
  },
  {
   "cell_type": "code",
   "execution_count": 9,
   "id": "66b86703",
   "metadata": {},
   "outputs": [
    {
     "name": "stdout",
     "output_type": "stream",
     "text": [
      "tensor(18.6667, grad_fn=<MeanBackward0>)\n"
     ]
    }
   ],
   "source": [
    "# cost function\n",
    "cost = torch.mean((h - y_train) ** 2)\n",
    "print(cost)"
   ]
  },
  {
   "cell_type": "code",
   "execution_count": 10,
   "id": "dfafd935",
   "metadata": {},
   "outputs": [],
   "source": [
    "# SGD\n",
    "optimizer = opt.SGD([w,b], lr=0.01)"
   ]
  },
  {
   "cell_type": "code",
   "execution_count": 11,
   "id": "a2caf84d",
   "metadata": {},
   "outputs": [],
   "source": [
    "# 기울기 0 초기화\n",
    "optimizer.zero_grad()\n",
    "# 비용함수 미분하여 gradient 계산 (.backward : w, b의 기울기 계산)\n",
    "cost.backward()\n",
    "# w, b 업데이트 (.step : 경사하강법 최적화)\n",
    "optimizer.step()"
   ]
  },
  {
   "cell_type": "code",
   "execution_count": 12,
   "id": "75d6b1fc",
   "metadata": {},
   "outputs": [
    {
     "name": "stdout",
     "output_type": "stream",
     "text": [
      "Epoch    0/1000 W: 0.187, b: 0.080 Cost: 18.666666\n",
      "Epoch  100/1000 W: 1.746, b: 0.578 Cost: 0.048171\n",
      "Epoch  200/1000 W: 1.800, b: 0.454 Cost: 0.029767\n",
      "Epoch  300/1000 W: 1.843, b: 0.357 Cost: 0.018394\n",
      "Epoch  400/1000 W: 1.876, b: 0.281 Cost: 0.011366\n",
      "Epoch  500/1000 W: 1.903, b: 0.221 Cost: 0.007024\n",
      "Epoch  600/1000 W: 1.924, b: 0.174 Cost: 0.004340\n",
      "Epoch  700/1000 W: 1.940, b: 0.136 Cost: 0.002682\n",
      "Epoch  800/1000 W: 1.953, b: 0.107 Cost: 0.001657\n",
      "Epoch  900/1000 W: 1.963, b: 0.084 Cost: 0.001024\n",
      "Epoch 1000/1000 W: 1.971, b: 0.066 Cost: 0.000633\n"
     ]
    }
   ],
   "source": [
    "X_train = torch.FloatTensor([[1],[2],[3]])\n",
    "y_train = torch.FloatTensor([[2],[4],[6]])\n",
    "\n",
    "w = torch.zeros(1, requires_grad=True) # 가중치 초기화\n",
    "b = torch.zeros(1, requires_grad=True) # 편향 초기화\n",
    "\n",
    "optimizer = opt.SGD([w,b], lr=0.01)\n",
    "num_epochs = 1000\n",
    "\n",
    "for epoch in range(num_epochs + 1) :\n",
    "    h = X_train * w + b\n",
    "    cost = torch.mean((h - y_train) ** 2)\n",
    "    optimizer.zero_grad()\n",
    "    cost.backward()\n",
    "    optimizer.step()\n",
    "    \n",
    "    if epoch % 100 == 0 :\n",
    "        print('Epoch {:4d}/{} W: {:.3f}, b: {:.3f} Cost: {:.6f}'.format(\n",
    "            epoch, num_epochs, w.item(), b.item(), cost.item()))"
   ]
  },
  {
   "cell_type": "markdown",
   "id": "3680a2ac",
   "metadata": {},
   "source": [
    "## nn.Module로 구현"
   ]
  },
  {
   "cell_type": "code",
   "execution_count": 13,
   "id": "b72ec1f5",
   "metadata": {},
   "outputs": [
    {
     "data": {
      "text/plain": [
       "<torch._C.Generator at 0x183a7008210>"
      ]
     },
     "execution_count": 13,
     "metadata": {},
     "output_type": "execute_result"
    }
   ],
   "source": [
    "import torch\n",
    "import torch.nn as nn\n",
    "import torch.nn.functional as F\n",
    "import torch.optim as opt\n",
    "torch.manual_seed(0)"
   ]
  },
  {
   "cell_type": "code",
   "execution_count": 14,
   "id": "eaafcbab",
   "metadata": {},
   "outputs": [],
   "source": [
    "X_train = torch.FloatTensor([[1],[2],[3]])\n",
    "y_train = torch.FloatTensor([[2],[4],[6]])"
   ]
  },
  {
   "cell_type": "code",
   "execution_count": 15,
   "id": "9e76a178",
   "metadata": {},
   "outputs": [],
   "source": [
    "model = nn.Linear(1, 1)"
   ]
  },
  {
   "cell_type": "code",
   "execution_count": 16,
   "id": "6727bf0a",
   "metadata": {},
   "outputs": [
    {
     "name": "stdout",
     "output_type": "stream",
     "text": [
      "[Parameter containing:\n",
      "tensor([[-0.0075]], requires_grad=True), Parameter containing:\n",
      "tensor([0.5364], requires_grad=True)]\n"
     ]
    }
   ],
   "source": [
    "print(list(model.parameters())) # w와 b 저장"
   ]
  },
  {
   "cell_type": "code",
   "execution_count": 17,
   "id": "d5a60b6f",
   "metadata": {},
   "outputs": [
    {
     "name": "stdout",
     "output_type": "stream",
     "text": [
      "Epoch    0/1000 Cost: 14.786839\n",
      "Epoch  100/1000 Cost: 0.125403\n",
      "Epoch  200/1000 Cost: 0.077491\n",
      "Epoch  300/1000 Cost: 0.047885\n",
      "Epoch  400/1000 Cost: 0.029590\n",
      "Epoch  500/1000 Cost: 0.018285\n",
      "Epoch  600/1000 Cost: 0.011299\n",
      "Epoch  700/1000 Cost: 0.006982\n",
      "Epoch  800/1000 Cost: 0.004314\n",
      "Epoch  900/1000 Cost: 0.002666\n",
      "Epoch 1000/1000 Cost: 0.001647\n"
     ]
    }
   ],
   "source": [
    "optimizer = opt.SGD(model.parameters(), lr=0.01)\n",
    "num_epochs = 1000\n",
    "\n",
    "for epoch in range(num_epochs + 1) :\n",
    "    pred = model(X_train)\n",
    "    cost = F.mse_loss(pred, y_train) # 평균제곱오차\n",
    "    optimizer.zero_grad()\n",
    "    cost.backward()\n",
    "    optimizer.step()\n",
    "    \n",
    "    if epoch % 100 == 0 :\n",
    "        print('Epoch {:4d}/{} Cost: {:.6f}'.format(\n",
    "            epoch, num_epochs, cost.item()))"
   ]
  },
  {
   "cell_type": "code",
   "execution_count": 18,
   "id": "6a5df544",
   "metadata": {},
   "outputs": [
    {
     "name": "stdout",
     "output_type": "stream",
     "text": [
      "new_val <<tensor([[4.]])>> 에 대한 예측값 : <<tensor([[7.9188]], grad_fn=<AddmmBackward0>)>>\n",
      "[Parameter containing:\n",
      "tensor([[1.9530]], requires_grad=True), Parameter containing:\n",
      "tensor([0.1069], requires_grad=True)]\n"
     ]
    }
   ],
   "source": [
    "new_val = torch.FloatTensor([[4.0]])\n",
    "\n",
    "new_pred = model(new_val)\n",
    "\n",
    "print(f'new_val <<{new_val}>> 에 대한 예측값 : <<{new_pred}>>')\n",
    "print(list(model.parameters()))"
   ]
  },
  {
   "cell_type": "code",
   "execution_count": null,
   "id": "7b07f456",
   "metadata": {},
   "outputs": [],
   "source": []
  },
  {
   "cell_type": "markdown",
   "id": "ceb4bce9",
   "metadata": {},
   "source": [
    "# 다중선형회귀 구현\n",
    "---"
   ]
  },
  {
   "cell_type": "code",
   "execution_count": 19,
   "id": "986ef7f3",
   "metadata": {},
   "outputs": [
    {
     "data": {
      "text/plain": [
       "<torch._C.Generator at 0x183a7008210>"
      ]
     },
     "execution_count": 19,
     "metadata": {},
     "output_type": "execute_result"
    }
   ],
   "source": [
    "import torch\n",
    "import torch.nn as nn\n",
    "import torch.nn.functional as F\n",
    "import torch.optim as opt\n",
    "torch.manual_seed(0)"
   ]
  },
  {
   "cell_type": "code",
   "execution_count": 20,
   "id": "d0e38b84",
   "metadata": {},
   "outputs": [],
   "source": [
    "X1_train = torch.FloatTensor([[73],[93],[89],[96],[73]])\n",
    "X2_train = torch.FloatTensor([[80],[88],[91],[98],[66]])\n",
    "X3_train = torch.FloatTensor([[75],[93],[90],[100],[70]])\n",
    "y_train = torch.FloatTensor([[152], [185], [180], [196], [142]])\n",
    "\n",
    "# w, b 초기화\n",
    "w1 = torch.zeros(1, requires_grad=True)\n",
    "w2 = torch.zeros(1, requires_grad=True)\n",
    "w3 = torch.zeros(1, requires_grad=True)\n",
    "b = torch.zeros(1, requires_grad=True)"
   ]
  },
  {
   "cell_type": "code",
   "execution_count": 21,
   "id": "c4b5af72",
   "metadata": {},
   "outputs": [
    {
     "name": "stdout",
     "output_type": "stream",
     "text": [
      "Epoch    0/1000 w1: 0.294 w2: 0.294 w3: 0.297 b: 0.003 Cost: 29661.800781\n",
      "Epoch  100/1000 w1: 0.674 w2: 0.661 w3: 0.676 b: 0.008 Cost: 1.563634\n",
      "Epoch  200/1000 w1: 0.679 w2: 0.655 w3: 0.677 b: 0.008 Cost: 1.497607\n",
      "Epoch  300/1000 w1: 0.684 w2: 0.649 w3: 0.677 b: 0.008 Cost: 1.435026\n",
      "Epoch  400/1000 w1: 0.689 w2: 0.643 w3: 0.678 b: 0.008 Cost: 1.375730\n",
      "Epoch  500/1000 w1: 0.694 w2: 0.638 w3: 0.678 b: 0.009 Cost: 1.319511\n",
      "Epoch  600/1000 w1: 0.699 w2: 0.633 w3: 0.679 b: 0.009 Cost: 1.266222\n",
      "Epoch  700/1000 w1: 0.704 w2: 0.627 w3: 0.679 b: 0.009 Cost: 1.215696\n",
      "Epoch  800/1000 w1: 0.709 w2: 0.622 w3: 0.679 b: 0.009 Cost: 1.167818\n",
      "Epoch  900/1000 w1: 0.713 w2: 0.617 w3: 0.680 b: 0.009 Cost: 1.122429\n",
      "Epoch 1000/1000 w1: 0.718 w2: 0.613 w3: 0.680 b: 0.009 Cost: 1.079378\n"
     ]
    }
   ],
   "source": [
    "optimizer = opt.SGD([w1, w2, w3, b], lr=1e-5)\n",
    "num_epochs = 1000\n",
    "for epoch in range(num_epochs + 1) :\n",
    "    h = X1_train * w1 + X2_train * w2 + X3_train * w3 + b\n",
    "    cost = torch.mean((h-y_train)**2)\n",
    "    # update\n",
    "    optimizer.zero_grad()\n",
    "    cost.backward()\n",
    "    optimizer.step()\n",
    "    \n",
    "    # 100\n",
    "    if epoch%100 == 0 :\n",
    "        print('Epoch {:4d}/{} w1: {:.3f} w2: {:.3f} w3: {:.3f} b: {:.3f} Cost: {:.6f}'.format(\n",
    "            epoch, num_epochs, w1.item(), w2.item(), w3.item(), b.item(), cost.item()))\n",
    "    "
   ]
  },
  {
   "cell_type": "code",
   "execution_count": 22,
   "id": "dbdaf1e6",
   "metadata": {},
   "outputs": [],
   "source": [
    "X_train = torch.FloatTensor([\n",
    "    [73, 80, 75],\n",
    "    [93, 88, 93],\n",
    "    [89, 91, 80],\n",
    "    [96, 98, 100],\n",
    "    [73, 66, 70]\n",
    "])\n",
    "\n",
    "y_train = torch.FloatTensor([[152], [185], [180], [196], [142]])"
   ]
  },
  {
   "cell_type": "code",
   "execution_count": 23,
   "id": "786c9fd6",
   "metadata": {},
   "outputs": [
    {
     "name": "stdout",
     "output_type": "stream",
     "text": [
      "torch.Size([5, 3]) torch.Size([5, 1])\n"
     ]
    }
   ],
   "source": [
    "print(X_train.shape, y_train.shape)"
   ]
  },
  {
   "cell_type": "code",
   "execution_count": 24,
   "id": "b3792de3",
   "metadata": {},
   "outputs": [],
   "source": [
    "# w, b, h\n",
    "w = torch.zeros((3, 1), requires_grad=True)\n",
    "b = torch.zeros(1, requires_grad=True)\n",
    "h = X_train.matmul(w) + b"
   ]
  },
  {
   "cell_type": "code",
   "execution_count": 25,
   "id": "e130154a",
   "metadata": {},
   "outputs": [
    {
     "name": "stdout",
     "output_type": "stream",
     "text": [
      "Epoch    0/1000 hypothesis :tensor([0., 0., 0., 0., 0.]) Cost: 29661.800781\n",
      "Epoch  100/1000 hypothesis :tensor([154.0433, 185.0925, 175.8312, 198.5701, 141.2221]) Cost: 5.754573\n",
      "Epoch  200/1000 hypothesis :tensor([154.0278, 185.0649, 175.9335, 198.5128, 141.2284]) Cost: 5.512386\n",
      "Epoch  300/1000 hypothesis :tensor([154.0120, 185.0385, 176.0329, 198.4569, 141.2353]) Cost: 5.281667\n",
      "Epoch  400/1000 hypothesis :tensor([153.9960, 185.0133, 176.1295, 198.4022, 141.2426]) Cost: 5.061907\n",
      "Epoch  500/1000 hypothesis :tensor([153.9797, 184.9892, 176.2233, 198.3488, 141.2504]) Cost: 4.852424\n",
      "Epoch  600/1000 hypothesis :tensor([153.9632, 184.9662, 176.3143, 198.2966, 141.2586]) Cost: 4.652731\n",
      "Epoch  700/1000 hypothesis :tensor([153.9465, 184.9442, 176.4029, 198.2456, 141.2672]) Cost: 4.462265\n",
      "Epoch  800/1000 hypothesis :tensor([153.9296, 184.9232, 176.4888, 198.1958, 141.2762]) Cost: 4.280604\n",
      "Epoch  900/1000 hypothesis :tensor([153.9126, 184.9032, 176.5724, 198.1471, 141.2855]) Cost: 4.107261\n",
      "Epoch 1000/1000 hypothesis :tensor([153.8955, 184.8841, 176.6536, 198.0995, 141.2951]) Cost: 3.941853\n"
     ]
    }
   ],
   "source": [
    "optimizer = opt.SGD([w,b], lr=1e-5)\n",
    "num_epochs = 1000\n",
    "\n",
    "for epoch in range(num_epochs + 1) :\n",
    "    h = X_train.matmul(w) + b\n",
    "    cost = torch.mean((h - y_train) ** 2)\n",
    "    optimizer.zero_grad()\n",
    "    cost.backward()\n",
    "    optimizer.step()\n",
    "    \n",
    "    if epoch % 100 == 0 :\n",
    "        print('Epoch {:4d}/{} hypothesis :{} Cost: {:.6f}'.format(\n",
    "            epoch, num_epochs, h.squeeze().detach(), cost.item()))"
   ]
  },
  {
   "cell_type": "markdown",
   "id": "dc5b25df",
   "metadata": {},
   "source": [
    "## nn.Module로 구현"
   ]
  },
  {
   "cell_type": "code",
   "execution_count": 26,
   "id": "1b79aea4",
   "metadata": {},
   "outputs": [
    {
     "data": {
      "text/plain": [
       "<torch._C.Generator at 0x183a7008210>"
      ]
     },
     "execution_count": 26,
     "metadata": {},
     "output_type": "execute_result"
    }
   ],
   "source": [
    "import torch\n",
    "import torch.nn as nn\n",
    "import torch.nn.functional as F\n",
    "import torch.optim as opt\n",
    "torch.manual_seed(0)"
   ]
  },
  {
   "cell_type": "code",
   "execution_count": 27,
   "id": "e4baa99e",
   "metadata": {},
   "outputs": [],
   "source": [
    "X_train = torch.FloatTensor([[73, 80, 75],\n",
    "                             [93, 88, 93],\n",
    "                             [89, 91, 90],\n",
    "                             [96, 98, 100],\n",
    "                             [73, 66, 70]])\n",
    "y_train = torch.FloatTensor([[152], [185], [180], [196], [142]])"
   ]
  },
  {
   "cell_type": "code",
   "execution_count": 28,
   "id": "d250f589",
   "metadata": {},
   "outputs": [],
   "source": [
    "model = nn.Linear(3,1)"
   ]
  },
  {
   "cell_type": "code",
   "execution_count": 29,
   "id": "7d6ef450",
   "metadata": {},
   "outputs": [
    {
     "name": "stdout",
     "output_type": "stream",
     "text": [
      "[Parameter containing:\n",
      "tensor([[-0.0043,  0.3097, -0.4752]], requires_grad=True), Parameter containing:\n",
      "tensor([-0.4249], requires_grad=True)]\n"
     ]
    }
   ],
   "source": [
    "print(list(model.parameters())) # 3개의 w와 b"
   ]
  },
  {
   "cell_type": "code",
   "execution_count": 30,
   "id": "22507f86",
   "metadata": {},
   "outputs": [],
   "source": [
    "optimizer = opt.SGD(model.parameters(), lr=1e-5)"
   ]
  },
  {
   "cell_type": "code",
   "execution_count": 31,
   "id": "ca452c54",
   "metadata": {},
   "outputs": [
    {
     "name": "stdout",
     "output_type": "stream",
     "text": [
      "Epoch    0/2000 Cost: 35211.054688\n",
      "Epoch  100/2000 Cost: 5.245598\n",
      "Epoch  200/2000 Cost: 4.978477\n",
      "Epoch  300/2000 Cost: 4.725472\n",
      "Epoch  400/2000 Cost: 4.485765\n",
      "Epoch  500/2000 Cost: 4.258754\n",
      "Epoch  600/2000 Cost: 4.043709\n",
      "Epoch  700/2000 Cost: 3.839999\n",
      "Epoch  800/2000 Cost: 3.647048\n",
      "Epoch  900/2000 Cost: 3.464262\n",
      "Epoch 1000/2000 Cost: 3.291126\n",
      "Epoch 1100/2000 Cost: 3.127121\n",
      "Epoch 1200/2000 Cost: 2.971779\n",
      "Epoch 1300/2000 Cost: 2.824605\n",
      "Epoch 1400/2000 Cost: 2.685211\n",
      "Epoch 1500/2000 Cost: 2.553164\n",
      "Epoch 1600/2000 Cost: 2.428088\n",
      "Epoch 1700/2000 Cost: 2.309596\n",
      "Epoch 1800/2000 Cost: 2.197381\n",
      "Epoch 1900/2000 Cost: 2.091092\n",
      "Epoch 2000/2000 Cost: 1.990380\n"
     ]
    }
   ],
   "source": [
    "num_epochs = 2000\n",
    "for epoch in range(num_epochs + 1) :\n",
    "    pred = model(X_train)\n",
    "    cost = F.mse_loss(pred, y_train)\n",
    "    optimizer.zero_grad()\n",
    "    cost.backward()\n",
    "    optimizer.step()\n",
    "    \n",
    "    if epoch%100 == 0 :\n",
    "        print('Epoch {:4d}/{} Cost: {:.6f}'.format(\n",
    "            epoch, num_epochs, cost.item()))"
   ]
  },
  {
   "cell_type": "code",
   "execution_count": 32,
   "id": "5621f0cd",
   "metadata": {},
   "outputs": [
    {
     "name": "stdout",
     "output_type": "stream",
     "text": [
      "tensor([[153.4909]], grad_fn=<AddmmBackward0>)\n",
      "[Parameter containing:\n",
      "tensor([[0.8837, 0.8327, 0.3037]], requires_grad=True), Parameter containing:\n",
      "tensor([-0.4149], requires_grad=True)]\n"
     ]
    }
   ],
   "source": [
    "new_var = torch.FloatTensor([[73, 80, 75]])\n",
    "new_pred = model(new_var)\n",
    "print(new_pred)\n",
    "print(list(model.parameters()))"
   ]
  },
  {
   "cell_type": "markdown",
   "id": "4936e167",
   "metadata": {},
   "source": [
    "# 클래스로 구현 \n",
    "---"
   ]
  },
  {
   "cell_type": "markdown",
   "id": "2966fb1f",
   "metadata": {},
   "source": [
    "## 단순선형회귀"
   ]
  },
  {
   "cell_type": "code",
   "execution_count": 33,
   "id": "bc233c2e",
   "metadata": {},
   "outputs": [],
   "source": [
    "model = nn.Linear(1,1)\n",
    "class LinearRegressionModel(nn.Module) :\n",
    "    def __init__(self) :\n",
    "        super().__init__()\n",
    "        self.linear = nn.Linear(1, 1)\n",
    "        \n",
    "    def forward(self, x) :\n",
    "        return self.linear(x)\n",
    "    \n",
    "model=  LinearRegressionModel()"
   ]
  },
  {
   "cell_type": "code",
   "execution_count": 34,
   "id": "b6cd8588",
   "metadata": {},
   "outputs": [
    {
     "data": {
      "text/plain": [
       "<torch._C.Generator at 0x183a7008210>"
      ]
     },
     "execution_count": 34,
     "metadata": {},
     "output_type": "execute_result"
    }
   ],
   "source": [
    "import torch\n",
    "import torch.nn as nn\n",
    "import torch.nn.functional as F\n",
    "torch.manual_seed(0)"
   ]
  },
  {
   "cell_type": "code",
   "execution_count": 35,
   "id": "3f301c6f",
   "metadata": {},
   "outputs": [],
   "source": [
    "X_train = torch.FloatTensor([[1],[2],[3]])\n",
    "y_train = torch.FloatTensor([[2],[4],[6]])"
   ]
  },
  {
   "cell_type": "code",
   "execution_count": 36,
   "id": "dcf71995",
   "metadata": {},
   "outputs": [],
   "source": [
    "optimizer = torch.optim.SGD(model.parameters(), lr=0.01)"
   ]
  },
  {
   "cell_type": "code",
   "execution_count": 37,
   "id": "5f1e9b8d",
   "metadata": {},
   "outputs": [
    {
     "name": "stdout",
     "output_type": "stream",
     "text": [
      "Epoch    0/200 Cost: 13.261064\n",
      "Epoch  100/200 Cost: 0.175937\n",
      "Epoch  200/200 Cost: 0.108719\n"
     ]
    }
   ],
   "source": [
    "epochs = 200\n",
    "\n",
    "for epoch in range(epochs + 1) :\n",
    "    pred = model(X_train)\n",
    "    cost = F.mse_loss(pred, y_train)\n",
    "    optimizer.zero_grad()\n",
    "    cost.backward()\n",
    "    optimizer.step()\n",
    "    \n",
    "    if epoch%100 == 0 :\n",
    "        print('Epoch {:4d}/{} Cost: {:.6f}'.format(\n",
    "          epoch, epochs, cost.item()\n",
    "      ))"
   ]
  },
  {
   "cell_type": "markdown",
   "id": "83b817f6",
   "metadata": {},
   "source": [
    "## 다중선형회귀"
   ]
  },
  {
   "cell_type": "code",
   "execution_count": 38,
   "id": "3a7a32a1",
   "metadata": {},
   "outputs": [],
   "source": [
    "model= nn.Linear(3, 1)\n",
    "class MultivariateLinearRegressionModel(nn.Module) :\n",
    "    def __init__(self) :\n",
    "        super().__init__()\n",
    "        self.linear = nn.Linear(3, 1)\n",
    "        \n",
    "    def forward(self, x) :\n",
    "        return self.linear(x)\n",
    "\n",
    "model = MultivariateLinearRegressionModel()"
   ]
  },
  {
   "cell_type": "code",
   "execution_count": 39,
   "id": "f4b9e1fb",
   "metadata": {},
   "outputs": [],
   "source": [
    "X_train = torch.FloatTensor([[73, 80, 75],\n",
    "                             [93, 88, 93],\n",
    "                             [89, 91, 90],\n",
    "                             [96, 98, 100],\n",
    "                             [73, 66, 70]])\n",
    "y_train = torch.FloatTensor([[152], [185], [180], [196], [142]])"
   ]
  },
  {
   "cell_type": "code",
   "execution_count": 40,
   "id": "f51d85d8",
   "metadata": {},
   "outputs": [],
   "source": [
    "optimizer = torch.optim.SGD(model.parameters(), lr=1e-5) "
   ]
  },
  {
   "cell_type": "code",
   "execution_count": 41,
   "id": "62699838",
   "metadata": {},
   "outputs": [
    {
     "name": "stdout",
     "output_type": "stream",
     "text": [
      "Epoch    0/200 Cost: 31878.519531\n",
      "Epoch  100/200 Cost: 4.456649\n",
      "Epoch  200/200 Cost: 4.238406\n"
     ]
    }
   ],
   "source": [
    "epochs = 200\n",
    "\n",
    "for epoch in range(epochs + 1) :\n",
    "    pred = model(X_train)\n",
    "    cost = F.mse_loss(pred, y_train)\n",
    "    optimizer.zero_grad()\n",
    "    cost.backward()\n",
    "    optimizer.step()\n",
    "    \n",
    "    if epoch%100 == 0 :\n",
    "        print('Epoch {:4d}/{} Cost: {:.6f}'.format(\n",
    "          epoch, epochs, cost.item()\n",
    "      ))"
   ]
  },
  {
   "cell_type": "code",
   "execution_count": null,
   "id": "69a7bcf1",
   "metadata": {},
   "outputs": [],
   "source": []
  }
 ],
 "metadata": {
  "kernelspec": {
   "display_name": "yeseul",
   "language": "python",
   "name": "yeseul"
  },
  "language_info": {
   "codemirror_mode": {
    "name": "ipython",
    "version": 3
   },
   "file_extension": ".py",
   "mimetype": "text/x-python",
   "name": "python",
   "nbconvert_exporter": "python",
   "pygments_lexer": "ipython3",
   "version": "3.7.10"
  }
 },
 "nbformat": 4,
 "nbformat_minor": 5
}
