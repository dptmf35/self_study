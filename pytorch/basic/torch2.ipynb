{
 "cells": [
  {
   "cell_type": "markdown",
   "id": "8c1bd586",
   "metadata": {},
   "source": [
    "# 미니 배치, 데이터 로드 \n",
    "---"
   ]
  },
  {
   "cell_type": "code",
   "execution_count": 1,
   "id": "5ea9c680",
   "metadata": {},
   "outputs": [],
   "source": [
    "import torch\n",
    "import torch.nn as nn\n",
    "import torch.nn.functional as F\n",
    "\n",
    "from torch.utils.data import TensorDataset, DataLoader"
   ]
  },
  {
   "cell_type": "code",
   "execution_count": 2,
   "id": "bf9f3c3d",
   "metadata": {},
   "outputs": [],
   "source": [
    "X_train  =  torch.FloatTensor([[73,  80,  75], \n",
    "                               [93,  88,  93], \n",
    "                               [89,  91,  90], \n",
    "                               [96,  98,  100],   \n",
    "                               [73,  66,  70]])  \n",
    "y_train  =  torch.FloatTensor([[152],  [185],  [180],  [196],  [142]])"
   ]
  },
  {
   "cell_type": "code",
   "execution_count": 3,
   "id": "a2470512",
   "metadata": {},
   "outputs": [],
   "source": [
    "# dataset으로 저장\n",
    "dataset = TensorDataset(X_train, y_train)"
   ]
  },
  {
   "cell_type": "code",
   "execution_count": 4,
   "id": "cd4e7ccc",
   "metadata": {},
   "outputs": [],
   "source": [
    "# Dataset --> DataLoader \n",
    "dataloader =DataLoader(dataset, batch_size=2, shuffle=True)"
   ]
  },
  {
   "cell_type": "code",
   "execution_count": 5,
   "id": "1304e3d4",
   "metadata": {},
   "outputs": [],
   "source": [
    "model = nn.Linear(3,1)\n",
    "optimizer = torch.optim.SGD(model.parameters(), lr=1e-5)"
   ]
  },
  {
   "cell_type": "code",
   "execution_count": 9,
   "id": "699b200d",
   "metadata": {},
   "outputs": [
    {
     "name": "stdout",
     "output_type": "stream",
     "text": [
      "Epoch    0/20 Batch 3/3 Cost: 21.061903\n",
      "Epoch    1/20 Batch 3/3 Cost: 8.266064\n",
      "Epoch    2/20 Batch 3/3 Cost: 2.514859\n",
      "Epoch    3/20 Batch 3/3 Cost: 21.326170\n",
      "Epoch    4/20 Batch 3/3 Cost: 23.280743\n",
      "Epoch    5/20 Batch 3/3 Cost: 12.207419\n",
      "Epoch    6/20 Batch 3/3 Cost: 1.719694\n",
      "Epoch    7/20 Batch 3/3 Cost: 1.566508\n",
      "Epoch    8/20 Batch 3/3 Cost: 5.294999\n",
      "Epoch    9/20 Batch 3/3 Cost: 4.845762\n",
      "Epoch   10/20 Batch 3/3 Cost: 22.191208\n",
      "Epoch   11/20 Batch 3/3 Cost: 14.534691\n",
      "Epoch   12/20 Batch 3/3 Cost: 23.076225\n",
      "Epoch   13/20 Batch 3/3 Cost: 1.049987\n",
      "Epoch   14/20 Batch 3/3 Cost: 1.326384\n",
      "Epoch   15/20 Batch 3/3 Cost: 5.450119\n",
      "Epoch   16/20 Batch 3/3 Cost: 19.738968\n",
      "Epoch   17/20 Batch 3/3 Cost: 10.696221\n",
      "Epoch   18/20 Batch 3/3 Cost: 13.760414\n",
      "Epoch   19/20 Batch 3/3 Cost: 11.726779\n",
      "Epoch   20/20 Batch 3/3 Cost: 17.215105\n"
     ]
    }
   ],
   "source": [
    "epochs = 20\n",
    "for epoch in range(epochs + 1):\n",
    "    for batch_idx, samples in enumerate(dataloader):\n",
    "        x_train, y_train = samples\n",
    "        # H(x) 계산\n",
    "        prediction = model(x_train)\n",
    "        # cost 계산\n",
    "        cost = F.mse_loss(prediction, y_train)\n",
    "        # cost로 H(x) 계산\n",
    "        optimizer.zero_grad()\n",
    "        cost.backward()\n",
    "        optimizer.step()\n",
    "\n",
    "    print('Epoch {:4d}/{} Batch {}/{} Cost: {:.6f}'.format(\n",
    "        epoch, epochs, batch_idx+1, len(dataloader),\n",
    "        cost.item()))"
   ]
  },
  {
   "cell_type": "code",
   "execution_count": 10,
   "id": "63773c6d",
   "metadata": {},
   "outputs": [
    {
     "name": "stdout",
     "output_type": "stream",
     "text": [
      "tensor([[156.9466]], grad_fn=<AddmmBackward0>)\n"
     ]
    }
   ],
   "source": [
    "new_var = torch.FloatTensor([[73, 80, 75]])\n",
    "pred_y = model(new_var)\n",
    "print(pred_y)"
   ]
  },
  {
   "cell_type": "code",
   "execution_count": null,
   "id": "49f92ac6",
   "metadata": {},
   "outputs": [],
   "source": []
  },
  {
   "cell_type": "markdown",
   "id": "9b6adc1e",
   "metadata": {},
   "source": [
    "# 커스텀 데이터셋 \n",
    "---"
   ]
  },
  {
   "cell_type": "code",
   "execution_count": 2,
   "id": "486ebc66",
   "metadata": {},
   "outputs": [],
   "source": [
    "import torch\n",
    "import torch.nn.functional as F\n",
    "from torch.utils.data import Dataset, DataLoader"
   ]
  },
  {
   "cell_type": "code",
   "execution_count": 11,
   "id": "3560b868",
   "metadata": {},
   "outputs": [],
   "source": [
    "class CustomDataset(Dataset) :\n",
    "    def __init__(self) :\n",
    "        self.X_data = [[73, 80, 75],\n",
    "                   [93, 88, 93],\n",
    "                   [89, 91, 90],\n",
    "                   [96, 98, 100],\n",
    "                   [73, 66, 70]]\n",
    "        self.y_data = [[152], [185], [180], [196], [142]]\n",
    "    \n",
    "    def __len__(self) :\n",
    "        return len(self.X_data)\n",
    "    \n",
    "    def __getitem__(self, idx) :\n",
    "        X = torch.FloatTensor(self.X_data[idx])\n",
    "        y = torch.FloatTensor(self.y_data[idx])       \n",
    "        return X, y"
   ]
  },
  {
   "cell_type": "code",
   "execution_count": 12,
   "id": "e8fc932e",
   "metadata": {},
   "outputs": [],
   "source": [
    "dataset = CustomDataset()\n",
    "dataloader = DataLoader(dataset, batch_size=2, shuffle=True)"
   ]
  },
  {
   "cell_type": "code",
   "execution_count": 13,
   "id": "1323f273",
   "metadata": {},
   "outputs": [],
   "source": [
    "model = torch.nn.Linear(3, 1)\n",
    "optimizer = torch.optim.SGD(model.parameters(), lr=1e-5)"
   ]
  },
  {
   "cell_type": "code",
   "execution_count": 15,
   "id": "f33da7b8",
   "metadata": {
    "collapsed": true
   },
   "outputs": [
    {
     "name": "stdout",
     "output_type": "stream",
     "text": [
      "Epoch    0/20 Batch 1/3 Cost 2.537065\n",
      "Epoch    0/20 Batch 2/3 Cost 0.026787\n",
      "Epoch    0/20 Batch 3/3 Cost 3.050442\n",
      "Epoch    1/20 Batch 1/3 Cost 3.760080\n",
      "Epoch    1/20 Batch 2/3 Cost 0.937025\n",
      "Epoch    1/20 Batch 3/3 Cost 0.319521\n",
      "Epoch    2/20 Batch 1/3 Cost 0.120612\n",
      "Epoch    2/20 Batch 2/3 Cost 1.165266\n",
      "Epoch    2/20 Batch 3/3 Cost 7.110650\n",
      "Epoch    3/20 Batch 1/3 Cost 3.573196\n",
      "Epoch    3/20 Batch 2/3 Cost 0.534525\n",
      "Epoch    3/20 Batch 3/3 Cost 0.050059\n",
      "Epoch    4/20 Batch 1/3 Cost 2.168181\n",
      "Epoch    4/20 Batch 2/3 Cost 2.810425\n",
      "Epoch    4/20 Batch 3/3 Cost 0.232260\n",
      "Epoch    5/20 Batch 1/3 Cost 2.621991\n",
      "Epoch    5/20 Batch 2/3 Cost 0.562306\n",
      "Epoch    5/20 Batch 3/3 Cost 2.556017\n",
      "Epoch    6/20 Batch 1/3 Cost 0.649685\n",
      "Epoch    6/20 Batch 2/3 Cost 3.666682\n",
      "Epoch    6/20 Batch 3/3 Cost 0.262059\n",
      "Epoch    7/20 Batch 1/3 Cost 0.186025\n",
      "Epoch    7/20 Batch 2/3 Cost 0.676891\n",
      "Epoch    7/20 Batch 3/3 Cost 6.899360\n",
      "Epoch    8/20 Batch 1/3 Cost 0.744928\n",
      "Epoch    8/20 Batch 2/3 Cost 1.996206\n",
      "Epoch    8/20 Batch 3/3 Cost 4.443993\n",
      "Epoch    9/20 Batch 1/3 Cost 0.582544\n",
      "Epoch    9/20 Batch 2/3 Cost 3.624418\n",
      "Epoch    9/20 Batch 3/3 Cost 0.092166\n",
      "Epoch   10/20 Batch 1/3 Cost 1.168208\n",
      "Epoch   10/20 Batch 2/3 Cost 0.134839\n",
      "Epoch   10/20 Batch 3/3 Cost 5.894635\n",
      "Epoch   11/20 Batch 1/3 Cost 1.112317\n",
      "Epoch   11/20 Batch 2/3 Cost 3.422610\n",
      "Epoch   11/20 Batch 3/3 Cost 0.014086\n",
      "Epoch   12/20 Batch 1/3 Cost 1.453992\n",
      "Epoch   12/20 Batch 2/3 Cost 2.976368\n",
      "Epoch   12/20 Batch 3/3 Cost 0.939127\n",
      "Epoch   13/20 Batch 1/3 Cost 2.743585\n",
      "Epoch   13/20 Batch 2/3 Cost 1.807353\n",
      "Epoch   13/20 Batch 3/3 Cost 0.211157\n",
      "Epoch   14/20 Batch 1/3 Cost 0.289088\n",
      "Epoch   14/20 Batch 2/3 Cost 3.504942\n",
      "Epoch   14/20 Batch 3/3 Cost 0.369666\n",
      "Epoch   15/20 Batch 1/3 Cost 3.069503\n",
      "Epoch   15/20 Batch 2/3 Cost 0.017479\n",
      "Epoch   15/20 Batch 3/3 Cost 2.545197\n",
      "Epoch   16/20 Batch 1/3 Cost 4.196234\n",
      "Epoch   16/20 Batch 2/3 Cost 1.282891\n",
      "Epoch   16/20 Batch 3/3 Cost 0.394698\n",
      "Epoch   17/20 Batch 1/3 Cost 2.913568\n",
      "Epoch   17/20 Batch 2/3 Cost 0.513219\n",
      "Epoch   17/20 Batch 3/3 Cost 2.224302\n",
      "Epoch   18/20 Batch 1/3 Cost 0.366086\n",
      "Epoch   18/20 Batch 2/3 Cost 0.565735\n",
      "Epoch   18/20 Batch 3/3 Cost 7.320998\n",
      "Epoch   19/20 Batch 1/3 Cost 1.637922\n",
      "Epoch   19/20 Batch 2/3 Cost 1.030102\n",
      "Epoch   19/20 Batch 3/3 Cost 3.346673\n",
      "Epoch   20/20 Batch 1/3 Cost 0.300257\n",
      "Epoch   20/20 Batch 2/3 Cost 4.541915\n",
      "Epoch   20/20 Batch 3/3 Cost 0.025101\n"
     ]
    }
   ],
   "source": [
    "epochs = 20\n",
    "for epoch in range(epochs+1) :\n",
    "    for idx, sample in enumerate(dataloader) :\n",
    "        X_train, y_train = sample\n",
    "        pred = model(X_train)\n",
    "        \n",
    "        cost = F.mse_loss(pred, y_train)\n",
    "        \n",
    "        optimizer.zero_grad()\n",
    "        cost.backward()\n",
    "        optimizer.step()\n",
    "        \n",
    "        print(f'Epoch {epoch:4d}/{epochs} Batch {idx+1}/{len(dataloader)} Cost {cost.item():.6f}')\n",
    "        "
   ]
  },
  {
   "cell_type": "code",
   "execution_count": 16,
   "id": "76d712a0",
   "metadata": {},
   "outputs": [
    {
     "name": "stdout",
     "output_type": "stream",
     "text": [
      "tensor([[149.8331]], grad_fn=<AddmmBackward0>)\n"
     ]
    }
   ],
   "source": [
    "new_var = torch.FloatTensor([[73, 80, 75]])\n",
    "pred_y = model(new_var)\n",
    "print(pred_y)"
   ]
  },
  {
   "cell_type": "code",
   "execution_count": null,
   "id": "437eaeb1",
   "metadata": {},
   "outputs": [],
   "source": []
  }
 ],
 "metadata": {
  "kernelspec": {
   "display_name": "yeseul",
   "language": "python",
   "name": "yeseul"
  },
  "language_info": {
   "codemirror_mode": {
    "name": "ipython",
    "version": 3
   },
   "file_extension": ".py",
   "mimetype": "text/x-python",
   "name": "python",
   "nbconvert_exporter": "python",
   "pygments_lexer": "ipython3",
   "version": "3.7.10"
  }
 },
 "nbformat": 4,
 "nbformat_minor": 5
}
