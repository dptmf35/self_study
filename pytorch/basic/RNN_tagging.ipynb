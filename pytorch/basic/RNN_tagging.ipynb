{
 "cells": [
  {
   "cell_type": "code",
   "execution_count": 43,
   "id": "b08fbe71",
   "metadata": {},
   "outputs": [],
   "source": [
    "import torch\n",
    "import torch.nn as nn\n",
    "import torch.nn.functional as F\n",
    "import torch.optim as optim\n",
    "from torchtext.legacy import data, datasets\n",
    "import time\n",
    "import random\n",
    "\n",
    "seed = 1004\n",
    "random.seed(seed)\n",
    "torch.manual_seed(seed)\n",
    "\n",
    "device = torch.device('cuda' if torch.cuda.is_available() else 'cpu')"
   ]
  },
  {
   "cell_type": "code",
   "execution_count": 51,
   "id": "ea087872",
   "metadata": {},
   "outputs": [],
   "source": [
    "# 필드 정의\n",
    "text = data.Field(lower=True)\n",
    "ud_tags = data.Field(unk_token = None)\n",
    "ptb_tags = data.Field(unk_token = None)\n",
    "\n",
    "fields = (('text', text), ('udtags', ud_tags), ('ptbtags', ptb_tags))"
   ]
  },
  {
   "cell_type": "code",
   "execution_count": 52,
   "id": "1b5bacce",
   "metadata": {},
   "outputs": [],
   "source": [
    "# dataset 만들기\n",
    "train_data, valid_data, test_data = datasets.UDPOS.splits(fields)"
   ]
  },
  {
   "cell_type": "code",
   "execution_count": 53,
   "id": "2bbbb867",
   "metadata": {},
   "outputs": [
    {
     "name": "stdout",
     "output_type": "stream",
     "text": [
      "훈련 샘플 개수 : 12543\n",
      "검증 샘플 개수 : 2002\n",
      "테스트 샘플 개수 : 2077\n",
      "{'text': <torchtext.legacy.data.field.Field object at 0x000001F26E912788>, 'udtags': <torchtext.legacy.data.field.Field object at 0x000001F26E912F08>, 'ptbtags': <torchtext.legacy.data.field.Field object at 0x000001F26E912FC8>}\n"
     ]
    }
   ],
   "source": [
    "print(f'훈련 샘플 개수 : {len(train_data)}')\n",
    "print(f'검증 샘플 개수 : {len(valid_data)}')\n",
    "print(f'테스트 샘플 개수 : {len(test_data)}')\n",
    "# 훈련 데이터의 3개 필드 확인\n",
    "print(train_data.fields)"
   ]
  },
  {
   "cell_type": "code",
   "execution_count": 54,
   "id": "555dd70d",
   "metadata": {},
   "outputs": [
    {
     "name": "stdout",
     "output_type": "stream",
     "text": [
      "['al', '-', 'zaman', ':', 'american', 'forces', 'killed', 'shaikh', 'abdullah', 'al', '-', 'ani', ',', 'the', 'preacher', 'at', 'the', 'mosque', 'in', 'the', 'town', 'of', 'qaim', ',', 'near', 'the', 'syrian', 'border', '.']\n",
      "['PROPN', 'PUNCT', 'PROPN', 'PUNCT', 'ADJ', 'NOUN', 'VERB', 'PROPN', 'PROPN', 'PROPN', 'PUNCT', 'PROPN', 'PUNCT', 'DET', 'NOUN', 'ADP', 'DET', 'NOUN', 'ADP', 'DET', 'NOUN', 'ADP', 'PROPN', 'PUNCT', 'ADP', 'DET', 'ADJ', 'NOUN', 'PUNCT']\n",
      "['PUNCT', 'DET', 'NOUN', 'ADP', 'DET', 'ADJ', 'NOUN', 'AUX', 'AUX', 'VERB', 'PRON', 'NOUN', 'ADP', 'NOUN', 'PART', 'VERB', 'PUNCT', 'PUNCT']\n"
     ]
    }
   ],
   "source": [
    "# 샘플1 의 text, udtags\n",
    "print(vars(train_data.examples[0])['text'])\n",
    "print(vars(train_data.examples[0])['udtags'])\n",
    "# 샘플2 의 udtags\n",
    "print(vars(train_data.examples[1])['udtags'])"
   ]
  },
  {
   "cell_type": "markdown",
   "id": "e75c6d18",
   "metadata": {},
   "source": [
    "## 단어 집합 생성"
   ]
  },
  {
   "cell_type": "code",
   "execution_count": 55,
   "id": "53d1af42",
   "metadata": {},
   "outputs": [
    {
     "name": "stdout",
     "output_type": "stream",
     "text": [
      "[('the', 9076), ('.', 8640), (',', 7021), ('to', 5137), ('and', 5002), ('a', 3782), ('of', 3622), ('i', 3379), ('in', 3112), ('is', 2239), ('you', 2156), ('that', 2036), ('it', 1850), ('for', 1842), ('-', 1426), ('have', 1359), ('\"', 1296), ('on', 1273), ('was', 1244), ('with', 1216)]\n"
     ]
    }
   ],
   "source": [
    "# 최소허용 빈도\n",
    "min_freq = 5\n",
    "\n",
    "# 사전 훈련된 워드 임베딩 Glove 다운로드\n",
    "text.build_vocab(train_data, min_freq = min_freq, vectors = 'glove.6B.100d')\n",
    "ud_tags.build_vocab(train_data)\n",
    "ptb_tags.build_vocab(train_data)\n",
    "\n",
    "# 상위 빈도수 단어 20개를 출력\n",
    "print(text.vocab.freqs.most_common(20))"
   ]
  },
  {
   "cell_type": "markdown",
   "id": "46379b4c",
   "metadata": {},
   "source": [
    "- 토치텍스트는 기본적으로 빈도수가 가장 높은 단어부터 작은 숫자를 부여합니다.  \n",
    "- 물론, `<unk>` 는 0번, <pad>는 1번으로 자동으로 부여되므로 제외"
   ]
  },
  {
   "cell_type": "code",
   "execution_count": 56,
   "id": "9805b869",
   "metadata": {},
   "outputs": [
    {
     "name": "stdout",
     "output_type": "stream",
     "text": [
      "['<unk>', '<pad>', 'the', '.', ',', 'to', 'and', 'a', 'of', 'i']\n",
      "[('NOUN', 34781), ('PUNCT', 23679), ('VERB', 23081), ('PRON', 18577), ('ADP', 17638), ('DET', 16285), ('PROPN', 12946), ('ADJ', 12477), ('AUX', 12343), ('ADV', 10548), ('CCONJ', 6707), ('PART', 5567), ('NUM', 3999), ('SCONJ', 3843), ('X', 847), ('INTJ', 688), ('SYM', 599)]\n"
     ]
    }
   ],
   "source": [
    "# 상위 정수 인덱스 10개 출력\n",
    "print(text.vocab.itos[:10])\n",
    "# 상위 빈도순 udtags 출력\n",
    "print(ud_tags.vocab.freqs.most_common())"
   ]
  },
  {
   "cell_type": "code",
   "execution_count": 57,
   "id": "4f044cc5",
   "metadata": {},
   "outputs": [
    {
     "name": "stdout",
     "output_type": "stream",
     "text": [
      "Tag Occurences Percentage\n",
      "\n",
      "NOUN\t34781\t17.0%\n",
      "PUNCT\t23679\t11.6%\n",
      "VERB\t23081\t11.3%\n",
      "PRON\t18577\t 9.1%\n",
      "ADP\t17638\t 8.6%\n",
      "DET\t16285\t 8.0%\n",
      "PROPN\t12946\t 6.3%\n",
      "ADJ\t12477\t 6.1%\n",
      "AUX\t12343\t 6.0%\n",
      "ADV\t10548\t 5.2%\n",
      "CCONJ\t6707\t 3.3%\n",
      "PART\t5567\t 2.7%\n",
      "NUM\t3999\t 2.0%\n",
      "SCONJ\t3843\t 1.9%\n",
      "X\t847\t 0.4%\n",
      "INTJ\t688\t 0.3%\n",
      "SYM\t599\t 0.3%\n"
     ]
    }
   ],
   "source": [
    "# 레이블에 속한 단어들의 분포를 출력해보자\n",
    "def tag_percentage(tag_cnt) :\n",
    "    total_cnt = sum([cnt for tag, cnt in tag_cnt]) \n",
    "    tag_cnt_per = [(tag, cnt, cnt/total_cnt) for tag, cnt in tag_cnt]\n",
    "    return tag_cnt_per\n",
    "\n",
    "print('Tag Occurences Percentage\\n')\n",
    "for tag, cnt, per in tag_percentage(ud_tags.vocab.freqs.most_common()) :\n",
    "    print(f'{tag}\\t{cnt}\\t{per*100:4.1f}%')"
   ]
  },
  {
   "cell_type": "code",
   "execution_count": 58,
   "id": "06bd1978",
   "metadata": {},
   "outputs": [],
   "source": [
    "batch_size = 64\n",
    "\n",
    "train_iter, valid_iter, test_iter = data.BucketIterator.splits(\n",
    "        (train_data, valid_data, test_data),\n",
    "        batch_size = batch_size,\n",
    "        device = device)"
   ]
  },
  {
   "cell_type": "code",
   "execution_count": 59,
   "id": "a9ae054f",
   "metadata": {},
   "outputs": [],
   "source": [
    "batch = next(iter(train_iter))"
   ]
  },
  {
   "cell_type": "code",
   "execution_count": 60,
   "id": "c825f939",
   "metadata": {},
   "outputs": [
    {
     "name": "stdout",
     "output_type": "stream",
     "text": [
      "\n",
      "[torchtext.legacy.data.batch.Batch of size 64 from UDPOS]\n",
      "\t[.text]:[torch.LongTensor of size 46x64]\n",
      "\t[.udtags]:[torch.LongTensor of size 46x64]\n",
      "\t[.ptbtags]:[torch.LongTensor of size 46x64]\n"
     ]
    },
    {
     "data": {
      "text/plain": [
       "torch.Size([46, 64])"
      ]
     },
     "execution_count": 60,
     "metadata": {},
     "output_type": "execute_result"
    }
   ],
   "source": [
    "print(batch)\n",
    "batch.text.shape"
   ]
  },
  {
   "cell_type": "code",
   "execution_count": 61,
   "id": "8820e32f",
   "metadata": {},
   "outputs": [],
   "source": [
    "class RNNPOSTagger(nn.Module) :\n",
    "    def __init__(self, vocab_size, embedding_dim, hidden_dim, output_dim, n_layers, bidirectional, dropout) :\n",
    "        super().__init__()\n",
    "        \n",
    "        self.embedding = nn.Embedding(vocab_size, embedding_dim)\n",
    "        self.rnn = nn.LSTM(embedding_dim, hidden_dim, num_layers=n_layers, bidirectional = bidirectional)\n",
    "        self.fc = nn.Linear(hidden_dim * 2 if bidirectional else hidden_dim, output_dim)\n",
    "        self.dropout = nn.Dropout(dropout)\n",
    "        \n",
    "    \n",
    "    def forward(self, text) :\n",
    "        embedded= self.dropout(self.embedding(text))\n",
    "        \n",
    "        outputs, (hidden, cell) = self.rnn(embedded)\n",
    "        \n",
    "        pred = self.fc(self.dropout(outputs))\n",
    "        \n",
    "        return pred"
   ]
  },
  {
   "cell_type": "code",
   "execution_count": 62,
   "id": "0b3e451a",
   "metadata": {},
   "outputs": [],
   "source": [
    "# params\n",
    "input_dim = len(text.vocab)\n",
    "embedding_dim = 100\n",
    "hidden_dim = 128\n",
    "output_dim = len(ud_tags.vocab)\n",
    "n_layers = 2\n",
    "bidirectional = True\n",
    "dropout = 0.25\n",
    "\n",
    "model = RNNPOSTagger(\n",
    "        input_dim, embedding_dim, hidden_dim, output_dim, n_layers, bidirectional,\n",
    "        dropout)"
   ]
  },
  {
   "cell_type": "code",
   "execution_count": 66,
   "id": "1228a1db",
   "metadata": {},
   "outputs": [
    {
     "name": "stdout",
     "output_type": "stream",
     "text": [
      "The model has 1,027,510 trainable parameters\n"
     ]
    }
   ],
   "source": [
    "def count_parameters(model) :\n",
    "    return sum(p.numel() for p in model.parameters() if p.requires_grad)\n",
    "\n",
    "print(f'The model has {count_parameters(model):,} trainable parameters')"
   ]
  },
  {
   "cell_type": "code",
   "execution_count": 67,
   "id": "eeeacabd",
   "metadata": {},
   "outputs": [
    {
     "name": "stdout",
     "output_type": "stream",
     "text": [
      "torch.Size([3921, 100])\n"
     ]
    }
   ],
   "source": [
    "# 사전 훈련된 워드 임베딩 사용하기 ( glove)\n",
    "\n",
    "pretrained_embeddings = text.vocab.vectors\n",
    "print(pretrained_embeddings.shape)"
   ]
  },
  {
   "cell_type": "code",
   "execution_count": 68,
   "id": "9e09b63f",
   "metadata": {},
   "outputs": [
    {
     "data": {
      "text/plain": [
       "tensor([[ 0.0000,  0.0000,  0.0000,  ...,  0.0000,  0.0000,  0.0000],\n",
       "        [ 0.0000,  0.0000,  0.0000,  ...,  0.0000,  0.0000,  0.0000],\n",
       "        [-0.0382, -0.2449,  0.7281,  ..., -0.1459,  0.8278,  0.2706],\n",
       "        ...,\n",
       "        [-0.1020,  0.7700,  0.1169,  ..., -0.1416, -0.1932, -0.4225],\n",
       "        [-0.0263,  0.0179, -0.5016,  ..., -0.8688,  0.9409, -0.2882],\n",
       "        [ 0.1519,  0.4712,  0.0895,  ..., -0.4702, -0.3127,  0.1078]])"
      ]
     },
     "execution_count": 68,
     "metadata": {},
     "output_type": "execute_result"
    }
   ],
   "source": [
    "model.embedding.weight.data.copy_(pretrained_embeddings) # embedding vector value copy"
   ]
  },
  {
   "cell_type": "code",
   "execution_count": 71,
   "id": "4d008e32",
   "metadata": {},
   "outputs": [
    {
     "name": "stdout",
     "output_type": "stream",
     "text": [
      "0\n",
      "1\n"
     ]
    }
   ],
   "source": [
    "unk_idx = text.vocab.stoi[text.unk_token]\n",
    "pad_idx = text.vocab.stoi[text.pad_token]\n",
    "print(udk_idx)\n",
    "print(pad_idx)"
   ]
  },
  {
   "cell_type": "code",
   "execution_count": 72,
   "id": "65289ec2",
   "metadata": {},
   "outputs": [
    {
     "name": "stdout",
     "output_type": "stream",
     "text": [
      "tensor([[ 0.0000,  0.0000,  0.0000,  ...,  0.0000,  0.0000,  0.0000],\n",
      "        [ 0.0000,  0.0000,  0.0000,  ...,  0.0000,  0.0000,  0.0000],\n",
      "        [-0.0382, -0.2449,  0.7281,  ..., -0.1459,  0.8278,  0.2706],\n",
      "        ...,\n",
      "        [-0.1020,  0.7700,  0.1169,  ..., -0.1416, -0.1932, -0.4225],\n",
      "        [-0.0263,  0.0179, -0.5016,  ..., -0.8688,  0.9409, -0.2882],\n",
      "        [ 0.1519,  0.4712,  0.0895,  ..., -0.4702, -0.3127,  0.1078]])\n"
     ]
    }
   ],
   "source": [
    "model.embedding.weight.data[unk_idx] = torch.zeros(embedding_dim) # 0번 엠베딩 벡터에는 0값을 채움\n",
    "model.embedding.weight.data[pad_idx] = torch.zeros(embedding_dim) # 1번 엠베딩 벡터에는 1값을 채움\n",
    "print(model.embedding.weight.data)"
   ]
  },
  {
   "cell_type": "markdown",
   "id": "6d85c64a",
   "metadata": {},
   "source": [
    "## 옵티마이저와 비용함수 구현"
   ]
  },
  {
   "cell_type": "code",
   "execution_count": 73,
   "id": "d210ff6a",
   "metadata": {},
   "outputs": [
    {
     "name": "stdout",
     "output_type": "stream",
     "text": [
      "0\n"
     ]
    }
   ],
   "source": [
    "tag_pad_idx = ud_tags.vocab.stoi[ud_tags.pad_token]\n",
    "print(tag_pad_idx)"
   ]
  },
  {
   "cell_type": "code",
   "execution_count": 75,
   "id": "8db245ef",
   "metadata": {},
   "outputs": [],
   "source": [
    "optimizer = optim.Adam(model.parameters())\n",
    "criterion = nn.CrossEntropyLoss(ignore_index=tag_pad_idx)"
   ]
  },
  {
   "cell_type": "code",
   "execution_count": 76,
   "id": "da3ec998",
   "metadata": {},
   "outputs": [],
   "source": [
    "model  =model.to(device)\n",
    "criterion = criterion.to(device)"
   ]
  },
  {
   "cell_type": "code",
   "execution_count": 77,
   "id": "cc005dce",
   "metadata": {},
   "outputs": [
    {
     "data": {
      "text/plain": [
       "torch.Size([46, 64, 18])"
      ]
     },
     "execution_count": 77,
     "metadata": {},
     "output_type": "execute_result"
    }
   ],
   "source": [
    "pred = model(batch.text)\n",
    "pred.shape"
   ]
  },
  {
   "cell_type": "code",
   "execution_count": 78,
   "id": "d8580d61",
   "metadata": {},
   "outputs": [
    {
     "data": {
      "text/plain": [
       "torch.Size([2944, 18])"
      ]
     },
     "execution_count": 78,
     "metadata": {},
     "output_type": "execute_result"
    }
   ],
   "source": [
    "pred = pred.view(-1, pred.shape[-1]) # 시퀀스 길이와 배치 길이를 펼쳐 줌\n",
    "pred.shape"
   ]
  },
  {
   "cell_type": "code",
   "execution_count": 79,
   "id": "afa0d0bf",
   "metadata": {},
   "outputs": [
    {
     "data": {
      "text/plain": [
       "torch.Size([46, 64])"
      ]
     },
     "execution_count": 79,
     "metadata": {},
     "output_type": "execute_result"
    }
   ],
   "source": [
    "batch.udtags.shape # 첫 번째 배치의 시퀀스 길이 * 배치 크기"
   ]
  },
  {
   "cell_type": "code",
   "execution_count": 80,
   "id": "8cdbc761",
   "metadata": {},
   "outputs": [
    {
     "data": {
      "text/plain": [
       "torch.Size([2944])"
      ]
     },
     "execution_count": 80,
     "metadata": {},
     "output_type": "execute_result"
    }
   ],
   "source": [
    "batch.udtags.view(-1).shape"
   ]
  },
  {
   "cell_type": "markdown",
   "id": "3b32cef6",
   "metadata": {},
   "source": [
    "## 훈련 및 평가 "
   ]
  },
  {
   "cell_type": "code",
   "execution_count": 89,
   "id": "664d629c",
   "metadata": {},
   "outputs": [],
   "source": [
    "def categorical_accuracy(preds, y, tag_pad_idx) :\n",
    "    '''\n",
    "    미니 배치에 대한 정확도를 출력\n",
    "    '''\n",
    "    max_preds = preds.argmax(dim=1, keepdim=True)\n",
    "    non_pad_elements = (y != tag_pad_idx).nonzero()\n",
    "    corr = max_preds[non_pad_elements].squeeze(1).eq(y[non_pad_elements])\n",
    "    return corr.sum() / torch.FloatTensor([y[non_pad_elements].shape[0]])\n",
    "\n",
    "def train(model, iters, opt, criterion, tag_pad_idx) :\n",
    "    \n",
    "    epoch_loss = 0\n",
    "    epoch_acc = 0\n",
    "    \n",
    "    model.train()\n",
    "    \n",
    "    for batch in iters :\n",
    "        \n",
    "        text = batch.text\n",
    "        tags = batch.udtags\n",
    "        \n",
    "        optimizer.zero_grad()\n",
    "        \n",
    "        pred = model(text)\n",
    "        \n",
    "        pred = pred.view(-1, pred.shape[-1])\n",
    "        tags = tags.view(-1)\n",
    "        \n",
    "        loss = criterion(pred, tags)\n",
    "        \n",
    "        acc = categorical_accuracy(pred, tags, tag_pad_idx)\n",
    "        \n",
    "        loss.backward()\n",
    "        \n",
    "        optimizer.step()\n",
    "        \n",
    "        epoch_loss += loss.item()\n",
    "\n",
    "        epoch_acc += acc.item()\n",
    "        \n",
    "    return epoch_loss / len(iters), epoch_acc / len(iters)\n",
    "        \n",
    "def _eval(model, iters, criterion, tag_pad_idx) :\n",
    "    \n",
    "    epoch_loss = 0\n",
    "    epoch_acc = 0\n",
    "    \n",
    "    model.eval()\n",
    "\n",
    "    with torch.no_grad() :\n",
    "        \n",
    "        for batch in iters :\n",
    "            \n",
    "            text = batch.text\n",
    "            tags = batch.udtags\n",
    "            \n",
    "            pred = model(text)\n",
    "            \n",
    "            pred = pred.view(-1, pred.shape[-1])\n",
    "            tags = tags.view(-1)\n",
    "            \n",
    "            loss = criterion(pred, tags)\n",
    "            \n",
    "            acc = categorical_accuracy(pred, tags, tag_pad_idx)\n",
    "            \n",
    "            epoch_loss += loss.item()\n",
    "            epoch_acc += acc.item()   \n",
    "            \n",
    "    return epoch_loss / len(iters), epoch_acc / len(iters)"
   ]
  },
  {
   "cell_type": "code",
   "execution_count": 94,
   "id": "11a69d23",
   "metadata": {},
   "outputs": [
    {
     "name": "stdout",
     "output_type": "stream",
     "text": [
      "epoch : 01\n",
      "\t train loss : 1.084 | train accuracy : 66.24%\n",
      "\t validation loss : 0.700 | validation accuracy : 77.90%\n",
      "epoch : 02\n",
      "\t train loss : 0.374 | train accuracy : 88.15%\n",
      "\t validation loss : 0.503 | validation accuracy : 85.36%\n",
      "epoch : 03\n",
      "\t train loss : 0.298 | train accuracy : 90.31%\n",
      "\t validation loss : 0.431 | validation accuracy : 86.69%\n",
      "epoch : 04\n",
      "\t train loss : 0.258 | train accuracy : 91.51%\n",
      "\t validation loss : 0.368 | validation accuracy : 88.38%\n",
      "epoch : 05\n",
      "\t train loss : 0.235 | train accuracy : 92.28%\n",
      "\t validation loss : 0.334 | validation accuracy : 89.25%\n",
      "epoch : 06\n",
      "\t train loss : 0.217 | train accuracy : 92.87%\n",
      "\t validation loss : 0.315 | validation accuracy : 89.50%\n",
      "epoch : 07\n",
      "\t train loss : 0.202 | train accuracy : 93.27%\n",
      "\t validation loss : 0.288 | validation accuracy : 90.15%\n",
      "epoch : 08\n",
      "\t train loss : 0.190 | train accuracy : 93.73%\n",
      "\t validation loss : 0.270 | validation accuracy : 90.91%\n",
      "epoch : 09\n",
      "\t train loss : 0.179 | train accuracy : 94.03%\n",
      "\t validation loss : 0.254 | validation accuracy : 91.42%\n",
      "epoch : 10\n",
      "\t train loss : 0.170 | train accuracy : 94.33%\n",
      "\t validation loss : 0.237 | validation accuracy : 91.81%\n"
     ]
    }
   ],
   "source": [
    "n_epochs = 10\n",
    "\n",
    "best_valid_loss = float('inf')\n",
    "\n",
    "for epoch in range(n_epochs) :\n",
    "    \n",
    "    train_loss, train_acc = train(model, train_iter, optimizer, criterion, tag_pad_idx)\n",
    "    valid_loss, valid_acc = train(model, valid_iter, optimizer, criterion, tag_pad_idx)\n",
    "    \n",
    "    if valid_loss < best_valid_loss :\n",
    "        best_valid_loss = valid_loss\n",
    "        torch.save(model.state_dict(), 'tut1-model.pt')\n",
    "        \n",
    "    print(f'epoch : {epoch+1:02}')\n",
    "    print(f'\\t train loss : {train_loss:.3f} | train accuracy : {train_acc * 100:.2f}%')\n",
    "    print(f'\\t validation loss : {valid_loss:.3f} | validation accuracy : {valid_acc * 100:.2f}%')          "
   ]
  },
  {
   "cell_type": "code",
   "execution_count": null,
   "id": "a7e0e4d4",
   "metadata": {},
   "outputs": [],
   "source": []
  },
  {
   "cell_type": "code",
   "execution_count": null,
   "id": "aeae44a9",
   "metadata": {},
   "outputs": [],
   "source": []
  }
 ],
 "metadata": {
  "kernelspec": {
   "display_name": "yeseul",
   "language": "python",
   "name": "yeseul"
  },
  "language_info": {
   "codemirror_mode": {
    "name": "ipython",
    "version": 3
   },
   "file_extension": ".py",
   "mimetype": "text/x-python",
   "name": "python",
   "nbconvert_exporter": "python",
   "pygments_lexer": "ipython3",
   "version": "3.7.10"
  }
 },
 "nbformat": 4,
 "nbformat_minor": 5
}
