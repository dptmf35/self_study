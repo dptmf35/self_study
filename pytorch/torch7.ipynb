{
 "cells": [
  {
   "cell_type": "code",
   "execution_count": 1,
   "id": "362a23be",
   "metadata": {},
   "outputs": [],
   "source": [
    "import torch\n",
    "import torch.nn as nn"
   ]
  },
  {
   "cell_type": "code",
   "execution_count": 2,
   "id": "ce209589",
   "metadata": {},
   "outputs": [
    {
     "name": "stdout",
     "output_type": "stream",
     "text": [
      "Tensor 크기 : torch.Size([1, 1, 28, 28])\n"
     ]
    }
   ],
   "source": [
    "inputs = torch.Tensor(1, 1, 28, 28)\n",
    "print(f'Tensor 크기 : {inputs.shape}')"
   ]
  },
  {
   "cell_type": "code",
   "execution_count": 3,
   "id": "d1608c22",
   "metadata": {},
   "outputs": [
    {
     "name": "stdout",
     "output_type": "stream",
     "text": [
      "Conv2d(1, 32, kernel_size=(3, 3), stride=(1, 1), padding=(1, 1))\n",
      "Conv2d(32, 64, kernel_size=(3, 3), stride=(1, 1), padding=(1, 1))\n",
      "MaxPool2d(kernel_size=2, stride=2, padding=0, dilation=1, ceil_mode=False)\n"
     ]
    }
   ],
   "source": [
    "conv1 = nn.Conv2d(1, 32, 3, padding = 1)\n",
    "print(conv1)\n",
    "\n",
    "conv2 = nn.Conv2d(32, 64, kernel_size=3, padding = 1)\n",
    "print(conv2)\n",
    "\n",
    "pool = nn.MaxPool2d(2)\n",
    "print(pool)"
   ]
  },
  {
   "cell_type": "code",
   "execution_count": 7,
   "id": "ccaf3023",
   "metadata": {},
   "outputs": [
    {
     "name": "stdout",
     "output_type": "stream",
     "text": [
      "torch.Size([1, 32, 28, 28])\n",
      "torch.Size([1, 32, 14, 14])\n",
      "torch.Size([1, 64, 14, 14])\n",
      "torch.Size([1, 64, 7, 7])\n"
     ]
    }
   ],
   "source": [
    "out = conv1(inputs)\n",
    "print(out.shape)\n",
    "\n",
    "out = pool(out)\n",
    "print(out.shape)\n",
    "\n",
    "out = conv2(out)\n",
    "print(out.shape)\n",
    "\n",
    "out = pool(out)\n",
    "print(out.shape)"
   ]
  },
  {
   "cell_type": "code",
   "execution_count": 9,
   "id": "5ba8d445",
   "metadata": {},
   "outputs": [
    {
     "name": "stdout",
     "output_type": "stream",
     "text": [
      "1\n",
      "64\n",
      "7\n",
      "7\n"
     ]
    }
   ],
   "source": [
    "print(out.size(0))\n",
    "print(out.size(1))\n",
    "print(out.size(2))\n",
    "print(out.size(3))"
   ]
  },
  {
   "cell_type": "code",
   "execution_count": 10,
   "id": "48672e68",
   "metadata": {},
   "outputs": [
    {
     "name": "stdout",
     "output_type": "stream",
     "text": [
      "torch.Size([1, 3136])\n"
     ]
    }
   ],
   "source": [
    "# 첫번째 차원(배치차원)은 그대로 두고 나머지 펼치기\n",
    "out = out.view(out.size(0), -1)\n",
    "print(out.shape)"
   ]
  },
  {
   "cell_type": "code",
   "execution_count": 11,
   "id": "0b260c3e",
   "metadata": {},
   "outputs": [
    {
     "name": "stdout",
     "output_type": "stream",
     "text": [
      "torch.Size([1, 10])\n"
     ]
    }
   ],
   "source": [
    "fc = nn.Linear(3136, 10)\n",
    "out = fc(out)\n",
    "print(out.shape) # 출력층으로 10 개 뉴런 --> 차원 텐서 변환"
   ]
  },
  {
   "cell_type": "markdown",
   "id": "f0f61aa9",
   "metadata": {},
   "source": [
    "# CNN으로 Mnist 분류하기 \n",
    "---"
   ]
  },
  {
   "cell_type": "code",
   "execution_count": 12,
   "id": "e91fca80",
   "metadata": {},
   "outputs": [],
   "source": [
    "import torch\n",
    "import torchvision.datasets as dsets\n",
    "import torchvision.transforms as transforms\n",
    "import torch.nn.init"
   ]
  },
  {
   "cell_type": "code",
   "execution_count": 13,
   "id": "83aa87e1",
   "metadata": {},
   "outputs": [],
   "source": [
    "device = 'cuda' if torch.cuda.is_available() else 'cpu'\n",
    "\n",
    "torch.manual_seed(0)\n",
    "if device == 'cuda' :\n",
    "    torch.cuda.manual_seed_all(0)"
   ]
  },
  {
   "cell_type": "code",
   "execution_count": 14,
   "id": "7d75eb2c",
   "metadata": {},
   "outputs": [],
   "source": [
    "lr = 0.001\n",
    "epochs = 15\n",
    "batch_size = 100"
   ]
  },
  {
   "cell_type": "code",
   "execution_count": 15,
   "id": "d15deb36",
   "metadata": {},
   "outputs": [],
   "source": [
    "mnist_train = dsets.MNIST(root = 'MNIST_data/',\n",
    "                         train=True,\n",
    "                         transform=transforms.ToTensor(),\n",
    "                         download=True)\n",
    "\n",
    "mnist_test = dsets.MNIST(root = 'MNIST_data/',\n",
    "                         train=False,\n",
    "                         transform=transforms.ToTensor(),\n",
    "                         download=True)\n",
    "\n",
    "data_loader = torch.utils.data.DataLoader(dataset=mnist_train,\n",
    "                                         batch_size=batch_size,\n",
    "                                         shuffle=True,\n",
    "                                         drop_last=True)"
   ]
  },
  {
   "cell_type": "code",
   "execution_count": 21,
   "id": "85cc4c33",
   "metadata": {},
   "outputs": [],
   "source": [
    "class CNN(torch.nn.Module) :\n",
    "    \n",
    "    def __init__(self) :\n",
    "        super(CNN, self).__init__()\n",
    "        \n",
    "        # 1st layer\n",
    "        self.layer1 = torch.nn.Sequential(\n",
    "        torch.nn.Conv2d(1, 32, kernel_size=3, stride=1, padding=1),\n",
    "        torch.nn.ReLU(),\n",
    "        torch.nn.MaxPool2d(kernel_size=2, stride=2))\n",
    "        \n",
    "        # 2nd layer\n",
    "        self.layer2 = torch.nn.Sequential(\n",
    "        torch.nn.Conv2d(32, 64, kernel_size=3, stride=1, padding=1),\n",
    "        torch.nn.ReLU(),\n",
    "        torch.nn.MaxPool2d(kernel_size=2, stride=2))\n",
    "        \n",
    "        # 전결합층 (7*7*64 --> 10)\n",
    "        self.fc = torch.nn.Linear(7*7*64, 10, bias=True)\n",
    "        \n",
    "        # 전결합층 한정으로 가중치를 초기화\n",
    "        torch.nn.init.xavier_uniform_(self.fc.weight)\n",
    "        \n",
    "    \n",
    "    def forward(self, x) :\n",
    "        out = self.layer1(x)\n",
    "        out = self.layer2(out)\n",
    "        out = out.view(out.size(0), -1)\n",
    "        out = self.fc(out)\n",
    "        return out"
   ]
  },
  {
   "cell_type": "code",
   "execution_count": 22,
   "id": "097ed05f",
   "metadata": {},
   "outputs": [],
   "source": [
    "model = CNN().to(device)"
   ]
  },
  {
   "cell_type": "code",
   "execution_count": 23,
   "id": "f7361417",
   "metadata": {},
   "outputs": [],
   "source": [
    "criterion = torch.nn.CrossEntropyLoss().to(device)\n",
    "optimizer = torch.optim.Adam(model.parameters(), lr=lr)"
   ]
  },
  {
   "cell_type": "code",
   "execution_count": 24,
   "id": "c9e2522c",
   "metadata": {},
   "outputs": [
    {
     "name": "stdout",
     "output_type": "stream",
     "text": [
      "총 배치 수 : 600\n"
     ]
    }
   ],
   "source": [
    "total_batch = len(data_loader)\n",
    "print(f'총 배치 수 : {total_batch}')"
   ]
  },
  {
   "cell_type": "code",
   "execution_count": 25,
   "id": "3febac81",
   "metadata": {},
   "outputs": [
    {
     "name": "stdout",
     "output_type": "stream",
     "text": [
      "Epoch :    1] cost = 0.228284776\n",
      "Epoch :    2] cost = 0.0627280697\n",
      "Epoch :    3] cost = 0.0458956547\n",
      "Epoch :    4] cost = 0.0369985849\n",
      "Epoch :    5] cost = 0.0293225739\n",
      "Epoch :    6] cost = 0.025048079\n",
      "Epoch :    7] cost = 0.0212471951\n",
      "Epoch :    8] cost = 0.0180564579\n",
      "Epoch :    9] cost = 0.0152841294\n",
      "Epoch :   10] cost = 0.0139708081\n",
      "Epoch :   11] cost = 0.0110666752\n",
      "Epoch :   12] cost = 0.0087069897\n",
      "Epoch :   13] cost = 0.00916985795\n",
      "Epoch :   14] cost = 0.00741479965\n",
      "Epoch :   15] cost = 0.00696938531\n"
     ]
    }
   ],
   "source": [
    "for epoch in range(epochs) :\n",
    "    avg_cost = 0\n",
    "    \n",
    "    for X, y in data_loader :\n",
    "        X = X.to(device)\n",
    "        y = y.to(device)\n",
    "        \n",
    "        optimizer.zero_grad()\n",
    "        h = model(X)\n",
    "        cost = criterion(h, y)\n",
    "        cost.backward()\n",
    "        optimizer.step()\n",
    "        \n",
    "        avg_cost += cost / total_batch\n",
    "        \n",
    "    print(f'[Epoch : {epoch+1:>4}] cost = {avg_cost:>.9}')"
   ]
  },
  {
   "cell_type": "code",
   "execution_count": 27,
   "id": "997f554f",
   "metadata": {},
   "outputs": [
    {
     "name": "stdout",
     "output_type": "stream",
     "text": [
      "Accuracy : 0.9865999817848206\n"
     ]
    }
   ],
   "source": [
    "with torch.no_grad() :\n",
    "    X_test = mnist_test.test_data.view(len(mnist_test), 1, 28, 28).float().to(device)\n",
    "    y_test = mnist_test.test_labels.to(device)\n",
    "    \n",
    "    pred = model(X_test)\n",
    "    corr_pred = torch.argmax(pred, 1) == y_test\n",
    "    acc = corr_pred.float().mean()\n",
    "    print(f'Accuracy : {acc.item()}')"
   ]
  },
  {
   "cell_type": "code",
   "execution_count": null,
   "id": "f009da59",
   "metadata": {},
   "outputs": [],
   "source": []
  },
  {
   "cell_type": "code",
   "execution_count": null,
   "id": "f095e32d",
   "metadata": {},
   "outputs": [],
   "source": []
  },
  {
   "cell_type": "markdown",
   "id": "4c565d7a",
   "metadata": {},
   "source": [
    "# DEEP CNN으로 Mnist 분류하기 \n",
    "---"
   ]
  },
  {
   "cell_type": "code",
   "execution_count": null,
   "id": "39594ffa",
   "metadata": {},
   "outputs": [],
   "source": [
    "import torch\n",
    "import torchvision.datasets as dsets\n",
    "import torchvision.transforms as transforms\n",
    "import torch.nn.init\n",
    "\n",
    "device = 'cuda' if torch.cuda.is_available() else 'cpu'\n",
    "torch.manual_seed(0)\n",
    "\n",
    "if device == 'cuda' :\n",
    "    torch.cuda.manual_seed_all(0)\n"
   ]
  },
  {
   "cell_type": "code",
   "execution_count": null,
   "id": "ff74e943",
   "metadata": {},
   "outputs": [],
   "source": [
    "lr = 0.001\n",
    "epochs = 15\n",
    "batch_size= 100"
   ]
  },
  {
   "cell_type": "code",
   "execution_count": null,
   "id": "99b1e65a",
   "metadata": {},
   "outputs": [],
   "source": [
    "mnist_train = dsets.MNIST(root='MNIST_data/', # 다운로드 경로 지정\n",
    "                          train=True, # True를 지정하면 훈련 데이터로 다운로드\n",
    "                          transform=transforms.ToTensor(), # 텐서로 변환\n",
    "                          download=True)\n",
    "\n",
    "mnist_test = dsets.MNIST(root='MNIST_data/', # 다운로드 경로 지정\n",
    "                         train=False, # False를 지정하면 테스트 데이터로 다운로드\n",
    "                         transform=transforms.ToTensor(), # 텐서로 변환\n",
    "                         download=True)\n",
    "\n",
    "\n",
    "data_loader = torch.utils.data.DataLoader(dataset=mnist_train,\n",
    "                                          batch_size=batch_size,\n",
    "                                          shuffle=True,\n",
    "                                          drop_last=True)"
   ]
  },
  {
   "cell_type": "code",
   "execution_count": 33,
   "id": "8361b099",
   "metadata": {},
   "outputs": [],
   "source": [
    "class CNN(torch.nn.Module) :\n",
    "    \n",
    "    def __init__(self) :\n",
    "        super(CNN, self).__init__()\n",
    "        self.keep_prob = 0.5\n",
    "    \n",
    "        self.layer1 = torch.nn.Sequential(\n",
    "        torch.nn.Conv2d(1, 32, kernel_size=3, stride=1, padding=1),\n",
    "        torch.nn.ReLU(),\n",
    "        torch.nn.MaxPool2d(kernel_size = 2, stride = 2))\n",
    "        \n",
    "        self.layer2 = torch.nn.Sequential(\n",
    "        torch.nn.Conv2d(32, 64, kernel_size=3, stride=1, padding=1),\n",
    "        torch.nn.ReLU(),\n",
    "        torch.nn.MaxPool2d(kernel_size= 2, stride= 2))\n",
    "        \n",
    "        self.layer3 = torch.nn.Sequential(\n",
    "        torch.nn.Conv2d(64, 128, kernel_size= 3, stride=1, padding=1),\n",
    "        torch.nn.ReLU(),\n",
    "        torch.nn.MaxPool2d(kernel_size=2, stride=2, padding=1))\n",
    "        \n",
    "        self.fc1 = torch.nn.Linear(4*4*128,625, bias=True)\n",
    "        torch.nn.init.xavier_uniform_(self.fc1.weight)\n",
    "        self.layer4 = torch.nn.Sequential(\n",
    "            self.fc1, \n",
    "            torch.nn.ReLU(),\n",
    "            torch.nn.Dropout(p=1-self.keep_prob))\n",
    "        \n",
    "        self.fc2 = torch.nn.Linear(625, 10, bias=True)\n",
    "        torch.nn.init.xavier_uniform_(self.fc2.weight)\n",
    "        \n",
    "    \n",
    "    def forward(self, x) :\n",
    "        out = self.layer1(x)\n",
    "        out = self.layer2(out)\n",
    "        out = self.layer3(out)\n",
    "        out = out.view(out.size(0), -1) # flatten\n",
    "        out = self.layer4(out)\n",
    "        out = self.fc2(out)\n",
    "        return out\n",
    "\n",
    "model = CNN().to(device)"
   ]
  },
  {
   "cell_type": "code",
   "execution_count": 34,
   "id": "cad45edc",
   "metadata": {},
   "outputs": [
    {
     "name": "stdout",
     "output_type": "stream",
     "text": [
      "총 배치의 수 : 600\n"
     ]
    }
   ],
   "source": [
    "criterion = torch.nn.CrossEntropyLoss().to(device)\n",
    "optimizer = torch.optim.Adam(model.parameters(), lr=lr)\n",
    "\n",
    "total_batch = len(data_loader)\n",
    "print(f'총 배치의 수 : {total_batch}')"
   ]
  },
  {
   "cell_type": "code",
   "execution_count": 35,
   "id": "a4e2cbfd",
   "metadata": {},
   "outputs": [
    {
     "name": "stdout",
     "output_type": "stream",
     "text": [
      "[Epoch :    1] cost = 0.184816927\n",
      "[Epoch :    2] cost = 0.0499588661\n",
      "[Epoch :    3] cost = 0.0366500728\n",
      "[Epoch :    4] cost = 0.0287286565\n",
      "[Epoch :    5] cost = 0.023685623\n",
      "[Epoch :    6] cost = 0.0201001558\n",
      "[Epoch :    7] cost = 0.014927269\n",
      "[Epoch :    8] cost = 0.0132745868\n",
      "[Epoch :    9] cost = 0.0112704094\n",
      "[Epoch :   10] cost = 0.0118605439\n",
      "[Epoch :   11] cost = 0.0107971095\n",
      "[Epoch :   12] cost = 0.00915571302\n",
      "[Epoch :   13] cost = 0.00905944686\n",
      "[Epoch :   14] cost = 0.00666494528\n",
      "[Epoch :   15] cost = 0.00827543531\n"
     ]
    }
   ],
   "source": [
    "for epoch in range(epochs) :\n",
    "    avg_cost = 0\n",
    "    \n",
    "    for X, y in data_loader :\n",
    "        X = X.to(device)\n",
    "        y = y.to(device)\n",
    "        \n",
    "        optimizer.zero_grad()\n",
    "        h = model(X)\n",
    "        cost = criterion(h, y)\n",
    "        cost.backward()\n",
    "        optimizer.step()\n",
    "        \n",
    "        avg_cost += cost / total_batch\n",
    "        \n",
    "    print(f'[Epoch : {epoch+1:>4}] cost = {avg_cost:>.9}')\n",
    "        "
   ]
  },
  {
   "cell_type": "code",
   "execution_count": 36,
   "id": "558d3ae1",
   "metadata": {},
   "outputs": [
    {
     "name": "stderr",
     "output_type": "stream",
     "text": [
      "C:\\Users\\PC\\anaconda3\\envs\\yeseul\\lib\\site-packages\\torchvision\\datasets\\mnist.py:67: UserWarning: test_data has been renamed data\n",
      "  warnings.warn(\"test_data has been renamed data\")\n",
      "C:\\Users\\PC\\anaconda3\\envs\\yeseul\\lib\\site-packages\\torchvision\\datasets\\mnist.py:57: UserWarning: test_labels has been renamed targets\n",
      "  warnings.warn(\"test_labels has been renamed targets\")\n"
     ]
    },
    {
     "name": "stdout",
     "output_type": "stream",
     "text": [
      "Accuracy : 0.9624999761581421\n"
     ]
    }
   ],
   "source": [
    "with torch.no_grad() :\n",
    "    X_test = mnist_test.test_data.view(len(mnist_test), 1, 28, 28).float().to(device)\n",
    "    y_test = mnist_test.test_labels.to(device)\n",
    "    \n",
    "    pred = model(X_test)\n",
    "    corr_pred = torch.argmax(pred, 1) == y_test\n",
    "    acc = corr_pred.float().mean()\n",
    "    print(f'Accuracy : {acc.item()}')"
   ]
  },
  {
   "cell_type": "code",
   "execution_count": null,
   "id": "31996cc4",
   "metadata": {},
   "outputs": [],
   "source": []
  },
  {
   "cell_type": "code",
   "execution_count": null,
   "id": "cfee9838",
   "metadata": {},
   "outputs": [],
   "source": []
  }
 ],
 "metadata": {
  "kernelspec": {
   "display_name": "yeseul",
   "language": "python",
   "name": "yeseul"
  },
  "language_info": {
   "codemirror_mode": {
    "name": "ipython",
    "version": 3
   },
   "file_extension": ".py",
   "mimetype": "text/x-python",
   "name": "python",
   "nbconvert_exporter": "python",
   "pygments_lexer": "ipython3",
   "version": "3.7.10"
  }
 },
 "nbformat": 4,
 "nbformat_minor": 5
}
